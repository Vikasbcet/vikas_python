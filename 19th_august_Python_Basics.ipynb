{
 "cells": [
  {
   "cell_type": "code",
   "execution_count": 9,
   "id": "ae9f06e0-2a67-4fb5-a275-d688dea75844",
   "metadata": {},
   "outputs": [
    {
     "name": "stdout",
     "output_type": "stream",
     "text": [
      "5 6\n",
      "6 5\n"
     ]
    },
    {
     "data": {
      "text/plain": [
       "int"
      ]
     },
     "execution_count": 9,
     "metadata": {},
     "output_type": "execute_result"
    }
   ],
   "source": [
    "# First assignment as \" python Basic \"  \n",
    "\n",
    "'''\n",
    "Q1. Declare two variables, `x` and `y`, and assign them integer values.\n",
    "    Swap the values of these variables without using any temporary\n",
    "    variable.\n",
    "'''\n",
    "\n",
    "# Creating integer variables using int data type.\n",
    "\n",
    "x = int(5)\n",
    "y = int(6)\n",
    "\n",
    "print(x,y)\n",
    "# 5,6 \n",
    "\n",
    "type(x)\n",
    "type(y)\n",
    "\n",
    "# swapping the values without using Temp variable. \n",
    "\n",
    "x = x + y   \n",
    "y = x - y  \n",
    "x = x - y  \n",
    "\n",
    "print(x,y)\n",
    "# 6,5\n",
    "type(x)\n",
    "type(y)"
   ]
  },
  {
   "cell_type": "code",
   "execution_count": 15,
   "id": "666eab42-24c1-44f2-b32b-f06ec40cd683",
   "metadata": {},
   "outputs": [
    {
     "name": "stdout",
     "output_type": "stream",
     "text": [
      "12.0\n"
     ]
    }
   ],
   "source": [
    "'''\n",
    "Q2. Create a program that calculates the area of a rectangle. Take the\n",
    "    length and width as inputs from the user and store them in variables.\n",
    "    Calculate and display the area.\n",
    "'''\n",
    "\n",
    "# input variable as length and width. \n",
    "\n",
    "length = float(3)\n",
    "width  = float(4) \n",
    "\n",
    "# Calculate the Area of rectangle. \n",
    "\n",
    "Area = float(length*width)\n",
    "\n",
    "print(Area)\n",
    "# 12.0"
   ]
  },
  {
   "cell_type": "code",
   "execution_count": 23,
   "id": "ff1e931d-5e17-4fb7-aa7f-041651f62837",
   "metadata": {},
   "outputs": [
    {
     "name": "stdout",
     "output_type": "stream",
     "text": [
      "76.15\n"
     ]
    }
   ],
   "source": [
    "'''\n",
    "Q3. Write a Python program that converts temperature from Celsius to\n",
    "    Fahrenheit. Take the temperature in Celsius as input, store it in a\n",
    "    variable, convert it to Fahrenheit, and display the result.\n",
    "'''\n",
    "\n",
    "# take input variable as celsius.\n",
    "\n",
    "Celsius = 24.53\n",
    "\n",
    "# Convert into the fahrenheit. \n",
    "\n",
    "fehren = round(float((Celsius * 9/5) + 32),2)\n",
    "\n",
    "print(fehren)\n",
    "#76.15\n"
   ]
  },
  {
   "cell_type": "code",
   "execution_count": 24,
   "id": "86180593-f56a-4317-a5f3-c92b19058462",
   "metadata": {},
   "outputs": [
    {
     "data": {
      "text/plain": [
       "27"
      ]
     },
     "execution_count": 24,
     "metadata": {},
     "output_type": "execute_result"
    }
   ],
   "source": [
    " # String Based Questions.\n",
    "    \n",
    " '''\n",
    " Q1. Write a Python program that takes a string as input and prints the\n",
    "     length of the string.\n",
    " '''\n",
    "\n",
    "# Taking input variable as string.\n",
    "\n",
    "str1 = \"This is my first assignment\"\n",
    "\n",
    "#print the length of string using len function. \n",
    "\n",
    "len(str1)\n",
    "\n",
    "# 27"
   ]
  },
  {
   "cell_type": "code",
   "execution_count": 68,
   "id": "19a37988-b3d0-45b3-9370-c5eb056cf024",
   "metadata": {},
   "outputs": [
    {
     "name": "stdin",
     "output_type": "stream",
     "text": [
      "Please input the sentence :  This is a string to count the vowels in it.\n"
     ]
    },
    {
     "name": "stdout",
     "output_type": "stream",
     "text": [
      "Input String as :  This is a string to count the vowels in it.\n",
      "count of Vowels in the string :  12\n"
     ]
    },
    {
     "name": "stdin",
     "output_type": "stream",
     "text": [
      "Please input the sentence :  This is a string to count the vowels in it.\n"
     ]
    },
    {
     "name": "stdout",
     "output_type": "stream",
     "text": [
      "Input String as :  This is a string to count the vowels in it.\n",
      "count of Vowels in the string :  12\n"
     ]
    }
   ],
   "source": [
    "'''\n",
    "Q2. Create a program that takes a sentence from the user and counts the\n",
    "    number of vowels (a, e, i, o, u) in the string.\n",
    "'''\n",
    "\n",
    "# Ask the input from user using INPUT function.\n",
    "\n",
    "str2 = input(\"Please input the sentence : \")\n",
    "\n",
    "# Doing using list datatype.\n",
    "vowels = ['a','e','i','o','u']\n",
    "\n",
    "# Checking for the count of vowels in the string.\n",
    "# Using the count variable to count and add it in other variable to keep the numbers rolling and summed up.\n",
    "# Use the count function to count from string using For loop as we need to check the string multiple times.\n",
    "\n",
    "cnt1 = 0\n",
    "for x in vowels:\n",
    "      \n",
    "      if str2.count(x) > 0 :\n",
    "        \n",
    "        cnt = str2.count(x)\n",
    "        cnt1 = cnt  + cnt1\n",
    "\n",
    "print(\"Input String as : \" , str2) \n",
    "print(\"count of Vowels in the string : \" , cnt1)\n",
    "   \n",
    "# Input String as  :  This is a string to count the vowels in it.\n",
    "# count of Vowels in the string :  12\n",
    "\n",
    "# Another approach.\n",
    "# Doing using Stirng datatype. \n",
    "\n",
    "str3 = input(\"Please input the sentence : \")\n",
    "\n",
    "vowel = 'aeiou'\n",
    "\n",
    "# Checking for the count of vowels in the string.\n",
    "cnt3 = 0\n",
    "for x in vowel:\n",
    "   \n",
    "      \n",
    "    if str3.count(x) > 0 :\n",
    "        \n",
    "        cnt2 = str3.count(x)\n",
    "        cnt3 = cnt2  + cnt3\n",
    "\n",
    "print(\"Input String as : \" , str3) \n",
    "print(\"count of Vowels in the string : \" , cnt3)\n",
    "\n",
    "#Input String as :  This is a string to count the vowels in it.\n",
    "#count of Vowels in the string :  12"
   ]
  },
  {
   "cell_type": "code",
   "execution_count": 72,
   "id": "f9ca055f-06fe-4a0c-96f7-4ccaeb2f12f3",
   "metadata": {},
   "outputs": [
    {
     "name": "stdin",
     "output_type": "stream",
     "text": [
      "Input the string to reerse:  reverse string\n"
     ]
    },
    {
     "name": "stdout",
     "output_type": "stream",
     "text": [
      "Reverse string value :  gnirts esrever\n"
     ]
    }
   ],
   "source": [
    "'''\n",
    "Q3. Given a string, reverse the order of characters using string slicing and\n",
    "print the reversed string.\n",
    "'''\n",
    "# Input the string.\n",
    "\n",
    "str5 = input(\"Input the string to reerse: \" )\n",
    "\n",
    "str6 = str5[::-1]\n",
    "\n",
    "print(\"Reverse string value : \", str6)\n",
    "\n",
    "# Input the string to reerse:  reverse string\n",
    "# Reverse string value :  gnirts esrever\n",
    "   "
   ]
  },
  {
   "cell_type": "code",
   "execution_count": 141,
   "id": "d4fdfdba-1be7-4168-a6ec-f3f1699cc3b1",
   "metadata": {},
   "outputs": [
    {
     "name": "stdin",
     "output_type": "stream",
     "text": [
      "Input the string for palindrome :   naman\n"
     ]
    },
    {
     "name": "stdout",
     "output_type": "stream",
     "text": [
      "sting is palindrome  naman\n"
     ]
    }
   ],
   "source": [
    "'''\n",
    "Q4. Write a program that takes a string as input and checks if it is a\n",
    "palindrome (reads the same forwards and backwards).\n",
    "'''\n",
    "# input the string.\n",
    "\n",
    "str7 = input(\"Input the string for palindrome :  \" )\n",
    "\n",
    "# calculate the length and divide by 2 to get match with string\n",
    "# Creating count variable to count the matching occourancing.\n",
    "# Matching first and last word of sring using If loopand count the matching occourance and at the end chedck with the count. \n",
    "# if count is matched, then it's palindrom.\n",
    "\n",
    "strlen = int(len(str7))\n",
    "cnt1 = 0\n",
    "for i in range( 0, round(strlen/2),  1 ) :\n",
    "    if str7[i] == str7[strlen-i-1] :\n",
    "        cnt = 1\n",
    "        cnt1 = cnt + cnt1\n",
    "        \n",
    "if cnt1 == round(strlen/2) :\n",
    "    print(\"sting is palindrome \" , str7)\n",
    "               \n",
    "else : print(\"string is not palindrome\" , str7)\n",
    " \n",
    "# Input the string for palindrome :   navin\n",
    "# string is not palindrome navin\n",
    "  \n",
    "# Input the string for palindrome :   naman\n",
    "# sting is palindrome  naman    "
   ]
  },
  {
   "cell_type": "code",
   "execution_count": 2,
   "id": "717becb5-1703-43b7-8fff-131b62ea6b3c",
   "metadata": {},
   "outputs": [
    {
     "name": "stdin",
     "output_type": "stream",
     "text": [
      "Please entre the string :     My name is Vikas Sharma\n"
     ]
    },
    {
     "name": "stdout",
     "output_type": "stream",
     "text": [
      " Input string         :    My name is Vikas Sharma\n",
      " After removing spaces : My name is Vikas Sharma\n"
     ]
    }
   ],
   "source": [
    "'''\n",
    "\n",
    "Q5. Create a program that takes a string as input and removes all the\n",
    "    spaces from it. Print the modified string without spaces.\n",
    "'''\n",
    "\n",
    "# Take a string as input. \n",
    "\n",
    "str8 = input(\"Please entre the string : \" )\n",
    "\n",
    "# print the srting without spaces using strip finction. \n",
    "\n",
    "str9 = str8.strip()\n",
    "\n",
    "print (\" Input string         :\", str8)\n",
    "print(\" After removing spaces :\" , str9)\n",
    "\n",
    " # Input string         :    My name is Vikas Sharma\n",
    " # After removing spaces : My name is Vikas Sharma"
   ]
  },
  {
   "cell_type": "code",
   "execution_count": null,
   "id": "8f6977fd-9780-4152-a61a-63040cff64ff",
   "metadata": {},
   "outputs": [],
   "source": []
  }
 ],
 "metadata": {
  "kernelspec": {
   "display_name": "Python 3 (ipykernel)",
   "language": "python",
   "name": "python3"
  },
  "language_info": {
   "codemirror_mode": {
    "name": "ipython",
    "version": 3
   },
   "file_extension": ".py",
   "mimetype": "text/x-python",
   "name": "python",
   "nbconvert_exporter": "python",
   "pygments_lexer": "ipython3",
   "version": "3.10.8"
  }
 },
 "nbformat": 4,
 "nbformat_minor": 5
}
