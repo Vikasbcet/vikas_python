{
 "cells": [
  {
   "cell_type": "code",
   "execution_count": 6,
   "id": "1fba4b3a-c5ae-4ed1-b8e8-596174e4e770",
   "metadata": {},
   "outputs": [
    {
     "name": "stdout",
     "output_type": "stream",
     "text": [
      "1\n",
      "2\n",
      "3\n",
      "4\n",
      "5\n",
      "6\n",
      "7\n",
      "8\n",
      "9\n",
      "10\n"
     ]
    }
   ],
   "source": [
    "#Basic Level:- \n",
    "\n",
    "#Q1. Write a Python program to print the numbers from 1 to 10 using a `for` loop.\n",
    "\n",
    "for i in range(1,11):\n",
    "    print(i)\n",
    "\n",
    "'''\n",
    "1\n",
    "2\n",
    "3\n",
    "4\n",
    "5\n",
    "6\n",
    "7\n",
    "8\n",
    "9\n",
    "10\n",
    "'''"
   ]
  },
  {
   "cell_type": "code",
   "execution_count": 11,
   "id": "b2a9ba1d-d20e-49cb-9188-14ab3ebb3d43",
   "metadata": {},
   "outputs": [
    {
     "name": "stdout",
     "output_type": "stream",
     "text": [
      "216\n"
     ]
    }
   ],
   "source": [
    "#Q2. Create a program that calculates the sum of all numbers in a list using a `for` loop.\n",
    "\n",
    "list1 = [12,14,15,17,23,45,90]\n",
    "\n",
    "sum=0\n",
    "for i in list1:\n",
    "    sum += i\n",
    "print(sum)  \n",
    "#216"
   ]
  },
  {
   "cell_type": "code",
   "execution_count": 53,
   "id": "ecbb6b04-bb9f-4672-ad34-57c202f515d0",
   "metadata": {},
   "outputs": [
    {
     "name": "stdout",
     "output_type": "stream",
     "text": [
      "g\n",
      "n\n",
      "i\n",
      "r\n",
      "t\n",
      "s\n",
      " \n",
      "e\n",
      "s\n",
      "r\n",
      "e\n",
      "v\n",
      "e\n",
      "r\n",
      " \n",
      "s\n",
      "i\n",
      " \n",
      "s\n",
      "i\n",
      "h\n",
      "T\n"
     ]
    }
   ],
   "source": [
    "#Q3. Write a program to print the characters of a string in reverse order using a `for` loop.\n",
    "\n",
    "str1 = \"This is reverse string\"\n",
    "\n",
    "for i in range(-1,-len(str1)-1,-1):\n",
    "    print(str1[i])\n",
    "   \n",
    "'''\n",
    "g\n",
    "n\n",
    "i\n",
    "r\n",
    "t\n",
    "s\n",
    " \n",
    "e\n",
    "s\n",
    "r\n",
    "e\n",
    "v\n",
    "e\n",
    "r\n",
    " \n",
    "s\n",
    "i\n",
    " \n",
    "s\n",
    "i\n",
    "h\n",
    "T\n",
    "'''\n"
   ]
  },
  {
   "cell_type": "code",
   "execution_count": 60,
   "id": "792c3b99-d4aa-4d5e-94e1-0413f06b50c6",
   "metadata": {},
   "outputs": [
    {
     "name": "stdin",
     "output_type": "stream",
     "text": [
      "Enter the number :  5\n"
     ]
    },
    {
     "name": "stdout",
     "output_type": "stream",
     "text": [
      "120\n"
     ]
    }
   ],
   "source": [
    "#Q4. Develop a program that finds the factorial of a given number using a `for` loop.\n",
    "\n",
    "n1 = int(input(\"Enter the number : \"))\n",
    "\n",
    "n2 =1 \n",
    "for i in range(1,n1+1):\n",
    "    n2 *= i\n",
    "print(n2)    \n",
    "\n",
    "#Enter the number :  5\n",
    "#120"
   ]
  },
  {
   "cell_type": "code",
   "execution_count": 62,
   "id": "fdb2d438-28bd-4d45-a393-29564bb9024b",
   "metadata": {},
   "outputs": [
    {
     "name": "stdin",
     "output_type": "stream",
     "text": [
      "Enter the number :  5\n",
      "Enter the range till than multiplication needed 10\n"
     ]
    },
    {
     "name": "stdout",
     "output_type": "stream",
     "text": [
      "5\n",
      "10\n",
      "15\n",
      "20\n",
      "25\n",
      "30\n",
      "35\n",
      "40\n",
      "45\n",
      "50\n"
     ]
    }
   ],
   "source": [
    "#Q5. Create a program to print the multiplication table of a given number using a `for` loop.\n",
    "\n",
    "n1 = int(input(\"Enter the number : \"))\n",
    "n2 = int(input(\"Enter the range till than multiplication needed\"))\n",
    "n3 =1 \n",
    "for i in range(1,n2+1):\n",
    "    n3 = i *n1\n",
    "    print(n3)\n",
    "'''\n",
    "Enter the number :  5\n",
    "Enter the range till than multiplication needed 10\n",
    "5\n",
    "10\n",
    "15\n",
    "20\n",
    "25\n",
    "30\n",
    "35\n",
    "40\n",
    "45\n",
    "50\n",
    "'''"
   ]
  },
  {
   "cell_type": "code",
   "execution_count": 75,
   "id": "79c3b9f4-ae7b-4b78-a997-931226b6007c",
   "metadata": {},
   "outputs": [
    {
     "name": "stdout",
     "output_type": "stream",
     "text": [
      "Count of Even Numbers :  5 \n",
      "Count of Odd Numbers : 9\n"
     ]
    }
   ],
   "source": [
    "#Q6. Write a program that counts the number of even and odd numbers in a list using a `for` loop.\n",
    "\n",
    "list1 = [1,2,4,5,7,9,12,14,35,64,79,99,33,23]\n",
    "\n",
    "cnt = 0\n",
    "cnt1 = 0\n",
    "for i in list1:\n",
    "    if (i % 2) == 0 :\n",
    "        cnt +=  1\n",
    "    else:\n",
    "        cnt1 += 1\n",
    "print(\"Count of Even Numbers : \" , cnt , \"\\nCount of Odd Numbers :\" ,  cnt1 ) \n",
    "#Count of Even Numbers :  5 \n",
    "#Count of Odd Numbers : 9"
   ]
  },
  {
   "cell_type": "code",
   "execution_count": 77,
   "id": "318ed689-0956-4fda-b22f-3e949af91ed0",
   "metadata": {},
   "outputs": [
    {
     "name": "stdout",
     "output_type": "stream",
     "text": [
      "1\n",
      "4\n",
      "9\n",
      "16\n",
      "25\n",
      "1\n",
      "4\n",
      "9\n",
      "16\n",
      "25\n"
     ]
    }
   ],
   "source": [
    "#Q7. Develop a program that prints the squares of numbers from 1 to 5 using a `for` loop.\n",
    "\n",
    "for i in range (1,6):\n",
    "    print(i*i)\n",
    "    \n",
    "'''\n",
    "1\n",
    "4\n",
    "9\n",
    "16\n",
    "25\n",
    "'''\n",
    "\n",
    "# Other Way..\n",
    "\n",
    "for i in range (1,6):\n",
    "    print(i**2)\n",
    "'''\n",
    "1\n",
    "4\n",
    "9\n",
    "16\n",
    "25\n",
    "'''"
   ]
  },
  {
   "cell_type": "code",
   "execution_count": 78,
   "id": "80f92e2e-4caa-4a15-bded-ba3b14614f33",
   "metadata": {},
   "outputs": [
    {
     "name": "stdout",
     "output_type": "stream",
     "text": [
      "25\n"
     ]
    }
   ],
   "source": [
    "#Q8. Create a program to find the length of a string without using the `len()` function.\n",
    "\n",
    "str1 = \"Find length of the string\"\n",
    "\n",
    "cnt = 0\n",
    "for i in str1 :\n",
    "    cnt += 1\n",
    "    \n",
    "print(cnt)   \n",
    "#25"
   ]
  },
  {
   "cell_type": "code",
   "execution_count": 85,
   "id": "b518c856-f3b2-45f5-b8d4-a84c78ede4ee",
   "metadata": {},
   "outputs": [
    {
     "name": "stdout",
     "output_type": "stream",
     "text": [
      "16.181818181818183\n"
     ]
    }
   ],
   "source": [
    "#Q9. Write a program that calculates the average of a list of numbers using a `for` loop.\n",
    "\n",
    "list1 = [1,3,4,5,6,8,12,14,13,23,89]\n",
    "\n",
    "cnt = 0\n",
    "sum1 = 0\n",
    "for i in list1:\n",
    "    sum1 += i\n",
    "    cnt += 1\n",
    "avg = sum1 /cnt\n",
    "print(avg)  \n",
    "\n",
    "#16.181818181818183"
   ]
  },
  {
   "cell_type": "code",
   "execution_count": 89,
   "id": "2b0858b2-add0-47da-9872-7f840786e0eb",
   "metadata": {},
   "outputs": [
    {
     "name": "stdin",
     "output_type": "stream",
     "text": [
      "Please enter the number:  4\n"
     ]
    },
    {
     "name": "stdout",
     "output_type": "stream",
     "text": [
      "[0, 1, 1, 2, 3, 5]\n"
     ]
    }
   ],
   "source": [
    "#Q10. Develop a program that prints the first `n` Fibonacci numbers using a `for` loop.\n",
    "\n",
    "n1 = int(input(\"Please enter the number: \"))\n",
    "\n",
    "f = 0\n",
    "p = 1\n",
    "list1 = [0,1]\n",
    "for i in range(1,n1+1):\n",
    "    fib = f + p\n",
    "    f = p\n",
    "    p= i\n",
    "    list1.append(fib)\n",
    "print(list1)\n",
    "#Please enter the number:  4\n",
    "#[0, 1, 1, 2, 3, 5]"
   ]
  },
  {
   "cell_type": "code",
   "execution_count": 104,
   "id": "c5620137-f8f5-4b70-9c2b-c5f7d99555ae",
   "metadata": {},
   "outputs": [
    {
     "name": "stdout",
     "output_type": "stream",
     "text": [
      "[1, 3, 15, 7, 7]\n",
      "[1, 3, 15, 7]\n"
     ]
    }
   ],
   "source": [
    "#Intermediate Level:-\n",
    "\n",
    "#Q11. Write a program to check if a given list contains any duplicates using a `for` loop.\n",
    "\n",
    "list1 = [1,1,9,3,3,4,15,15,6,7,7,7]\n",
    "\n",
    "uniq_list = []\n",
    "dup_list = []\n",
    "for i in list1:\n",
    "    if i not in  uniq_list:\n",
    "        uniq_list.append(i)\n",
    "    else: \n",
    "        dup_list.append(i)\n",
    "                 \n",
    "print(dup_list)        \n",
    "#[1, 3, 15, 7, 7]\n",
    "\n",
    "#another way..\n",
    "\n",
    "dup_lst = []\n",
    "for i in list1:\n",
    "    cnt = list1.count(i)\n",
    "    if cnt > 1 :\n",
    "        if dup_lst.count(i) == 0:\n",
    "            \n",
    "            dup_lst.append(i)\n",
    "print(dup_lst)   \n",
    "#[1, 3, 15, 7, 7]\n",
    "#[1, 3, 15, 7]"
   ]
  },
  {
   "cell_type": "code",
   "execution_count": 112,
   "id": "ea8a6a6e-e0a7-49b8-bbaa-2c46edc245f4",
   "metadata": {},
   "outputs": [
    {
     "name": "stdin",
     "output_type": "stream",
     "text": [
      "Enter the number:  19\n"
     ]
    },
    {
     "name": "stdout",
     "output_type": "stream",
     "text": [
      "2\n",
      "3\n",
      "5\n",
      "7\n",
      "11\n",
      "13\n",
      "17\n",
      "19\n"
     ]
    }
   ],
   "source": [
    "#Q12. Create a program that prints the prime numbers in a given range using a `for` loop.\n",
    "\n",
    "n1 = int(input(\"Enter the number: \"))\n",
    "\n",
    "for i in range(2,n1+1):\n",
    "    for j in range(2,i):\n",
    "        if (i % j) == 0:\n",
    "            break\n",
    "    else:        \n",
    "        print(i)\n",
    "            \n",
    "'''\n",
    "Enter the number:  19\n",
    "2\n",
    "3\n",
    "5\n",
    "7\n",
    "11\n",
    "13\n",
    "17\n",
    "19\n",
    "'''"
   ]
  },
  {
   "cell_type": "code",
   "execution_count": 116,
   "id": "6a4f3913-094a-407d-8464-f54a9394ae67",
   "metadata": {},
   "outputs": [
    {
     "name": "stdout",
     "output_type": "stream",
     "text": [
      "13\n"
     ]
    }
   ],
   "source": [
    "#Q13. Develop a program that counts the number of vowels in a string using a `for` loop.\n",
    "\n",
    "str1 = \"This is vowels string with aeiou in it\"\n",
    "\n",
    "vowels = ['a','e','i','o','u']\n",
    "cnt = 0\n",
    "for i in str1:\n",
    "    if i in vowels :\n",
    "        cnt += 1\n",
    "print(cnt)        \n",
    "#13    "
   ]
  },
  {
   "cell_type": "code",
   "execution_count": 154,
   "id": "c4b3a58e-5a79-4674-99e5-976505de93b6",
   "metadata": {},
   "outputs": [
    {
     "name": "stdout",
     "output_type": "stream",
     "text": [
      "11\n"
     ]
    }
   ],
   "source": [
    "#Q14. Write a program to find the maximum element in a 2D list using a nested `for` loop.\n",
    "\n",
    "list1 = [[1,2,3],[3,4,5,7,8,9,12,14,17,23,67],[2,3,5,6],[1,7],[1,2,4,7]]\n",
    "\n",
    "cnt = 0\n",
    "for i in list1:\n",
    "    if type(i) == list:\n",
    "        for j in i :\n",
    "            if len(i) >= cnt:\n",
    "                cnt =len(i)\n",
    "print(cnt)                \n",
    "#11        "
   ]
  },
  {
   "cell_type": "code",
   "execution_count": 182,
   "id": "318291da-e8bf-4299-82cf-15a63a54f109",
   "metadata": {},
   "outputs": [
    {
     "name": "stdin",
     "output_type": "stream",
     "text": [
      "Please enter the element to remove : 2\n"
     ]
    },
    {
     "name": "stdout",
     "output_type": "stream",
     "text": [
      "[1, 1, 3, 23, 45, 89, 1, 0, 1]\n"
     ]
    }
   ],
   "source": [
    "#Q15. Create a program that removes all occurrences of a specific element from a list using a `for` loop.\n",
    "\n",
    "list1 = [1,1,2,3,2,23,45,89,1,0,1,2]\n",
    "\n",
    "ele = int(input(\"Please enter the element to remove :\"))\n",
    "\n",
    "for i in list1:\n",
    "    if i == ele:\n",
    "        list1.remove(i)\n",
    "        \n",
    "print(list1) \n",
    "#Please enter the element to remove : 2\n",
    "#[1, 1, 3, 23, 45, 89, 1, 0, 1]"
   ]
  },
  {
   "cell_type": "code",
   "execution_count": 200,
   "id": "6aa7f6f7-1c9b-4aef-8cd4-8a5605ef3e57",
   "metadata": {},
   "outputs": [
    {
     "name": "stdout",
     "output_type": "stream",
     "text": [
      " 1 \n",
      " 2 \n",
      " 3 \n",
      " 4 \n",
      " 5 \n",
      " 2 \n",
      " 4 \n",
      " 6 \n",
      " 8 \n",
      " 10 \n",
      " 3 \n",
      " 6 \n",
      " 9 \n",
      " 12 \n",
      " 15 \n",
      " 4 \n",
      " 8 \n",
      " 12 \n",
      " 16 \n",
      " 20 \n",
      " 5 \n",
      " 10 \n",
      " 15 \n",
      " 20 \n",
      " 25 \n"
     ]
    }
   ],
   "source": [
    "#Q16. Develop a program that generates a multiplication table for numbers from 1 to 5 using a nested `for` loop.\n",
    "\n",
    "for i in range(1,6):\n",
    "    for j in range(1,6):\n",
    "        k = i*j\n",
    "        print(f' {k} ' )\n",
    "'''\n",
    " 1 \n",
    " 2 \n",
    " 3 \n",
    " 4 \n",
    " 5 \n",
    " 2 \n",
    " 4 \n",
    " 6 \n",
    " 8 \n",
    " 10 \n",
    " 3 \n",
    " 6 \n",
    " 9 \n",
    " 12 \n",
    " 15 \n",
    " 4 \n",
    " 8 \n",
    " 12 \n",
    " 16 \n",
    " 20 \n",
    " 5 \n",
    " 10 \n",
    " 15 \n",
    " 20 \n",
    " 25\n",
    " '''"
   ]
  },
  {
   "cell_type": "code",
   "execution_count": 205,
   "id": "041bf99c-5501-4d63-94e0-9af29f48498b",
   "metadata": {},
   "outputs": [
    {
     "name": "stdout",
     "output_type": "stream",
     "text": [
      "36.67\n",
      "31.67\n",
      "23.33\n",
      "35.56\n",
      "-7.78\n"
     ]
    }
   ],
   "source": [
    "#Q17. Write a program that converts a list of Fahrenheit temperatures to Celsius using a `for` loop.\n",
    "\n",
    "list1 = [98,89,74,96,18]\n",
    "\n",
    "for i in list1:\n",
    "    cel = ((i - 32) * 5/9)\n",
    "    print(round(cel,2))\n",
    "'''\n",
    "36.67\n",
    "31.67\n",
    "23.33\n",
    "35.56\n",
    "-7.78\n",
    "'''"
   ]
  },
  {
   "cell_type": "code",
   "execution_count": 208,
   "id": "e823ba75-ae1d-4c82-8eb8-f2eaecd70f4c",
   "metadata": {},
   "outputs": [
    {
     "name": "stdout",
     "output_type": "stream",
     "text": [
      "1\n",
      "4\n"
     ]
    }
   ],
   "source": [
    "#Q18. Create a program to print the common elements from two lists using a `for` loop.\n",
    "\n",
    "lst1 = [1,2,3,4,5]\n",
    "lst2 = [1,4,7]\n",
    "\n",
    "for i in lst1:\n",
    "    if i in lst2:\n",
    "        print(i)\n",
    "        \n",
    "#1\n",
    "#4"
   ]
  },
  {
   "cell_type": "code",
   "execution_count": 213,
   "id": "57f2f5cb-998a-44a4-839c-ac4e2c6e8674",
   "metadata": {},
   "outputs": [
    {
     "name": "stdin",
     "output_type": "stream",
     "text": [
      "Please enter the number 5\n"
     ]
    },
    {
     "name": "stdout",
     "output_type": "stream",
     "text": [
      "*\n",
      "**\n",
      "***\n",
      "****\n",
      "*****\n"
     ]
    }
   ],
   "source": [
    "#Q19. Develop a program that prints the pattern of right-angled triangles using a `for` loop. Use ‘*’ to draw the pattern.\n",
    "\n",
    "n =int(input(\"Please enter the number\"))\n",
    "\n",
    "for i in range(n):\n",
    "    for j in range(i+1):\n",
    "        print(\"*\",end='')\n",
    "    print(\"\")  \n",
    " '''\n",
    " Please enter the number 5\n",
    "*\n",
    "**\n",
    "***\n",
    "****\n",
    "*****\n",
    "'''"
   ]
  },
  {
   "cell_type": "code",
   "execution_count": 215,
   "id": "6449658b-36e4-41d7-8ab7-e9843cff84d6",
   "metadata": {},
   "outputs": [
    {
     "name": "stdout",
     "output_type": "stream",
     "text": [
      "10\n"
     ]
    }
   ],
   "source": [
    "#Q20. Write a program to find the greatest common divisor (GCD) of two numbers using a `for` loop.\n",
    "\n",
    "num1 = 30\n",
    "num2 = 20\n",
    "\n",
    "if num1 > num2:\n",
    "    num1 , num2 = num2, num1\n",
    "for i in range (1, num1+1):\n",
    "    if num1%i == 0 and num2%i == 0:\n",
    "        gcd = i\n",
    "print(gcd)        \n"
   ]
  },
  {
   "cell_type": "code",
   "execution_count": 216,
   "id": "54be76f8-be1c-4542-9eab-ea968a65dab9",
   "metadata": {},
   "outputs": [
    {
     "name": "stdout",
     "output_type": "stream",
     "text": [
      "List Integer Summation : [3, 13, 17, 7]\n"
     ]
    }
   ],
   "source": [
    "#Advanced Level:\n",
    "\n",
    "#Q21. Create a program that calculates the sum of the digits of numbers in a list using a list comprehension.\n",
    "\n",
    "test_list = [12, 67, 98, 34]\n",
    " \n",
    "res = []\n",
    "for ele in test_list:\n",
    "    sum = 0\n",
    "    for digit in str(ele):\n",
    "        sum += int(digit)\n",
    "    res.append(sum)\n",
    "     \n",
    "# printing result\n",
    "print (\"List Integer Summation : \" + str(res))\n",
    "#List Integer Summation : [3, 13, 17, 7]"
   ]
  },
  {
   "cell_type": "code",
   "execution_count": 244,
   "id": "aae62eaf-8f86-4804-8d36-aa19cabfa318",
   "metadata": {},
   "outputs": [
    {
     "name": "stdin",
     "output_type": "stream",
     "text": [
      "Enter the number:  19\n"
     ]
    },
    {
     "name": "stdout",
     "output_type": "stream",
     "text": [
      "[2, 3, 4, 5, 7, 11, 13, 17, 19]\n"
     ]
    }
   ],
   "source": [
    "#Q22. Write a program to find the prime factors of a given number using a `for` loop and list comprehension.\n",
    "\n",
    "n1 = int(input(\"Enter the number: \"))\n",
    "\n",
    "prime_list = [x for x in range(2, n1+1) if all(x % y for y in range(2, x//2))]\n",
    "\n",
    "print(prime_list)\n"
   ]
  },
  {
   "cell_type": "code",
   "execution_count": 259,
   "id": "20cf9e06-e32d-48fc-902f-c3bf6ea667b6",
   "metadata": {},
   "outputs": [
    {
     "name": "stdout",
     "output_type": "stream",
     "text": [
      "Unique List :  [1, 9, 3, 4, 15, 6, 7]\n"
     ]
    }
   ],
   "source": [
    "#Q23. Develop a program that extracts unique elements from a list and stores them in a new list using a list comprehension.\n",
    "\n",
    "\n",
    "\n",
    "list1 = [1,1,9,3,3,4,15,15,6,7,7,7]\n",
    "\n",
    "temp= []\n",
    "[temp.append(i) for i in list1 if i not in temp]\n",
    "\n",
    "print(\"Unique List : \", temp) \n",
    "#Unique List :  [1, 9, 3, 4, 15, 6, 7]"
   ]
  },
  {
   "cell_type": "code",
   "execution_count": 292,
   "id": "f0e986d8-ddc1-430a-9903-40c703d29809",
   "metadata": {},
   "outputs": [
    {
     "name": "stdin",
     "output_type": "stream",
     "text": [
      "Enter the number:  25\n"
     ]
    },
    {
     "name": "stdout",
     "output_type": "stream",
     "text": [
      "[1, 2, 3, 4, 5, 6, 7, 8, 9, 11, 22]\n"
     ]
    }
   ],
   "source": [
    "#Q24. Create a program that generates a list of all palindromic numbers up to a specified limit using a list comprehension.\n",
    "\n",
    "n1 = int(input (\"Enter the number: \"))\n",
    "\n",
    "list1 = [i for i in range (1,n1+1)  if str(i) ==str(i)[::-1]]\n",
    "\n",
    "print(list1)\n",
    "#Enter the number:  25\n",
    "#[1, 2, 3, 4, 5, 6, 7, 8, 9, 11, 22]        "
   ]
  },
  {
   "cell_type": "code",
   "execution_count": 300,
   "id": "5dc0bdeb-abde-481b-9309-b855842590b0",
   "metadata": {},
   "outputs": [
    {
     "name": "stdout",
     "output_type": "stream",
     "text": [
      "[1, 2, 3, 3, 4, 5, 6, 7, 'a', 'e', 'i', 'o', 'u']\n"
     ]
    }
   ],
   "source": [
    "#Q25. Write a program to flatten a nested list using list comprehension.\n",
    "\n",
    "list1 = [[1,2,3],[3,4,5,6,7],['a','e','i','o','u']]\n",
    "\n",
    "list2 = []\n",
    "[list2.append(j) for i in list1 for j in i]\n",
    "\n",
    "print(list2)\n",
    " #[1, 2, 3, 3, 4, 5, 6, 7, 'a', 'e', 'i', 'o', 'u'] "
   ]
  },
  {
   "cell_type": "code",
   "execution_count": 60,
   "id": "dabc3cbe-a0fb-4612-aeb3-3a03f8f8ffd8",
   "metadata": {},
   "outputs": [
    {
     "name": "stdout",
     "output_type": "stream",
     "text": [
      " \"Sum of odd : \"  16  , \"Sum of Even :\"  12 \n"
     ]
    }
   ],
   "source": [
    "#Q26. Develop a program that computes the sum of even and odd numbers in a list separately using list comprehension.\n",
    "\n",
    "list1 = [1,2,3,4,5,6,7]\n",
    "\n",
    "odd1=[ i  for i in list1 if i%2 != 0  ]\n",
    "even1= [j for j in list1 if j%2 == 0]\n",
    "\n",
    "print(f' \"Sum of odd : \"  {sum(odd1)}  , \"Sum of Even :\"  {sum(even1)} ')\n",
    "#\"Sum of odd : \"  16  , \"Sum of Even :\"  12 "
   ]
  },
  {
   "cell_type": "code",
   "execution_count": 11,
   "id": "bfb2609e-1847-4886-9d1c-27a65a7facc8",
   "metadata": {},
   "outputs": [
    {
     "name": "stdout",
     "output_type": "stream",
     "text": [
      "[1, 9, 25, 49, 81]\n"
     ]
    }
   ],
   "source": [
    "#Q27. Create a program that generates a list of squares of odd numbers between 1 and 10 using list comprehension.\n",
    "\n",
    "list1 = []\n",
    "[list1.append(i*i) for i in range(1,10) if i%2 != 0]\n",
    "\n",
    "print(list1)\n",
    "#[1, 9, 25, 49, 81]"
   ]
  },
  {
   "cell_type": "code",
   "execution_count": 18,
   "id": "15fcc774-b7a9-4441-8934-ebed270a41d5",
   "metadata": {},
   "outputs": [
    {
     "name": "stdout",
     "output_type": "stream",
     "text": [
      "{'a': 1, 'b': 4, 'c': [5, 6]}\n"
     ]
    }
   ],
   "source": [
    "#Q28. Write a program that combines two lists into a dictionary using list comprehension.\n",
    "\n",
    "list1 = ['a','b','c']\n",
    "list2 = [1,4,[5,6]]\n",
    "\n",
    "dict1= {}\n",
    "\n",
    "dict1 = {list1[i]: list2[i] for i in range(len(list1))}\n",
    "\n",
    "print(dict1)\n",
    "#{'a': 1, 'b': 4, 'c': [5, 6]}"
   ]
  },
  {
   "cell_type": "code",
   "execution_count": 23,
   "id": "f5719651-a529-46e2-a35c-182ee9b37f88",
   "metadata": {},
   "outputs": [
    {
     "name": "stdout",
     "output_type": "stream",
     "text": [
      "['i', 'i', 'o', 'e', 'i', 'i', 'a', 'e', 'i', 'o', 'u', 'i', 'i']\n"
     ]
    }
   ],
   "source": [
    "#Q29. Develop a program that extracts the vowels from a string and stores them in a list using list comprehension.\n",
    "\n",
    "str1 = \"This is vowels string with aeiou in it\"\n",
    "\n",
    "vowels = ['a','e','i','o','u']\n",
    "cnt = 0\n",
    "\n",
    "list1 = [i for i in str1 if i in vowels]\n",
    "\n",
    "print(list1)\n",
    "#['i', 'i', 'o', 'e', 'i', 'i', 'a', 'e', 'i', 'o', 'u', 'i', 'i']"
   ]
  },
  {
   "cell_type": "code",
   "execution_count": 35,
   "id": "bcb81326-f2ab-42ab-a6b5-bd7cecef2b8a",
   "metadata": {},
   "outputs": [
    {
     "name": "stdout",
     "output_type": "stream",
     "text": [
      "[1, 2, 3, 6]\n"
     ]
    }
   ],
   "source": [
    "#Q30. Create a program that removes all non-numeric characters from a list of strings using list comprehension.\n",
    "\n",
    "list1 = [1,2,3,'am','is',6]\n",
    "\n",
    "list2 = [i for i in list1 if not any(c.isalpha() for c in str(i))]\n",
    "\n",
    "print(list2)\n",
    "#[1, 2, 3, 6]"
   ]
  },
  {
   "cell_type": "code",
   "execution_count": 53,
   "id": "6e1e9ac3-f5b7-4c61-89b9-b0b6f7762091",
   "metadata": {},
   "outputs": [
    {
     "data": {
      "text/plain": [
       "2"
      ]
     },
     "execution_count": 53,
     "metadata": {},
     "output_type": "execute_result"
    }
   ],
   "source": [
    "#Challenge Level:\n",
    "\n",
    "#Q31. Write a program to generate a list of prime numbers using the Sieve of Eratosthenes algorithm and list comprehension.\n",
    "\n",
    "\n"
   ]
  },
  {
   "cell_type": "code",
   "execution_count": null,
   "id": "7f3ff66b-1093-42e4-91f6-1addb88208ba",
   "metadata": {},
   "outputs": [],
   "source": []
  }
 ],
 "metadata": {
  "kernelspec": {
   "display_name": "Python 3 (ipykernel)",
   "language": "python",
   "name": "python3"
  },
  "language_info": {
   "codemirror_mode": {
    "name": "ipython",
    "version": 3
   },
   "file_extension": ".py",
   "mimetype": "text/x-python",
   "name": "python",
   "nbconvert_exporter": "python",
   "pygments_lexer": "ipython3",
   "version": "3.10.8"
  }
 },
 "nbformat": 4,
 "nbformat_minor": 5
}
