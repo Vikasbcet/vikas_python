{
 "cells": [
  {
   "cell_type": "code",
   "execution_count": 2,
   "id": "c9e4ffe2-d4e0-4367-b8d9-a680a03175ed",
   "metadata": {},
   "outputs": [
    {
     "name": "stdin",
     "output_type": "stream",
     "text": [
      "enter the number -4\n"
     ]
    },
    {
     "name": "stdout",
     "output_type": "stream",
     "text": [
      "negtive number\n"
     ]
    }
   ],
   "source": [
    "#Basic If-Else Statements:\n",
    "#Q1. Write a Python program to check if a given number is positive or negative.\n",
    "\n",
    "n1 = int(input(\"enter the number\"))\n",
    "\n",
    "if n1 > 0 :\n",
    "    print(\"Postive Number\")\n",
    "else: \n",
    "    print(\"negtive number\")\n",
    "    \n",
    "#enter the number -4\n",
    "#negtive number    "
   ]
  },
  {
   "cell_type": "code",
   "execution_count": 5,
   "id": "b5a3ddd3-37c7-43a0-9254-2fd73eff56c7",
   "metadata": {},
   "outputs": [
    {
     "name": "stdin",
     "output_type": "stream",
     "text": [
      "enter your age 34\n"
     ]
    },
    {
     "name": "stdout",
     "output_type": "stream",
     "text": [
      "You can cast the vote\n"
     ]
    }
   ],
   "source": [
    "#Q2. Create a program that determines if a person is eligible to vote based on their age.\n",
    "\n",
    "age = int(input(\"enter your age\"))\n",
    "\n",
    "if age >= 18 :\n",
    "    print(\"You can cast the vote\")\n",
    "else: \n",
    "    print(\"You are not eligible for vote\")\n",
    "#enter your age 34\n",
    "#You can cast the vote    "
   ]
  },
  {
   "cell_type": "code",
   "execution_count": 10,
   "id": "a459d4ee-01ee-491c-9639-24863200816e",
   "metadata": {},
   "outputs": [
    {
     "name": "stdin",
     "output_type": "stream",
     "text": [
      "Enter two numbers : 4 6\n"
     ]
    },
    {
     "name": "stdout",
     "output_type": "stream",
     "text": [
      "max number is  6\n"
     ]
    }
   ],
   "source": [
    "#Q3. Develop a program to find the maximum of two numbers using if-else statements.\n",
    "\n",
    "a, b = input(\"Enter two numbers :\").split()\n",
    "\n",
    "if int(a) > int(b):\n",
    "    print(\"max number is \", a)\n",
    "else :\n",
    "    print(\"max number is \" , b)\n",
    "\n",
    "#Enter two numbers : 4 6\n",
    "#max number is  6"
   ]
  },
  {
   "cell_type": "code",
   "execution_count": 14,
   "id": "7bb38358-7103-4148-b825-960084d571a1",
   "metadata": {},
   "outputs": [
    {
     "name": "stdin",
     "output_type": "stream",
     "text": [
      "enter the year 2021\n"
     ]
    },
    {
     "name": "stdout",
     "output_type": "stream",
     "text": [
      "not a leap year\n"
     ]
    }
   ],
   "source": [
    "#Q4. Write a Python script to classify a given year as a leap year or not.\n",
    "\n",
    "year  = input(\"enter the year\")\n",
    "\n",
    "if (int(year) % 4 == 0 and int(year) % 100 != 0) or (int(year) % 400 == 0) :\n",
    "    print(\"leap year\")\n",
    "else: \n",
    "    print(\"not a leap year\")\n"
   ]
  },
  {
   "cell_type": "code",
   "execution_count": 17,
   "id": "33ec7132-5e7c-47a5-bd4f-1de9c4b20eed",
   "metadata": {},
   "outputs": [
    {
     "name": "stdin",
     "output_type": "stream",
     "text": [
      "input the charater D\n"
     ]
    },
    {
     "name": "stdout",
     "output_type": "stream",
     "text": [
      "character is consonant\n"
     ]
    }
   ],
   "source": [
    "#Q5. Create a program that checks whether a character is a vowel or a consonant.\n",
    "\n",
    "a = input(\"input the charater\")\n",
    "\n",
    "if a.lower() in ('a','e','i','o','u') :\n",
    "    print(\"character is Vowel\")\n",
    "else: \n",
    "    print(\"character is consonant\")\n",
    "    \n",
    "#input the charater D\n",
    "#character is consonant\n",
    "    "
   ]
  },
  {
   "cell_type": "code",
   "execution_count": 21,
   "id": "c90c4973-2a44-49c4-a0fc-a0d94c1a2779",
   "metadata": {},
   "outputs": [
    {
     "name": "stdin",
     "output_type": "stream",
     "text": [
      "enter the number 9\n"
     ]
    },
    {
     "name": "stdout",
     "output_type": "stream",
     "text": [
      "number is odd\n"
     ]
    }
   ],
   "source": [
    "#Q6. Implement a program to determine whether a given number is even or odd.\n",
    "\n",
    "num  = int(input(\"enter the number\"))\n",
    "\n",
    "if num%2 == 0 :\n",
    "    print(\"number is even\")\n",
    "else: \n",
    "    print(\"number is odd\")\n",
    "#enter the number 9\n",
    "#number is odd    "
   ]
  },
  {
   "cell_type": "code",
   "execution_count": 24,
   "id": "c08ba375-47dc-48b8-b3d0-082f14bfa2e0",
   "metadata": {},
   "outputs": [
    {
     "name": "stdin",
     "output_type": "stream",
     "text": [
      "enter the number -5\n"
     ]
    },
    {
     "name": "stdout",
     "output_type": "stream",
     "text": [
      "abs value of the number :  5\n"
     ]
    }
   ],
   "source": [
    "#Q7. Write a Python function to calculate the absolute value of a number without using the `abs()` function.\n",
    "\n",
    "num  = int(input(\"enter the number\"))\n",
    "\n",
    "if num > 0 :\n",
    "    print(\"abs value of the number : \", num)\n",
    "else : \n",
    "    print(\"abs value of the number : \", num*-1)\n",
    "#enter the number -5\n",
    "#abs value of the number :  5    "
   ]
  },
  {
   "cell_type": "code",
   "execution_count": 57,
   "id": "c35d766b-d134-4439-a1c7-a22e71a99b5b",
   "metadata": {},
   "outputs": [
    {
     "name": "stdin",
     "output_type": "stream",
     "text": [
      "enter the three numbers :  4 5 1\n"
     ]
    },
    {
     "name": "stdout",
     "output_type": "stream",
     "text": [
      "largest numebr is  5\n"
     ]
    }
   ],
   "source": [
    "#Q8. Develop a program that determines the largest of three given numbers using if-else statements.\n",
    "\n",
    "num1 , num2 , num3  = map(int, (input(\"enter the three numbers : \").split()))\n",
    "\n",
    "if num1 >= num2 :\n",
    "    if num2 >=num3:\n",
    "        print(\"largest number is \", num1)\n",
    "    else :\n",
    "        print(\"largest number is \" , num3)\n",
    "elif num2 >= num3 :\n",
    "    print(\"largest numebr is \", num2)    \n",
    "else :\n",
    "    print(\"largest number is \", num3)\n",
    "\n",
    "#enter the three numbers :  4 5 1\n",
    "#largest number is  5    "
   ]
  },
  {
   "cell_type": "code",
   "execution_count": 87,
   "id": "ecdbbd06-c3b4-4529-b820-39d7f7b9a9a4",
   "metadata": {},
   "outputs": [
    {
     "name": "stdin",
     "output_type": "stream",
     "text": [
      "enter a string aanaa\n"
     ]
    },
    {
     "name": "stdout",
     "output_type": "stream",
     "text": [
      "string is palindrome\n"
     ]
    }
   ],
   "source": [
    "#Q9. Create a program that checks if a given string is a palindrome.\n",
    "\n",
    "str1 = input(\"enter a string\")\n",
    "\n",
    "\n",
    "if str1[:round(len(str1)/2)+1:] == str1[:round(len(str1)/2)-1:-1] :\n",
    "    print(\"string is palindrome\")\n",
    "else: \n",
    "    print(\"string is not palindrome\")\n",
    "#enter a string aanaa\n",
    "#string is palindrome  "
   ]
  },
  {
   "cell_type": "code",
   "execution_count": 94,
   "id": "ac5b66c6-f25d-471d-a56c-2e698bc0490b",
   "metadata": {},
   "outputs": [
    {
     "name": "stdin",
     "output_type": "stream",
     "text": [
      "Enter the score 89\n"
     ]
    },
    {
     "name": "stdout",
     "output_type": "stream",
     "text": [
      "A+ Grade\n"
     ]
    }
   ],
   "source": [
    "#Q10. Write a Python program to calculate the grade based on a student's score.\n",
    "\n",
    "grade = int(input(\"Enter the score\"))\n",
    "\n",
    "if grade >= 85 :\n",
    "    print(\"A+ Grade\")\n",
    "elif grade >= 70 and grade < 85:\n",
    "    print(\"A Grade\")\n",
    "elif grade >= 60 and grade < 70:\n",
    "    print(\"B Grade\")\n",
    "elif grade >= 45 and grade < 60:\n",
    "    print(\"C Grade\")\n",
    "else :\n",
    "    print(\"D Grade\")\n",
    "    \n",
    "#Enter the score 89\n",
    "#A+ Grade    "
   ]
  },
  {
   "cell_type": "code",
   "execution_count": 95,
   "id": "3be854fe-5dbb-4623-8dfa-6c69631e4f7b",
   "metadata": {},
   "outputs": [
    {
     "name": "stdin",
     "output_type": "stream",
     "text": [
      "enter the three numbers :  4 7 9\n"
     ]
    },
    {
     "name": "stdout",
     "output_type": "stream",
     "text": [
      "largest number is  9\n"
     ]
    }
   ],
   "source": [
    "#Q11. Write a program to find the largest among three numbers using nested if-else statements.\n",
    "\n",
    "num1 , num2 , num3  = map(int, (input(\"enter the three numbers : \").split()))\n",
    "\n",
    "if num1 >= num2 :\n",
    "    if num2 >=num3:\n",
    "        print(\"largest number is \", num1)\n",
    "    else :\n",
    "        print(\"largest number is \" , num3)\n",
    "elif num2 >= num3 :\n",
    "    print(\"largest numebr is \", num2)    \n",
    "else :\n",
    "    print(\"largest number is \", num3)\n",
    "\n",
    "#enter the three numbers :  4 7 9\n",
    "#largest number is  9    "
   ]
  },
  {
   "cell_type": "code",
   "execution_count": 100,
   "id": "f5b88f8b-d4aa-418e-a00b-430aa3e683e2",
   "metadata": {},
   "outputs": [
    {
     "name": "stdin",
     "output_type": "stream",
     "text": [
      "enter the 3 sides of trangle 2 3 2\n"
     ]
    },
    {
     "name": "stdout",
     "output_type": "stream",
     "text": [
      "traingle is isocceles\n"
     ]
    }
   ],
   "source": [
    "#Q12. Implement a program to determine if a triangle is equilateral, isosceles, or scalene.\n",
    "\n",
    "a, b,c = map(int, (input(\"enter the 3 sides of trangle\").split()))\n",
    "\n",
    "if a == b and b == c:\n",
    "    print(\"triangle is equilateral\")\n",
    "elif a==b or b==c or a == c:\n",
    "    print(\"traingle is isocceles\")\n",
    "else :\n",
    "    print(\"traingle is scalene\")\n",
    "    \n",
    "#enter the 3 sides of trangle 2 3 2\n",
    "#traingle is isocceles             "
   ]
  },
  {
   "cell_type": "code",
   "execution_count": 109,
   "id": "3dbed9c3-37b5-44c6-aca0-be81ee75e8a9",
   "metadata": {},
   "outputs": [
    {
     "name": "stdin",
     "output_type": "stream",
     "text": [
      "enter the year 1995\n"
     ]
    },
    {
     "name": "stdout",
     "output_type": "stream",
     "text": [
      "not a leap year and century is  20\n"
     ]
    }
   ],
   "source": [
    "#Q13. Develop a program that checks if a year is a leap year and also if it is a century year.\n",
    "\n",
    "year  = int(input(\"enter the year\"))\n",
    "\n",
    "cent = round(year/100)\n",
    "if (int(year) % 4 == 0 and int(year) % 100 != 0) or (int(year) % 400 == 0) :\n",
    "    print(\"leap year and Century is \", cent)\n",
    "else: \n",
    "    print(\"not a leap year and century is \", cent)\n",
    "\n",
    "#enter the year 1995\n",
    "#not a leap year and century is  20    \n"
   ]
  },
  {
   "cell_type": "code",
   "execution_count": 112,
   "id": "c374a871-24fb-4ec9-bc3f-ef99725d2799",
   "metadata": {},
   "outputs": [
    {
     "name": "stdin",
     "output_type": "stream",
     "text": [
      "enter the number -1\n"
     ]
    },
    {
     "name": "stdout",
     "output_type": "stream",
     "text": [
      "number is negtive\n"
     ]
    }
   ],
   "source": [
    "#Q14. Write a Python script to determine if a number is positive, negative, or zero.\n",
    "\n",
    "num1 = int(input(\"enter the number\"))\n",
    "\n",
    "if num1 > 0 :\n",
    "    print(\"mumber is positive\")\n",
    "elif num1 < 0:\n",
    "    print(\"number is negtive\")\n",
    "else :\n",
    "    print(\"number is zero\")\n",
    "\n",
    "#enter the number -1\n",
    "#number is negtive    "
   ]
  },
  {
   "cell_type": "code",
   "execution_count": 124,
   "id": "4fb83f8a-0441-47ba-bc03-afeb35f2adb1",
   "metadata": {},
   "outputs": [
    {
     "name": "stdin",
     "output_type": "stream",
     "text": [
      "enter the age 14\n"
     ]
    },
    {
     "name": "stdout",
     "output_type": "stream",
     "text": [
      "teenage\n"
     ]
    }
   ],
   "source": [
    "#Q15. Create a program to check if a person is a teenager (between 13 and 19 years old).\n",
    "\n",
    "age= int(input(\"enter the age\"))\n",
    "\n",
    "if  13 <= age <= 19:\n",
    "    print(\"teenage\")\n",
    "else :\n",
    "    print(\"not a teenager\")\n",
    "\n",
    "#enter the age 14\n",
    "#teenage    "
   ]
  },
  {
   "cell_type": "code",
   "execution_count": 129,
   "id": "86cd7026-0844-4a05-a4c6-4cb0718b0917",
   "metadata": {},
   "outputs": [
    {
     "name": "stdin",
     "output_type": "stream",
     "text": [
      "Enter your angle 123\n"
     ]
    },
    {
     "name": "stdout",
     "output_type": "stream",
     "text": [
      "obtuse angle\n"
     ]
    }
   ],
   "source": [
    "#Q16. Develop a program that determines the type of angle based on its measure (acute, obtuse, or right).\n",
    "\n",
    "angle = int(input(\"Enter your angle\"))\n",
    "\n",
    "if angle >= 0 and angle < 90 :\n",
    "    print(\"acute angle\")\n",
    "elif angle == 90 :\n",
    "    print(\"right angle\")\n",
    "elif angle > 90 and angle < 180 :\n",
    "    print(\"obtuse angle\")\n",
    "#Enter your angle 123\n",
    "#obtuse angle    "
   ]
  },
  {
   "cell_type": "code",
   "execution_count": 139,
   "id": "6127a804-7d19-48a7-853e-ab4c54937d06",
   "metadata": {},
   "outputs": [
    {
     "name": "stdin",
     "output_type": "stream",
     "text": [
      "enter the three numbers 3 4 6\n"
     ]
    },
    {
     "name": "stdout",
     "output_type": "stream",
     "text": [
      " Real number is 5.224972160321824, imaginary number is -17.224972160321823 \n"
     ]
    }
   ],
   "source": [
    "#Q17. Write a Python program to calculate the roots of a quadratic equation.\n",
    "\n",
    "import math\n",
    "a,b,c = map(int,(input(\"enter the three numbers\").split()))\n",
    "            \n",
    "d = math.sqrt(abs(b*b - 4*a*c))\n",
    "            \n",
    "e = (-b + d )/2*a\n",
    "f = (-b - d )/2*a\n",
    "            \n",
    "print(f' Real number is {e}, imaginary number is {f} ')            \n",
    "\n",
    "#enter the three numbers 3 4 6\n",
    "#Real number is 5.224972160321824, imaginary number is -17.224972160321823 \n",
    "            "
   ]
  },
  {
   "cell_type": "code",
   "execution_count": 141,
   "id": "c0fb06f3-54d8-4ec1-86b0-d29ad22ad256",
   "metadata": {},
   "outputs": [
    {
     "name": "stdin",
     "output_type": "stream",
     "text": [
      "Please enter the number betwwen 1 to 7 : 3\n"
     ]
    },
    {
     "name": "stdout",
     "output_type": "stream",
     "text": [
      "Wednesday\n"
     ]
    }
   ],
   "source": [
    "#Q18. Implement a program to determine the day of the week based on a user-provided number (1 for Monday, 2 for Tuesday, etc.)\n",
    "\n",
    "num1  = int(input(\"Please enter the number betwwen 1 to 7 :\"))\n",
    "\n",
    "if num1 == 1 : \n",
    "    print(\"Monday\")\n",
    "elif  num1 == 2 :  \n",
    "    print(\"Tueday\")\n",
    "elif  num1 == 3 :  \n",
    "    print(\"Wednesday\")\n",
    "elif  num1 == 4 :  \n",
    "    print(\"Thursday\")\n",
    "elif  num1 == 5 :  \n",
    "    print(\"Friday\")\n",
    "elif  num1 == 6 :  \n",
    "    print(\"Saturday\")\n",
    "elif  num1 == 7 :  \n",
    "    print(\"Sunday\")\n",
    "else: \n",
    "    print(\"Enter the correct number\")\n",
    "    \n",
    "#Please enter the number betwwen 1 to 7 : 3\n",
    "#Wednesday    "
   ]
  },
  {
   "cell_type": "code",
   "execution_count": 142,
   "id": "89e0ceab-ee9a-4242-ac8a-2badb4354163",
   "metadata": {},
   "outputs": [
    {
     "name": "stdin",
     "output_type": "stream",
     "text": [
      "enter the year 2000\n"
     ]
    },
    {
     "name": "stdout",
     "output_type": "stream",
     "text": [
      "leap year\n"
     ]
    }
   ],
   "source": [
    "#Q19. Create a program that determines if a year is a leap year and also if it is evenly divisible by 400.\n",
    "\n",
    "year  = input(\"enter the year\")\n",
    "\n",
    "if (int(year) % 4 == 0 and int(year) % 100 != 0) or (int(year) % 400 == 0) :\n",
    "    print(\"leap year\")\n",
    "else: \n",
    "    print(\"not a leap year\")\n",
    "\n",
    "#enter the year 2000\n",
    "#leap year    "
   ]
  },
  {
   "cell_type": "code",
   "execution_count": 6,
   "id": "5b39e2f3-cd01-4bda-9b9a-fc9eb6fbbadc",
   "metadata": {},
   "outputs": [
    {
     "name": "stdin",
     "output_type": "stream",
     "text": [
      "enter the number 12\n"
     ]
    },
    {
     "name": "stdout",
     "output_type": "stream",
     "text": [
      "12 is not a prime number\n"
     ]
    }
   ],
   "source": [
    "#Q20. Develop a program that checks if a given number is prime or not using nested if-else statements.\n",
    "\n",
    "num1 = int(input(\"enter the number\"))\n",
    "\n",
    "if num1 == 1 :\n",
    "    print(\"not a prime number\")\n",
    "elif num1 > 1:\n",
    "    for i in range(2,num1):\n",
    "        if num1%i == 0 :\n",
    "            print(num1, \"is not a prime number\")\n",
    "            break\n",
    "    else: \n",
    "        print(\"not a prime number\")\n",
    "\n",
    "#enter the number 12\n",
    "#12 is not a prime number        "
   ]
  },
  {
   "cell_type": "code",
   "execution_count": 6,
   "id": "da75961d-66e6-4705-9d63-cd4058c4f6e1",
   "metadata": {},
   "outputs": [
    {
     "name": "stdin",
     "output_type": "stream",
     "text": [
      "Enter your height in meters:  1.65\n",
      "Enter your weight in kg:  66\n"
     ]
    },
    {
     "name": "stdout",
     "output_type": "stream",
     "text": [
      "24.242424242424246\n",
      "You are healthy.\n"
     ]
    }
   ],
   "source": [
    "#Q23. Develop a program to categorize a given person's BMI into underweight, normal, overweight, or obese using elif statements.\n",
    "\n",
    "height = float(input(\"Enter your height in meters: \"))\n",
    "weight = float(input(\"Enter your weight in kg: \"))\n",
    "\n",
    "BMI = weight / (height*height)\n",
    "print(BMI)\n",
    "\n",
    "if BMI <= 18.4:\n",
    "    print(\"You are underweight.\")\n",
    "elif BMI <= 24.9:\n",
    "    print(\"You are healthy.\")\n",
    "elif BMI <= 29.9:\n",
    "    print(\"You are over weight.\")\n",
    "elif BMI <= 34.9:\n",
    "    print(\"You are severely over weight.\")\n",
    "elif BMI <= 39.9:\n",
    "    print(\"You are obese.\")\n",
    "else:\n",
    "    print(\"You are severely obese.\")\n",
    " \n",
    "#Enter your height in meters:  1.65\n",
    "#Enter your weight in kg:  66\n",
    "#24.242424242424246\n",
    "#You are healthy."
   ]
  },
  {
   "cell_type": "code",
   "execution_count": 10,
   "id": "659422dd-c2c6-438a-a714-10bfa3f14170",
   "metadata": {},
   "outputs": [
    {
     "name": "stdin",
     "output_type": "stream",
     "text": [
      "enter the character @\n"
     ]
    },
    {
     "name": "stdout",
     "output_type": "stream",
     "text": [
      "character is sepecial one\n"
     ]
    }
   ],
   "source": [
    "#Q25. Write a Python script to determine the type of a character (uppercase, lowercase, or special) using elif statements.\n",
    "\n",
    "char1 = input(\"enter the character\")\n",
    "\n",
    "if char1.isalpha() == True:\n",
    "    if char1.islower() == True:\n",
    "        print(\"Character is looercase\")\n",
    "    else: \n",
    "        print(\"character is uppercase\")\n",
    "else: \n",
    "    print(\"character is sepecial one\")\n",
    "    \n",
    "#enter the character @\n",
    "#character is sepecial one"
   ]
  },
  {
   "cell_type": "code",
   "execution_count": 5,
   "id": "e6e60c11-24f8-4317-8f8b-f1b4aaabab7f",
   "metadata": {},
   "outputs": [
    {
     "name": "stdin",
     "output_type": "stream",
     "text": [
      "Enter the electricity Bill Units :  410\n"
     ]
    },
    {
     "name": "stdout",
     "output_type": "stream",
     "text": [
      "bill units are 410.0\n",
      "Electricity Bill  1640.0\n"
     ]
    }
   ],
   "source": [
    "#Q27. Develop a program to calculate the electricity bill based on different consumption slabs using elif statements.\n",
    "\n",
    "bill_unit = float(input(\"Enter the electricity Bill Units : \"))\n",
    "\n",
    "if bill_unit  <= 60 :\n",
    "    elec_bill = bill_unit * 0\n",
    "elif bill_unit  > 60 and bill_unit <= 100 :\n",
    "    elec_bill = bill_unit * 1.2\n",
    "elif bill_unit  > 100 and bill_unit <= 200 :\n",
    "    elec_bill = bill_unit * 1.8\n",
    "elif bill_unit  > 200 and bill_unit <= 400 :\n",
    "    elec_bill = bill_unit * 2.5\n",
    "else :\n",
    "    elec_bill = bill_unit * 4\n",
    "    \n",
    "print(\"bill units are\" , bill_unit)\n",
    "print(\"Electricity Bill \" , elec_bill) \n",
    "    \n",
    "#Enter the electricity Bill Units :  410\n",
    "#bill units are 410.0\n",
    "#Electricity Bill  1640.0    \n",
    "    \n"
   ]
  },
  {
   "cell_type": "code",
   "execution_count": 10,
   "id": "e2cd93ae-ea42-4131-b07e-58b72c52488a",
   "metadata": {},
   "outputs": [
    {
     "name": "stdin",
     "output_type": "stream",
     "text": [
      "please enter the month march\n"
     ]
    },
    {
     "name": "stdout",
     "output_type": "stream",
     "text": [
      "spring season\n"
     ]
    }
   ],
   "source": [
    "#Q28 Write a Python script to determine the season based on a user-provided month using elif statements.\n",
    "\n",
    "month = input(\"please enter the month\" )\n",
    "\n",
    "if month in ('feb' , 'march') :\n",
    "    print(\"spring season\")\n",
    "elif month in ('apr', 'may'):\n",
    "    print(\"summer season\")\n",
    "elif month in ('jun', 'july', 'sept'):\n",
    "    print(\"monson season\")\n",
    "elif month in ('oct', 'nov'):\n",
    "    print(\"autumn season\")\n",
    "elif month in ('dec','jan','feb'):\n",
    "    print(\"winter Season\")\n",
    "#please enter the month march\n",
    "#spring season"
   ]
  },
  {
   "cell_type": "code",
   "execution_count": 1,
   "id": "27f4153e-cf33-434e-b8b5-e7c4bbc8c0e0",
   "metadata": {},
   "outputs": [
    {
     "name": "stdout",
     "output_type": "stream",
     "text": [
      "Welcome to your bank account Ms. ABC\n",
      "\n",
      "0. Logout and Exit\n",
      "1. View Account Balance\n",
      "2. Withdraw Cash\n",
      "3. Deposit Cash\n",
      "4. Change PIN\n",
      "5. Return Card\n"
     ]
    },
    {
     "name": "stdin",
     "output_type": "stream",
     "text": [
      "Enter number to proceed >  1\n"
     ]
    },
    {
     "name": "stdout",
     "output_type": "stream",
     "text": [
      "\n",
      "\n",
      "\n"
     ]
    },
    {
     "name": "stdin",
     "output_type": "stream",
     "text": [
      "Please enter your 4-digit PIN >  1234\n"
     ]
    },
    {
     "name": "stdout",
     "output_type": "stream",
     "text": [
      "Account auhtorized!\n",
      "\n",
      "\n",
      "Loading Account Balance...\n",
      "Your current balance is Rs. 97432.5\n",
      "\n",
      "\n",
      "0. Logout and Exit\n",
      "1. View Account Balance\n",
      "2. Withdraw Cash\n",
      "3. Deposit Cash\n",
      "4. Change PIN\n",
      "5. Return Card\n"
     ]
    },
    {
     "name": "stdin",
     "output_type": "stream",
     "text": [
      "Enter number to proceed >  0\n"
     ]
    },
    {
     "name": "stdout",
     "output_type": "stream",
     "text": [
      "\n",
      "\n",
      "\n",
      "Thank You for using.\n",
      "\n",
      " \n"
     ]
    }
   ],
   "source": [
    "#Q29 Create a program that simulates a basic ATM transaction menu.\n",
    "\n",
    "user_pin = 1234\n",
    "user_balance = 97432.50\n",
    "user_name = \"Ms. ABC\"\n",
    "print(\"Welcome to your bank account\", user_name, end = \"\\n\\n\")\n",
    "choice = 9\n",
    "while (True):\n",
    "    print(\"0. Logout and Exit\")\n",
    "    print(\"1. View Account Balance\")\n",
    "    print(\"2. Withdraw Cash\")\n",
    "    print(\"3. Deposit Cash\")\n",
    "    print(\"4. Change PIN\")\n",
    "    print(\"5. Return Card\")\n",
    "    choice = int(input(\"Enter number to proceed > \"))\n",
    "    print(\"\\n\\n\")\n",
    "    if choice == 0 :\n",
    "        print(\"Thank You for using.\\n\\n \")\n",
    "        break\n",
    "    elif choice in (1,2,3,4,5):\n",
    "        num_of_tries = 3\n",
    "        while (num_of_tries!=0):\n",
    "            input_pin = int(input(\"Please enter your 4-digit PIN > \"))\n",
    "        \n",
    "            if input_pin == user_pin:\n",
    "                print(\"Account auhtorized!\\n\\n\")\n",
    "                \n",
    "                if choice == 1:\n",
    "                    print(\"Loading Account Balance...\")\n",
    "                \n",
    "                    print(\"Your current balance is Rs.\", user_balance, end = \"\\n\\n\\n\")\n",
    "                    break\n",
    "                elif choice == 2:\n",
    "                    print(\"Opening Cash Withdrawal...\")\n",
    "                    \n",
    "\n",
    "                    while(True):\n",
    "                        withdraw_amt = float(input(\"Enter the amount you wish to withdraw > \"))\n",
    "\n",
    "                        if withdraw_amt>user_balance:\n",
    "                            print(\"Can't withdraw Rs.\", withdraw_amt)\n",
    "                            print(\"Please enter a lower amount!\")\n",
    "                            continue\n",
    "\n",
    "                        else:\n",
    "                            print(\"Withdrawing Rs.\", withdraw_amt)\n",
    "                            confirm = input(\"Confirm? Y/N > \")\n",
    "                            if confirm in ('Y', 'y'):\n",
    "                                user_balance-=withdraw_amt\n",
    "                                print(\"Amount withdrawn - Rs.\", withdraw_amt)\n",
    "                                print(\"Remaining balance - Rs.\", user_balance, end = \"\\n\\n\\n\")\n",
    "                                break\n",
    "\n",
    "                            else:\n",
    "                                print(\"Cancelling transaction...\")\n",
    "                                \n",
    "                                print(\"Transaction Cancelled!\\n\\n\")\n",
    "                                break\n",
    "                    \n",
    "                    break\n",
    "\n",
    "                elif choice == 3:\n",
    "                    print(\"Loading Cash Deposit...\")\n",
    "                    \n",
    "\n",
    "                    deposit_amt = float(input(\"Enter the amount you wish to deposit > \"))\n",
    "                    print(\"Depositing Rs.\", deposit_amt)\n",
    "                    confirm = input(\"Confirm? Y/N > \")\n",
    "                    if confirm in ('Y', 'y'): \n",
    "                        user_balance+=deposit_amt\n",
    "                        print(\"Amount deposited - Rs.\", deposit_amt)\n",
    "                        print(\"Updated balance - Rs.\", user_balance, end = \"\\n\\n\\n\")\n",
    "                    else:\n",
    "                        print(\"Cancelling transaction...\")\n",
    "                        \n",
    "                        print(\"Transaction Cancelled!\\n\\n\")\n",
    "                                \n",
    "                    break\n",
    "\n",
    "                    \n",
    "                elif choice == 4:\n",
    "                    print(\"Loading PIN Change...\")\n",
    "                    \n",
    "\n",
    "                    pin_new = int(input(\"Enter your new PIN > \"))\n",
    "\n",
    "                    print(\"Changing PIN to\", pin_new)\n",
    "                    confirm = input(\"Confirm? Y/N > \")\n",
    "                    if confirm in ('Y', 'y'): \n",
    "                        user_pin = pin_new\n",
    "                        print(\"PIN changed successfully! \\n\\n\")\n",
    "                    else:\n",
    "                        print(\"Cancelling PIN change...\")\n",
    "                        \n",
    "                        print(\"Process Cancelled!\\n\\n\")\n",
    "\n",
    "                    break\n",
    "\n",
    "                else:\n",
    "                    print(\"Loading Card Return...\")\n",
    "                    \n",
    "\n",
    "                    print(\"Returning your ATM Card\")\n",
    "                    confirm = input(\"Confirm? Y/N > \")\n",
    "                    if confirm in ('Y', 'y'): \n",
    "                        print(\"Card returned successfully! \\n\\n\")\n",
    "                    else:\n",
    "                        print(\"Cancelling process...\")\n",
    "                        \n",
    "                        print(\"Process Cancelled!\\n\\n\")\n",
    "\n",
    "                    break\n",
    "\n",
    "            else:\n",
    "                num_of_tries-=1 \n",
    "                print(\"PIN incorrect! Number of tries left -\", num_of_tries, end = \"\\n\\n\")   \n",
    "\n",
    "        else:\n",
    "            print(\"Exiting...\")\n",
    "            \n",
    "            print(\"You have been logged out. Thank you!\\n\\n\")\n",
    "            break\n",
    "            \n",
    "\n",
    "    else:\n",
    "        print(\"Invalid input!\")\n",
    "        print(\"Enter 0 to Logout and Exit!\")\n",
    "        continue    "
   ]
  },
  {
   "cell_type": "code",
   "execution_count": 5,
   "id": "b75bef25-a66f-463b-98a3-7d967df34aaf",
   "metadata": {},
   "outputs": [
    {
     "name": "stdin",
     "output_type": "stream",
     "text": [
      "Please enter the first number 3\n",
      "please enter the second number 4\n"
     ]
    },
    {
     "name": "stdout",
     "output_type": "stream",
     "text": [
      "\n",
      "\n",
      " '+' for addition\n",
      " '-' for subtraction\n",
      " '*' for multiplicaton\n",
      " '/' for division\n",
      " '%' for moduls\n",
      " '**' for Power\n",
      " '0' for main menu\n",
      " Enter any other key to exit\n",
      "\n",
      "\n"
     ]
    },
    {
     "name": "stdin",
     "output_type": "stream",
     "text": [
      "enter your choice >  +\n"
     ]
    },
    {
     "name": "stdout",
     "output_type": "stream",
     "text": [
      "\n",
      "\n",
      "addition is : 7.0\n",
      "\n",
      "\n",
      " '+' for addition\n",
      " '-' for subtraction\n",
      " '*' for multiplicaton\n",
      " '/' for division\n",
      " '%' for moduls\n",
      " '**' for Power\n",
      " '0' for main menu\n",
      " Enter any other key to exit\n",
      "\n",
      "\n"
     ]
    },
    {
     "name": "stdin",
     "output_type": "stream",
     "text": [
      "enter your choice >  e\n"
     ]
    },
    {
     "name": "stdout",
     "output_type": "stream",
     "text": [
      "\n",
      "\n",
      "Exit from the program. Thank You for using.\n"
     ]
    }
   ],
   "source": [
    "#Q30Create a program that simulates a basic calculator for addition, subtraction, multiplication, and division.\n",
    "\n",
    "num1 = float(input(\"Please enter the first number\"))\n",
    "num2 = float(input(\"please enter the second number\"))\n",
    "\n",
    "choice = 0\n",
    "\n",
    "while(True):\n",
    "    print(\"\\n\")\n",
    "    print(\" '+' for addition\")\n",
    "    print(\" '-' for subtraction\")\n",
    "    print(\" '*' for multiplicaton\")\n",
    "    print(\" '/' for division\")\n",
    "    print(\" '%' for moduls\")\n",
    "    print(\" '**' for Power\")\n",
    "    print(\" '0' for main menu\")\n",
    "    print(\" Enter any other key to exit\")\n",
    "    print(\"\\n\")    \n",
    "    choice= input(\"enter your choice > \" )\n",
    "    print(\"\\n\")\n",
    "    if choice == '+' :\n",
    "        print(\"addition is :\" , num1 + num2) \n",
    "    elif choice == '-' :    \n",
    "        print(\"subtraction is :\" , num1 - num2)\n",
    "    elif choice == '*' :    \n",
    "        print(\"multiplicaton is :\" , num1 * num2)\n",
    "    elif choice == '/' :    \n",
    "        print(\"division is :\" , num1 / num2)\n",
    "    elif choice == '%' :    \n",
    "        print(\"moduls is :\" , num1 % num2)\n",
    "    elif choice == '**' :    \n",
    "        print(\"power is :\" , num1 ** num2)  \n",
    "    elif choice == '0' :    \n",
    "        continue    \n",
    "    else:\n",
    "        print(\"Exit from the program. Thank You for using.\")\n",
    "        break\n",
    "        "
   ]
  },
  {
   "cell_type": "code",
   "execution_count": 19,
   "id": "d490b3f8-9724-472e-b266-36e60b98d689",
   "metadata": {},
   "outputs": [
    {
     "name": "stdin",
     "output_type": "stream",
     "text": [
      "Enter your yearly income :  1200000\n"
     ]
    },
    {
     "name": "stdout",
     "output_type": "stream",
     "text": [
      "Total Income is : 1200000\n",
      "Tax on the Income :  115000.0\n"
     ]
    }
   ],
   "source": [
    "#Q31 Create a program that calculates the income tax based on the user's income and tax brackets.\n",
    "\n",
    "income = int(input(\"Enter your yearly income : \"))\n",
    "\n",
    "if income <= 250000 :\n",
    "    tax = 0\n",
    "    print(\"Total Income is :\"  , income)\n",
    "    print(\"Tax on the Income : \"  , tax)\n",
    "\n",
    "elif income > 250000  and income <= 500000:\n",
    "    tax = (income * 5) / 100\n",
    "    print(\"Total Income is :\"  , income)\n",
    "    print(\"Tax on the Income : \"  , tax)\n",
    "    \n",
    "elif income > 500000  and income <= 750000:\n",
    "    tax = ((income - 500000)*10)/100 + 12500\n",
    "    print(\"Total Income is :\"  , income)\n",
    "    print(\"Tax on the Income : \"  , tax)\n",
    "    \n",
    "elif income <= 1000000:\n",
    "    tax = ((income - 750000)*15)/100 + 37500\n",
    "    print(\"Total Income is :\"  , income)\n",
    "    print(\"Tax on the Income : \"  , tax)\n",
    "\n",
    "elif income <= 1250000:\n",
    "    tax = ((income - 1000000)*20)/100 + 75000\n",
    "    print(\"Total Income is :\"  , income)\n",
    "    print(\"Tax on the Income : \"  , tax)\n",
    "\n",
    "elif income > 1500000:\n",
    "    tax = ((income - 1000000)*25)/100 + 125000\n",
    "    print(\"Total Income is :\"  , income)\n",
    "    print(\"Tax on the Income : \"  , tax)\n",
    "else:\n",
    "    tax = ((income - 1500000)*30)/100 + 187500\n",
    "    print(\"Total Income is :\"  , income)\n",
    "    print(\"Tax on the Income : \"  , tax)\n",
    "    \n",
    "#Enter your yearly income :  1200000\n",
    "#Total Income is : 1200000\n",
    "#Tax on the Income :  115000.0    \n",
    "    "
   ]
  },
  {
   "cell_type": "code",
   "execution_count": 12,
   "id": "b344b670-c59e-47ae-a16d-1e724a7225fd",
   "metadata": {},
   "outputs": [
    {
     "name": "stdin",
     "output_type": "stream",
     "text": [
      "Enter the lenght for the password  8\n",
      "What is the complexity you perfer (low/midium/high  high\n"
     ]
    },
    {
     "name": "stdout",
     "output_type": "stream",
     "text": [
      "FFFFFFFFF\n"
     ]
    }
   ],
   "source": [
    "#Q32 Develop a program that generates a random password based on user preferences (length, complexity).\n",
    "\n",
    "import random \n",
    "import array\n",
    "\n",
    "length = int(input(\"Enter the lenght for the password \" ))\n",
    "compl  = input(\"What is the complexity you perfer (low/midium/high \" )\n",
    "\n",
    "DIGITS = ['0', '1', '2', '3', '4', '5', '6', '7', '8', '9'] \n",
    "LOCASE_CHARACTERS = ['a', 'b', 'c', 'd', 'e', 'f', 'g', 'h',\n",
    "                     'i', 'j', 'k', 'm', 'n', 'o', 'p', 'q',\n",
    "                     'r', 's', 't', 'u', 'v', 'w', 'x', 'y',\n",
    "                     'z']\n",
    " \n",
    "UPCASE_CHARACTERS = ['A', 'B', 'C', 'D', 'E', 'F', 'G', 'H',\n",
    "                     'I', 'J', 'K', 'M', 'N', 'O', 'P', 'Q',\n",
    "                     'R', 'S', 'T', 'U', 'V', 'W', 'X', 'Y',\n",
    "                     'Z']\n",
    " \n",
    "SYMBOLS = ['@', '#', '$', '%', '=', ':', '?', '.', '/', '|', '~', '>',\n",
    "           '*', '(', ')', '<']\n",
    " \n",
    "# combines all the character arrays above to form one array\n",
    "COMBINED_LIST0 = DIGITS + UPCASE_CHARACTERS \n",
    "COMBINED_LIST1 = DIGITS + UPCASE_CHARACTERS + LOCASE_CHARACTERS \n",
    "COMBINED_LIST2 = DIGITS + UPCASE_CHARACTERS + LOCASE_CHARACTERS + SYMBOLS\n",
    "\n",
    "\n",
    "rand_combined_list0 = random.choice(COMBINED_LIST0)\n",
    "rand_combined_list1 = random.choice(COMBINED_LIST1)\n",
    "rand_combined_list2 = random.choice(COMBINED_LIST2)\n",
    "\n",
    "random.shuffle(rand_combined_list0) \n",
    "random.shuffle(rand_combined_list1) \n",
    "random.shuffle(rand_combined_list2) \n",
    "\n",
    "temp_pass_0 = array.array('u', rand_combined_list0)\n",
    "temp_pass_1 = array.array('u', rand_combined_list1)\n",
    "temp_pass_2 = array.array('u', rand_combined_list2)\n",
    "\n",
    "password = ''\n",
    "n = 0\n",
    "while ( n <= length):\n",
    "    if compl == 'low':\n",
    "        for i in temp_pass_0 :\n",
    "            password = password + i\n",
    "            n = n + 1\n",
    "    elif  compl == 'midium':\n",
    "        for i in temp_pass_1:\n",
    "            password = password + i\n",
    "            n = n + 1\n",
    "            \n",
    "    elif  compl == 'high':\n",
    "        for i in temp_pass_2:\n",
    "            password = password + i\n",
    "            n = n + 1\n",
    "            \n",
    "print(password)"
   ]
  },
  {
   "cell_type": "code",
   "execution_count": 14,
   "id": "c4f66d7a-0ed2-4d87-b62f-5b09057ee5d7",
   "metadata": {},
   "outputs": [
    {
     "name": "stdin",
     "output_type": "stream",
     "text": [
      "Add your Password vikas@sharma\n"
     ]
    },
    {
     "name": "stdout",
     "output_type": "stream",
     "text": [
      "Password is correct\n"
     ]
    }
   ],
   "source": [
    "#Q33 Create a program that validates a password based on complexity rules (length, characters, etc.).\n",
    "\n",
    "def pass_check():\n",
    "    a = input(\"Add your Password\" )\n",
    "    spl= \" /\\'  \"\n",
    "    if len(a) >= 8 and len(a) <= 32 :\n",
    "        if  (a[0].isalpha() == True) and (a[0].isupper() == True or a[0].islower() == True ):  \n",
    "            for i in spl:\n",
    "                if a.find(i) != -1:\n",
    "                    print('Invalid Password due to password contains specail characters \"/\\'\" and space. ')\n",
    "                    break\n",
    "            else :\n",
    "                print(\"Password is correct\")\n",
    "                    \n",
    "        else:\n",
    "            print(\"Invalid Password - First letter should be start with lower or upper case letter \")\n",
    "    else: \n",
    "         print(\"Invalid Pasword- It should be more than 8 and less than 32 characters long\")\n",
    "        \n",
    "pass_check()        \n",
    "#Add your Password vikas@sharma\n",
    "#Password is correct    \n",
    "    "
   ]
  },
  {
   "cell_type": "code",
   "execution_count": 1,
   "id": "589acdb5-4b87-4aa7-b47a-b72fd7cf9ad1",
   "metadata": {},
   "outputs": [
    {
     "name": "stdout",
     "output_type": "stream",
     "text": [
      "\n",
      "\n",
      "\n",
      " Welcome to the Quiz Show \n",
      " Rules of the Quiz.\n",
      " You will see multiple-Choice question on the screen\n",
      " Every Correct answer scoring 5 points. \n",
      " Total 10 questions will be ask , cut off/pass percentage is 80%\n",
      "\n",
      "\n",
      "\n",
      "\n",
      "\n",
      "Q.1 Who is the Prime minister of India\n",
      "\n",
      "\n",
      "a. Rahul  b. Modi c. ABC d. kejriwal\n",
      "\n",
      "\n",
      "\n"
     ]
    },
    {
     "name": "stdin",
     "output_type": "stream",
     "text": [
      "Please enter your answer in (a,b,c or d)  >  b\n"
     ]
    },
    {
     "name": "stdout",
     "output_type": "stream",
     "text": [
      "\n",
      "\n",
      "Q.2 What is the capital of India.\n",
      "\n",
      "\n",
      "a. delhi  b. mumbai c. channai d. kolkata\n",
      "\n",
      "\n",
      "\n"
     ]
    },
    {
     "name": "stdin",
     "output_type": "stream",
     "text": [
      "Please enter your answer in (a,b,c or d)  >  a\n"
     ]
    },
    {
     "name": "stdout",
     "output_type": "stream",
     "text": [
      "\n",
      "\n",
      "Q.3 Where is ICC World Cup 2023 held on?\n",
      "\n",
      "\n",
      "a. Srilanka  b. Australia c. India d. Nepal\n",
      "\n",
      "\n",
      "\n"
     ]
    },
    {
     "name": "stdin",
     "output_type": "stream",
     "text": [
      "Please enter your answer in (a,b,c or d)  >  a\n"
     ]
    },
    {
     "name": "stdout",
     "output_type": "stream",
     "text": [
      "\n",
      "\n",
      "Q.4 Who is first prime minister of India\n",
      "\n",
      "\n",
      "a. Nehru  b. Indra c. Modi d. Rahul\n",
      "\n",
      "\n",
      "\n"
     ]
    },
    {
     "name": "stdin",
     "output_type": "stream",
     "text": [
      "Please enter your answer in (a,b,c or d)  >  a\n"
     ]
    },
    {
     "name": "stdout",
     "output_type": "stream",
     "text": [
      "\n",
      "\n",
      "Q.5 What is (2 + 4 ) is -\n",
      "\n",
      "\n",
      "a. 5  b. 2 c. 6 d. 4\n",
      "\n",
      "\n",
      "\n"
     ]
    },
    {
     "name": "stdin",
     "output_type": "stream",
     "text": [
      "Please enter your answer in (a,b,c or d)  >  c\n"
     ]
    },
    {
     "name": "stdout",
     "output_type": "stream",
     "text": [
      "\n",
      "\n",
      "Q.6 How many colors in rainbow?\n",
      "\n",
      "\n",
      "a. 3  b. 6 c. 8  d. 7\n",
      "\n",
      "\n",
      "\n"
     ]
    },
    {
     "name": "stdin",
     "output_type": "stream",
     "text": [
      "Please enter your answer in (a,b,c or d)  >  a\n"
     ]
    },
    {
     "name": "stdout",
     "output_type": "stream",
     "text": [
      "\n",
      "\n",
      "Q.7 What is the biggest animal on the earth?\n",
      "\n",
      "\n",
      "a. Elephant  b. Cow c. Loin d. Horse\n",
      "\n",
      "\n",
      "\n"
     ]
    },
    {
     "name": "stdin",
     "output_type": "stream",
     "text": [
      "Please enter your answer in (a,b,c or d)  >  d\n"
     ]
    },
    {
     "name": "stdout",
     "output_type": "stream",
     "text": [
      "\n",
      "\n",
      "Q.8 Whar is the name of Arjun's Son?\n",
      "\n",
      "\n",
      "a. gathotcach  b. abhimanu c. ram d. sham\n",
      "\n",
      "\n",
      "\n"
     ]
    },
    {
     "name": "stdin",
     "output_type": "stream",
     "text": [
      "Please enter your answer in (a,b,c or d)  >  b\n"
     ]
    },
    {
     "name": "stdout",
     "output_type": "stream",
     "text": [
      "\n",
      "\n",
      "Q.9. Chandrayaan 3 is on which sub-plannet?\n",
      "\n",
      "\n",
      "a. china  b. Earth c. Moon d. mars\n",
      "\n",
      "\n",
      "\n"
     ]
    },
    {
     "name": "stdin",
     "output_type": "stream",
     "text": [
      "Please enter your answer in (a,b,c or d)  >  a\n"
     ]
    },
    {
     "name": "stdout",
     "output_type": "stream",
     "text": [
      "\n",
      "\n",
      "Q.10 what is (5 + 6 )= \n",
      "\n",
      "\n",
      "a. 10  b. 9 c. 11 d. 12\n",
      "\n",
      "\n",
      "\n"
     ]
    },
    {
     "name": "stdin",
     "output_type": "stream",
     "text": [
      "Please enter your answer in (a,b,c or d)  >  c\n"
     ]
    },
    {
     "name": "stdout",
     "output_type": "stream",
     "text": [
      "\n",
      "\n",
      "final Scores is :-  30\n",
      "Answers given by the participant :  ['b', 'a', 'a', 'a', 'c', 'a', 'd', 'b', 'a', 'c']\n",
      "You lost the contest. your percentage is >>>  60.0\n",
      "\n",
      "\n",
      "Quiz is over\n",
      "Thank You.\n"
     ]
    }
   ],
   "source": [
    "#Q34. Write a program that simulates a basic quiz game with multiple-choice questions and scoring.\n",
    "\n",
    "answer_ppt = []\n",
    "counter= 1\n",
    "point_table = 0\n",
    "while(True):\n",
    "    print(\"\\n\\n\")\n",
    "    print(\" Welcome to the Quiz Show \")\n",
    "    print(\" Rules of the Quiz.\")\n",
    "    print(\" You will see multiple-Choice question on the screen\")\n",
    "    print(\" Every Correct answer scoring 5 points. \")\n",
    "    print(\" Total 10 questions will be ask , cut off/pass percentage is 80%\")\n",
    "    print(\"\\n\\n\")\n",
    "    \n",
    "    while (counter <=10):\n",
    "        \n",
    "        if counter == 1:    \n",
    "            print(\"\\n\")\n",
    "            print(\"Q.1 Who is the Prime minister of India\")\n",
    "            print(\"\\n\")\n",
    "            print(\"a. Rahul  b. Modi c. ABC d. kejriwal\")\n",
    "            print(\"\\n\\n\")\n",
    "            ans_ppt = input(\"Please enter your answer in (a,b,c or d)  > \")\n",
    "            counter = counter + 1\n",
    "            answer_ppt.append(ans_ppt)\n",
    "            if ans_ppt == 'b':\n",
    "                point_table = 5\n",
    "            else :\n",
    "                point_table = 0\n",
    "                            \n",
    "        elif counter == 2:   \n",
    "            print(\"\\n\")\n",
    "            print(\"Q.2 What is the capital of India.\")\n",
    "            print(\"\\n\")\n",
    "            print(\"a. delhi  b. mumbai c. channai d. kolkata\")\n",
    "            print(\"\\n\\n\")\n",
    "            ans_ppt = input(\"Please enter your answer in (a,b,c or d)  > \")\n",
    "            counter = counter + 1\n",
    "            answer_ppt.append(ans_ppt)\n",
    "            if ans_ppt == 'a':\n",
    "                point_table = point_table + 5 \n",
    "            else :\n",
    "                point_table = point_table\n",
    "\n",
    "        elif counter == 3:    \n",
    "            print(\"\\n\")\n",
    "            print(\"Q.3 Where is ICC World Cup 2023 held on?\")\n",
    "            print(\"\\n\")\n",
    "            print(\"a. Srilanka  b. Australia c. India d. Nepal\")\n",
    "            print(\"\\n\\n\")\n",
    "            ans_ppt = input(\"Please enter your answer in (a,b,c or d)  > \")\n",
    "            counter = counter + 1\n",
    "            answer_ppt.append(ans_ppt)\n",
    "            if ans_ppt == 'c':\n",
    "                point_table = point_table + 5 \n",
    "            else :\n",
    "                point_table = point_table\n",
    "            \n",
    "        elif counter == 4:    \n",
    "            print(\"\\n\")\n",
    "            print(\"Q.4 Who is first prime minister of India\")\n",
    "            print(\"\\n\")\n",
    "            print(\"a. Nehru  b. Indra c. Modi d. Rahul\")\n",
    "            print(\"\\n\\n\")\n",
    "            ans_ppt = input(\"Please enter your answer in (a,b,c or d)  > \")\n",
    "            counter = counter + 1\n",
    "            answer_ppt.append(ans_ppt)\n",
    "            if ans_ppt == 'a':\n",
    "                point_table = point_table + 5 \n",
    "            else :\n",
    "                point_table = point_table            \n",
    "            \n",
    "            \n",
    "        elif counter == 5:    \n",
    "            print(\"\\n\")\n",
    "            print(\"Q.5 What is (2 + 4 ) is -\")\n",
    "            print(\"\\n\")\n",
    "            print(\"a. 5  b. 2 c. 6 d. 4\")\n",
    "            print(\"\\n\\n\")\n",
    "            ans_ppt = input(\"Please enter your answer in (a,b,c or d)  > \")\n",
    "            counter = counter + 1\n",
    "            answer_ppt.append(ans_ppt)\n",
    "            if ans_ppt == 'c':\n",
    "                point_table = point_table + 5 \n",
    "            else :\n",
    "                point_table = point_table            \n",
    "                        \n",
    "        elif counter == 6:    \n",
    "            print(\"\\n\")\n",
    "            print(\"Q.6 How many colors in rainbow?\")\n",
    "            print(\"\\n\")\n",
    "            print(\"a. 3  b. 6 c. 8  d. 7\")\n",
    "            print(\"\\n\\n\")\n",
    "            ans_ppt = input(\"Please enter your answer in (a,b,c or d)  > \")\n",
    "            counter = counter + 1\n",
    "            answer_ppt.append(ans_ppt)\n",
    "            if ans_ppt == 'd':\n",
    "                point_table = point_table + 5 \n",
    "            else :\n",
    "                point_table = point_table            \n",
    "                        \n",
    "        elif counter == 7:    \n",
    "            print(\"\\n\")\n",
    "            print(\"Q.7 What is the biggest animal on the earth?\")\n",
    "            print(\"\\n\")\n",
    "            print(\"a. Elephant  b. Cow c. Loin d. Horse\")\n",
    "            print(\"\\n\\n\")\n",
    "            ans_ppt = input(\"Please enter your answer in (a,b,c or d)  > \")\n",
    "            counter = counter + 1\n",
    "            answer_ppt.append(ans_ppt)\n",
    "            if ans_ppt == 'a':\n",
    "                point_table = point_table + 5 \n",
    "            else :\n",
    "                point_table = point_table            \n",
    "                        \n",
    "        elif counter == 8:    \n",
    "            print(\"\\n\")\n",
    "            print(\"Q.8 Whar is the name of Arjun's Son?\")\n",
    "            print(\"\\n\")\n",
    "            print(\"a. gathotcach  b. abhimanu c. ram d. sham\")\n",
    "            print(\"\\n\\n\")\n",
    "            ans_ppt = input(\"Please enter your answer in (a,b,c or d)  > \")\n",
    "            counter = counter + 1\n",
    "            answer_ppt.append(ans_ppt)\n",
    "            if ans_ppt == 'b':\n",
    "                point_table = point_table + 5 \n",
    "            else :\n",
    "                point_table = point_table            \n",
    "                        \n",
    "        elif counter == 9:    \n",
    "            print(\"\\n\")\n",
    "            print(\"Q.9. Chandrayaan 3 is on which sub-plannet?\")\n",
    "            print(\"\\n\")\n",
    "            print(\"a. china  b. Earth c. Moon d. mars\")\n",
    "            print(\"\\n\\n\")\n",
    "            ans_ppt = input(\"Please enter your answer in (a,b,c or d)  > \")\n",
    "            counter = counter + 1\n",
    "            answer_ppt.append(ans_ppt)\n",
    "            if ans_ppt == 'c':\n",
    "                point_table = point_table + 5 \n",
    "            else :\n",
    "                point_table = point_table            \n",
    "                        \n",
    "        elif counter == 10:    \n",
    "            print(\"\\n\")\n",
    "            print(\"Q.10 what is (5 + 6 )= \")\n",
    "            print(\"\\n\")\n",
    "            print(\"a. 10  b. 9 c. 11 d. 12\")\n",
    "            print(\"\\n\\n\")\n",
    "            ans_ppt = input(\"Please enter your answer in (a,b,c or d)  > \")\n",
    "            counter = counter + 1\n",
    "            answer_ppt.append(ans_ppt)\n",
    "            if ans_ppt == 'c':\n",
    "                point_table = point_table + 5 \n",
    "            else :\n",
    "                point_table = point_table             \n",
    "            \n",
    "             \n",
    "            win = (point_table /50)*100        \n",
    "            print(\"\\n\")\n",
    "            print(\"final Scores is :- \", point_table )\n",
    "            print(\"Answers given by the participant : \" , answer_ppt)\n",
    "            if win >= 80:\n",
    "                print(\"Congratulations. You won the contest with percent >>> \" , win)\n",
    "            else :\n",
    "                print(\"You lost the contest. your percentage is >>> \" , win)\n",
    "                \n",
    "            \n",
    "            \n",
    "    else : \n",
    "        print(\"\\n\")\n",
    "        print(\"Quiz is over\")\n",
    "        print(\"Thank You.\")\n",
    "        break\n",
    "        "
   ]
  },
  {
   "cell_type": "code",
   "execution_count": 15,
   "id": "433c4c90-1ebb-4db1-9ee0-a7f3d548c974",
   "metadata": {},
   "outputs": [
    {
     "name": "stdin",
     "output_type": "stream",
     "text": [
      "Please enter the three numbers  3 2 1\n"
     ]
    },
    {
     "name": "stdout",
     "output_type": "stream",
     "text": [
      "1 2 3\n"
     ]
    }
   ],
   "source": [
    "#Q35 Create a program that sorts three numbers in ascending order using conditional statements.\n",
    "\n",
    "a,b,c = map(int,(input(\"Please enter the three numbers \").split()))\n",
    "\n",
    "list1 = []\n",
    "if a < b and a < c:\n",
    "    if b < c:\n",
    "        x, y,z = a,b,c\n",
    "    else:\n",
    "        x, y,z = a ,c, b\n",
    "if  b < a and b < c:\n",
    "    if a < c:   \n",
    "        x,y,z=b,a,c\n",
    "    else:\n",
    "        x,y,z=b,c,a\n",
    "\n",
    "if  c < a and c < b:\n",
    "    if a < b:   \n",
    "        x,y,z=c,a,b\n",
    "    else:\n",
    "        x,y,z=c,b,a\n",
    " \n",
    "        \n",
    "print(x,y,z)        \n",
    "             \n",
    "            "
   ]
  },
  {
   "cell_type": "code",
   "execution_count": 1,
   "id": "101f8182-f27d-4438-b443-7cf5e69f0713",
   "metadata": {},
   "outputs": [
    {
     "name": "stdout",
     "output_type": "stream",
     "text": [
      "Add Matrix:\n",
      "[[ 9  9 13]\n",
      " [17  5 12]]\n",
      "Subtract Matrix:\n",
      "[[ 7  3  5]\n",
      " [ 1 -5  0]]\n"
     ]
    }
   ],
   "source": [
    "#Q40 Develop a program that performs matrix addition and subtraction based on user input.\n",
    "import numpy as np\n",
    "m1 = np.array([[1, 3, 4], [8, 5, 6]])\n",
    "m2 = np.array([[8, 6, 9], [9, 0, 6]])\n",
    "\n",
    "print(\"Add Matrix:\")\n",
    "a = np.add(m1, m2)\n",
    "print(a)\n",
    "\n",
    "print(\"Subtract Matrix:\")\n",
    "b = np.subtract(m2, m1)\n",
    "print(b)\n",
    "\n",
    "'''\n",
    "Add Matrix:\n",
    "[[ 9  9 13]\n",
    " [17  5 12]]\n",
    "Subtract Matrix:\n",
    "[[ 7  3  5]\n",
    " [ 1 -5  0]]\n",
    " \n",
    " '''"
   ]
  },
  {
   "cell_type": "code",
   "execution_count": null,
   "id": "c886dc58-dfde-45a2-9917-945b49aacb39",
   "metadata": {},
   "outputs": [],
   "source": [
    "# Program to add two matrices using nested loop\n"
   ]
  }
 ],
 "metadata": {
  "kernelspec": {
   "display_name": "Python 3 (ipykernel)",
   "language": "python",
   "name": "python3"
  },
  "language_info": {
   "codemirror_mode": {
    "name": "ipython",
    "version": 3
   },
   "file_extension": ".py",
   "mimetype": "text/x-python",
   "name": "python",
   "nbconvert_exporter": "python",
   "pygments_lexer": "ipython3",
   "version": "3.10.8"
  }
 },
 "nbformat": 4,
 "nbformat_minor": 5
}
