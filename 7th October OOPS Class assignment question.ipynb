{
 "cells": [
  {
   "cell_type": "code",
   "execution_count": 2,
   "id": "ddf587e2-d996-46ad-aedc-253a06e925c4",
   "metadata": {},
   "outputs": [],
   "source": [
    "# Problem 1: Bank Account Create a class representing a bank account with attributes like account number, \n",
    "#            account holder name, and balance. Implement methods to deposit and withdraw money from the account.\n",
    "\n",
    "\n",
    "class bank_Account :\n",
    "    \n",
    "    # function to store initial attribute values. \n",
    "    \n",
    "    def __init__(self):\n",
    "        self.account_number       = 1234\n",
    "        self.account_holder_name  = \"Vikas\"\n",
    "        self.balance              = 50000\n",
    "    \n",
    "    # Deposite Amount function.\n",
    "    \n",
    "    def deposite(self):\n",
    "        print(\"Your Current Balance is :  \", self.balance)\n",
    "        deposite_Amount = int(input(\" please enter amount to deposite\"))\n",
    "        new_balance = self.balance + deposite_Amount\n",
    "        print(\"Your new Balance is :\")\n",
    "    # Updating new balance.     \n",
    "        self.balance = new_balance \n",
    "        return (new_balance)\n",
    "    \n",
    "    # Withdraw amount function.\n",
    "    \n",
    "    def withdraw(self):\n",
    "        print(\"Your Current Balance is :  \", self.balance )\n",
    "        withdraw_amount = int(input(\"Please enter the amount to withdrawal\"))\n",
    "        new_balance1 = self.balance - withdraw_amount \n",
    "        print(\"Your new balance is\")\n",
    "   # Updating new balance.      \n",
    "        self.balance = new_balance1\n",
    "        return(new_balance1)\n",
    "    \n",
    "\n",
    "        \n",
    "    \n",
    "        "
   ]
  },
  {
   "cell_type": "code",
   "execution_count": 3,
   "id": "04af55d0-e3dc-4350-b142-7b347902dda6",
   "metadata": {},
   "outputs": [],
   "source": [
    "account = bank_Account()"
   ]
  },
  {
   "cell_type": "code",
   "execution_count": 6,
   "id": "0cb06183-e6a8-4538-b6a1-0223024ce5e3",
   "metadata": {},
   "outputs": [
    {
     "name": "stdout",
     "output_type": "stream",
     "text": [
      "Your Current Balance is :   50000\n"
     ]
    },
    {
     "name": "stdin",
     "output_type": "stream",
     "text": [
      " please enter amount to deposite 2000\n"
     ]
    },
    {
     "name": "stdout",
     "output_type": "stream",
     "text": [
      "Your new Balance is :\n"
     ]
    },
    {
     "data": {
      "text/plain": [
       "52000"
      ]
     },
     "execution_count": 6,
     "metadata": {},
     "output_type": "execute_result"
    }
   ],
   "source": [
    "account.deposite()\n"
   ]
  },
  {
   "cell_type": "code",
   "execution_count": 7,
   "id": "b1371379-161c-495a-9ddf-d88686a747f1",
   "metadata": {},
   "outputs": [
    {
     "name": "stdout",
     "output_type": "stream",
     "text": [
      "Your Current Balance is :   52000\n"
     ]
    },
    {
     "name": "stdin",
     "output_type": "stream",
     "text": [
      "Please enter the amount to withdrawal 1000\n"
     ]
    },
    {
     "name": "stdout",
     "output_type": "stream",
     "text": [
      "Your new balance is\n"
     ]
    },
    {
     "data": {
      "text/plain": [
       "51000"
      ]
     },
     "execution_count": 7,
     "metadata": {},
     "output_type": "execute_result"
    }
   ],
   "source": [
    "account.withdraw()\n"
   ]
  },
  {
   "cell_type": "code",
   "execution_count": 8,
   "id": "5864e49e-bcbc-4b6c-a657-fe5d63f5f6fd",
   "metadata": {},
   "outputs": [
    {
     "name": "stdout",
     "output_type": "stream",
     "text": [
      "Your Current Balance is :   51000\n"
     ]
    },
    {
     "name": "stdin",
     "output_type": "stream",
     "text": [
      " please enter amount to deposite 5000\n"
     ]
    },
    {
     "name": "stdout",
     "output_type": "stream",
     "text": [
      "Your new Balance is :\n"
     ]
    },
    {
     "data": {
      "text/plain": [
       "56000"
      ]
     },
     "execution_count": 8,
     "metadata": {},
     "output_type": "execute_result"
    }
   ],
   "source": [
    "account.deposite()"
   ]
  },
  {
   "cell_type": "code",
   "execution_count": 9,
   "id": "9062b743-0aac-4c96-97c4-e864c96ae8c9",
   "metadata": {},
   "outputs": [
    {
     "data": {
      "text/plain": [
       "1234"
      ]
     },
     "execution_count": 9,
     "metadata": {},
     "output_type": "execute_result"
    }
   ],
   "source": [
    "account.account_number\n"
   ]
  },
  {
   "cell_type": "code",
   "execution_count": 10,
   "id": "8948f9a0-1f0a-4a23-8e12-ca40ae8a5bb7",
   "metadata": {},
   "outputs": [
    {
     "data": {
      "text/plain": [
       "56000"
      ]
     },
     "execution_count": 10,
     "metadata": {},
     "output_type": "execute_result"
    }
   ],
   "source": [
    "account.balance\n"
   ]
  },
  {
   "cell_type": "code",
   "execution_count": 28,
   "id": "6c031707-f528-4c12-95aa-8fa71abdbc9d",
   "metadata": {},
   "outputs": [],
   "source": [
    "# Problem 2: Employee Management Create a class representing an employee with attributes like employee ID, \n",
    "#            name, and salary. Implement methods to calculate the yearly bonus and display employee details.\n",
    "\n",
    "class employee:\n",
    "    \n",
    " # function to store initial attribute values. \n",
    "\n",
    "    def __init__(self):\n",
    "        self.employee_id   = 101\n",
    "        self.employee_name = \"Vikas\"\n",
    "        self.salary        = 50000\n",
    "     \n",
    " # function for Yearly Bonous.\n",
    "     \n",
    "    def yearly_bonus(self):   \n",
    "        year_bonus = self.salary * .01\n",
    "        print(\"employee salary is \" , self.salary)\n",
    "        print(\"10% bonus is given on the employee salary\")\n",
    "        print(\"Yearly bonus is :  \" ) \n",
    "        return(year_bonus)\n",
    "    \n",
    "  # function for Employee Details.\n",
    "\n",
    "    def employee_details(self):\n",
    "        print(\"Employee details\")\n",
    "        print(f' Employee id is : {self.employee_id}  Employee Name is : {self.employee_name}  Employee salary is : {self.salary}') "
   ]
  },
  {
   "cell_type": "code",
   "execution_count": 29,
   "id": "0fcefb25-95aa-4ae2-a911-fafb9ff01838",
   "metadata": {},
   "outputs": [],
   "source": [
    "emp1 = employee()"
   ]
  },
  {
   "cell_type": "code",
   "execution_count": 30,
   "id": "ac050a5e-78ee-4970-aa3a-d5d40fb7c611",
   "metadata": {},
   "outputs": [
    {
     "name": "stdout",
     "output_type": "stream",
     "text": [
      "Employee details\n",
      " Employee id is : 101  Employee Name is : Vikas  Employee salary is : 50000\n"
     ]
    }
   ],
   "source": [
    "emp1.employee_details()\n"
   ]
  },
  {
   "cell_type": "code",
   "execution_count": 31,
   "id": "f8c24bed-3bb8-4ac4-ad76-44ca4a0ea8ef",
   "metadata": {},
   "outputs": [
    {
     "name": "stdout",
     "output_type": "stream",
     "text": [
      "employee salary is  50000\n",
      "10% bonus is given on the employee salary\n",
      "Yearly bonus is :  \n"
     ]
    },
    {
     "data": {
      "text/plain": [
       "500.0"
      ]
     },
     "execution_count": 31,
     "metadata": {},
     "output_type": "execute_result"
    }
   ],
   "source": [
    "emp1.yearly_bonus()"
   ]
  },
  {
   "cell_type": "code",
   "execution_count": 48,
   "id": "44b41676-223b-426d-80a6-e739d76935af",
   "metadata": {},
   "outputs": [],
   "source": [
    "# Problem 3: Vehicle Rental Create a class representing a vehicle rental system. Implement methods to rent a \n",
    "#            vehicle, return a vehicle, and display available vehicles.\n",
    "\n",
    "class vehicle_rent_sys:\n",
    "    \n",
    "    \n",
    " # Create the init function to store temp values.\n",
    "\n",
    "    def __init__(self):\n",
    "        self.visitor_id = ''\n",
    "        self.visitor_amount = 0\n",
    "        \n",
    " # create function for rent a vehicle.\n",
    "\n",
    "    def rent_vehicle(self):\n",
    "        print(\"Enter option to take a vehicle on rent : 1. Bike, 2.Mini_Car , 3. Big_car\")\n",
    "        option = int(input(\"Please enter the choice (1,2,3)\" ))\n",
    "        if option == 1 :\n",
    "            print(\"Security Deposite is :  500 \")\n",
    "            print(\"Bike Rent per day is :  100 \")\n",
    "            days = int(input(\"please enter the days for rental\"))\n",
    "            total_amount = 100 * days + 500\n",
    "            self.visitor_id= 101\n",
    "            self.visitor_amount = total_amount\n",
    "            print(\"Your Vehicle ID is:  101  \")\n",
    "            print(\"Total deposite the amount is :  \")\n",
    "            return(total_amount)\n",
    "            \n",
    "            \n",
    "         \n",
    "        elif option == 2 :\n",
    "            print(\"Security Deposite is :  1000 \")\n",
    "            print(\"Bike Rent per day is :  500 \")\n",
    "            days = int(input(\"please enter the days for rental\"))\n",
    "            total_amount = 500 * days + 1000\n",
    "            self.visitor_id= 101\n",
    "            self.visitor_amount = total_amount\n",
    "            print(\"Your Vehicle ID is:  101  \")\n",
    "            print(\"Total deposite the amount is :  \")\n",
    "            return(total_amount)\n",
    "            \n",
    "         \n",
    "        elif option == 3 :\n",
    "            print(\"Security Deposite is :  2000 \")\n",
    "            print(\"Bike Rent per day is :  1500 \")\n",
    "            days = int(input(\"please enter the days for rental\"))\n",
    "            total_amount = 1500 * days + 2000\n",
    "            self.visitor_id= 101\n",
    "            self.visitor_amount = total_amount\n",
    "            print(\"Your Vehicle ID is:  101  \")\n",
    "            print(\"Total deposite the amount is :  \")\n",
    "            return(total_amount)         \n",
    "        \n",
    " # create function for return a vehicle.\n",
    "\n",
    "    def return_vehicle(self):   \n",
    "        print(\"For returning the vehicle\")\n",
    "        new_id = int(input(\"Please Enter Your Vehicle ID \"))\n",
    "        if self.visitor_id == new_id:\n",
    "            self.visitor_id= ''\n",
    "            self.visitor_amount = 0\n",
    "            print(\"Vehicle return successfully\")\n",
    "            print(\"Security Money has returned successfully.\" )\n",
    "        \n",
    "# create function for display availabel vehicle.\n",
    "    \n",
    "    def disp_avail_vehicle(self):    \n",
    "        print(\"Available Vehicle List\")\n",
    "        print(\"1. Bike \" )\n",
    "        print(\"2. Mini_Car \")\n",
    "        print(\"3. Big_car \" )\n",
    "        print(\"For rental , Please go to Rental Vechile section. \")\n",
    "        "
   ]
  },
  {
   "cell_type": "code",
   "execution_count": 49,
   "id": "14ae52ee-495d-4c64-915a-c9c0fee9f43f",
   "metadata": {},
   "outputs": [],
   "source": [
    "vechile_rent = vehicle_rent_sys()"
   ]
  },
  {
   "cell_type": "code",
   "execution_count": 50,
   "id": "b0813aa4-41ff-499c-8d66-a50521d420df",
   "metadata": {},
   "outputs": [
    {
     "name": "stdout",
     "output_type": "stream",
     "text": [
      "Available Vehicle List\n",
      "1. Bike \n",
      "2. Mini_Car \n",
      "3. Big_car \n",
      "For rental , Please go to Rental Vechile section. \n"
     ]
    }
   ],
   "source": [
    "vechile_rent.disp_avail_vehicle()\n"
   ]
  },
  {
   "cell_type": "code",
   "execution_count": 51,
   "id": "809142f2-06dc-4318-9b93-bc41be404651",
   "metadata": {},
   "outputs": [
    {
     "name": "stdout",
     "output_type": "stream",
     "text": [
      "Enter option to take a vehicle on rent : 1. Bike, 2.Mini_Car , 3. Big_car\n"
     ]
    },
    {
     "name": "stdin",
     "output_type": "stream",
     "text": [
      "Please enter the choice (1,2,3) 2\n"
     ]
    },
    {
     "name": "stdout",
     "output_type": "stream",
     "text": [
      "Security Deposite is :  1000 \n",
      "Bike Rent per day is :  500 \n"
     ]
    },
    {
     "name": "stdin",
     "output_type": "stream",
     "text": [
      "please enter the days for rental 5\n"
     ]
    },
    {
     "name": "stdout",
     "output_type": "stream",
     "text": [
      "Your Vehicle ID is:  101  \n",
      "Total deposite the amount is :  \n"
     ]
    },
    {
     "data": {
      "text/plain": [
       "3500"
      ]
     },
     "execution_count": 51,
     "metadata": {},
     "output_type": "execute_result"
    }
   ],
   "source": [
    "vechile_rent.rent_vehicle()"
   ]
  },
  {
   "cell_type": "code",
   "execution_count": 52,
   "id": "7ffa5a4a-2b46-41b2-95e4-52a12cd42afd",
   "metadata": {},
   "outputs": [
    {
     "data": {
      "text/plain": [
       "3500"
      ]
     },
     "execution_count": 52,
     "metadata": {},
     "output_type": "execute_result"
    }
   ],
   "source": [
    "vechile_rent.visitor_amount\n"
   ]
  },
  {
   "cell_type": "code",
   "execution_count": 53,
   "id": "0ad9e8e6-d381-4d2d-881b-adb10d9854f9",
   "metadata": {},
   "outputs": [
    {
     "name": "stdout",
     "output_type": "stream",
     "text": [
      "For returning the vehicle\n"
     ]
    },
    {
     "name": "stdin",
     "output_type": "stream",
     "text": [
      "Please Enter Your Vehicle ID  101\n"
     ]
    },
    {
     "name": "stdout",
     "output_type": "stream",
     "text": [
      "Vehicle return successfully\n",
      "Security Money has returned successfully.\n"
     ]
    }
   ],
   "source": [
    "vechile_rent.return_vehicle()"
   ]
  },
  {
   "cell_type": "code",
   "execution_count": 54,
   "id": "582ff2e3-2832-4b51-93bf-e920a081364d",
   "metadata": {},
   "outputs": [
    {
     "data": {
      "text/plain": [
       "0"
      ]
     },
     "execution_count": 54,
     "metadata": {},
     "output_type": "execute_result"
    }
   ],
   "source": [
    "vechile_rent.visitor_amount"
   ]
  },
  {
   "cell_type": "code",
   "execution_count": 55,
   "id": "267d1679-6b9f-49f5-a7b5-70721b52d494",
   "metadata": {},
   "outputs": [
    {
     "data": {
      "text/plain": [
       "''"
      ]
     },
     "execution_count": 55,
     "metadata": {},
     "output_type": "execute_result"
    }
   ],
   "source": [
    "vechile_rent.visitor_id"
   ]
  },
  {
   "cell_type": "code",
   "execution_count": 58,
   "id": "a1c562c6-4359-4a75-a6fc-d5f7c4a8ee34",
   "metadata": {},
   "outputs": [],
   "source": [
    "# Problem 4: Library Catalog Create classes representing a library and a book. Implement methods to add books \n",
    "#            to the library, borrow books, and display available books.\n",
    "\n",
    "class library:\n",
    "  \n",
    "  # Display available books function. \n",
    "\n",
    "    def display_avail_books(self):\n",
    "        print(\"Books are in the Library\\n\")\n",
    "        dict1 = {1 : \"Story Books\" , 2: \"IT Books\" , 3 : \"Technology Books\" , 4 : \"Finance Books\" , 5 : \"Sci-Fi Books\" ,6 : \"Geographical and hitorical Books\"}\n",
    "        dict1.update(self.dict2)\n",
    "        if self.number != 0:\n",
    "            dict1.pop(self.number)\n",
    "        \n",
    "        print(dict1.items())\n",
    "       \n",
    "    \n",
    "#Use Class Inheritance Concept.\n",
    "class books(library):\n",
    "  \n",
    "  # Creating temp varaible list. \n",
    "    \n",
    "    def __init__(self):\n",
    "        self.new_book ='' \n",
    "        self.no = 0\n",
    "        self.dict2 = {}\n",
    "        self.number = 0\n",
    "        \n",
    "  # Display add books function. \n",
    "\n",
    "    def add_books(self):\n",
    "        self.display_avail_books()\n",
    "        print(\"\\nCheck, if book belongs to above list -  Enter Yes. if not , Please enter the new title of the book\\n\")\n",
    "        self.new_book = input(\"add the Book\")\n",
    "        if self.new_book == \"Yes\" :\n",
    "            self.new_book =  ' '\n",
    "            print(\"Book is entered succeffully in the library.\")\n",
    "        else: \n",
    "            self.no = input(\"add the Book Number\")\n",
    "            print(\"Book is entered succeffully in the library.\")\n",
    "            self.dict2.update([(self.no, self.new_book)])\n",
    "            \n",
    "        \n",
    " # Display borrow books function.         \n",
    "    def  borrow_book(self):\n",
    "        self.display_avail_books()\n",
    "        print(\"\\nAdd book needs to borrow\")\n",
    "        borrow_book = int(input(\"\\nenter the book Number : \"))\n",
    "        print(\"Book is issued\")\n",
    "        self.number= borrow_book                          \n",
    "        \n"
   ]
  },
  {
   "cell_type": "code",
   "execution_count": 59,
   "id": "0aae3409-8786-4431-9cb3-731d5864658a",
   "metadata": {},
   "outputs": [],
   "source": [
    "book_issue = books()"
   ]
  },
  {
   "cell_type": "code",
   "execution_count": 60,
   "id": "cbe9ddb4-7e30-4f34-9b75-45dcf8e2ce43",
   "metadata": {},
   "outputs": [
    {
     "name": "stdout",
     "output_type": "stream",
     "text": [
      "Books are in the Library\n",
      "\n",
      "dict_items([(1, 'Story Books'), (2, 'IT Books'), (3, 'Technology Books'), (4, 'Finance Books'), (5, 'Sci-Fi Books'), (6, 'Geographical and hitorical Books')])\n"
     ]
    }
   ],
   "source": [
    "book_issue.display_avail_books()"
   ]
  },
  {
   "cell_type": "code",
   "execution_count": 63,
   "id": "3d4a38e0-796c-488c-bc59-cd4309396ceb",
   "metadata": {},
   "outputs": [
    {
     "name": "stdout",
     "output_type": "stream",
     "text": [
      "Books are in the Library\n",
      "\n",
      "dict_items([(1, 'Story Books'), (2, 'IT Books'), (3, 'Technology Books'), (4, 'Finance Books'), (5, 'Sci-Fi Books'), (6, 'Geographical and hitorical Books')])\n",
      "\n",
      "Check, if book belongs to above list -  Enter Yes. if not , Please enter the new title of the book\n",
      "\n"
     ]
    },
    {
     "name": "stdin",
     "output_type": "stream",
     "text": [
      "add the Book Criminal Books\n",
      "add the Book Number 7\n"
     ]
    },
    {
     "name": "stdout",
     "output_type": "stream",
     "text": [
      "Book is entered succeffully in the library.\n"
     ]
    }
   ],
   "source": [
    "book_issue.add_books()"
   ]
  },
  {
   "cell_type": "code",
   "execution_count": 64,
   "id": "e79b23f7-b400-434e-9431-c7177e74bd8e",
   "metadata": {},
   "outputs": [
    {
     "name": "stdout",
     "output_type": "stream",
     "text": [
      "Books are in the Library\n",
      "\n",
      "dict_items([(1, 'Story Books'), (2, 'IT Books'), (3, 'Technology Books'), (4, 'Finance Books'), (5, 'Sci-Fi Books'), (6, 'Geographical and hitorical Books'), ('7', 'Criminal Books')])\n"
     ]
    }
   ],
   "source": [
    "book_issue.display_avail_books()"
   ]
  },
  {
   "cell_type": "code",
   "execution_count": 65,
   "id": "6881958c-25cb-4d40-bc76-794fd5e898a2",
   "metadata": {},
   "outputs": [
    {
     "name": "stdout",
     "output_type": "stream",
     "text": [
      "Books are in the Library\n",
      "\n",
      "dict_items([(1, 'Story Books'), (2, 'IT Books'), (3, 'Technology Books'), (4, 'Finance Books'), (5, 'Sci-Fi Books'), (6, 'Geographical and hitorical Books'), ('7', 'Criminal Books')])\n",
      "\n",
      "Add book needs to borrow\n"
     ]
    },
    {
     "name": "stdin",
     "output_type": "stream",
     "text": [
      "\n",
      "enter the book Number :  2\n"
     ]
    },
    {
     "name": "stdout",
     "output_type": "stream",
     "text": [
      "Book is issued\n"
     ]
    }
   ],
   "source": [
    "book_issue.borrow_book()"
   ]
  },
  {
   "cell_type": "code",
   "execution_count": 66,
   "id": "5eb24099-6019-4ef8-888d-5f8dbcf5d36b",
   "metadata": {},
   "outputs": [
    {
     "name": "stdout",
     "output_type": "stream",
     "text": [
      "Books are in the Library\n",
      "\n",
      "dict_items([(1, 'Story Books'), (3, 'Technology Books'), (4, 'Finance Books'), (5, 'Sci-Fi Books'), (6, 'Geographical and hitorical Books'), ('7', 'Criminal Books')])\n"
     ]
    }
   ],
   "source": [
    "book_issue.display_avail_books()"
   ]
  },
  {
   "cell_type": "code",
   "execution_count": 80,
   "id": "ee40e132-675b-4fcd-9afc-cafa67329600",
   "metadata": {},
   "outputs": [],
   "source": [
    "#Problem 5: Product Inventory Create classes representing a product and an inventory system. Implement methods to add \n",
    "#           products to the inventory, update product quantity, and display available products.\n",
    "\n",
    "class inventory:\n",
    "    \n",
    " # Display Product function.\n",
    "\n",
    "    def display_Avail_prod(self):\n",
    "        print(\"Product in the Inventory. \" )\n",
    "        print(\"Products are in first row and quantity in second row.\\n\")\n",
    "        product = {1 : \"Milk\" , 2 : \"Egg\" , 3 : \"Coffee\" ,  4 : \"Water\" , 5 : \"Curd\"}\n",
    "        quantity = {\"Milk\" : 20 , \"Egg\" : 30 , \"Coffee\" : 23 , \"Water\" : 50 , \"Curd\" : 20}\n",
    "        \n",
    "        product.update(self.new_prod)\n",
    "        quantity.update(self.new_quantity)\n",
    "        print(product.items())\n",
    "        print(quantity.items())\n",
    "        \n",
    "class product(inventory):\n",
    "    \n",
    "# temp variable list.\n",
    "\n",
    "    def __init__(self):\n",
    "        self.new_prod_code= 0\n",
    "        self.new_product = ''\n",
    "        self.new_prod = {}\n",
    "        self.prod_name1 = ''\n",
    "        self.new_quant = 0\n",
    "        self.new_quantity= {}\n",
    "        \n",
    "# add product function. \n",
    "    def add_product(self):\n",
    "        self.display_Avail_prod()\n",
    "        print(\"Add New Product :\\n \")\n",
    "        self.new_prod_code = int(input(\"Please add the New Product Code\"))\n",
    "        self.new_product   = input(\"Enter the Product Name \" )\n",
    "        self.new_prod.update([(self.new_prod_code , self.new_product)])\n",
    "        print(\"\\nNew Product entered successfully\")\n",
    "        \n",
    "# Update product quantity function.\n",
    "\n",
    "    def update_prod_quantity(self):\n",
    "        self.display_Avail_prod()\n",
    "        print(\"Add New quantity :\\n \")\n",
    "        self.prod_name1 = input(\"\\n Enter the Product Name :\")\n",
    "        self.new_quant = int(input(\"\\nPlease enter Product quantity \"))\n",
    "        self.new_quantity.update([(self.prod_name1 , self.new_quant)])\n",
    "        print(\"\\nProduct quantity updated successfully\")        \n",
    "        \n",
    "        "
   ]
  },
  {
   "cell_type": "code",
   "execution_count": 81,
   "id": "39af9b61-4399-4664-ac5b-d7d403c823c8",
   "metadata": {},
   "outputs": [],
   "source": [
    "invent1 = product()"
   ]
  },
  {
   "cell_type": "code",
   "execution_count": 82,
   "id": "725e2135-9118-4566-afd9-60c87d1811c0",
   "metadata": {},
   "outputs": [
    {
     "name": "stdout",
     "output_type": "stream",
     "text": [
      "Product in the Inventory. \n",
      "Products are in first row and quantity in second row.\n",
      "\n",
      "dict_items([(1, 'Milk'), (2, 'Egg'), (3, 'Coffee'), (4, 'Water'), (5, 'Curd')])\n",
      "dict_items([('Milk', 20), ('Egg', 30), ('Coffee', 23), ('Water', 50), ('Curd', 20)])\n"
     ]
    }
   ],
   "source": [
    "invent1.display_Avail_prod()"
   ]
  },
  {
   "cell_type": "code",
   "execution_count": 83,
   "id": "235356b3-5a3a-442c-be47-5d2b03e9bfc1",
   "metadata": {},
   "outputs": [
    {
     "name": "stdout",
     "output_type": "stream",
     "text": [
      "Product in the Inventory. \n",
      "Products are in first row and quantity in second row.\n",
      "\n",
      "dict_items([(1, 'Milk'), (2, 'Egg'), (3, 'Coffee'), (4, 'Water'), (5, 'Curd')])\n",
      "dict_items([('Milk', 20), ('Egg', 30), ('Coffee', 23), ('Water', 50), ('Curd', 20)])\n",
      "Add New Product :\n",
      " \n"
     ]
    },
    {
     "name": "stdin",
     "output_type": "stream",
     "text": [
      "Please add the New Product Code 6\n",
      "Enter the Product Name  Biscuit\n"
     ]
    },
    {
     "name": "stdout",
     "output_type": "stream",
     "text": [
      "\n",
      "New Product entered successfully\n"
     ]
    }
   ],
   "source": [
    "invent1.add_product()"
   ]
  },
  {
   "cell_type": "code",
   "execution_count": 84,
   "id": "701daa9f-1cd8-4842-a4d4-0034a4ea9175",
   "metadata": {},
   "outputs": [
    {
     "name": "stdout",
     "output_type": "stream",
     "text": [
      "Product in the Inventory. \n",
      "Products are in first row and quantity in second row.\n",
      "\n",
      "dict_items([(1, 'Milk'), (2, 'Egg'), (3, 'Coffee'), (4, 'Water'), (5, 'Curd'), (6, 'Biscuit')])\n",
      "dict_items([('Milk', 20), ('Egg', 30), ('Coffee', 23), ('Water', 50), ('Curd', 20)])\n"
     ]
    }
   ],
   "source": [
    "invent1.display_Avail_prod()\n"
   ]
  },
  {
   "cell_type": "code",
   "execution_count": 85,
   "id": "93a12b92-6c2f-4046-aa43-40b6bc3a81b0",
   "metadata": {},
   "outputs": [
    {
     "name": "stdout",
     "output_type": "stream",
     "text": [
      "Product in the Inventory. \n",
      "Products are in first row and quantity in second row.\n",
      "\n",
      "dict_items([(1, 'Milk'), (2, 'Egg'), (3, 'Coffee'), (4, 'Water'), (5, 'Curd'), (6, 'Biscuit')])\n",
      "dict_items([('Milk', 20), ('Egg', 30), ('Coffee', 23), ('Water', 50), ('Curd', 20)])\n",
      "Add New quantity :\n",
      " \n"
     ]
    },
    {
     "name": "stdin",
     "output_type": "stream",
     "text": [
      "\n",
      " Enter the Product Name : Biscuit\n",
      "\n",
      "Please enter Product quantity  34\n"
     ]
    },
    {
     "name": "stdout",
     "output_type": "stream",
     "text": [
      "\n",
      "Product quantity updated successfully\n"
     ]
    }
   ],
   "source": [
    "invent1.update_prod_quantity()\n"
   ]
  },
  {
   "cell_type": "code",
   "execution_count": 86,
   "id": "2a2cd89a-eb59-4733-9ad8-48f7d5e10f02",
   "metadata": {},
   "outputs": [
    {
     "name": "stdout",
     "output_type": "stream",
     "text": [
      "Product in the Inventory. \n",
      "Products are in first row and quantity in second row.\n",
      "\n",
      "dict_items([(1, 'Milk'), (2, 'Egg'), (3, 'Coffee'), (4, 'Water'), (5, 'Curd'), (6, 'Biscuit')])\n",
      "dict_items([('Milk', 20), ('Egg', 30), ('Coffee', 23), ('Water', 50), ('Curd', 20), ('Biscuit', 34)])\n",
      "Add New quantity :\n",
      " \n"
     ]
    },
    {
     "name": "stdin",
     "output_type": "stream",
     "text": [
      "\n",
      " Enter the Product Name : Egg\n",
      "\n",
      "Please enter Product quantity  35\n"
     ]
    },
    {
     "name": "stdout",
     "output_type": "stream",
     "text": [
      "\n",
      "Product quantity updated successfully\n"
     ]
    }
   ],
   "source": [
    "invent1.update_prod_quantity()"
   ]
  },
  {
   "cell_type": "code",
   "execution_count": 87,
   "id": "603edc25-9c5e-450e-b530-5530cc7237de",
   "metadata": {},
   "outputs": [
    {
     "name": "stdout",
     "output_type": "stream",
     "text": [
      "Product in the Inventory. \n",
      "Products are in first row and quantity in second row.\n",
      "\n",
      "dict_items([(1, 'Milk'), (2, 'Egg'), (3, 'Coffee'), (4, 'Water'), (5, 'Curd'), (6, 'Biscuit')])\n",
      "dict_items([('Milk', 20), ('Egg', 35), ('Coffee', 23), ('Water', 50), ('Curd', 20), ('Biscuit', 34)])\n"
     ]
    }
   ],
   "source": [
    "invent1.display_Avail_prod()"
   ]
  },
  {
   "cell_type": "code",
   "execution_count": 88,
   "id": "11b52e80-d420-48dc-94b1-a5e7d793b0a3",
   "metadata": {},
   "outputs": [],
   "source": [
    "#Problem 6: Shape Calculation Create a class representing a shape with attributes like length, width, and height. \n",
    "#           Implement methods to calculate the area and perimeter of the shape.\n",
    "\n",
    "class shapes:\n",
    "    \n",
    " # constructor function.\n",
    "    def __init__(self):\n",
    "        self.length = 0\n",
    "        self.width  = 0 \n",
    "        self.height = 0\n",
    "\n",
    "    def area(self):\n",
    "        self.length = int(input(\"Please enter the length : \"))\n",
    "        self.width  = int(input(\"Please enter the width  : \"))\n",
    "        self.height = int(input(\"Please enter the hieght : \"))\n",
    "        shape = input(\"enter the shape of the object\")\n",
    "        \n",
    "        if shape.lower() == 'reactangle':\n",
    "            area = self.length * self.width \n",
    "            parameter = self.length * self.width *.5\n",
    "            print(f' Area of the {shape} is :  {area} and parameter is : {parameter} ')\n",
    "      \n",
    "        elif shape.lower() == 'square':\n",
    "            area = self.length * self.length\n",
    "            parameter = self.length * self.length *.5\n",
    "            print(f' Area of the {shape} is :  {area} and parameter is : {parameter} ')\n",
    "        \n",
    "            \n",
    "        "
   ]
  },
  {
   "cell_type": "code",
   "execution_count": 90,
   "id": "d00e8404-a686-488a-af01-b36f6723ee28",
   "metadata": {},
   "outputs": [],
   "source": [
    "shape1 = shapes()"
   ]
  },
  {
   "cell_type": "code",
   "execution_count": 91,
   "id": "888731f4-fd96-4b64-b15f-36d86a5fddb2",
   "metadata": {},
   "outputs": [
    {
     "name": "stdin",
     "output_type": "stream",
     "text": [
      "Please enter the length :  4\n",
      "Please enter the width  :  5\n",
      "Please enter the hieght :  3\n",
      "enter the shape of the object Square\n"
     ]
    },
    {
     "name": "stdout",
     "output_type": "stream",
     "text": [
      " Area of the Square is :  16 and parameter is : 8.0 \n"
     ]
    }
   ],
   "source": [
    "shape1.area()"
   ]
  },
  {
   "cell_type": "code",
   "execution_count": 87,
   "id": "7ac721d9-f764-4a71-a479-e523d0614b67",
   "metadata": {},
   "outputs": [],
   "source": [
    "# Problem 7: Student Management Create a class representing a student with attributes like student ID, name, and grades. \n",
    "#            Implement methods to calculate the average grade and display student details.\n",
    "\n",
    "from functools import reduce\n",
    "\n",
    "class student_management:\n",
    "    \n",
    "    def __init__(self):\n",
    "        self.student_details = {101 : \"ram\" , 102 : \"sham\" , 103 : \"vikas\" , 104 : \"john\" , 105 : \"karan\" }\n",
    "        self.student_grade   = { 101 : [45,67,89,34,56] , \n",
    "                            102 : [34,56,67,89,23] ,\n",
    "                            103 : [34,56,67,85,28] ,\n",
    "                            104 : [34,16,62,84,23] ,\n",
    "                            105 : [34,46,57,49,23] }\n",
    "                          \n",
    "   \n",
    "    def display_student_Detail(self):\n",
    "        print(\"Enter your roll no to see the details.\\n\")\n",
    "        roll_no = int(input(\"Your Roll No is : \" ))\n",
    "        if roll_no in (self.student_details.keys()):\n",
    "            print(\"Your Name is :\")\n",
    "            print(self.student_details.get(roll_no))\n",
    "            print(\"Your Grades are :\")  \n",
    "            print(self.student_grade.get(roll_no))\n",
    "            \n",
    "    def average_grade(self):\n",
    "        print(\"Enter your roll no to see the details.\\n\")\n",
    "        roll_no = int(input(\"Your Roll No is : \" ))\n",
    "        if roll_no in (self.student_details.keys()):\n",
    "            print(\"Your grades are:\" , self.student_grade.get(roll_no))\n",
    "            print(\"Your Average Grades are:\")\n",
    "            avg_grade =  reduce(lambda a ,b : sum(self.student_grade.get(roll_no))/len(self.student_grade.get(roll_no)), self.student_grade.get(roll_no))\n",
    "            return(avg_grade)"
   ]
  },
  {
   "cell_type": "code",
   "execution_count": 88,
   "id": "61f28b45-908c-4908-bd67-503ab3516ce8",
   "metadata": {},
   "outputs": [],
   "source": [
    "student1 = student_management()"
   ]
  },
  {
   "cell_type": "code",
   "execution_count": 85,
   "id": "85a55d9e-acad-4499-8128-bda9b214be36",
   "metadata": {},
   "outputs": [
    {
     "name": "stdout",
     "output_type": "stream",
     "text": [
      "Enter your roll no to see the details.\n",
      "\n"
     ]
    },
    {
     "name": "stdin",
     "output_type": "stream",
     "text": [
      "Your Roll No is :  101\n"
     ]
    },
    {
     "name": "stdout",
     "output_type": "stream",
     "text": [
      "Your Name is :\n",
      "ram\n",
      "Your Grades are :\n",
      "[45, 67, 89, 34, 56]\n"
     ]
    }
   ],
   "source": [
    "student1.display_student_Detail()\n"
   ]
  },
  {
   "cell_type": "code",
   "execution_count": 89,
   "id": "b86b815b-04eb-421c-9b85-1920fe4c8da6",
   "metadata": {},
   "outputs": [
    {
     "name": "stdout",
     "output_type": "stream",
     "text": [
      "Enter your roll no to see the details.\n",
      "\n"
     ]
    },
    {
     "name": "stdin",
     "output_type": "stream",
     "text": [
      "Your Roll No is :  101\n"
     ]
    },
    {
     "name": "stdout",
     "output_type": "stream",
     "text": [
      "Your grades are: [45, 67, 89, 34, 56]\n",
      "Your Average Grades are:\n"
     ]
    },
    {
     "data": {
      "text/plain": [
       "58.2"
      ]
     },
     "execution_count": 89,
     "metadata": {},
     "output_type": "execute_result"
    }
   ],
   "source": [
    "student1.average_grade()"
   ]
  },
  {
   "cell_type": "code",
   "execution_count": 111,
   "id": "47a6f419-b788-456b-a3af-037eb7c5cb3b",
   "metadata": {},
   "outputs": [],
   "source": [
    "# Problem 8: Email Management Create a class representing an email with attributes like sender, recipient, and subject. \n",
    "#            Implement methods to send an email and display email details.\n",
    "\n",
    "class email_management:\n",
    "    \n",
    "    def __init__(self):\n",
    "        self.sender_email1 = { \"vikas@gmail.com\" : \"abc@gmail.com\" , \"sham@gmail.com\" : \"abc1@gmail.com\" , \"ravi@hotmail.com\" : \"abc2@gmail.com\" }\n",
    "        self.subject = { \"vikas@gmail.com\" : \"First Email\" , \"sham@gmail.com\" : \"Second Email\" , \"ravi@hotmail.com\" : \"Third Email\" }\n",
    "    \n",
    "    def send_email(self):\n",
    "        email_address = input(\"Please enter your email address : \")\n",
    "        \n",
    "        print(f'FROM :  {email_address} ')\n",
    "        print(f'TO      :  {self.sender_email1.get(email_address)} ' )\n",
    "        print(f'Subject :  {self.subject.get(email_address)} ')\n",
    "      \n",
    "    def display_email_detail(self):\n",
    "        print(self.sender_email1.keys())"
   ]
  },
  {
   "cell_type": "code",
   "execution_count": 112,
   "id": "5586fcb4-53ba-422f-9caf-00072a8cd40f",
   "metadata": {},
   "outputs": [],
   "source": [
    "email1 = email_management()"
   ]
  },
  {
   "cell_type": "code",
   "execution_count": 113,
   "id": "828e35a5-a94a-4186-a6a6-1a7f797d397f",
   "metadata": {},
   "outputs": [
    {
     "name": "stdin",
     "output_type": "stream",
     "text": [
      "Please enter your email address :  vikas@mgail.com\n"
     ]
    },
    {
     "name": "stdout",
     "output_type": "stream",
     "text": [
      "FROM :  vikas@mgail.com \n",
      "TO      :  None \n",
      "Subject :  None \n"
     ]
    }
   ],
   "source": [
    "email1.send_email()"
   ]
  },
  {
   "cell_type": "code",
   "execution_count": 114,
   "id": "a4d7805d-bfa5-4b60-990d-925978947f4a",
   "metadata": {},
   "outputs": [
    {
     "name": "stdout",
     "output_type": "stream",
     "text": [
      "dict_keys(['vikas@gmail.com', 'sham@gmail.com', 'ravi@hotmail.com'])\n"
     ]
    }
   ],
   "source": [
    "email1.display_email_detail()"
   ]
  },
  {
   "cell_type": "code",
   "execution_count": 133,
   "id": "bce93ecf-d59b-4590-b637-333af6991108",
   "metadata": {},
   "outputs": [],
   "source": [
    "#Problem 9: Social Media Profile Create a class representing a social media profile with attributes like username and posts. \n",
    "#           Implement methods to add posts, display posts, and search for posts by keyword.\n",
    "\n",
    "class socail_media_profile:\n",
    "    \n",
    "    def user_details(self):\n",
    "        username = {\"vikas\" : 'anchor' , 'sham' : 'you tuber' , 'john' : 'you tuber' , 'ram' : 'anchor'}\n",
    "        username.update(self.user1) \n",
    "        print(username.items())\n",
    "        \n",
    "    def display_post(self):\n",
    "        \n",
    "        username = {\"vikas\" : 'anchor' , 'sham' : 'you tuber' , 'john' : 'you tuber' , 'ram' : 'anchor'}\n",
    "        username.update(self.user1) \n",
    "    \n",
    "        \n",
    "        user1 = input(\"Please enter the username to check the post.\")\n",
    "        if user1 in (username.keys()):\n",
    "            print(\"your post is \")\n",
    "            print(username.get(user1))\n",
    "                \n",
    "    def __init__(self):\n",
    "        self.username = {\"vikas\" : 'anchor' , 'sham' : 'you tuber' , 'john' : 'you tuber' , 'ram' : 'anchor'}\n",
    "        self.user1 = {}\n",
    "        self.username.update(self.user1) \n",
    "        \n",
    "    def add_post(self):\n",
    "\n",
    "        print(\"Please enter the username \")\n",
    "        user_name = input(\"\\nUser Name : \" )\n",
    "        if user_name in (self.username.keys()):\n",
    "            print(\"User name already exists\")\n",
    "            print(\"Terminate the Program\")\n",
    "        else:\n",
    "            post_name = input(\"enter the post to add : \")\n",
    "            self.user1.update([(user_name , post_name)])\n",
    "            print(\"\\nPost entered successully\")\n",
    "            \n",
    "            \n",
    "    def serach_post_keyword(self):\n",
    "        keyword1 = input(\"Please enter the keyword to search\")\n",
    "        if keyword1.lower() in (self.username.values()):\n",
    "            \n",
    "            print(\"Results are :\" , list(self.username.keys()) [list(self.username.values()).index(keyword1)])\n",
    "        else:\n",
    "            print(\"\\nKeyword not matching.\")\n",
    "            \n",
    "    "
   ]
  },
  {
   "cell_type": "code",
   "execution_count": 134,
   "id": "7cf888a7-6324-4eae-96f2-ad2e12b77221",
   "metadata": {},
   "outputs": [],
   "source": [
    "socail1 = socail_media_profile()"
   ]
  },
  {
   "cell_type": "code",
   "execution_count": 136,
   "id": "e3398e5d-1669-4ca5-883f-3f4a45335bf1",
   "metadata": {},
   "outputs": [
    {
     "name": "stdout",
     "output_type": "stream",
     "text": [
      "Please enter the username \n"
     ]
    },
    {
     "name": "stdin",
     "output_type": "stream",
     "text": [
      "\n",
      "User Name :  ravi\n",
      "enter the post to add :  con\n"
     ]
    },
    {
     "name": "stdout",
     "output_type": "stream",
     "text": [
      "\n",
      "Post entered successully\n"
     ]
    }
   ],
   "source": [
    "socail1.add_post()"
   ]
  },
  {
   "cell_type": "code",
   "execution_count": 137,
   "id": "3c9788a9-eb14-4e77-89f3-71658b3bba77",
   "metadata": {},
   "outputs": [
    {
     "name": "stdout",
     "output_type": "stream",
     "text": [
      "dict_items([('vikas', 'anchor'), ('sham', 'you tuber'), ('john', 'you tuber'), ('ram', 'anchor'), ('ravi', 'con')])\n"
     ]
    }
   ],
   "source": [
    "socail1.user_details()"
   ]
  },
  {
   "cell_type": "code",
   "execution_count": 138,
   "id": "0ed07910-4509-49b6-97bb-a5be0126aa90",
   "metadata": {},
   "outputs": [
    {
     "name": "stdin",
     "output_type": "stream",
     "text": [
      "Please enter the username to check the post. ravi\n"
     ]
    },
    {
     "name": "stdout",
     "output_type": "stream",
     "text": [
      "your post is \n",
      "con\n"
     ]
    }
   ],
   "source": [
    "socail1.display_post()"
   ]
  },
  {
   "cell_type": "code",
   "execution_count": 139,
   "id": "df89dd5f-d970-465f-9af3-36b73d45a962",
   "metadata": {},
   "outputs": [
    {
     "name": "stdin",
     "output_type": "stream",
     "text": [
      "Please enter the keyword to search you tuber\n"
     ]
    },
    {
     "name": "stdout",
     "output_type": "stream",
     "text": [
      "Results are : sham\n"
     ]
    }
   ],
   "source": [
    "socail1.serach_post_keyword()"
   ]
  },
  {
   "cell_type": "code",
   "execution_count": 107,
   "id": "bb45d989-cbf7-4c40-b39f-6834bede90e9",
   "metadata": {},
   "outputs": [],
   "source": [
    "#Problem 10: ToDo List Create a class representing a ToDo list with attributes like tasks and due dates. Implement methods \n",
    "#            to add tasks, mark tasks as completed, and display pending tasks.\"\n",
    "\n",
    "class todolist:\n",
    "    \n",
    "    def  all_task_list(self):\n",
    "        task_list = {\"reading\" : \"01-01-2023\" , \"Project Work\" : \"23-01-2023\" , \"office\" : \"25-01-2023\"} \n",
    "        task_list.update(self.tasks)\n",
    "        \n",
    "        task_tracker =  {\"reading\" : \"Pending\" , \"Project Work\" : \"Pending\" , \"office\" : \"Pending\"} \n",
    "        task_tracker.update(self.task2)\n",
    "        print(task_list.items())\n",
    "        print(task_tracker.items())\n",
    "        \n",
    "    def __init__(self):\n",
    "        self.tasks = {}\n",
    "        self.task2 = {}\n",
    "        \n",
    "                       \n",
    "    def to_add_task(self):\n",
    "        task1 = input(\"enter a task:\\n \")\n",
    "        date1 = input(\"enter the date in dd-mm-yyyy format\")\n",
    "        print(\"Entered successfully.\")\n",
    "        self.tasks.update([(task1,date1)])\n",
    "        self.task2.update([(task1, \"Pending\")])\n",
    "        \n",
    "    def mark_Task_complete(self):\n",
    "        task3 = input(\"Enter your task : \")\n",
    "        print(\"Task mark as complete\")\n",
    "        self.task2.update([(task3 , \"Complete\")])\n",
    "           \n",
    "        \n",
    "        "
   ]
  },
  {
   "cell_type": "code",
   "execution_count": 108,
   "id": "1d54eccb-ae4c-4e73-8cce-577c4de2b8ae",
   "metadata": {},
   "outputs": [],
   "source": [
    "mylist = todolist()"
   ]
  },
  {
   "cell_type": "code",
   "execution_count": 109,
   "id": "b7c29f50-155b-423c-bdde-18a822244a63",
   "metadata": {},
   "outputs": [
    {
     "name": "stdout",
     "output_type": "stream",
     "text": [
      "dict_items([('reading', '01-01-2023'), ('Project Work', '23-01-2023'), ('office', '25-01-2023')])\n",
      "dict_items([('reading', 'Pending'), ('Project Work', 'Pending'), ('office', 'Pending')])\n"
     ]
    }
   ],
   "source": [
    "mylist.all_task_list()"
   ]
  },
  {
   "cell_type": "code",
   "execution_count": 110,
   "id": "d9dfab4d-520a-44f3-bc3c-e30fc1266234",
   "metadata": {},
   "outputs": [
    {
     "name": "stdin",
     "output_type": "stream",
     "text": [
      "enter a task:\n",
      "  documentation\n",
      "enter the date in dd-mm-yyyy format 12-02-2023\n"
     ]
    },
    {
     "name": "stdout",
     "output_type": "stream",
     "text": [
      "Entered successfully.\n"
     ]
    }
   ],
   "source": [
    "mylist.to_add_task()"
   ]
  },
  {
   "cell_type": "code",
   "execution_count": 111,
   "id": "4055015c-3f21-46eb-a203-14cc0bc95530",
   "metadata": {},
   "outputs": [
    {
     "name": "stdout",
     "output_type": "stream",
     "text": [
      "dict_items([('reading', '01-01-2023'), ('Project Work', '23-01-2023'), ('office', '25-01-2023'), ('documentation', '12-02-2023')])\n",
      "dict_items([('reading', 'Pending'), ('Project Work', 'Pending'), ('office', 'Pending'), ('documentation', 'Pending')])\n"
     ]
    }
   ],
   "source": [
    "mylist.all_task_list()"
   ]
  },
  {
   "cell_type": "code",
   "execution_count": 114,
   "id": "18cef70c-1356-47ba-813e-891eec8c906a",
   "metadata": {},
   "outputs": [
    {
     "name": "stdin",
     "output_type": "stream",
     "text": [
      "Enter your task :  documentation\n"
     ]
    },
    {
     "name": "stdout",
     "output_type": "stream",
     "text": [
      "Task mark as complete\n"
     ]
    }
   ],
   "source": [
    "mylist.mark_Task_complete()"
   ]
  },
  {
   "cell_type": "code",
   "execution_count": 115,
   "id": "01e58617-fc41-4d09-9f66-f668b911271e",
   "metadata": {},
   "outputs": [
    {
     "name": "stdout",
     "output_type": "stream",
     "text": [
      "dict_items([('reading', '01-01-2023'), ('Project Work', '23-01-2023'), ('office', '25-01-2023'), ('documentation', '12-02-2023')])\n",
      "dict_items([('reading', 'Complete'), ('Project Work', 'Pending'), ('office', 'Pending'), ('documentation', 'Complete')])\n"
     ]
    }
   ],
   "source": [
    "mylist.all_task_list()"
   ]
  },
  {
   "cell_type": "code",
   "execution_count": null,
   "id": "0fb771f1-2526-4044-81a8-57414443300c",
   "metadata": {},
   "outputs": [],
   "source": []
  }
 ],
 "metadata": {
  "kernelspec": {
   "display_name": "Python 3 (ipykernel)",
   "language": "python",
   "name": "python3"
  },
  "language_info": {
   "codemirror_mode": {
    "name": "ipython",
    "version": 3
   },
   "file_extension": ".py",
   "mimetype": "text/x-python",
   "name": "python",
   "nbconvert_exporter": "python",
   "pygments_lexer": "ipython3",
   "version": "3.10.8"
  }
 },
 "nbformat": 4,
 "nbformat_minor": 5
}
