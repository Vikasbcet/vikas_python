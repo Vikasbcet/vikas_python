{
 "cells": [
  {
   "cell_type": "code",
   "execution_count": 1,
   "id": "b6e57484-f2be-4718-9dc8-d59d943e5c29",
   "metadata": {},
   "outputs": [
    {
     "name": "stdout",
     "output_type": "stream",
     "text": [
      "1\n",
      "2\n",
      "3\n",
      "4\n",
      "5\n",
      "6\n",
      "7\n",
      "8\n",
      "9\n",
      "10\n"
     ]
    }
   ],
   "source": [
    "# For Loop Assignment.\n",
    "\n",
    "#Q1 Write a Python program to print numbers from 1 to 10 using a for loop.\n",
    "\n",
    "for i in range(1,11):\n",
    "    print(i)\n",
    "'''\n",
    "1\n",
    "2\n",
    "3\n",
    "4\n",
    "5\n",
    "6\n",
    "7\n",
    "8\n",
    "9\n",
    "10\n",
    "'''"
   ]
  },
  {
   "cell_type": "code",
   "execution_count": 5,
   "id": "ce9aa75b-f8f2-4da4-ba0b-9ccbffc5c5fa",
   "metadata": {},
   "outputs": [
    {
     "name": "stdout",
     "output_type": "stream",
     "text": [
      "10\n"
     ]
    }
   ],
   "source": [
    "#Q2 Explain the difference between a for loop and a while loop in Python.\n",
    "\n",
    "# While loop is repeated execute the block of statements, if condition is True. While condition is used for more Complex codes.\n",
    "#For loop iterates over sequence of items. For loop is usually used with fixed sequence of items.\n",
    "\n",
    "#while example\n",
    "\n",
    "n= 0\n",
    "while (n < 10):\n",
    "    n = n + 1\n",
    "    print(n)\n",
    "    \n",
    "# For Example    \n",
    "for i in range(1,11):\n",
    "    print(i)"
   ]
  },
  {
   "cell_type": "code",
   "execution_count": 31,
   "id": "9f7cc1b0-2b3f-4d37-838d-3b91e06d0777",
   "metadata": {},
   "outputs": [
    {
     "name": "stdout",
     "output_type": "stream",
     "text": [
      "4950\n",
      "4950\n"
     ]
    }
   ],
   "source": [
    "#Q3 Write a Python program to calculate the sum of all numbers from 1 to 100 using a for loop.\n",
    "\n",
    "# using comphrehension method.\n",
    "f = sum([ i for i in range(1,100)])\n",
    "\n",
    "#using Lambda function.\n",
    "f1 = lambda : sum([ i for i in range(1,100)])\n",
    "print(f)\n",
    "print(f1())\n"
   ]
  },
  {
   "cell_type": "code",
   "execution_count": 32,
   "id": "606e43ef-210a-4c24-af40-04f9445e2e9e",
   "metadata": {},
   "outputs": [
    {
     "name": "stdout",
     "output_type": "stream",
     "text": [
      "[1, 4, 16, 25, 36, 49, 64]\n"
     ]
    }
   ],
   "source": [
    "#Q4 How do you iterate through a list using a for loop in Python?\n",
    "\n",
    "l = [1,2,4,5,6,7,8]\n",
    "l1 = []\n",
    "# itrating list throguh For loop.\n",
    "for i in l:\n",
    "    l1.append(i*i)\n",
    "print(l1)  \n",
    "#[1, 4, 16, 25, 36, 49, 64]"
   ]
  },
  {
   "cell_type": "code",
   "execution_count": 33,
   "id": "91fd5719-4b64-49f8-9c96-c3c5383ea26e",
   "metadata": {},
   "outputs": [
    {
     "name": "stdout",
     "output_type": "stream",
     "text": [
      "[1, 4, 16, 25, 36, 49, 64]\n"
     ]
    }
   ],
   "source": [
    "#Q5 Write a Python program to find the product of all elements in a list using a for loop.\n",
    "l = [1,2,4,5,6,7,8]\n",
    "l1 = []\n",
    "# itrating list throguh For loop.\n",
    "for i in l:\n",
    "    l1.append(i*i)\n",
    "print(l1) \n",
    "\n",
    "#[1, 4, 16, 25, 36, 49, 64]"
   ]
  },
  {
   "cell_type": "code",
   "execution_count": 35,
   "id": "b1e96cbc-4517-4ae4-af1c-25ee5de929a5",
   "metadata": {},
   "outputs": [
    {
     "name": "stdout",
     "output_type": "stream",
     "text": [
      "[2, 4, 6, 8, 10, 12, 14, 16, 18, 20]\n"
     ]
    }
   ],
   "source": [
    "#Q6 Create a Python program that prints all even numbers from 1 to 20 using a for loop.\n",
    "\n",
    "l1 = []\n",
    "for i in range(1,21):\n",
    "    if i%2==0:\n",
    "        l1.append(i)\n",
    "print(l1)  \n",
    "\n",
    "#[2, 4, 6, 8, 10, 12, 14, 16, 18, 20]\n",
    "\n",
    "#list Comphrension\n",
    "s = [i  for i in range(1,21)  if i%2==0]\n",
    "print(s)\n",
    "#[2, 4, 6, 8, 10, 12, 14, 16, 18, 20]\n",
    "\n",
    "#using lembda function. \n",
    "s = lambda  : ([i  for i in range(1,21)  if i%2==0])\n",
    "s()\n",
    "#[2, 4, 6, 8, 10, 12, 14, 16, 18, 20]\n"
   ]
  },
  {
   "cell_type": "code",
   "execution_count": 1,
   "id": "39af4aa1-692e-4560-9c4b-55d8c9c6c9af",
   "metadata": {},
   "outputs": [
    {
     "name": "stdout",
     "output_type": "stream",
     "text": [
      "[1, 2, 6, 24]\n"
     ]
    }
   ],
   "source": [
    "#Q7 Write a Python program that calculates the factorial of a number using a for loop.\n",
    "\n",
    "def fact_fun(n) :\n",
    "    fact =1\n",
    "    for i in range(1,n+1):\n",
    "        fact = fact*i\n",
    "    return  fact      \n",
    "\n",
    "fact1 =[fact_fun(n) for n in range (1,5)] \n",
    "print(fact1)\n",
    "#[1, 2, 6, 24]"
   ]
  },
  {
   "cell_type": "code",
   "execution_count": 10,
   "id": "3d774c8a-654a-4648-be42-8a0a1d43d22e",
   "metadata": {},
   "outputs": [
    {
     "name": "stdout",
     "output_type": "stream",
     "text": [
      "T\n",
      "h\n",
      "i\n",
      "s\n",
      "i\n",
      "s\n",
      "a\n",
      "s\n",
      "t\n",
      "r\n",
      "i\n",
      "n\n",
      "g\n",
      ".\n"
     ]
    }
   ],
   "source": [
    "#Q8 How can you iterate through the characters of a string using a for loop in Python?\n",
    "\n",
    "str1 = \"This is a string.\"\n",
    "l1 = str1.split()\n",
    "for i in l1:\n",
    "    for j in i :\n",
    "        print(j)\n",
    "'''\n",
    "T\n",
    "h\n",
    "i\n",
    "s\n",
    "i\n",
    "s\n",
    "a\n",
    "s\n",
    "t\n",
    "r\n",
    "i\n",
    "n\n",
    "g\n",
    ".\n",
    "'''"
   ]
  },
  {
   "cell_type": "code",
   "execution_count": 39,
   "id": "8f3794d6-f069-46e0-8056-c6e1e5514002",
   "metadata": {},
   "outputs": [
    {
     "name": "stdout",
     "output_type": "stream",
     "text": [
      "89\n"
     ]
    }
   ],
   "source": [
    "#Q9 Write a Python program to find the largest number in a list using a for loop.\n",
    "\n",
    "l1 = [2,3,45,67,89,23,4]\n",
    "\n",
    "s= l1[0]\n",
    "for i in l1:\n",
    "    if s < i :\n",
    "        s = i    \n",
    "print(s)\n",
    "# 89\n",
    "\n",
    "#list comprehension.\n",
    "max_1 = lambda b : max([i for i in b])\n",
    "\n",
    "max_1(l1)\n"
   ]
  },
  {
   "cell_type": "code",
   "execution_count": 72,
   "id": "1bca8454-68e1-405b-ae91-4f70d73a7898",
   "metadata": {},
   "outputs": [
    {
     "name": "stdin",
     "output_type": "stream",
     "text": [
      "enter the number for the fibonancci sequence 4\n"
     ]
    },
    {
     "name": "stdout",
     "output_type": "stream",
     "text": [
      "[0, 1, 1, 2, 3, 5]\n"
     ]
    }
   ],
   "source": [
    "#Q10 Create a Python program that prints the Fibonacci sequence up to a specified limit using a for loop.\n",
    "\n",
    "n1 = int(input(\"enter the number for the fibonancci sequence\"))\n",
    "\n",
    "\n",
    "f = 0 \n",
    "s = 1\n",
    "l1 = [0,1]\n",
    "for i in range(1,n1+1):\n",
    "    fib= f + s   \n",
    "    f = s\n",
    "    s = i\n",
    "    l1.append(fib)\n",
    "print(l1)    \n"
   ]
  },
  {
   "cell_type": "code",
   "execution_count": 5,
   "id": "f8c838d6-9966-4e60-a91b-f45789334bab",
   "metadata": {},
   "outputs": [
    {
     "name": "stdout",
     "output_type": "stream",
     "text": [
      "10\n"
     ]
    }
   ],
   "source": [
    "#Q11 Write a Python program to count the number of vowels in a given string using a for loop.\n",
    "\n",
    "str1 = \"this is my vowels -aeiou string.\"\n",
    "\n",
    "cnt = 0\n",
    "for i in str1:\n",
    "    if i in 'aeiou' :\n",
    "        cnt = cnt + 1\n",
    "print(cnt)       \n",
    "# 10"
   ]
  },
  {
   "cell_type": "code",
   "execution_count": 8,
   "id": "b50d229f-cd29-4339-ba98-79d0231f59fa",
   "metadata": {},
   "outputs": [
    {
     "name": "stdin",
     "output_type": "stream",
     "text": [
      "please enter a number for multiplication 3\n"
     ]
    },
    {
     "name": "stdout",
     "output_type": "stream",
     "text": [
      "3 *  1  =  3\n",
      "3 *  2  =  6\n",
      "3 *  3  =  9\n",
      "3 *  4  =  12\n",
      "3 *  5  =  15\n",
      "3 *  6  =  18\n",
      "3 *  7  =  21\n",
      "3 *  8  =  24\n",
      "3 *  9  =  27\n",
      "3 *  10  =  30\n"
     ]
    }
   ],
   "source": [
    "#Q12 Create a Python program that generates a multiplication table for a given number using a for loop.\n",
    "\n",
    "num1 = int(input(\"please enter a number for multiplication\"))\n",
    "\n",
    "for i in range(1,11):\n",
    "    print(f'{num1} *  {i}  =  {num1*i}') \n",
    "    \n",
    "'''\n",
    "please enter a number for multiplication 3\n",
    "3 *  1  =  3\n",
    "3 *  2  =  6\n",
    "3 *  3  =  9\n",
    "3 *  4  =  12\n",
    "3 *  5  =  15\n",
    "3 *  6  =  18\n",
    "3 *  7  =  21\n",
    "3 *  8  =  24\n",
    "3 *  9  =  27\n",
    "3 *  10  =  30\n",
    "'''"
   ]
  },
  {
   "cell_type": "code",
   "execution_count": 11,
   "id": "da0fe89b-7c80-488c-b84c-8f158b133e3c",
   "metadata": {},
   "outputs": [
    {
     "name": "stdout",
     "output_type": "stream",
     "text": [
      "[8, 7, 6, 5, 4, 3, 2, 1]\n"
     ]
    }
   ],
   "source": [
    "#Q13 Write a Python program to reverse a list using a for loop.\n",
    "\n",
    "l1 = [1,2,3,4,5,6,7,8]\n",
    "l2 = []\n",
    "for i in l1:\n",
    "    l2.append(l1[-1*i])\n",
    "    \n",
    "print(l2)  \n",
    "#[8, 7, 6, 5, 4, 3, 2, 1]"
   ]
  },
  {
   "cell_type": "code",
   "execution_count": 12,
   "id": "8bf62e53-50ea-419b-b122-7b900b70df4e",
   "metadata": {},
   "outputs": [
    {
     "name": "stdout",
     "output_type": "stream",
     "text": [
      "1\n",
      "3\n"
     ]
    }
   ],
   "source": [
    "#Q14 Write a Python program to find the common elements between two lists using a for loop.\n",
    "\n",
    "l1 = [1,2,3,4]\n",
    "l2 = [1,3,5,6]\n",
    "\n",
    "for i in l1:\n",
    "    for j in l2:\n",
    "        if i == j :\n",
    "            print(i)\n",
    "# 1 3          "
   ]
  },
  {
   "cell_type": "code",
   "execution_count": 22,
   "id": "402d5b8e-5e76-4a6f-a14c-a7b7d2391f5c",
   "metadata": {},
   "outputs": [
    {
     "name": "stdout",
     "output_type": "stream",
     "text": [
      "a\n",
      "b\n",
      "c\n",
      "d\n",
      "e\n",
      "1\n",
      "2\n",
      "3\n",
      "4\n",
      "5\n"
     ]
    }
   ],
   "source": [
    "#Q15 Explain how to use a for loop to iterate through the keys and values of a dictionary in Python.\n",
    "\n",
    "# Using Keys perameter(keyword) we will iterate dictonary for the key values.\n",
    "# Using Values parmeter(kwyword) we will iterate dictionary for value values.\n",
    "\n",
    "dict1 = {'a' : 1 , 'b' : 2 , 'c' : 3 , 'd' :4 , 'e' :5}\n",
    "\n",
    "for i in dict1.keys():\n",
    "    print(i)\n",
    "    \n",
    "for j in dict1.values():\n",
    "    print(j)\n",
    "    \n",
    "'''\n",
    "a\n",
    "b\n",
    "c\n",
    "d\n",
    "e\n",
    "1\n",
    "2\n",
    "3\n",
    "4\n",
    "5\n",
    "'''"
   ]
  },
  {
   "cell_type": "code",
   "execution_count": 25,
   "id": "565da12e-096e-4ce3-aa10-5b5a44f0f919",
   "metadata": {},
   "outputs": [
    {
     "name": "stdout",
     "output_type": "stream",
     "text": [
      "10\n"
     ]
    }
   ],
   "source": [
    "#Q16 Write a Python program to find the GCD (Greatest Common Divisor) of two numbers using a for loop.\n",
    "\n",
    "x = 20\n",
    "y = 90\n",
    "if x > y:\n",
    "    x , y = y, x\n",
    "for i in range(1,x+1):\n",
    "    if x%i == 0 and y%i == 0:\n",
    "        gcd = i\n",
    "print(gcd) \n",
    "\n",
    "#10"
   ]
  },
  {
   "cell_type": "code",
   "execution_count": 45,
   "id": "a532e946-80d8-46af-83a5-ab1f6c8559f9",
   "metadata": {},
   "outputs": [
    {
     "name": "stdout",
     "output_type": "stream",
     "text": [
      "string is not polindrom\n"
     ]
    }
   ],
   "source": [
    "#Q17 Create a Python program that checks if a string is a palindrome using a for loop.\n",
    "\n",
    "str1 = 'abecddcba'\n",
    "\n",
    "len1 = round(len(str1)/2) \n",
    "for i in range(0,len1):\n",
    "    if str1[i::] == str1[::-i-1]:\n",
    "        print(\"string is polindrom\")\n",
    "        break\n",
    "else:\n",
    "    print(\"string is not polindrom\")\n",
    "#string is not polindrom       "
   ]
  },
  {
   "cell_type": "code",
   "execution_count": 88,
   "id": "8e70deb5-6673-4031-ad44-5713a0f397bc",
   "metadata": {},
   "outputs": [
    {
     "name": "stdout",
     "output_type": "stream",
     "text": [
      "[1, 2, 3, 4, 5, 6, 7, 8, 9]\n"
     ]
    }
   ],
   "source": [
    "#Q18 Write a Python program to remove duplicates from a list using a for loop.\n",
    "\n",
    "l1 = [1,2,2,3,4,4,5,6,6,7,8,9,8,2]\n",
    "\n",
    "nodup = []\n",
    "for i in l1:\n",
    "    if i not in nodup:\n",
    "        nodup.append(i)\n",
    "        \n",
    "print(nodup) \n",
    "#[1, 2, 3, 4, 5, 6, 7, 8, 9]"
   ]
  },
  {
   "cell_type": "code",
   "execution_count": 93,
   "id": "aac8d797-7c0c-427f-8583-810454d2bab6",
   "metadata": {},
   "outputs": [
    {
     "name": "stdout",
     "output_type": "stream",
     "text": [
      "5\n"
     ]
    }
   ],
   "source": [
    "#Q19 Create a Python program that counts the number of words in a sentence using a for loop.\n",
    "\n",
    "str1 = \"This is a word string\"\n",
    "\n",
    "cnt =0 \n",
    "for i in str1.split():\n",
    "    cnt = cnt + 1\n",
    "    \n",
    "print(cnt)  \n",
    "#5"
   ]
  },
  {
   "cell_type": "code",
   "execution_count": 98,
   "id": "cb810ff9-6019-46b4-818b-6980d3507e0a",
   "metadata": {},
   "outputs": [
    {
     "name": "stdout",
     "output_type": "stream",
     "text": [
      "625\n"
     ]
    }
   ],
   "source": [
    "#Q20 Write a Python program to find the sum of all odd numbers from 1 to 50 using a for loop.\n",
    "\n",
    "sum1 = 0\n",
    "for i in range(1,50):\n",
    "    if i%2 != 0 :\n",
    "        sum1 = sum1 + i \n",
    "print(sum1) \n",
    "\n",
    "#625"
   ]
  },
  {
   "cell_type": "code",
   "execution_count": 102,
   "id": "4d590cdc-3ff6-4b2a-8b7c-6e398140108b",
   "metadata": {},
   "outputs": [
    {
     "name": "stdin",
     "output_type": "stream",
     "text": [
      "Please input the year 2001\n"
     ]
    },
    {
     "name": "stdout",
     "output_type": "stream",
     "text": [
      "The year isn't a leap year!\n"
     ]
    }
   ],
   "source": [
    "#Q21 Write a Python program that checks if a given year is a leap year using a for loop.\n",
    "\n",
    "year1 = int(input(\"Please input the year\"))\n",
    "\n",
    "if(year1%4==0 and year1%100!=0 or year1%400==0):\n",
    "    print(\"The year is a leap year!\")\n",
    "else:\n",
    "    print(\"The year isn't a leap year!\")\n",
    "    \n",
    "#Please input the year 2001\n",
    "#The year isn't a leap year!    "
   ]
  },
  {
   "cell_type": "code",
   "execution_count": 105,
   "id": "dfd55e94-e8d5-4891-b7e6-797c5b9ce281",
   "metadata": {},
   "outputs": [
    {
     "name": "stdin",
     "output_type": "stream",
     "text": [
      "enter a number for sqrt  4\n"
     ]
    },
    {
     "name": "stdout",
     "output_type": "stream",
     "text": [
      "1\n",
      "4\n",
      "9\n",
      "16\n"
     ]
    }
   ],
   "source": [
    "#Q22 Create a Python program that calculates the square root of a number using a for loop.\n",
    "\n",
    "num1 = int(input(\"enter a number for sqrt \"))\n",
    "\n",
    "for i in range(1, num1+1):\n",
    "    squrt = i * i\n",
    "    print(squrt)   \n",
    "#enter a number for sqrt  4\n",
    "#1\n",
    "#4\n",
    "#9\n",
    "#16    "
   ]
  },
  {
   "cell_type": "code",
   "execution_count": 107,
   "id": "10705b15-1841-44d6-83b0-180240baff2a",
   "metadata": {},
   "outputs": [
    {
     "name": "stdout",
     "output_type": "stream",
     "text": [
      "LCM of 20 and 25 is: 100.0\n"
     ]
    }
   ],
   "source": [
    "#Q23 Write a Python program to find the LCM (Least Common Multiple) of two numbers using a for loop.\n",
    "\n",
    "x = 20\n",
    "y = 25\n",
    "if x > y:\n",
    "    x, y = y, x\n",
    "for i in range(1,x+1):\n",
    "    if x%i == 0 and y%i == 0:\n",
    "        gcd = i\n",
    "\n",
    "lcm = (x*y)/gcd\n",
    "\n",
    "print(\"LCM of\", x, \"and\", y, \"is:\", lcm)\n",
    "#LCM of 20 and 25 is: 100.0"
   ]
  },
  {
   "cell_type": "code",
   "execution_count": 110,
   "id": "6122aec4-080a-4595-853d-d9f0088c7eae",
   "metadata": {},
   "outputs": [
    {
     "name": "stdin",
     "output_type": "stream",
     "text": [
      "please enter the number 0\n"
     ]
    },
    {
     "name": "stdout",
     "output_type": "stream",
     "text": [
      "number is zero\n"
     ]
    }
   ],
   "source": [
    "# If Else statement questions.\n",
    "\n",
    "#Q1 Write a Python program to check if a number is positive, negative, or zero using an if-else statement.\n",
    "\n",
    "num1 = int(input(\"please enter the number\"))\n",
    "\n",
    "if num1 == 0 :\n",
    "    print(\"number is zero\")\n",
    "elif num1 <0 :\n",
    "    print(\"number is negtive\")\n",
    "else:\n",
    "    print(\"number is positve\")\n",
    "\n",
    "#please enter the number 0\n",
    "#number is zero    "
   ]
  },
  {
   "cell_type": "code",
   "execution_count": 8,
   "id": "23df1d66-2206-4182-890c-8066b24b2194",
   "metadata": {},
   "outputs": [
    {
     "name": "stdin",
     "output_type": "stream",
     "text": [
      "enter a number 4\n"
     ]
    },
    {
     "name": "stdout",
     "output_type": "stream",
     "text": [
      "number is even : 4\n"
     ]
    }
   ],
   "source": [
    "#Q2 Create a Python program that checks if a given number is even or odd using an if-else statement.\n",
    "\n",
    "num1 = int(input(\"enter a number\"))\n",
    "\n",
    "if num1 %2 == 0 :\n",
    "    print(f'number is even : {num1}')\n",
    "else: \n",
    "    print(f'number is odd : {num1}')\n",
    "    \n",
    "#enter a number 4\n",
    "#number is even : 4    "
   ]
  },
  {
   "cell_type": "code",
   "execution_count": 14,
   "id": "29a8de23-b3c5-4eaf-8018-6075028c08e2",
   "metadata": {},
   "outputs": [
    {
     "name": "stdout",
     "output_type": "stream",
     "text": [
      "greater number is  70\n"
     ]
    }
   ],
   "source": [
    "#Q3 How can you use nested if-else statements in Python, and provide an example?\n",
    "\n",
    "# While working on multiple conditions, can use the nested if-else conditions.\n",
    "#for example to look at greater number out of three numbers.\n",
    "\n",
    "a, b, c = 10,30 ,70\n",
    "\n",
    "if a > b :\n",
    "    if a > c: \n",
    "        print(\"greater number is \" , a)\n",
    "    else : \n",
    "        print(\"greate number is :\" , c)\n",
    "elif b > c:\n",
    "    print(\"greater number is \", b)\n",
    "else: \n",
    "    print(\"greater number is \", c)\n",
    "\n",
    "#greater number is  70    "
   ]
  },
  {
   "cell_type": "code",
   "execution_count": 19,
   "id": "e09a0583-794c-418b-ba0a-326961c3934b",
   "metadata": {},
   "outputs": [
    {
     "name": "stdin",
     "output_type": "stream",
     "text": [
      "please enter the three numbers 3 4 1\n"
     ]
    },
    {
     "name": "stdout",
     "output_type": "stream",
     "text": [
      "greater number is  4\n"
     ]
    }
   ],
   "source": [
    "#Q4 Write a Python program to determine the largest of three numbers using if-else.\n",
    "\n",
    "a, b,c  = map(int,(input(\"please enter the three numbers\").split()))\n",
    "\n",
    "if a > b :\n",
    "    if a > c: \n",
    "        print(\"greater number is \" , a)\n",
    "    else : \n",
    "        print(\"greate number is :\" , c)\n",
    "elif b > c:\n",
    "    print(\"greater number is \", b)\n",
    "else: \n",
    "    print(\"greater number is \", c)\n",
    "\n",
    "#please enter the three numbers 3 4 1\n",
    "#greater number is  4  "
   ]
  },
  {
   "cell_type": "code",
   "execution_count": 21,
   "id": "75351629-86b8-42d9-b39b-b0e0f503c510",
   "metadata": {},
   "outputs": [
    {
     "name": "stdin",
     "output_type": "stream",
     "text": [
      "enter a number -1\n"
     ]
    },
    {
     "name": "stdout",
     "output_type": "stream",
     "text": [
      "absolute value of a is : 1\n"
     ]
    }
   ],
   "source": [
    "#Q5 Write a Python program that calculates the absolute value of a number using if-else.\n",
    "\n",
    "a  = int(input(\"enter a number\"))\n",
    "\n",
    "if a >= 0 :\n",
    "    print(\"absolute value of a is :\", a)\n",
    "else: \n",
    "    print(\"absolute value of a is :\", -a)\n",
    "\n",
    "#enter a number -1\n",
    "#absolute value of a is : 1    "
   ]
  },
  {
   "cell_type": "code",
   "execution_count": 27,
   "id": "eb173e29-11d6-42d1-9f40-f46848408392",
   "metadata": {},
   "outputs": [
    {
     "name": "stdin",
     "output_type": "stream",
     "text": [
      "please enter the char a\n"
     ]
    },
    {
     "name": "stdout",
     "output_type": "stream",
     "text": [
      "charcter is a vowel a\n"
     ]
    }
   ],
   "source": [
    "#Q6 Create a Python program that checks if a given character is a vowel or consonant using if-else.\n",
    "\n",
    "char1 = input(\"please enter the char\")\n",
    "\n",
    "if char1.lower() in (\"aeiou\"):\n",
    "    print(\"charcter is a vowel\" , char1)\n",
    "else: \n",
    "    print(\"character is consonent\", char1)\n",
    "  \n",
    "#please enter the char r\n",
    "#character is consonent r\n",
    "#please enter the char a\n",
    "#charcter is a vowel a"
   ]
  },
  {
   "cell_type": "code",
   "execution_count": 29,
   "id": "261dfe00-809b-4716-b158-d32c3774bd65",
   "metadata": {},
   "outputs": [
    {
     "name": "stdin",
     "output_type": "stream",
     "text": [
      "please enter the age 18\n"
     ]
    },
    {
     "name": "stdout",
     "output_type": "stream",
     "text": [
      "elegible for vote: 18\n"
     ]
    }
   ],
   "source": [
    "#Q7 Write a Python program to determine if a user is eligible to vote based on their age using if-else.\n",
    "\n",
    "age = int(input(\"please enter the age\"))\n",
    "\n",
    "if age >= 18:\n",
    "    print(\"elegible for vote:\" , age)\n",
    "else: \n",
    "    print(\"Not elegible for vote:\", age)\n",
    "\n",
    "#please enter the age 18\n",
    "#elegible for vote: 18    "
   ]
  },
  {
   "cell_type": "code",
   "execution_count": 35,
   "id": "a88cdea3-db3c-441a-a31b-945cd6c1528e",
   "metadata": {},
   "outputs": [
    {
     "name": "stdin",
     "output_type": "stream",
     "text": [
      "enter your purchase amount : 5001\n"
     ]
    },
    {
     "name": "stdout",
     "output_type": "stream",
     "text": [
      "Discount amount is  1250.25\n"
     ]
    }
   ],
   "source": [
    "#Q8 Create a Python program that calculates the discount amount based on the purchase amount using if-else.\n",
    "\n",
    "purchase_amt = float(input(\"enter your purchase amount :\"))\n",
    "             \n",
    "if   purchase_amt <= 500:\n",
    "    discount = purchase_amt * 10/100\n",
    "    print(\"Discount amount is \", discount)\n",
    "\n",
    "elif purchase_amt > 500 and purchase_amt <= 2000 :\n",
    "    discount = purchase_amt * 15/100\n",
    "    print(\"Discount amount is \", discount)\n",
    "\n",
    "elif purchase_amt > 2000 and purchase_amt <= 5000 :\n",
    "    discount = purchase_amt * 20/100\n",
    "    print(\"Discount amount is \", discount)\n",
    "    \n",
    "elif purchase_amt > 5000 :\n",
    "    discount = purchase_amt * 25/100\n",
    "    print(\"Discount amount is \", discount)    \n",
    "    \n",
    "#enter your purchase amount : 5001\n",
    "#Discount amount is  1250.25    "
   ]
  },
  {
   "cell_type": "code",
   "execution_count": 52,
   "id": "3259af89-6493-44b8-b004-f041c0728022",
   "metadata": {},
   "outputs": [
    {
     "name": "stdin",
     "output_type": "stream",
     "text": [
      "enter a number 49\n"
     ]
    },
    {
     "name": "stdout",
     "output_type": "stream",
     "text": [
      "Number is in range 49\n"
     ]
    }
   ],
   "source": [
    "#Q9 Write a Python program to check if a number is within a specified range using if-else.\n",
    "\n",
    "num1 = int(input(\"enter a number\"))\n",
    "\n",
    "if  -10 < num1 <= 50:\n",
    "    print(\"Number is in range\" , num1)\n",
    "else: \n",
    "    print(\"Number is not in range\" , num1)\n",
    "\n",
    "#enter a number 49\n",
    "#Number is in range 49    "
   ]
  },
  {
   "cell_type": "code",
   "execution_count": 59,
   "id": "a9e6f44c-76f3-47df-beac-822ed4d1b8ce",
   "metadata": {},
   "outputs": [
    {
     "name": "stdin",
     "output_type": "stream",
     "text": [
      "enter your purchase amount : 78\n"
     ]
    },
    {
     "name": "stdout",
     "output_type": "stream",
     "text": [
      "A Grade  78\n"
     ]
    }
   ],
   "source": [
    "#Q10 Create a Python program that determines the grade of a student based on their score using if-else.\n",
    "\n",
    "grade = int(input(\"enter your purchase amount :\"))\n",
    "             \n",
    "if   grade <= 40:\n",
    "    print(\" D Grade\", grade)\n",
    "\n",
    "elif grade > 40 and grade <= 60 :\n",
    "    print(\"C Grade\", grade)\n",
    "\n",
    "elif grade > 60 and grade <= 75 :\n",
    "    print(\"B Grade \", grade)\n",
    "    \n",
    "elif grade > 75  :\n",
    "    print(\"A Grade \", grade)  \n",
    "\n",
    "#enter your purchase amount : 78\n",
    "#A Grade  78"
   ]
  },
  {
   "cell_type": "code",
   "execution_count": 68,
   "id": "df8b24c1-dec3-4299-a38b-754305807945",
   "metadata": {},
   "outputs": [
    {
     "name": "stdin",
     "output_type": "stream",
     "text": [
      "Please enter the string this is a string\n"
     ]
    },
    {
     "name": "stdout",
     "output_type": "stream",
     "text": [
      "string is not blank:  this is a string\n"
     ]
    }
   ],
   "source": [
    "#Q11 Write a Python program to check if a string is empty or not using if-else.\n",
    "\n",
    "str1 = input(\"Please enter the string\")\n",
    "\n",
    "if str1 == \"\" :\n",
    "    print(\"String is blank\" , str1)\n",
    "else: \n",
    "    print(\"string is not blank: \" , str1)\n",
    "    \n",
    "#Please enter the string this is a string\n",
    "#string is not blank:  this is a string    "
   ]
  },
  {
   "cell_type": "code",
   "execution_count": 70,
   "id": "09b83df1-ddb1-420e-b1f7-e0a19006b865",
   "metadata": {},
   "outputs": [
    {
     "name": "stdin",
     "output_type": "stream",
     "text": [
      "enter the 3 sides of trangle 20 30 20\n"
     ]
    },
    {
     "name": "stdout",
     "output_type": "stream",
     "text": [
      "traingle is isocceles\n"
     ]
    }
   ],
   "source": [
    "#Q12 Create a Python program that identifies the type of a triangle (e.g., equilateral, isosceles, or scalene) based on input values using if-else.\n",
    "\n",
    "a, b,c = map(int, (input(\"enter the 3 sides of trangle\").split()))\n",
    "\n",
    "if a == b and b == c:\n",
    "    print(\"triangle is equilateral\")\n",
    "elif a==b or b==c or a == c:\n",
    "    print(\"traingle is isocceles\")\n",
    "else :\n",
    "    print(\"traingle is scalene\")\n",
    "\n",
    "#enter the 3 sides of trangle 20 30 20\n",
    "#traingle is isocceles    "
   ]
  },
  {
   "cell_type": "code",
   "execution_count": 76,
   "id": "a8b5b087-26a8-43d1-8078-ee4e3b287c54",
   "metadata": {},
   "outputs": [
    {
     "name": "stdin",
     "output_type": "stream",
     "text": [
      "enter the number for a day 4\n"
     ]
    },
    {
     "name": "stdout",
     "output_type": "stream",
     "text": [
      "Wednesday\n"
     ]
    }
   ],
   "source": [
    "#Q13 Write a Python program to determine the day of the week based on a user-provided number using if-else.\n",
    "\n",
    "day = int(input(\"enter the number for a day\"))\n",
    "\n",
    "if day == 1 :\n",
    "    print(\"Sunday\")\n",
    "elif day == 2:\n",
    "    print(\"Monday\")\n",
    "elif day == 3:\n",
    "    print(\"Tuesday\")\n",
    "elif day == 4:\n",
    "    print(\"Wednesday\")  \n",
    "elif day == 5:\n",
    "    print(\"Thursday\")\n",
    "elif day == 6:\n",
    "    print(\"Friday\")\n",
    "elif day == 7:\n",
    "    print(\"Saturday\")\n",
    "else: \n",
    "    print(\"Please enter the right number for a day\", day)\n",
    "\n",
    "#enter the number for a day 4\n",
    "#Wednesday    "
   ]
  },
  {
   "cell_type": "code",
   "execution_count": 86,
   "id": "1bc6b95e-522b-43be-8b4b-74ee481c1335",
   "metadata": {},
   "outputs": [
    {
     "name": "stdin",
     "output_type": "stream",
     "text": [
      "Please input the year 2000\n"
     ]
    },
    {
     "name": "stdout",
     "output_type": "stream",
     "text": [
      "The year is a leap year!\n",
      "This is a leap year\n"
     ]
    },
    {
     "data": {
      "text/plain": [
       "2000"
      ]
     },
     "execution_count": 86,
     "metadata": {},
     "output_type": "execute_result"
    }
   ],
   "source": [
    "#Q14 Create a Python program that checks if a given year is a leap year using both if-else and a function.\n",
    "\n",
    "year1 = int(input(\"Please input the year\"))\n",
    "\n",
    "if(year1%4==0 and year1%100!=0 or year1%400==0):\n",
    "    print(\"The year is a leap year!\")\n",
    "else:\n",
    "    print(\"The year isn't a leap year!\")\n",
    "\n",
    "# Using Function.\n",
    "def leap_year(year1):\n",
    "    if(year1%4==0 and year1%100!=0 or year1%400==0):\n",
    "        print(\"This is a leap year\")\n",
    "        return(year1)\n",
    "         \n",
    "    else: \n",
    "        print(\"The year isn't a leap year!\")\n",
    "leap_year(2000)  \n",
    "\n",
    "#Please input the year 2000\n",
    "#The year is a leap year!\n",
    "#This is a leap year\n",
    "#2000"
   ]
  },
  {
   "cell_type": "code",
   "execution_count": 14,
   "id": "34f51bf2-f8d7-4bfd-bf3a-0aac17aa8a34",
   "metadata": {},
   "outputs": [
    {
     "name": "stdin",
     "output_type": "stream",
     "text": [
      "please enter the three numbers 0 2\n"
     ]
    },
    {
     "ename": "AssertionError",
     "evalue": " number should be greater than 0 number got: (0, 2)",
     "output_type": "error",
     "traceback": [
      "\u001b[0;31m---------------------------------------------------------------------------\u001b[0m",
      "\u001b[0;31mAssertionError\u001b[0m                            Traceback (most recent call last)",
      "Cell \u001b[0;32mIn[14], line 7\u001b[0m\n\u001b[1;32m      1\u001b[0m \u001b[38;5;66;03m#Q15 How do you use the \"assert\" statement in Python to add debugging checks within if-else blocks?\u001b[39;00m\n\u001b[1;32m      2\u001b[0m \n\u001b[1;32m      3\u001b[0m \u001b[38;5;66;03m# checking two numbers sum.\u001b[39;00m\n\u001b[1;32m      5\u001b[0m num1, num2   \u001b[38;5;241m=\u001b[39m \u001b[38;5;28mmap\u001b[39m(\u001b[38;5;28mint\u001b[39m,(\u001b[38;5;28minput\u001b[39m(\u001b[38;5;124m\"\u001b[39m\u001b[38;5;124mplease enter the three numbers\u001b[39m\u001b[38;5;124m\"\u001b[39m)\u001b[38;5;241m.\u001b[39msplit()))\n\u001b[0;32m----> 7\u001b[0m \u001b[38;5;28;01massert\u001b[39;00m (num1 \u001b[38;5;241m>\u001b[39m \u001b[38;5;241m0\u001b[39m \u001b[38;5;129;01mand\u001b[39;00m num2 \u001b[38;5;241m>\u001b[39m \u001b[38;5;241m0\u001b[39m \u001b[38;5;129;01mand\u001b[39;00m \u001b[38;5;28misinstance\u001b[39m(num1 , \u001b[38;5;28mint\u001b[39m)), \u001b[38;5;124mf\u001b[39m\u001b[38;5;124m\"\u001b[39m\u001b[38;5;124m number should be greater than 0 number got: \u001b[39m\u001b[38;5;132;01m{\u001b[39;00mnum1 , num2\u001b[38;5;132;01m}\u001b[39;00m\u001b[38;5;124m\"\u001b[39m\n",
      "\u001b[0;31mAssertionError\u001b[0m:  number should be greater than 0 number got: (0, 2)"
     ]
    }
   ],
   "source": [
    "#Q15 How do you use the \"assert\" statement in Python to add debugging checks within if-else blocks?\n",
    "\n",
    "# checking two numbers sum.\n",
    "\n",
    "num1, num2   = map(int,(input(\"please enter the three numbers\").split()))\n",
    "\n",
    "assert (num1 > 0 and num2 > 0 and isinstance(num1 , int)), f\" number should be greater than 0 number got: {num1 , num2}\"\n",
    " \n",
    "#AssertionError:  number should be greater than 0 number got: (0, 2)    "
   ]
  },
  {
   "cell_type": "code",
   "execution_count": 19,
   "id": "e4eccbac-2bdf-4fd3-9d36-b65a449ba54e",
   "metadata": {},
   "outputs": [
    {
     "name": "stdin",
     "output_type": "stream",
     "text": [
      "Please enter your age :  61\n"
     ]
    },
    {
     "name": "stdout",
     "output_type": "stream",
     "text": [
      "Eligible for Senior Citizen discount\n"
     ]
    }
   ],
   "source": [
    "#Q16 Create a Python program that determines the eligibility of a person for a senior citizen discount based on age using if-else.\n",
    "\n",
    "age = int(input(\"Please enter your age : \"))\n",
    "\n",
    "if age >= 60 :\n",
    "    print(\"Eligible for Senior Citizen discount\")\n",
    "else:    \n",
    "    print(\"Not Eligible for Senior Citizen discount\")\n",
    "\n",
    "#Please enter your age :  61\n",
    "#Eligible for Senior Citizen discount    "
   ]
  },
  {
   "cell_type": "code",
   "execution_count": 23,
   "id": "b228c524-38b7-446a-a3e5-f95bda21b07b",
   "metadata": {},
   "outputs": [
    {
     "name": "stdin",
     "output_type": "stream",
     "text": [
      "enter a character a\n"
     ]
    },
    {
     "name": "stdout",
     "output_type": "stream",
     "text": [
      "Character is lower case :   a\n"
     ]
    }
   ],
   "source": [
    "#Q17 Write a Python program to categorize a given character as uppercase, lowercase, or neither using if-else.\n",
    "\n",
    "char1 = input(\"enter a character\")\n",
    "\n",
    "if char1.islower()  :\n",
    "    print(\"Character is lower case :  \", char1)\n",
    "elif char1.isupper():\n",
    "    print(\"Character is Upper case :  \", char1)\n",
    "else: \n",
    "    print(\"Character is not recognized:  \", char1)\n",
    "    \n",
    "#enter a character a\n",
    "#Character is lower case :   a    "
   ]
  },
  {
   "cell_type": "code",
   "execution_count": 24,
   "id": "5cc76e29-83e3-463a-96cd-90dc31cef8aa",
   "metadata": {},
   "outputs": [
    {
     "name": "stdout",
     "output_type": "stream",
     "text": [
      "The roots are\n",
      "(-3.414213562373095+0j)\n",
      "(-0.5857864376269049+0j)\n"
     ]
    }
   ],
   "source": [
    "#Q18 Write a Python program to determine the roots of a quadratic equation using if-else.\n",
    "\n",
    "import cmath\n",
    " \n",
    "a = 1\n",
    "b = 4\n",
    "c = 2\n",
    " \n",
    "# calculating  the discriminant\n",
    "dis = (b**2) - (4 * a*c)\n",
    " \n",
    "# find two results\n",
    "ans1 = (-b-cmath.sqrt(dis))/(2 * a)\n",
    "ans2 = (-b + cmath.sqrt(dis))/(2 * a)\n",
    " \n",
    "# printing the results\n",
    "print('The roots are')\n",
    "print(ans1)\n",
    "print(ans2)\n",
    "#The roots are\n",
    "#(-3.414213562373095+0j)\n",
    "#(-0.5857864376269049+0j)"
   ]
  },
  {
   "cell_type": "code",
   "execution_count": 39,
   "id": "b602bc02-32b3-443a-a131-8bd8204f4468",
   "metadata": {},
   "outputs": [
    {
     "name": "stdin",
     "output_type": "stream",
     "text": [
      "enter the year 2001\n"
     ]
    },
    {
     "name": "stdout",
     "output_type": "stream",
     "text": [
      "21 century\n"
     ]
    }
   ],
   "source": [
    "#Q19 Create a Python program that checks if a given year is a century year or not using if-else.\n",
    "\n",
    "year1 = int(input(\"enter the year\"))\n",
    "\n",
    "if (year1 <=100):\n",
    "    print(\"First century year\")\n",
    "if (year1 % 100 == 0):\n",
    "    print(year1 // 100 , \"century\")\n",
    "else:\n",
    "    print(year1 // 100 + 1 , \"century\")\n",
    "\n",
    "#enter the year 2001\n",
    "#21 century    "
   ]
  },
  {
   "cell_type": "code",
   "execution_count": 42,
   "id": "67da06a8-0f9e-4938-849c-46ac2e027f39",
   "metadata": {},
   "outputs": [
    {
     "name": "stdout",
     "output_type": "stream",
     "text": [
      "The number is not a perfect square\n"
     ]
    }
   ],
   "source": [
    "#Q20 Write a Python program to determine if a given number is a perfect square using if-else.\n",
    "\n",
    "num = 8\n",
    "sqrt_num = int(num**0.5)  \n",
    "if sqrt_num**2==num:  \n",
    "    print(\"The number is a perfect square\")  \n",
    "else:  \n",
    "    print(\"The number is not a perfect square\")\n",
    "#The number is not a perfect square    "
   ]
  },
  {
   "cell_type": "code",
   "execution_count": null,
   "id": "48e59b30-bf8d-4278-8bea-0494fc8325c1",
   "metadata": {},
   "outputs": [
    {
     "name": "stdin",
     "output_type": "stream",
     "text": [
      "enter the number 4\n"
     ]
    },
    {
     "name": "stdout",
     "output_type": "stream",
     "text": [
      "Continue to check the code\n",
      "Continue to check the code\n",
      "Continue to check the code\n"
     ]
    }
   ],
   "source": [
    "#Q21 Explain the purpose of the \"continue\" and \"break\" statements within if-else loops.\n",
    "\n",
    "# Continue: - it continued to the same code till the condition is not false .\n",
    "#break: - if condition met once,it break the code there and no further code run.\n",
    "\n",
    "num1 = int(input(\"enter the number\"))\n",
    "\n",
    "n = 0 \n",
    "while (n <= num1):\n",
    "    if num1 == 0 :\n",
    "        print(\" enter number is zero \") \n",
    "        break\n",
    "        print(\"No print\")\n",
    "    elif n <= 2 :\n",
    "        print(\"Continue to check the code\")\n",
    "        n = n+1\n",
    "        continue\n",
    "        print(\"Enter number is  :  \" , num1 , \"Enter the value of n  :\" , n )\n",
    "    \n",
    "#enter the number 4\n",
    "#Continue to check the code\n",
    "#Continue to check the code\n",
    "#Continue to check the code    "
   ]
  },
  {
   "cell_type": "code",
   "execution_count": 2,
   "id": "c3cfb338-caaa-4c79-b0b1-26d42566ead3",
   "metadata": {},
   "outputs": [
    {
     "name": "stdin",
     "output_type": "stream",
     "text": [
      " 34\n",
      " 3\n"
     ]
    },
    {
     "name": "stdout",
     "output_type": "stream",
     "text": [
      "Underweight\n"
     ]
    }
   ],
   "source": [
    "#Q22 Create a Python program that calculates the BMI (Body Mass Index) of a person based on their weight and height using if-else.\n",
    "weight=float(input())\n",
    "height=float(input())\n",
    "\n",
    "bmi= weight/(height)**2\n",
    "\n",
    "if bmi<18.5:\n",
    "    print(\"Underweight\")\n",
    "elif bmi>=18.5 and bmi<25:\n",
    "    print(\"Normal\")\n",
    "elif bmi>=25 and bmi<30:\n",
    "    print(\"Overweight\")\n",
    "else:\n",
    "    print(\"Obesity\")\n"
   ]
  },
  {
   "cell_type": "code",
   "execution_count": 6,
   "id": "d3498b17-2e41-4530-b130-651ca572cb20",
   "metadata": {},
   "outputs": [
    {
     "name": "stdout",
     "output_type": "stream",
     "text": [
      "[1, 5, 7, 9, 45]\n"
     ]
    }
   ],
   "source": [
    "#Q23 How can you use the \"filter()\" function with if-else statements to filter elements from a list?\n",
    "\n",
    "l1 = [1,2,4,5,6,7,8,9,12,45]\n",
    "\n",
    "odd = list(filter(lambda a : a%2 !=0 , l1 ))\n",
    "\n",
    "print(odd)\n",
    "#[1, 5, 7, 9, 45]"
   ]
  },
  {
   "cell_type": "code",
   "execution_count": 23,
   "id": "61ccd52b-3334-4e37-b2ed-ca4ca8e976af",
   "metadata": {},
   "outputs": [
    {
     "name": "stdin",
     "output_type": "stream",
     "text": [
      "Enter a number:  7\n"
     ]
    },
    {
     "name": "stdout",
     "output_type": "stream",
     "text": [
      "7 is a prime number\n"
     ]
    }
   ],
   "source": [
    "#Q24 Write a Python program to determine if a given number is prime or not using if-else.\n",
    "\n",
    "num = int(input(\"Enter a number: \"))\n",
    "\n",
    "if num > 1:\n",
    "    for i in range(2,num):\n",
    "        if (num % i) == 0:\n",
    "            print(num,\"is not a prime number\")\n",
    "            break\n",
    "    else:\n",
    "        print(num,\"is a prime number\")\n",
    "       \n",
    "# Else if the input number is less than or equal to 1\n",
    "else:\n",
    "   print(num,\"is not a prime number\")\n",
    "\n"
   ]
  },
  {
   "cell_type": "code",
   "execution_count": 25,
   "id": "597ce67e-0a09-4d08-8547-ccd6ba548d2e",
   "metadata": {},
   "outputs": [
    {
     "name": "stdin",
     "output_type": "stream",
     "text": [
      "enter three numbers 3 4 6\n"
     ]
    },
    {
     "name": "stdout",
     "output_type": "stream",
     "text": [
      "3 4 6\n"
     ]
    }
   ],
   "source": [
    "# Map function questoin....\n",
    "\n",
    "#Q1 Explain the purpose of the `map()` function in Python and provide an example of how it can be used to apply a function to each element of an iterable.\n",
    "\n",
    "#Map: - it is used to split the data and also convert it into one format to another.\n",
    "\n",
    "a,b,c = map(int,input(\"enter three numbers\").split())\n",
    "\n",
    "print(a,b,c)\n",
    "\n",
    "#enter three numbers 3 4 6\n",
    "#3 4 6"
   ]
  },
  {
   "cell_type": "code",
   "execution_count": 29,
   "id": "1e3c12fe-98d2-4a5e-a6ed-8f1c4e5ee44d",
   "metadata": {},
   "outputs": [
    {
     "name": "stdout",
     "output_type": "stream",
     "text": [
      "[1, 4, 9, 2025, 36, 81]\n"
     ]
    }
   ],
   "source": [
    "#Q2 Write a Python program that uses the `map()` function to square each element of a list of numbers.\n",
    "\n",
    "l1 = [1,2,3,45,6,9]\n",
    "\n",
    "squr_list = list(map(int,( a*a for a in l1)))\n",
    "\n",
    "print(squr_list)\n",
    "#[1, 4, 9, 2025, 36, 81]"
   ]
  },
  {
   "cell_type": "code",
   "execution_count": 41,
   "id": "5eede7b8-79e7-4da6-b0b5-330e0a7cf471",
   "metadata": {},
   "outputs": [],
   "source": [
    "#Q3 How does the `map()` function differ from a list comprehension in Python, and when would you choose one over the other?\n",
    "\n",
    "#map :- is used to split and store output.\n",
    "\n",
    "#list comphrehension: - is a faster way to wirte for loop to get faster result.\n"
   ]
  },
  {
   "cell_type": "code",
   "execution_count": 57,
   "id": "4b3e9724-e236-4ce9-9346-a1e4291955ff",
   "metadata": {},
   "outputs": [
    {
     "name": "stdout",
     "output_type": "stream",
     "text": [
      "['VIKAS', 'RAM', 'SHAM', 'SOHANROHAN']\n"
     ]
    }
   ],
   "source": [
    "#Q4 Create a Python program that uses the `map()` function to convert a list of names to uppercase.\n",
    "\n",
    "l1 = ['vikas','ram', 'sham' , 'sohan' 'rohan']\n",
    "\n",
    "upper_case = list(map(lambda a : a.upper(), l1))\n",
    "\n",
    "print(upper_case)\n",
    "\n",
    "#['VIKAS', 'RAM', 'SHAM', 'SOHANROHAN']"
   ]
  },
  {
   "cell_type": "code",
   "execution_count": 64,
   "id": "cbc33406-8383-4b4f-96e7-09f68fe21fe6",
   "metadata": {},
   "outputs": [
    {
     "name": "stdout",
     "output_type": "stream",
     "text": [
      "[4, 2, 1, 6, 6]\n"
     ]
    }
   ],
   "source": [
    "#Q5 Write a Python program that uses the `map()` function to calculate the length of each word in a list of strings.\n",
    "\n",
    "str1 = \"this is a length string\"\n",
    "\n",
    "len_str = list(map(len , str1.split()))\n",
    "\n",
    "print(len_str)\n",
    "#[4, 2, 1, 6, 6]"
   ]
  },
  {
   "cell_type": "code",
   "execution_count": 65,
   "id": "07a3d053-f44a-418f-9426-6d2a459230f4",
   "metadata": {},
   "outputs": [
    {
     "name": "stdout",
     "output_type": "stream",
     "text": [
      "[2, 1, 0]\n"
     ]
    }
   ],
   "source": [
    "#Q6 How can you use the `map()` function to apply a custom function to elements of multiple lists simultaneously in Python?\n",
    "\n",
    "l = [-2, -1, 0]\n",
    "\n",
    "print(list(map(abs, l)))\n",
    "# [2, 1, 0]"
   ]
  },
  {
   "cell_type": "code",
   "execution_count": 72,
   "id": "fb99ee6c-ded9-46e1-84f3-cb0664b0d925",
   "metadata": {},
   "outputs": [
    {
     "name": "stdout",
     "output_type": "stream",
     "text": [
      "[73.4, 80.6, 98.60000000000001, 172.4]\n"
     ]
    }
   ],
   "source": [
    "#Q7 Create a Python program that uses `map()` to convert a list of temperatures from Celsius to Fahrenheit.\n",
    "\n",
    "cel = [23,27,37,78]\n",
    "\n",
    "fehrn = list(map(lambda a : a*1.8+32 , cel))\n",
    "\n",
    "print(fehrn)\n",
    "#[73.4, 80.6, 98.60000000000001, 172.4]"
   ]
  },
  {
   "cell_type": "code",
   "execution_count": 75,
   "id": "3df7c067-6006-4c6a-a559-2845b2517804",
   "metadata": {},
   "outputs": [
    {
     "name": "stdout",
     "output_type": "stream",
     "text": [
      "[23, 35, 45, 68]\n"
     ]
    }
   ],
   "source": [
    "#Q8 Write a Python program that uses the `map()` function to round each element of a list of floating-point numbers to the nearest integer.\n",
    "\n",
    "l1 = [23.4 , 34.8 , 45.3 , 67.6 ]\n",
    "\n",
    "near_int = list(map(lambda a : round(a) , l1))\n",
    "\n",
    "print(near_int)\n",
    "#[23, 35, 45, 68]"
   ]
  },
  {
   "cell_type": "code",
   "execution_count": 79,
   "id": "7fb4251b-2c4c-4237-907b-c5342e13f2af",
   "metadata": {},
   "outputs": [
    {
     "name": "stdout",
     "output_type": "stream",
     "text": [
      "95\n"
     ]
    }
   ],
   "source": [
    "# Reduce function.\n",
    "\n",
    "#Q1 What is the `reduce()` function in Python, and what module should you import to use it? Provide an example of its basic usage.\n",
    "\n",
    "#Reduce function- is used to reduce the input numbers from list and reached to one output. \n",
    "# Need a import functools module.\n",
    "\n",
    "import functools \n",
    "\n",
    "list1 = [1,2,3,4,6,8,10,12,15,34]\n",
    "\n",
    "sum_list = functools.reduce(lambda a ,b : a+b, list1)\n",
    "\n",
    "print(sum_list)"
   ]
  },
  {
   "cell_type": "code",
   "execution_count": 82,
   "id": "1bdd9e86-ffb5-47cc-9ed2-b43e6294d076",
   "metadata": {},
   "outputs": [
    {
     "name": "stdout",
     "output_type": "stream",
     "text": [
      "24\n"
     ]
    }
   ],
   "source": [
    "#Q2 Write a Python program that uses the `reduce()` function to find the product of all elements in a list.\n",
    "\n",
    "import functools \n",
    "\n",
    "l1 = [2,3,4]\n",
    "\n",
    "product_ele = functools.reduce(lambda a ,b : a*b , l1) \n",
    "\n",
    "print(product_ele)"
   ]
  },
  {
   "cell_type": "code",
   "execution_count": 86,
   "id": "71fc5976-6b50-4439-9003-ce274b169971",
   "metadata": {},
   "outputs": [
    {
     "name": "stdout",
     "output_type": "stream",
     "text": [
      "89\n"
     ]
    }
   ],
   "source": [
    "#Q3 Create a Python program that uses `reduce()` to find the maximum element in a list of numbers.\n",
    "\n",
    "import functools \n",
    "\n",
    "l1  = [4,56,9,34,45,13,89,34,35]\n",
    "\n",
    "max_num = functools.reduce(lambda a , b : a if a > b else b , l1)\n",
    "\n",
    "print(max_num)"
   ]
  },
  {
   "cell_type": "code",
   "execution_count": 90,
   "id": "b97c79cb-4beb-4c44-8bea-dcff9d79d06c",
   "metadata": {},
   "outputs": [
    {
     "name": "stdout",
     "output_type": "stream",
     "text": [
      "this is a string name total string\n"
     ]
    }
   ],
   "source": [
    "#Q4 How can you use the `reduce()` function to concatenate a list of strings into a single string?\n",
    "\n",
    "import functools\n",
    "\n",
    "l1 = [\"this\" , \"is a\" , \"string name\" , \"total string\"]\n",
    "  \n",
    "l1_concat = functools.reduce(lambda a , b :  a + \" \" +b , l1)   \n",
    "\n",
    "print(l1_concat)\n",
    "#this is a string name total string"
   ]
  },
  {
   "cell_type": "code",
   "execution_count": 95,
   "id": "7c771bc3-fedc-4bcc-8fba-a389c7028062",
   "metadata": {},
   "outputs": [
    {
     "name": "stdin",
     "output_type": "stream",
     "text": [
      "enter the number 4\n"
     ]
    }
   ],
   "source": [
    "#Q5 Write a Python program that calculates the factorial of a number using the `reduce()` function.\n",
    "\n",
    "import functools\n",
    "\n",
    "num1 = int(input(\"enter the number\"))\n",
    "\n",
    "import functools \n",
    "\n",
    "def mult(x, y):\n",
    "    return x * y\n",
    "\n",
    "\n",
    "def factorial(n):\n",
    "    if n == 0:\n",
    "        return 1\n",
    "    else:\n",
    "        functools.reduce(mult(n,factorial(n - 1)))\n",
    "\n",
    " "
   ]
  },
  {
   "cell_type": "code",
   "execution_count": 108,
   "id": "ef42ea4f-32c8-4ec2-b97a-3443134f6928",
   "metadata": {},
   "outputs": [
    {
     "data": {
      "text/plain": [
       "1"
      ]
     },
     "execution_count": 108,
     "metadata": {},
     "output_type": "execute_result"
    }
   ],
   "source": [
    "#Q6 Create a Python program that uses `reduce()` to find the GCD (Greatest Common Divisor) of a list of numbers.\n",
    "\n",
    "from math import gcd\n",
    "from functools import reduce\n",
    "\n",
    "l1 = [2,3,6,12]\n",
    "\n",
    "def find_gcd(list):\n",
    "    x = reduce(gcd, list)\n",
    "    return x\n",
    "\n",
    "find_gcd(l1)"
   ]
  },
  {
   "cell_type": "code",
   "execution_count": 46,
   "id": "d1cbefbd-d95f-46fc-9ef6-92153387498f",
   "metadata": {},
   "outputs": [
    {
     "name": "stdin",
     "output_type": "stream",
     "text": [
      "Enter the number:  12345\n"
     ]
    },
    {
     "name": "stdout",
     "output_type": "stream",
     "text": [
      "15\n"
     ]
    }
   ],
   "source": [
    "#Q7 Write a Python program that uses the `reduce()` function to find the sum of the digits of a given number.\n",
    "\n",
    "from functools import reduce\n",
    "\n",
    "n = int(input(\"Enter the number: \"))\n",
    "num_string = str(n)\n",
    "    \n",
    "list_of_number = list(map(int, num_string.strip()))\n",
    "\n",
    "sum_of_number = reduce(lambda a , b : a+b , list_of_number)\n",
    "\n",
    "print(sum_of_number)\n",
    "    \n",
    "#Enter the number:  12345\n",
    "#15 \n"
   ]
  },
  {
   "cell_type": "code",
   "execution_count": 45,
   "id": "bb1aeea5-3bab-4cda-ab33-6de1e1b82d57",
   "metadata": {},
   "outputs": [],
   "source": [
    "#Filter function. \n",
    "\n",
    "#Q1 "
   ]
  },
  {
   "cell_type": "code",
   "execution_count": 69,
   "id": "337dd70d-25b1-430e-8c15-15fdb2185591",
   "metadata": {},
   "outputs": [
    {
     "name": "stdout",
     "output_type": "stream",
     "text": [
      "[1, 5, 7]\n"
     ]
    }
   ],
   "source": [
    "#filter:-\n",
    "#Q1 Explain the purpose of the `filter()` function in Python and provide an example of how it \n",
    "#   can be used to filter elements from an iterable.\n",
    "\n",
    "#filter: - Filter out certain specific elements based on the condition that you provide very efficiently.\n",
    "\n",
    "l1 = [1,24,5,6,7,8,12,34]\n",
    "\n",
    "\n",
    "max_number = list(filter(lambda a : a%2 != 0  , l1))\n",
    "\n",
    "print(max_number)\n",
    "#[1, 5, 7]"
   ]
  },
  {
   "cell_type": "code",
   "execution_count": 70,
   "id": "3cc4bea9-2634-4d3e-934c-cd9764f8136b",
   "metadata": {},
   "outputs": [
    {
     "name": "stdout",
     "output_type": "stream",
     "text": [
      "[24, 6, 8, 12, 34]\n"
     ]
    }
   ],
   "source": [
    "#Q2 Write a Python program that uses the `filter()` function to select even numbers from a list of integers.\n",
    "\n",
    "l1 = [1,24,5,6,7,8,12,34]\n",
    "\n",
    "\n",
    "even_number = list(filter(lambda a : a%2 == 0  , l1))\n",
    "\n",
    "print(even_number)\n",
    "#[24, 6, 8, 12, 34]"
   ]
  },
  {
   "cell_type": "code",
   "execution_count": 72,
   "id": "8eab3c94-ac1c-45b4-90dd-d89a43bc77b9",
   "metadata": {},
   "outputs": [
    {
     "name": "stdout",
     "output_type": "stream",
     "text": [
      "['aman', 'aada', 'aaaeee']\n"
     ]
    }
   ],
   "source": [
    "#Q3 Create a Python program that uses the `filter()` function to select names that start with a \n",
    "#   specific letter from a list of strings.\n",
    "\n",
    "l1 = [\"vikas\" , \"aman\" , \"aada\" ,\"sam\" , \"tam\" , \"aaaeee\"]\n",
    "\n",
    "name_start_with_a = list(filter(lambda a : a[0]=='a' , l1))\n",
    "\n",
    "print(name_start_with_a)\n",
    "#['aman', 'aada', 'aaaeee']"
   ]
  },
  {
   "cell_type": "code",
   "execution_count": 87,
   "id": "daa8a0dd-6a5c-4c63-a1cc-d4d5b59defa9",
   "metadata": {},
   "outputs": [
    {
     "name": "stdin",
     "output_type": "stream",
     "text": [
      "Enter the number:  7\n"
     ]
    },
    {
     "name": "stdout",
     "output_type": "stream",
     "text": [
      "[2, 3, 4, 5, 7]\n"
     ]
    }
   ],
   "source": [
    "#Q4 Write a Python program that uses the `filter()` function to select prime numbers from a list of integers.\n",
    "\n",
    "l1 = [1,2,4,5,6,7,8,912,14,17,23,34]\n",
    "\n",
    "n1 = int(input(\"Enter the number: \"))\n",
    "\n",
    "prime_list = [x for x in range(2, n1+1) if all(x % y for y in range(2, x//2))]\n",
    "\n",
    "print(prime_list)\n"
   ]
  },
  {
   "cell_type": "code",
   "execution_count": 94,
   "id": "413fb1ca-66b0-497d-80ce-06cb963ed46a",
   "metadata": {},
   "outputs": [
    {
     "name": "stdout",
     "output_type": "stream",
     "text": [
      "[[], []]\n"
     ]
    }
   ],
   "source": [
    "#Q5 How can you use the `filter()` function to remove None values from a list in Python?\n",
    "\n",
    "l1 = [1,2,3,[],4,5,[],6,7,9]\n",
    "\n",
    "none_value= list(filter(lambda a : a == [] , l1))\n",
    "\n",
    "print(none_value)"
   ]
  },
  {
   "cell_type": "code",
   "execution_count": 97,
   "id": "72e7b0b6-360a-4749-9ec6-969f6b573f0f",
   "metadata": {},
   "outputs": [
    {
     "name": "stdout",
     "output_type": "stream",
     "text": [
      "['acbnhkd', 'weefffgrgrg', 'eefeffgretsff']\n"
     ]
    }
   ],
   "source": [
    "#Q6 Create a Python program that uses `filter()` to select words longer than a certain length from a list of strings.\n",
    "\n",
    "l1 = [ \"abc\" , \"acbnhkd\" , \"weefffgrgrg\" , \"aa\" , \"eefeffgretsff\"]\n",
    "\n",
    "word_01 = list(filter(lambda a : len(a) > 5 , l1)) \n",
    "\n",
    "print(word_01)\n",
    "#['acbnhkd', 'weefffgrgrg', 'eefeffgretsff']"
   ]
  },
  {
   "cell_type": "code",
   "execution_count": 98,
   "id": "fdbec57b-49cb-4556-949d-f73f114118bf",
   "metadata": {},
   "outputs": [
    {
     "name": "stdout",
     "output_type": "stream",
     "text": [
      "[56, 67, 89, 123]\n"
     ]
    }
   ],
   "source": [
    "#Q7 Write a Python program that uses the `filter()` function to select elements greater than a specified threshold \n",
    "#   from a list of values.\n",
    "\n",
    "l1 = [2,34,56,67,89,12,34,123]\n",
    "    \n",
    "letter_01 = list(filter(lambda a : a > 45 , l1)) \n",
    "\n",
    "print(letter_01)    \n",
    "\n",
    "#[56, 67, 89, 123]"
   ]
  },
  {
   "cell_type": "code",
   "execution_count": null,
   "id": "d68d14fb-0798-497c-ae1c-f000061c4697",
   "metadata": {},
   "outputs": [],
   "source": [
    "#Q1 Explain the concept of recursion in Python. How does it differ from iteration?\n",
    "\n",
    "#Recursion :- Recursion is a technique in which the function calls itself in its body to solve the problem.\n",
    "#Iteration is a technique that repetitively executes a code block until the condition is unmet.\n",
    "\n"
   ]
  },
  {
   "cell_type": "code",
   "execution_count": 107,
   "id": "5589e886-9bac-4293-a34c-e3a6d7c4016f",
   "metadata": {},
   "outputs": [
    {
     "name": "stdin",
     "output_type": "stream",
     "text": [
      "Please enter the number: 4\n"
     ]
    },
    {
     "data": {
      "text/plain": [
       "24"
      ]
     },
     "execution_count": 107,
     "metadata": {},
     "output_type": "execute_result"
    }
   ],
   "source": [
    "#Q2 Write a Python program to calculate the factorial of a number using recursion.\n",
    "\n",
    "number  = int(input(\"Please enter the number:\"))\n",
    "\n",
    "def fact(number):\n",
    "    if number <= 0 :\n",
    "        return(0)\n",
    "    elif number == 1:\n",
    "        return(number)\n",
    "    else:\n",
    "        return number*fact(number-1)\n",
    "\n",
    "fact(number)  \n",
    "#Please enter the number: 4\n",
    "#24"
   ]
  },
  {
   "cell_type": "code",
   "execution_count": 111,
   "id": "05ac2f4a-cb39-4535-b6a9-5f6cbb6212b1",
   "metadata": {},
   "outputs": [
    {
     "data": {
      "text/plain": [
       "21"
      ]
     },
     "execution_count": 111,
     "metadata": {},
     "output_type": "execute_result"
    }
   ],
   "source": [
    "#Q3 Create a recursive Python function to find the nth Fibonacci number.\n",
    "\n",
    "def Fibonacci_Series(n):   \n",
    "    # using if-else conditional statement  \n",
    "    if n < 0:  \n",
    "        print(\"Oops! Incorrect input\")  \n",
    "    # First Fibonacci number is 0  \n",
    "    elif n == 0:   \n",
    "        return (0)   \n",
    "    # Second Fibonacci number is 1   \n",
    "    elif n == 1:  \n",
    "        return (1)  \n",
    "    else:  \n",
    "        return (Fibonacci_Series(n - 1) + Fibonacci_Series(n - 2)) \n",
    "    \n",
    "     \n",
    "Fibonacci_Series(8)    "
   ]
  },
  {
   "cell_type": "code",
   "execution_count": 120,
   "id": "2afb8a9e-547f-4c1a-9a63-6d5fa78972f4",
   "metadata": {},
   "outputs": [
    {
     "data": {
      "text/plain": [
       "28"
      ]
     },
     "execution_count": 120,
     "metadata": {},
     "output_type": "execute_result"
    }
   ],
   "source": [
    "#Q4 Write a recursive Python function to calculate the sum of all elements in a list.\n",
    "\n",
    "l1 = [1,2,3,4,5,6,7]\n",
    "\n",
    "def findSum(l1): \n",
    "     if len(l1)== 1: \n",
    "        return l1[0] \n",
    "     else: \n",
    "        return l1[0]+findSum(l1[1:]) \n",
    "    \n",
    "findSum(l1)    "
   ]
  },
  {
   "cell_type": "code",
   "execution_count": 123,
   "id": "f2a39225-7ed2-4b08-8dd1-bcd8a83e100c",
   "metadata": {},
   "outputs": [
    {
     "name": "stdin",
     "output_type": "stream",
     "text": [
      "Enter the number: \n",
      " -23\n"
     ]
    },
    {
     "ename": "RecursionError",
     "evalue": "maximum recursion depth exceeded in comparison",
     "output_type": "error",
     "traceback": [
      "\u001b[0;31m---------------------------------------------------------------------------\u001b[0m",
      "\u001b[0;31mRecursionError\u001b[0m                            Traceback (most recent call last)",
      "Cell \u001b[0;32mIn[123], line 13\u001b[0m\n\u001b[1;32m      8\u001b[0m \u001b[38;5;28;01mif\u001b[39;00m \u001b[38;5;18m__name__\u001b[39m \u001b[38;5;241m==\u001b[39m \u001b[38;5;124m'\u001b[39m\u001b[38;5;124m__main__\u001b[39m\u001b[38;5;124m'\u001b[39m:\n\u001b[1;32m      9\u001b[0m  \n\u001b[1;32m     10\u001b[0m     \u001b[38;5;66;03m# taking input\u001b[39;00m\n\u001b[1;32m     11\u001b[0m     f \u001b[38;5;241m=\u001b[39m \u001b[38;5;28mint\u001b[39m(\u001b[38;5;28minput\u001b[39m(\u001b[38;5;124m'\u001b[39m\u001b[38;5;124mEnter the number: \u001b[39m\u001b[38;5;130;01m\\n\u001b[39;00m\u001b[38;5;124m'\u001b[39m))\n\u001b[0;32m---> 13\u001b[0m     \u001b[38;5;28mprint\u001b[39m(\u001b[43mfact\u001b[49m\u001b[43m(\u001b[49m\u001b[43mf\u001b[49m\u001b[43m)\u001b[49m)\n",
      "Cell \u001b[0;32mIn[123], line 6\u001b[0m, in \u001b[0;36mfact\u001b[0;34m(n)\u001b[0m\n\u001b[1;32m      4\u001b[0m \u001b[38;5;28;01mif\u001b[39;00m(n \u001b[38;5;241m==\u001b[39m \u001b[38;5;241m0\u001b[39m):\n\u001b[1;32m      5\u001b[0m     \u001b[38;5;28;01mreturn\u001b[39;00m \u001b[38;5;241m1\u001b[39m\n\u001b[0;32m----> 6\u001b[0m \u001b[38;5;28;01mreturn\u001b[39;00m n \u001b[38;5;241m*\u001b[39m \u001b[43mfact\u001b[49m\u001b[43m(\u001b[49m\u001b[43mn\u001b[49m\u001b[43m \u001b[49m\u001b[38;5;241;43m-\u001b[39;49m\u001b[43m \u001b[49m\u001b[38;5;241;43m1\u001b[39;49m\u001b[43m)\u001b[49m\n",
      "Cell \u001b[0;32mIn[123], line 6\u001b[0m, in \u001b[0;36mfact\u001b[0;34m(n)\u001b[0m\n\u001b[1;32m      4\u001b[0m \u001b[38;5;28;01mif\u001b[39;00m(n \u001b[38;5;241m==\u001b[39m \u001b[38;5;241m0\u001b[39m):\n\u001b[1;32m      5\u001b[0m     \u001b[38;5;28;01mreturn\u001b[39;00m \u001b[38;5;241m1\u001b[39m\n\u001b[0;32m----> 6\u001b[0m \u001b[38;5;28;01mreturn\u001b[39;00m n \u001b[38;5;241m*\u001b[39m \u001b[43mfact\u001b[49m\u001b[43m(\u001b[49m\u001b[43mn\u001b[49m\u001b[43m \u001b[49m\u001b[38;5;241;43m-\u001b[39;49m\u001b[43m \u001b[49m\u001b[38;5;241;43m1\u001b[39;49m\u001b[43m)\u001b[49m\n",
      "    \u001b[0;31m[... skipping similar frames: fact at line 6 (2969 times)]\u001b[0m\n",
      "Cell \u001b[0;32mIn[123], line 6\u001b[0m, in \u001b[0;36mfact\u001b[0;34m(n)\u001b[0m\n\u001b[1;32m      4\u001b[0m \u001b[38;5;28;01mif\u001b[39;00m(n \u001b[38;5;241m==\u001b[39m \u001b[38;5;241m0\u001b[39m):\n\u001b[1;32m      5\u001b[0m     \u001b[38;5;28;01mreturn\u001b[39;00m \u001b[38;5;241m1\u001b[39m\n\u001b[0;32m----> 6\u001b[0m \u001b[38;5;28;01mreturn\u001b[39;00m n \u001b[38;5;241m*\u001b[39m \u001b[43mfact\u001b[49m\u001b[43m(\u001b[49m\u001b[43mn\u001b[49m\u001b[43m \u001b[49m\u001b[38;5;241;43m-\u001b[39;49m\u001b[43m \u001b[49m\u001b[38;5;241;43m1\u001b[39;49m\u001b[43m)\u001b[49m\n",
      "Cell \u001b[0;32mIn[123], line 4\u001b[0m, in \u001b[0;36mfact\u001b[0;34m(n)\u001b[0m\n\u001b[1;32m      3\u001b[0m \u001b[38;5;28;01mdef\u001b[39;00m \u001b[38;5;21mfact\u001b[39m(n):\n\u001b[0;32m----> 4\u001b[0m     \u001b[38;5;28;01mif\u001b[39;00m(\u001b[43mn\u001b[49m\u001b[43m \u001b[49m\u001b[38;5;241;43m==\u001b[39;49m\u001b[43m \u001b[49m\u001b[38;5;241;43m0\u001b[39;49m):\n\u001b[1;32m      5\u001b[0m         \u001b[38;5;28;01mreturn\u001b[39;00m \u001b[38;5;241m1\u001b[39m\n\u001b[1;32m      6\u001b[0m     \u001b[38;5;28;01mreturn\u001b[39;00m n \u001b[38;5;241m*\u001b[39m fact(n \u001b[38;5;241m-\u001b[39m \u001b[38;5;241m1\u001b[39m)\n",
      "\u001b[0;31mRecursionError\u001b[0m: maximum recursion depth exceeded in comparison"
     ]
    }
   ],
   "source": [
    "#Q5 How can you prevent a recursive function from running indefinitely, causing a stack overflow error?\n",
    "\n",
    "def fact(n):\n",
    "    if(n == 0):\n",
    "        return 1\n",
    "    return n * fact(n - 1)\n",
    " \n",
    "if __name__ == '__main__':\n",
    " \n",
    "    # taking input\n",
    "    f = int(input('Enter the number: \\n'))\n",
    " \n",
    "    print(fact(f))"
   ]
  },
  {
   "cell_type": "code",
   "execution_count": null,
   "id": "8f60bb37-682a-484d-b148-7595c0293946",
   "metadata": {},
   "outputs": [],
   "source": [
    "#Q6 Create a recursive Python function to find the greatest common divisor (GCD) of two numbers using the Euclidean algorithm.\n"
   ]
  },
  {
   "cell_type": "code",
   "execution_count": 126,
   "id": "f420f741-b5d8-4be7-bd2e-238528fa9ec3",
   "metadata": {},
   "outputs": [
    {
     "name": "stdin",
     "output_type": "stream",
     "text": [
      "enter the string abc\n"
     ]
    },
    {
     "data": {
      "text/plain": [
       "'cba'"
      ]
     },
     "execution_count": 126,
     "metadata": {},
     "output_type": "execute_result"
    }
   ],
   "source": [
    "#Q7 Write a recursive Python function to reverse a string.\n",
    "\n",
    "str1 = input(\"enter the string\")\n",
    "\n",
    "# Python Program to Reverse a String Using Recursion\n",
    "def reverse1(str1):\n",
    "    if len(str1) == 0:\n",
    "        return str1\n",
    "    else:\n",
    "        return reverse1(str1[1:]) + str1[0]\n",
    "    \n",
    "reverse1(str1)    "
   ]
  },
  {
   "cell_type": "code",
   "execution_count": 5,
   "id": "90096aed-9ebe-40e8-9421-64959019785f",
   "metadata": {},
   "outputs": [
    {
     "name": "stdout",
     "output_type": "stream",
     "text": [
      "25\n"
     ]
    }
   ],
   "source": [
    "#Q8 Create a recursive Python function to calculate the power of a number (x^n).\n",
    "\n",
    "def power(N, P):\n",
    "    \n",
    " \n",
    "    # base case..\n",
    "    if P == 0:\n",
    "        return 1\n",
    " \n",
    "    # Recurrence relation\n",
    "    return (N*power(N, P-1))\n",
    "\n",
    " \n",
    " \n",
    "# Driver code\n",
    "if __name__ == '__main__':\n",
    "    N = 5\n",
    "    P = 2\n",
    " \n",
    "    print(power(N, P))"
   ]
  },
  {
   "cell_type": "code",
   "execution_count": 6,
   "id": "7a0f44c1-121d-47d4-8b81-feedb2227983",
   "metadata": {},
   "outputs": [
    {
     "data": {
      "text/plain": [
       "27"
      ]
     },
     "execution_count": 6,
     "metadata": {},
     "output_type": "execute_result"
    }
   ],
   "source": [
    "\n",
    "power(3, 3)"
   ]
  },
  {
   "cell_type": "code",
   "execution_count": 7,
   "id": "21f2ae93-77f2-43ad-b042-4f15f36bba28",
   "metadata": {},
   "outputs": [
    {
     "name": "stdout",
     "output_type": "stream",
     "text": [
      "['ABC', 'ACB', 'BAC', 'BCA', 'CAB', 'CBA']\n"
     ]
    }
   ],
   "source": [
    "#Q9 Write a recursive Python function to find all permutations of a given string.\n",
    "\n",
    "\n",
    "import itertools\n",
    " \n",
    "if __name__ == '__main__':\n",
    "    s = 'ABC'\n",
    " \n",
    "    nums = list(s)\n",
    "    permutations = list(itertools.permutations(nums))\n",
    " \n",
    "    # Output: ['ABC', 'ACB', 'BAC', 'BCA', 'CAB', 'CBA']\n",
    "    print([''.join(permutation) for permutation in permutations])\n",
    "    \n"
   ]
  },
  {
   "cell_type": "code",
   "execution_count": 9,
   "id": "bd77158d-2d97-4d40-9999-17701054c79f",
   "metadata": {},
   "outputs": [
    {
     "name": "stdin",
     "output_type": "stream",
     "text": [
      "Enter your string:  refeer\n"
     ]
    },
    {
     "name": "stdout",
     "output_type": "stream",
     "text": [
      "refeer is not palindrome\n"
     ]
    }
   ],
   "source": [
    "#Q10 Write a recursive Python function to check if a string is a palindrome.\n",
    "\n",
    "def is_palindrome(l,r,S):\n",
    "    if l>=r:\n",
    "        return True\n",
    "    if S[l] != S[r]:\n",
    "        return False\n",
    "    return is_palindrome(l+1,r-1,S)\n",
    "\n",
    "my_string = input('Enter your string: ')\n",
    "l = 0\n",
    "r = len(my_string)-1\n",
    "\n",
    "check = is_palindrome(l,r,my_string)\n",
    "\n",
    "if check:\n",
    "    print(f\"{my_string} is palindrome\")\n",
    "else:\n",
    "    print(f\"{my_string} is not palindrome\")               \n",
    "        "
   ]
  },
  {
   "cell_type": "code",
   "execution_count": 11,
   "id": "e735f6c7-2523-4545-ada9-57a9373f90a4",
   "metadata": {},
   "outputs": [
    {
     "name": "stdout",
     "output_type": "stream",
     "text": [
      "[(1, 2, 3, 4, 5), (1, 2, 3, 5, 4), (1, 2, 4, 3, 5), (1, 2, 4, 5, 3), (1, 2, 5, 3, 4), (1, 2, 5, 4, 3), (1, 3, 2, 4, 5), (1, 3, 2, 5, 4), (1, 3, 4, 2, 5), (1, 3, 4, 5, 2), (1, 3, 5, 2, 4), (1, 3, 5, 4, 2), (1, 4, 2, 3, 5), (1, 4, 2, 5, 3), (1, 4, 3, 2, 5), (1, 4, 3, 5, 2), (1, 4, 5, 2, 3), (1, 4, 5, 3, 2), (1, 5, 2, 3, 4), (1, 5, 2, 4, 3), (1, 5, 3, 2, 4), (1, 5, 3, 4, 2), (1, 5, 4, 2, 3), (1, 5, 4, 3, 2), (2, 1, 3, 4, 5), (2, 1, 3, 5, 4), (2, 1, 4, 3, 5), (2, 1, 4, 5, 3), (2, 1, 5, 3, 4), (2, 1, 5, 4, 3), (2, 3, 1, 4, 5), (2, 3, 1, 5, 4), (2, 3, 4, 1, 5), (2, 3, 4, 5, 1), (2, 3, 5, 1, 4), (2, 3, 5, 4, 1), (2, 4, 1, 3, 5), (2, 4, 1, 5, 3), (2, 4, 3, 1, 5), (2, 4, 3, 5, 1), (2, 4, 5, 1, 3), (2, 4, 5, 3, 1), (2, 5, 1, 3, 4), (2, 5, 1, 4, 3), (2, 5, 3, 1, 4), (2, 5, 3, 4, 1), (2, 5, 4, 1, 3), (2, 5, 4, 3, 1), (3, 1, 2, 4, 5), (3, 1, 2, 5, 4), (3, 1, 4, 2, 5), (3, 1, 4, 5, 2), (3, 1, 5, 2, 4), (3, 1, 5, 4, 2), (3, 2, 1, 4, 5), (3, 2, 1, 5, 4), (3, 2, 4, 1, 5), (3, 2, 4, 5, 1), (3, 2, 5, 1, 4), (3, 2, 5, 4, 1), (3, 4, 1, 2, 5), (3, 4, 1, 5, 2), (3, 4, 2, 1, 5), (3, 4, 2, 5, 1), (3, 4, 5, 1, 2), (3, 4, 5, 2, 1), (3, 5, 1, 2, 4), (3, 5, 1, 4, 2), (3, 5, 2, 1, 4), (3, 5, 2, 4, 1), (3, 5, 4, 1, 2), (3, 5, 4, 2, 1), (4, 1, 2, 3, 5), (4, 1, 2, 5, 3), (4, 1, 3, 2, 5), (4, 1, 3, 5, 2), (4, 1, 5, 2, 3), (4, 1, 5, 3, 2), (4, 2, 1, 3, 5), (4, 2, 1, 5, 3), (4, 2, 3, 1, 5), (4, 2, 3, 5, 1), (4, 2, 5, 1, 3), (4, 2, 5, 3, 1), (4, 3, 1, 2, 5), (4, 3, 1, 5, 2), (4, 3, 2, 1, 5), (4, 3, 2, 5, 1), (4, 3, 5, 1, 2), (4, 3, 5, 2, 1), (4, 5, 1, 2, 3), (4, 5, 1, 3, 2), (4, 5, 2, 1, 3), (4, 5, 2, 3, 1), (4, 5, 3, 1, 2), (4, 5, 3, 2, 1), (5, 1, 2, 3, 4), (5, 1, 2, 4, 3), (5, 1, 3, 2, 4), (5, 1, 3, 4, 2), (5, 1, 4, 2, 3), (5, 1, 4, 3, 2), (5, 2, 1, 3, 4), (5, 2, 1, 4, 3), (5, 2, 3, 1, 4), (5, 2, 3, 4, 1), (5, 2, 4, 1, 3), (5, 2, 4, 3, 1), (5, 3, 1, 2, 4), (5, 3, 1, 4, 2), (5, 3, 2, 1, 4), (5, 3, 2, 4, 1), (5, 3, 4, 1, 2), (5, 3, 4, 2, 1), (5, 4, 1, 2, 3), (5, 4, 1, 3, 2), (5, 4, 2, 1, 3), (5, 4, 2, 3, 1), (5, 4, 3, 1, 2), (5, 4, 3, 2, 1)]\n"
     ]
    }
   ],
   "source": [
    "#Q11 Create a recursive Python function to generate all possible combinations of a list of elements.\n",
    "\n",
    "import itertools\n",
    " \n",
    "if __name__ == '__main__':\n",
    "    s = [1,2,3,4,5]\n",
    " \n",
    "    permutations = list(itertools.permutations(s))\n",
    "    \n",
    "    \n",
    "    # Output: ['ABC', 'ACB', 'BAC', 'BCA', 'CAB', 'CBA']\n",
    "    print([(permutation) for permutation in permutations])"
   ]
  },
  {
   "cell_type": "code",
   "execution_count": null,
   "id": "cf07ad8e-2d3b-4ea2-8787-d26b66c8fc95",
   "metadata": {},
   "outputs": [],
   "source": [
    "#Basic of Function. \n",
    "\n",
    "#Q1 What is a function in Python, and why is it used?\n",
    "\n",
    "#Function - is re-usuable code. we can call it n-number of times."
   ]
  },
  {
   "cell_type": "code",
   "execution_count": 12,
   "id": "481eb92b-901b-4ecf-9f86-47cdc2d8f60c",
   "metadata": {},
   "outputs": [
    {
     "data": {
      "text/plain": [
       "16"
      ]
     },
     "execution_count": 12,
     "metadata": {},
     "output_type": "execute_result"
    }
   ],
   "source": [
    "#Q2 How do you define a function in Python? Provide an example.\n",
    "\n",
    "def function1(n):\n",
    "    return n*n\n",
    "\n",
    "function1(4)    "
   ]
  },
  {
   "cell_type": "code",
   "execution_count": null,
   "id": "d5d60e1d-274d-4a1c-ad14-5e87d01269a4",
   "metadata": {},
   "outputs": [],
   "source": [
    "#Q3 Explain the difference between a function definition and a function call.\n",
    "\n",
    "#Function DEfination :- It tells function is define with the arguments.\n",
    "#Function Call: - It tells function is called and its going to execute."
   ]
  },
  {
   "cell_type": "code",
   "execution_count": 13,
   "id": "735c623e-7b5d-4afb-9635-f143ee7cfbd7",
   "metadata": {},
   "outputs": [
    {
     "data": {
      "text/plain": [
       "7"
      ]
     },
     "execution_count": 13,
     "metadata": {},
     "output_type": "execute_result"
    }
   ],
   "source": [
    "#Q4 Write a Python program that defines a function to calculate the sum of two numbers and then calls the function.\n",
    "\n",
    "def sum(a,b):\n",
    "    return(a+b)\n",
    "\n",
    "#Calling a funciton.\n",
    "\n",
    "sum(3,4)"
   ]
  },
  {
   "cell_type": "code",
   "execution_count": 14,
   "id": "156169b1-4486-45d3-9b5c-49f1b8d382da",
   "metadata": {},
   "outputs": [
    {
     "data": {
      "text/plain": [
       "'\\n function signature consists of the function prototype. It specifies the general information about a function like \\n the name, scope and parameters. Many programming languages use name mangling in order to pass along more semantic \\n information from the compilers to the linkers.\\n'"
      ]
     },
     "execution_count": 14,
     "metadata": {},
     "output_type": "execute_result"
    }
   ],
   "source": [
    "#Q5 What is a function signature, and what information does it typically include?\n",
    "\n",
    "'''\n",
    " function signature consists of the function prototype. It specifies the general information about a function like \n",
    " the name, scope and parameters. Many programming languages use name mangling in order to pass along more semantic \n",
    " information from the compilers to the linkers.\n",
    "'''\n"
   ]
  },
  {
   "cell_type": "code",
   "execution_count": 15,
   "id": "92676988-9051-44ec-b3b0-261e70638074",
   "metadata": {},
   "outputs": [
    {
     "data": {
      "text/plain": [
       "12"
      ]
     },
     "execution_count": 15,
     "metadata": {},
     "output_type": "execute_result"
    }
   ],
   "source": [
    "#Q6 Create a Python function that takes two arguments and returns their product.\n",
    "\n",
    "def product(a,b):\n",
    "    return(a*b)\n",
    "\n",
    "product(3,4)"
   ]
  },
  {
   "cell_type": "code",
   "execution_count": null,
   "id": "1d176051-149b-4a53-bfa8-39e06fe98911",
   "metadata": {},
   "outputs": [],
   "source": [
    "#Function Parameters and Arguments:\n",
    "\n",
    "#Q1 Explain the concepts of formal parameters and actual arguments in Python functions.\n",
    "\n",
    "#Actual Parameters are values supplied to the function when it is invoked\n",
    "\n",
    "#Formal Parameters are variables declared by the function that get values when the function is called."
   ]
  },
  {
   "cell_type": "code",
   "execution_count": 17,
   "id": "35f09d93-8c7c-4063-bbd7-12aa74709e93",
   "metadata": {},
   "outputs": [
    {
     "data": {
      "text/plain": [
       "-1"
      ]
     },
     "execution_count": 17,
     "metadata": {},
     "output_type": "execute_result"
    }
   ],
   "source": [
    "#Q2 Write a Python program that defines a function with default argument values.\n",
    "\n",
    "def defult_Arg(a,b):\n",
    "    return(a-b)\n",
    "\n",
    "defult_Arg(4,5)\n"
   ]
  },
  {
   "cell_type": "code",
   "execution_count": 18,
   "id": "7063399c-fa7f-4758-adf8-3b1379d30cd3",
   "metadata": {},
   "outputs": [
    {
     "data": {
      "text/plain": [
       "243"
      ]
     },
     "execution_count": 18,
     "metadata": {},
     "output_type": "execute_result"
    }
   ],
   "source": [
    "#Q3 How do you use keyword arguments in Python function calls? Provide an example.\n",
    "\n",
    "def keyword_para(a=3,b=5):\n",
    "    return(a**b)\n",
    "\n",
    "keyword_para()"
   ]
  },
  {
   "cell_type": "code",
   "execution_count": 25,
   "id": "e8efc16f-1e57-4375-9896-b5bf8af81816",
   "metadata": {},
   "outputs": [
    {
     "data": {
      "text/plain": [
       "9"
      ]
     },
     "execution_count": 25,
     "metadata": {},
     "output_type": "execute_result"
    }
   ],
   "source": [
    "#Q4 Create a Python function that accepts a variable number of arguments and calculates their sum.\n",
    "\n",
    "def var_Arg(*n1):\n",
    "    total = 0\n",
    "    for num in n1:\n",
    "        total = total + num\n",
    "    return total    \n",
    "\n",
    "var_Arg(2, 3, 4)"
   ]
  },
  {
   "cell_type": "code",
   "execution_count": 26,
   "id": "aa740398-aba3-4fd2-8236-bb268e87cf58",
   "metadata": {},
   "outputs": [
    {
     "data": {
      "text/plain": [
       "'\\n'"
      ]
     },
     "execution_count": 26,
     "metadata": {},
     "output_type": "execute_result"
    }
   ],
   "source": [
    "#Q5 What is the purpose of the `*args` and `**kwargs` syntax in function parameter lists?\n",
    "\n",
    "#*args : - It is used to give input dynamically for string or list.\n",
    "\n",
    "#*kwargs : -  It is used to give input dynamically for dictonary.\n",
    "'''\n",
    "'''"
   ]
  },
  {
   "cell_type": "code",
   "execution_count": 27,
   "id": "4326ad1c-6e26-4c17-8461-6d260db297c5",
   "metadata": {},
   "outputs": [
    {
     "data": {
      "text/plain": [
       "12"
      ]
     },
     "execution_count": 27,
     "metadata": {},
     "output_type": "execute_result"
    }
   ],
   "source": [
    "#Return Values and Scoping\n",
    "\n",
    "#Q1 Describe the role of the `return` statement in Python functions and provide examples.\n",
    "\n",
    "#Return:- Return is used to retun the result.\n",
    "\n",
    "def funct1(a,b):\n",
    "    return(a*b)\n",
    "\n",
    "funct1(3,4)"
   ]
  },
  {
   "cell_type": "code",
   "execution_count": null,
   "id": "d9fff9e6-be39-458f-bf9f-a325fa2c26e9",
   "metadata": {},
   "outputs": [],
   "source": [
    "#Q2 Explain the concept of variable scope in Python, including local and global variables.\n",
    "\n",
    "#Python Global variables are those which are not defined inside any function and have a global scope \n",
    "#Python local variables are those which are defined inside a function and their scope is limited to that function only.\n"
   ]
  },
  {
   "cell_type": "code",
   "execution_count": 31,
   "id": "be01df7d-973d-4556-a763-b58376755adf",
   "metadata": {},
   "outputs": [
    {
     "name": "stdout",
     "output_type": "stream",
     "text": [
      "Enter the value of var1  20\n"
     ]
    }
   ],
   "source": [
    "#Q3 Write a Python program that demonstrates the use of global variables within functions.\n",
    "\n",
    "var1 = 20\n",
    "\n",
    "def funct2():\n",
    "    print(\"Enter the value of var1 \" ,var1)\n",
    "    \n",
    "funct2()    "
   ]
  },
  {
   "cell_type": "code",
   "execution_count": 36,
   "id": "01443da5-8f17-4f43-8dd3-16e71e84987f",
   "metadata": {},
   "outputs": [
    {
     "data": {
      "text/plain": [
       "24"
      ]
     },
     "execution_count": 36,
     "metadata": {},
     "output_type": "execute_result"
    }
   ],
   "source": [
    "#Q4 Create a Python function that calculates the factorial of a number and returns it.\n",
    "\n",
    "def fact(n):\n",
    "    if n == 1:\n",
    "        return(1)\n",
    "    else:\n",
    "        return(n*fact(n-1))\n",
    "           \n",
    "fact(4)           "
   ]
  },
  {
   "cell_type": "code",
   "execution_count": 38,
   "id": "df9aa635-8a57-4bda-9b48-41cb3d173b02",
   "metadata": {},
   "outputs": [
    {
     "data": {
      "text/plain": [
       "200"
      ]
     },
     "execution_count": 38,
     "metadata": {},
     "output_type": "execute_result"
    }
   ],
   "source": [
    "#Q5 How can you access variables defined outside a function from within the function?\n",
    "\n",
    "var1 = 40\n",
    "\n",
    "def funct3():\n",
    "    \n",
    "    #calling the outside variable in function.\n",
    "    return(var1*5)\n",
    "\n",
    "funct3()"
   ]
  },
  {
   "cell_type": "code",
   "execution_count": null,
   "id": "ba17e5ee-76e1-4953-a78c-b66236b4a928",
   "metadata": {},
   "outputs": [],
   "source": [
    "#Lambda Functions and Higher-Order Functions:\n",
    "\n",
    "#Q1 What are lambda functions in Python, and when are they typically used?\n",
    "\n",
    "# lambda function - is a annonmous function and used without body.\n",
    "\n",
    "# Uses of lambda function: - It is used usually with filter,reduce and map function to get result. its a one liner function."
   ]
  },
  {
   "cell_type": "code",
   "execution_count": 45,
   "id": "fa5b79de-a0eb-432e-adbf-072b0a94d793",
   "metadata": {},
   "outputs": [
    {
     "name": "stdout",
     "output_type": "stream",
     "text": [
      "[1, 2, 3, 4, 5, 9]\n"
     ]
    }
   ],
   "source": [
    "#Q2 Write a Python program that uses lambda functions to sort a list of tuples based on the second element.\n",
    "\n",
    "t1 = (2,3,5,1,9,4)\n",
    "\n",
    "sorted_list = sorted(t1)\n",
    "print(sorted_list) "
   ]
  },
  {
   "cell_type": "code",
   "execution_count": 49,
   "id": "87839cce-4da6-4be6-94ef-3da620bb260a",
   "metadata": {},
   "outputs": [
    {
     "name": "stdin",
     "output_type": "stream",
     "text": [
      "enter three numbers 2 3 4\n"
     ]
    },
    {
     "name": "stdout",
     "output_type": "stream",
     "text": [
      "2 3 4\n"
     ]
    }
   ],
   "source": [
    "#Q3 Explain the concept of higher-order functions in Python, and provide an example.\n",
    "\n",
    "#Higher-order functions are functions that take a function as a parameter and/or return a function as an output.\n",
    "\n",
    "a,b,c = map(int,input(\"enter three numbers\").split())\n",
    "\n",
    "print(a,b,c)"
   ]
  },
  {
   "cell_type": "code",
   "execution_count": 58,
   "id": "e85cc982-4216-4611-872f-f61f8bbd5ed8",
   "metadata": {},
   "outputs": [
    {
     "name": "stdout",
     "output_type": "stream",
     "text": [
      "8\n",
      "12\n",
      "16\n",
      "20\n",
      "24\n",
      "32\n",
      "36\n"
     ]
    }
   ],
   "source": [
    "#Q4 Create a Python function that takes a list of numbers and a function as arguments, applying the function to each \n",
    "#   element in the list.\n",
    "\n",
    "l1 = [2,3,4,5,6,8,9]\n",
    "\n",
    "def funct5(a):\n",
    "    for i in l1: \n",
    "        print(i*a)\n",
    "\n",
    "funct5(4)\n"
   ]
  },
  {
   "cell_type": "code",
   "execution_count": 59,
   "id": "7e0ba231-0665-4aa9-b210-0a8c499b0821",
   "metadata": {},
   "outputs": [],
   "source": [
    "#Built-in Functions:\n",
    "\n",
    "#Q1 Describe the role of built-in functions like `len()`, `max()`, and `min()` in Python.\n",
    "\n",
    "#len() - length function is used to get lenght of the string, list.\n",
    "#max() - Max funciton is used to get maximum value from list.\n",
    "#min() - min function is used to get minimum valuefrom list."
   ]
  },
  {
   "cell_type": "code",
   "execution_count": 61,
   "id": "25e2ee96-ad2e-4cd5-9c37-f067001e0ece",
   "metadata": {},
   "outputs": [
    {
     "name": "stdout",
     "output_type": "stream",
     "text": [
      "[4, 9, 16, 36, 49, 64, 81]\n"
     ]
    }
   ],
   "source": [
    "#Q2 Write a Python program that uses the `map()` function to apply a function to each element of a list.\n",
    "\n",
    "l1 = [2,3,4,6,7,8,9]\n",
    "\n",
    "list1 = list(map(lambda a : a*a , l1))\n",
    "\n",
    "print(list1)"
   ]
  },
  {
   "cell_type": "code",
   "execution_count": null,
   "id": "f8f103d2-70d0-4fcf-843e-38336be45bcb",
   "metadata": {},
   "outputs": [],
   "source": [
    "#Q3 How does the `filter()` function work in Python, and when would you use it?\n",
    "\n",
    "# Filter function - is used to get specific data from the list after applying the condition. "
   ]
  },
  {
   "cell_type": "code",
   "execution_count": 63,
   "id": "50beb0cf-af13-4313-8398-20bc7263335b",
   "metadata": {},
   "outputs": [
    {
     "name": "stdout",
     "output_type": "stream",
     "text": [
      "8\n"
     ]
    }
   ],
   "source": [
    "#Q4 Create a Python program that uses the `reduce()` function to find the product of all elements in a list.\n",
    "\n",
    "from functools import reduce\n",
    "\n",
    "l1 = [1,3,4,5,7,8,3]\n",
    "\n",
    "reduce1 = reduce(lambda a,b : a if a > b else b , l1)\n",
    "\n",
    "print(reduce1)"
   ]
  },
  {
   "cell_type": "code",
   "execution_count": null,
   "id": "e9eb231c-c6a7-4eec-9af6-1eda8c31404b",
   "metadata": {},
   "outputs": [],
   "source": [
    "# Function Documentation and Best Practices:\n",
    "\n",
    "#Q1 Explain the purpose of docstrings in Python functions and how to write them.\n",
    "\n",
    "'''\n",
    "Python documentation strings (or docstrings) provide a convenient way of associating documentation with Python modules, \n",
    "functions, classes, and methods. It's specified in source code that is used, like a comment, to document a specific \n",
    "segment of code.\n",
    "'''"
   ]
  },
  {
   "cell_type": "code",
   "execution_count": null,
   "id": "a61fefff-f5a1-48dc-ac88-56ee86f6fc88",
   "metadata": {},
   "outputs": [],
   "source": [
    "#Q2 Describe some best practices for naming functions and variables in Python, including naming conventions and \n",
    "#   guidelines.\n",
    "\n",
    "'''\n",
    "1. Function name should be match with the function output.\n",
    "2. Name should be started with some key value and it will maintane through out the program.\n",
    "3. Proper commenting is required.\n",
    "4. proper documentation of logic should he available.\n",
    "\n",
    "'''\n",
    "\n"
   ]
  },
  {
   "cell_type": "code",
   "execution_count": null,
   "id": "718fa9bf-e715-4de2-adb7-ec87570808bc",
   "metadata": {},
   "outputs": [],
   "source": []
  },
  {
   "cell_type": "code",
   "execution_count": null,
   "id": "f498c743-ecb5-4001-a405-4f41b6275c02",
   "metadata": {},
   "outputs": [],
   "source": []
  }
 ],
 "metadata": {
  "kernelspec": {
   "display_name": "Python 3 (ipykernel)",
   "language": "python",
   "name": "python3"
  },
  "language_info": {
   "codemirror_mode": {
    "name": "ipython",
    "version": 3
   },
   "file_extension": ".py",
   "mimetype": "text/x-python",
   "name": "python",
   "nbconvert_exporter": "python",
   "pygments_lexer": "ipython3",
   "version": "3.10.8"
  }
 },
 "nbformat": 4,
 "nbformat_minor": 5
}
