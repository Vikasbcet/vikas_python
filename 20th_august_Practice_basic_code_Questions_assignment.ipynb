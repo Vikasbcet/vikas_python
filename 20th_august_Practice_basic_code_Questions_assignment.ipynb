{
 "cells": [
  {
   "cell_type": "code",
   "execution_count": 6,
   "id": "0ff55007-ee20-4db6-87d9-4a1afecb0b5e",
   "metadata": {},
   "outputs": [
    {
     "name": "stdout",
     "output_type": "stream",
     "text": [
      ".gnirts lasrever si sihT\n"
     ]
    }
   ],
   "source": [
    "''' \n",
    "String Based Practice Questions.\n",
    "\n",
    "TOPIC: String Based Assignment Problem.\n",
    "'''\n",
    "#Q1. Write a program to reverse a string.\n",
    "\n",
    "str1 = \"This is reversal string.\"\n",
    "\n",
    "str2 = str1[::-1]\n",
    "print(str2)\n",
    "\n",
    "# output := .gnirts lasrever si sihT\n",
    " \n"
   ]
  },
  {
   "cell_type": "code",
   "execution_count": 5,
   "id": "c0d2343a-172a-4b16-9906-d955b64292fb",
   "metadata": {},
   "outputs": [
    {
     "name": "stdin",
     "output_type": "stream",
     "text": [
      "Input the string for palindrome :   navin\n"
     ]
    },
    {
     "name": "stdout",
     "output_type": "stream",
     "text": [
      "string is not palindrome navin\n"
     ]
    }
   ],
   "source": [
    "# Q2. Check if a string is a palindrome.\n",
    "\n",
    "# input the string.\n",
    "\n",
    "str7 = input(\"Input the string for palindrome :  \" )\n",
    "\n",
    "# calculate the length and divide by 2 to get match with string\n",
    "# Creating count variable to count the matching occourancing.\n",
    "# Matching first and last word of sring using If loopand count the matching occourance and at the end chedck with the count. \n",
    "# if count is matched, then it's palindrom.\n",
    "\n",
    "strlen = int(len(str7))\n",
    "cnt1 = 0\n",
    "for i in range( 0, round(strlen/2),  1 ) :\n",
    "    if str7[i] == str7[strlen-i-1] :\n",
    "        cnt = 1\n",
    "        cnt1 = cnt + cnt1\n",
    "        \n",
    "if cnt1 == round(strlen/2) :\n",
    "    print(\"sting is palindrome \" , str7)\n",
    "               \n",
    "else : print(\"string is not palindrome\" , str7)\n",
    " \n",
    "# Input the string for:   navin\n",
    "# string is not palindrome navin\n",
    "  \n",
    "# Input the string for palindrome :   naman\n",
    "# sting is palindrome  naman    "
   ]
  },
  {
   "cell_type": "code",
   "execution_count": 12,
   "id": "9c6d38fb-a711-4b71-8f4d-7ff2bf4654c0",
   "metadata": {},
   "outputs": [
    {
     "name": "stdout",
     "output_type": "stream",
     "text": [
      "STRING TO UPPERCASE.\n",
      "string to uppercase.\n"
     ]
    }
   ],
   "source": [
    "\n",
    "#Q3. Convert a string to uppercase.\n",
    "#Q4. Convert a string to lowercase.\n",
    "\n",
    "str2 = \"string to Uppercase.\"\n",
    "\n",
    "str3 = str2.upper()\n",
    "str4 = str2.lower()\n",
    "\n",
    "print(str3)\n",
    "print(str4)\n",
    "\n",
    "# STRING TO UPPERCASE.\n",
    "#string to uppercase."
   ]
  },
  {
   "cell_type": "code",
   "execution_count": 15,
   "id": "9ef07596-6eb6-407f-bac0-b67b7b1a71a7",
   "metadata": {},
   "outputs": [
    {
     "name": "stdin",
     "output_type": "stream",
     "text": [
      "Please input the sentence :  This is a string to count the vowels in it.\n"
     ]
    },
    {
     "name": "stdout",
     "output_type": "stream",
     "text": [
      "Input String as :  This is a string to count the vowels in it.\n",
      "count of Vowels in the string :  12\n"
     ]
    }
   ],
   "source": [
    "\n",
    "#Q5. Count the number of vowels in a string.\n",
    "\n",
    "# Doing using Stirng datatype. \n",
    "# Ask the input from user using INPUT function.\n",
    "\n",
    "str3 = input(\"Please input the sentence : \")\n",
    "\n",
    "vowel = 'aeiou'\n",
    "\n",
    "# Checking for the count of vowels in the string.\n",
    "cnt3 = 0\n",
    "for x in vowel:\n",
    "   \n",
    "      \n",
    "    if str3.count(x) > 0 :\n",
    "        \n",
    "        cnt2 = str3.count(x)\n",
    "        cnt3 = cnt2  + cnt3\n",
    "\n",
    "print(\"Input String as : \" , str3) \n",
    "print(\"count of Vowels in the string : \" , cnt3)\n",
    "\n",
    "#Input String as :  This is a string to count the vowels in it.\n",
    "#count of Vowels in the string :  12"
   ]
  },
  {
   "cell_type": "code",
   "execution_count": 23,
   "id": "55fd9ee9-c568-436e-b867-edf2b979e5a0",
   "metadata": {},
   "outputs": [
    {
     "name": "stdin",
     "output_type": "stream",
     "text": [
      "Please input the sentence :  This is a string to count the vowels in it.\n"
     ]
    },
    {
     "name": "stdout",
     "output_type": "stream",
     "text": [
      "Input String as :  This is a string to count the vowels in it.\n",
      "count of consonents in the string :  22\n"
     ]
    }
   ],
   "source": [
    "#Q6. Count the number of consonants in a string.\n",
    "\n",
    "# Doing using Stirng datatype. \n",
    "# Ask the input from user using INPUT function.\n",
    "\n",
    "str3 = input(\"Please input the sentence : \")\n",
    "\n",
    "str4 = str3.lower()\n",
    "consonent = 0\n",
    "vowels = 0\n",
    "cnt = 0\n",
    "for i in str4:\n",
    "   \n",
    "      \n",
    "    if (i == 'a' or i == 'e' or i == 'i' or i == 'o' or  i == 'u' ):\n",
    "        vowels = vowels + 1\n",
    "    elif ( i == ' '):\n",
    "         cnt1 = cnt1 + 1        \n",
    "    else: \n",
    "        consonent =  consonent + 1\n",
    "             \n",
    "\n",
    "print(\"Input String as : \" , str3) \n",
    "print(\"count of consonents in the string : \" , consonent)\n",
    "\n",
    "#Input String as :  This is a string to count the vowels in it.\n",
    "#count of consonents in the string :  22\n"
   ]
  },
  {
   "cell_type": "code",
   "execution_count": 24,
   "id": "ac40a460-2e6c-40cb-897f-e1a1ea4ee5b8",
   "metadata": {},
   "outputs": [
    {
     "name": "stdin",
     "output_type": "stream",
     "text": [
      "Please input the sentence :  this is a string.\n"
     ]
    },
    {
     "name": "stdout",
     "output_type": "stream",
     "text": [
      "Input String as :  this is a string.\n",
      "Remove all whitespaces from a string:  thisisastring.\n"
     ]
    }
   ],
   "source": [
    "#Q7. Remove all whitespaces from a string.\n",
    "\n",
    "\n",
    "str3 = input(\"Please input the sentence : \")\n",
    "\n",
    "str4 = str3.replace(' ', '')\n",
    "\n",
    "print(\"Input String as : \" , str3) \n",
    "print(\"Remove all whitespaces from a string: \" , str4)\n",
    "\n",
    "#Input String as :  this is a string.\n",
    "#Remove all whitespaces from a string:  thisisastring."
   ]
  },
  {
   "cell_type": "code",
   "execution_count": 42,
   "id": "28ba1ebd-acf6-439c-b255-bfd20b79d171",
   "metadata": {},
   "outputs": [
    {
     "name": "stdin",
     "output_type": "stream",
     "text": [
      "Please input the sentence :  this is a string\n"
     ]
    },
    {
     "name": "stdout",
     "output_type": "stream",
     "text": [
      "g\n",
      "16\n"
     ]
    }
   ],
   "source": [
    "#8. Find the length of a string without using the `len()` function.\n",
    "\n",
    "\n",
    "str3 = input(\"Please input the sentence : \")\n",
    "\n",
    "# reverse the string to get last position element. \n",
    "# get index of the element. \n",
    "str4 = str3[-1]\n",
    "str5 = str3.index(str4,-1) + 1\n",
    "print(str4)\n",
    "print(str5)\n",
    "\n",
    "#Please input the sentence :  this is a string\n",
    "#g\n",
    "#16"
   ]
  },
  {
   "cell_type": "code",
   "execution_count": 54,
   "id": "57efdc9f-c00e-4fe4-8db2-2fc1e61e0e5b",
   "metadata": {},
   "outputs": [
    {
     "name": "stdin",
     "output_type": "stream",
     "text": [
      "Please input the sentence :  this is $100 question.\n"
     ]
    },
    {
     "name": "stdout",
     "output_type": "stream",
     "text": [
      "found special character\n"
     ]
    }
   ],
   "source": [
    "#Q9. Check if a string contains a specific word.\n",
    "\n",
    "str3 = input(\"Please input the sentence : \")\n",
    "spchr = \"0123456789@!#$%^&*-+\"\n",
    "cnt1= 0\n",
    "for i in spchr:\n",
    "    if str3.find(i)  :\n",
    "        cnt1 = cnt1 + 1\n",
    "        \n",
    "\n",
    "if cnt1 > 0 :\n",
    "    print(\"found special character\")\n",
    "else :     \n",
    "    print(\"Not found special character\")    \n",
    "    \n",
    "#Please input the sentence :  this is a string\n",
    "#Not found special character    \n",
    "\n",
    "#Please input the sentence :  this is $100 question.\n",
    "#found special character"
   ]
  },
  {
   "cell_type": "code",
   "execution_count": 55,
   "id": "41aa47f6-e4e0-487f-90bf-a487b3e85bd0",
   "metadata": {},
   "outputs": [
    {
     "name": "stdout",
     "output_type": "stream",
     "text": [
      "thns ns a strnng.\n"
     ]
    }
   ],
   "source": [
    "#Q10. Replace a word in a string with another word.\n",
    "\n",
    "str1 = 'this is a string.'\n",
    "str2 = str1.replace('i' ,'n')\n",
    "print(str2)\n",
    "\n",
    "#thns ns a strnng."
   ]
  },
  {
   "cell_type": "code",
   "execution_count": 58,
   "id": "60db8428-bb23-479f-b334-aeddf6369ddc",
   "metadata": {},
   "outputs": [
    {
     "name": "stdout",
     "output_type": "stream",
     "text": [
      "2\n"
     ]
    }
   ],
   "source": [
    "#Q11. Count the occurrences of a word in a string.\n",
    "\n",
    "str1 = 'this is a string'\n",
    "str2 = str1.count('is')\n",
    "print(str2)\n",
    "# 2"
   ]
  },
  {
   "cell_type": "code",
   "execution_count": 10,
   "id": "a8236bce-1e5c-4b9f-8743-378f2ea9173c",
   "metadata": {},
   "outputs": [
    {
     "name": "stdout",
     "output_type": "stream",
     "text": [
      "['This', 'is', 'a', 'string.']\n",
      "This\n"
     ]
    }
   ],
   "source": [
    "#Q12. Find the first occurrence of a word in a string.\n",
    "\n",
    "str1 = \"This is a string.\"\n",
    "\n",
    "str2 = str1.split()\n",
    "str3 = str2[0]\n",
    "print(str2)\n",
    "print(str3)\n",
    "\n",
    "#['This', 'is', 'a', 'string.']\n",
    "#This"
   ]
  },
  {
   "cell_type": "code",
   "execution_count": 12,
   "id": "924f7749-791e-4341-8e5e-5a301a2cfc61",
   "metadata": {},
   "outputs": [
    {
     "name": "stdout",
     "output_type": "stream",
     "text": [
      "['This', 'is', 'a', 'string.']\n",
      "string.\n"
     ]
    }
   ],
   "source": [
    "#Q13. Find the last occurrence of a word in a string.\n",
    "\n",
    "str1 = \"This is a string.\"\n",
    "\n",
    "str2 = str1.split()\n",
    "str3 = str2[-1]\n",
    "print(str2)\n",
    "print(str3)\n",
    "\n",
    "#['This', 'is', 'a', 'string.']\n",
    "#string."
   ]
  },
  {
   "cell_type": "code",
   "execution_count": 20,
   "id": "548b2633-2e09-4d41-bb39-f7163b4087db",
   "metadata": {},
   "outputs": [
    {
     "name": "stdout",
     "output_type": "stream",
     "text": [
      "['This', 'is', 'a', 'string.']\n"
     ]
    }
   ],
   "source": [
    "#Q14. Split a string into a list of words.\n",
    "\n",
    "str1 = \"This is a string.\"\n",
    "\n",
    "str2 = list(str1.split())\n",
    "\n",
    "print(str2)\n",
    "#['This', 'is', 'a', 'string.']\n",
    "\n"
   ]
  },
  {
   "cell_type": "code",
   "execution_count": 23,
   "id": "5bbd5f2a-f13c-429a-bdfc-5c93c7ac206c",
   "metadata": {},
   "outputs": [
    {
     "name": "stdout",
     "output_type": "stream",
     "text": [
      "['abc', 'xyz', 'ram', 'sham']\n",
      "['abc', 'xyz', 'ram', 'sham']\n"
     ]
    }
   ],
   "source": [
    "#Q15. Join a list of words into a string.\n",
    "list1 = [ 'abc', 'xyz', 'ram' , 'sham' ]\n",
    "\n",
    "str1 = str(list1)\n",
    "\n",
    "print(str1)\n",
    "print(str2)\n",
    "#['abc', 'xyz', 'ram', 'sham']"
   ]
  },
  {
   "cell_type": "code",
   "execution_count": 49,
   "id": "1fafc8c3-a251-4621-b184-f50a088a1060",
   "metadata": {},
   "outputs": [
    {
     "name": "stdout",
     "output_type": "stream",
     "text": [
      "['This'_ 'is'_ 'a'_ 'string'_ 'separated'_ 'by'_ 'spaces.']\n"
     ]
    }
   ],
   "source": [
    "#Q16. Convert a string where words are separated by spaces to one where words are separated by underscores.\n",
    "\n",
    "str1 = \" This is a string separated by spaces.\"\n",
    "\n",
    "str4 = str(str1.split( ))\n",
    "\n",
    "str5= str4.replace(',' , '_')\n",
    "type(str4)\n",
    "print(str5)\n",
    "\n",
    "#['This'_ 'is'_ 'a'_ 'string'_ 'separated'_ 'by'_ 'spaces.']"
   ]
  },
  {
   "cell_type": "code",
   "execution_count": 57,
   "id": "a136cd1a-795f-4e52-9703-ee043b570bb0",
   "metadata": {},
   "outputs": [
    {
     "name": "stdin",
     "output_type": "stream",
     "text": [
      "Please input the string :  My Dog is hungry.\n"
     ]
    },
    {
     "name": "stdout",
     "output_type": "stream",
     "text": [
      "String is started with phrase.\n"
     ]
    }
   ],
   "source": [
    "#Q17. Check if a string starts with a specific word or phrase.\n",
    "\n",
    "str1 = input(\"Please input the string : \")\n",
    "\n",
    "# Use find function, if it found the phrase in start will return with 0 value , means got it in starting otherwise its not. \n",
    "\n",
    "phrase = \"My Dog\"\n",
    "\n",
    "if str1.find(phrase) == 0 :\n",
    "        print(\"String is started with phrase.\")\n",
    "else :        \n",
    "        print(\" String is not started with phrae.\")\n",
    "\n",
    "        \n",
    "#Please input the string :  hi My Dog is hungry\n",
    "# String is not started with phrae.\n",
    "\n",
    "#Please input the string :  My Dog is hungry.\n",
    "#String is started with phrase."
   ]
  },
  {
   "cell_type": "code",
   "execution_count": 69,
   "id": "3a6e6593-0a03-4a6d-9a89-517698ba6f6c",
   "metadata": {},
   "outputs": [
    {
     "name": "stdin",
     "output_type": "stream",
     "text": [
      "Please input the string :  That is My Dog and good.\n"
     ]
    },
    {
     "name": "stdout",
     "output_type": "stream",
     "text": [
      " String is not ended with phrae.\n"
     ]
    }
   ],
   "source": [
    "#Q18. Check if a string ends with a specific word or phrase.\n",
    "\n",
    "str1 = input(\"Please input the string : \")\n",
    "\n",
    "phrase = \"My Dog\"\n",
    "str3 = len(phrase)\n",
    "str4 = len(str1)\n",
    "\n",
    "str2 = str1.find(phrase)\n",
    "if len(phrase) + str2 == len(str1) :\n",
    "      print(\"String is ended with phrase.\")\n",
    "else :        \n",
    "        print(\" String is not ended with phrae.\")\n",
    "    \n",
    "\n",
    "#Please input the string :  This is My Dog\n",
    "#String is ended with phrase.    \n",
    "\n",
    "#Please input the string :  That is My Dog and good.\n",
    "#String is not ended with phrae."
   ]
  },
  {
   "cell_type": "code",
   "execution_count": 70,
   "id": "86b0024b-89c6-45eb-be55-9a50b4fc1f7e",
   "metadata": {},
   "outputs": [
    {
     "name": "stdout",
     "output_type": "stream",
     "text": [
      "Hello World\n"
     ]
    }
   ],
   "source": [
    "#Q19. Convert a string to title case (e.g., \"hello world\" to \"Hello World\").\n",
    "\n",
    "str1 = \"hello world\"\n",
    "\n",
    "str2 = str1.title()\n",
    "\n",
    "print(str2)\n",
    "\n",
    "#Hello World"
   ]
  },
  {
   "cell_type": "code",
   "execution_count": 75,
   "id": "556e80fc-12e7-46d5-86b5-6f4893c1b791",
   "metadata": {},
   "outputs": [
    {
     "name": "stdin",
     "output_type": "stream",
     "text": [
      " Please add your input string : This is one of the longest word string.\n"
     ]
    },
    {
     "name": "stdout",
     "output_type": "stream",
     "text": [
      "Input string is  This is one of the longest word string.\n",
      "Longest Word in the string is :  7\n"
     ]
    }
   ],
   "source": [
    "#Q20. Find the longest word in a string.\n",
    "\n",
    "str1 = input (\" Please add your input string :\")\n",
    "\n",
    "str2 = str1.split()\n",
    "cnt =0\n",
    "cnt1 = 0\n",
    "for i in str2 :\n",
    "    cnt = len(i) \n",
    "    if cnt > cnt1 :\n",
    "        cnt1 = cnt\n",
    "\n",
    "print(\"Input string is \" , str1)\n",
    "print(\"Longest Word in the string is : \" , cnt1)\n",
    "\n",
    "#Input string is  This is one of the longest word string.\n",
    "#Longest Word in the string is :  7"
   ]
  },
  {
   "cell_type": "code",
   "execution_count": 83,
   "id": "3c674c09-36a5-4570-8ee3-8d8c7780727c",
   "metadata": {},
   "outputs": [
    {
     "name": "stdin",
     "output_type": "stream",
     "text": [
      " Please add your input string : This is shorter sting.\n"
     ]
    },
    {
     "name": "stdout",
     "output_type": "stream",
     "text": [
      "Input string is  This is shorter sting.\n",
      "Shortest Word in the string is :  2\n"
     ]
    }
   ],
   "source": [
    "#Q21. Find the shortest word in a string.\n",
    "\n",
    "str1 = input (\" Please add your input string :\")\n",
    "\n",
    "str2 = str1.split()\n",
    "cnt =0\n",
    "cnt1 = len(str2[0])\n",
    "\n",
    "for i in str2 :\n",
    "    cnt = len(i) \n",
    "    if cnt < cnt1 :\n",
    "        cnt1 = cnt\n",
    "\n",
    "print(\"Input string is \" , str1)\n",
    "print(\"Shortest Word in the string is : \" , cnt1)\n",
    "\n",
    "#Input string is  This is shorter sting.\n",
    "#Shortest Word in the string is :  2\n"
   ]
  },
  {
   "cell_type": "code",
   "execution_count": 120,
   "id": "3faca24a-f1f3-401b-b24d-412e39f2ff2c",
   "metadata": {},
   "outputs": [
    {
     "name": "stdout",
     "output_type": "stream",
     "text": [
      "input string is  This is reversiable string\n",
      "Output reversiable string is  ['string', 'reversiable', 'is', 'This']\n"
     ]
    }
   ],
   "source": [
    "#Q22. Reverse the order of words in a string.\n",
    "\n",
    "str1 = \"This is reversiable string\"\n",
    "\n",
    "str2 = str1.split()\n",
    "\n",
    "str3= []\n",
    "\n",
    "for i in range(0,len(str2),1) :\n",
    "    \n",
    "    str4 = str2.pop()\n",
    "    str3.append(str4)   \n",
    "\n",
    "print(\"input string is \" , str1)    \n",
    "print(\"Output reversiable string is \" , str3)\n",
    "   \n",
    "#input string is  This is reversiable string\n",
    "#Output reversiable string is  ['string', 'reversiable', 'is', 'This']    "
   ]
  },
  {
   "cell_type": "code",
   "execution_count": 127,
   "id": "d8b17c8e-f27a-4541-99c6-99f3ee0fa295",
   "metadata": {},
   "outputs": [
    {
     "name": "stdin",
     "output_type": "stream",
     "text": [
      "add your input here:   this is 100th string.\n"
     ]
    },
    {
     "name": "stdout",
     "output_type": "stream",
     "text": [
      "String is alphanumberioc\n"
     ]
    }
   ],
   "source": [
    "#Q23. Check if a string is alphanumeric.\n",
    "\n",
    "str1 = input(\"add your input here:  \")\n",
    "\n",
    "str2 = \"0123456789\"\n",
    "\n",
    "for i in str2:\n",
    "    if str1.count(i) > 0:\n",
    "        print(\"String is alphanumberioc\")\n",
    "        break\n",
    "    else: \n",
    "        print(\"String is not alphanumeric\")\n",
    "        break\n",
    "        \n",
    "#add your input here:   this is 100th string.\n",
    "#String is alphanumberioc        \n",
    "        "
   ]
  },
  {
   "cell_type": "code",
   "execution_count": 153,
   "id": "f540a47f-bc3a-4f04-8f87-213172102808",
   "metadata": {},
   "outputs": [
    {
     "name": "stdin",
     "output_type": "stream",
     "text": [
      "add your input here:   This is 0 and 1 value string.\n"
     ]
    },
    {
     "name": "stdout",
     "output_type": "stream",
     "text": [
      "Input string as:  This is 0 and 1 value string.\n",
      "Extracted digit from the string:  ['0', '1']\n"
     ]
    }
   ],
   "source": [
    "#Q24. Extract all digits from a string.\n",
    "\n",
    "str1 = input(\"add your input here:  \")\n",
    "\n",
    "digit = '0123456789'\n",
    "str3 =str1.split()\n",
    "str4 = []\n",
    "for i in digit:\n",
    "    if str3.count(i) == True :\n",
    "        str4.append(i)\n",
    "   \n",
    "print(\"Input string as: \" , str1)\n",
    "print(\"Extracted digit from the string: \" , str4)        \n",
    "    \n",
    "\n",
    "#Input string as:  This is 0 and 1 value string.\n",
    "#Extracted digit from the string:  ['0', '1']    "
   ]
  },
  {
   "cell_type": "code",
   "execution_count": 159,
   "id": "c70b905a-2b49-4ad1-99f1-3ba86aba1e24",
   "metadata": {},
   "outputs": [
    {
     "name": "stdin",
     "output_type": "stream",
     "text": [
      "add your input here:   this is 0 and 1 value string.\n"
     ]
    },
    {
     "name": "stdout",
     "output_type": "stream",
     "text": [
      "Input string as:  this is 0 and 1 value string.\n",
      "Extracted character from the string:  ['this', 'is', 'and', 'value']\n"
     ]
    }
   ],
   "source": [
    "#Q25. Extract all alphabets from a string.\n",
    "\n",
    "str1 = input(\"add your input here:  \")\n",
    "\n",
    "str3 =str1.split()\n",
    "str4 = []\n",
    "\n",
    "for i in str3:\n",
    "    if i.isalpha() :\n",
    "        str4.append(i)\n",
    "        \n",
    "    \n",
    "   \n",
    "print(\"Input string as: \" , str1)\n",
    "print(\"Extracted character from the string: \" , str4)   \n",
    "\n",
    "#Input string as:  this is 0 and 1 value string.\n",
    "#Extracted character from the string:  ['this', 'is', 'and', 'value']"
   ]
  },
  {
   "cell_type": "code",
   "execution_count": 169,
   "id": "ae341a6a-da3d-4646-bf4d-663cac7ce5a0",
   "metadata": {},
   "outputs": [
    {
     "name": "stdin",
     "output_type": "stream",
     "text": [
      "add your input here:   This is Great Learning Point.\n"
     ]
    },
    {
     "name": "stdout",
     "output_type": "stream",
     "text": [
      "4\n"
     ]
    }
   ],
   "source": [
    "#Q26. Count the number of uppercase letters in a string.\n",
    "\n",
    "str1 = input(\"add your input here:  \")\n",
    "\n",
    "str3 = str1.split()\n",
    "cnt=0\n",
    "for i in str1:\n",
    "    if i.isupper() == True:\n",
    "        cnt =cnt + 1\n",
    "       \n",
    "        \n",
    "print(cnt)\n",
    "\n",
    "#add your input here:   This is Great Learning Point.\n",
    "# 4"
   ]
  },
  {
   "cell_type": "code",
   "execution_count": 170,
   "id": "1c2ca954-0cdb-4ab8-9f0b-b4553ea498c2",
   "metadata": {},
   "outputs": [
    {
     "name": "stdin",
     "output_type": "stream",
     "text": [
      "add your input here:   This is Great Learning Point.\n"
     ]
    },
    {
     "name": "stdout",
     "output_type": "stream",
     "text": [
      "20\n"
     ]
    }
   ],
   "source": [
    "#Q27. Count the number of lowercase letters in a string.\n",
    "\n",
    "str1 = input(\"add your input here:  \")\n",
    "\n",
    "str3 = str1.split()\n",
    "cnt=0\n",
    "for i in str1:\n",
    "    if i.islower() == True:\n",
    "        cnt =cnt + 1\n",
    "       \n",
    "        \n",
    "print(cnt)\n",
    "\n",
    "#add your input here:   This is Great Learning Point.\n",
    "# 20"
   ]
  },
  {
   "cell_type": "code",
   "execution_count": 38,
   "id": "fed03ae4-7c82-4717-9574-792618148f84",
   "metadata": {},
   "outputs": [
    {
     "name": "stdin",
     "output_type": "stream",
     "text": [
      "add your input here:   THis shih HHIn Hhikn\n"
     ]
    },
    {
     "name": "stdout",
     "output_type": "stream",
     "text": [
      "['T', 'H', 'i', 's', ' ', 's', 'h', 'i', 'h', ' ', 'H', 'H', 'I', 'n', ' ', 'H', 'h', 'i', 'k', 'n']\n",
      "['t', 'h', 'I', 'S', ' ', 'S', 'H', 'I', 'H', ' ', 'h', 'h', 'i', 'N', ' ', 'h', 'H', 'I', 'K', 'N']\n",
      "thIS SHIH hhiN hHIKN\n"
     ]
    }
   ],
   "source": [
    "#Q28. Swap the case of each character in a string.\n",
    "\n",
    "str1 = input(\"add your input here:  \")\n",
    "\n",
    "str2 = list(str1)\n",
    "\n",
    "print(str2)\n",
    "\n",
    "str4 = []\n",
    "\n",
    "for i in str2:\n",
    "    if i.islower() == True :\n",
    "        str4.append(i.upper())        \n",
    "    else :\n",
    "        str4.append(i.lower())\n",
    "\n",
    "print(str4)     \n",
    "\n",
    "#add your input here:   THis shih HHIn Hhikn\n",
    "#['T', 'H', 'i', 's', ' ', 's', 'h', 'i', 'h', ' ', 'H', 'H', 'I', 'n', ' ', 'H', 'h', 'i', 'k', 'n']\n",
    "#['t', 'h', 'I', 'S', ' ', 'S', 'H', 'I', 'H', ' ', 'h', 'h', 'i', 'N', ' ', 'h', 'H', 'I', 'K', 'N']\n",
    "# Swap case Method.\n",
    " \n",
    "str6 = str1.swapcase()\n",
    "\n",
    "print(str6)\n",
    "#add your input here:   THis shih HHIn Hhikn\n",
    "# thIS SHIH hhiN hHIKN"
   ]
  },
  {
   "cell_type": "code",
   "execution_count": 40,
   "id": "3c679812-475b-4d56-b2a1-56456ec10da6",
   "metadata": {},
   "outputs": [
    {
     "name": "stdin",
     "output_type": "stream",
     "text": [
      "Add your string.  This am my string.\n",
      "Add word needs to replace :   am\n",
      "Add word replace with     :   is\n"
     ]
    },
    {
     "name": "stdout",
     "output_type": "stream",
     "text": [
      "This is my string.\n"
     ]
    }
   ],
   "source": [
    "#Q29. Remove a specific word from a string.\n",
    "\n",
    "str1 = input(\"Add your string. \" )\n",
    "\n",
    "word1 = input(\"Add word needs to replace :  \" )\n",
    "word2 = input(\"Add word replace with     :  \" )\n",
    "\n",
    "str2 = str1.replace(word1, word2)\n",
    "\n",
    "print(str2)\n",
    "\n",
    "#Add your string.  This am my string.\n",
    "#Add word needs to replace :   am\n",
    "#Add word replace with     :   is\n",
    "#This is my string."
   ]
  },
  {
   "cell_type": "code",
   "execution_count": 99,
   "id": "3a119345-f336-4ab4-8038-0e70e3b9d405",
   "metadata": {},
   "outputs": [
    {
     "name": "stdin",
     "output_type": "stream",
     "text": [
      "Add your Email here :  hfirhfirh@kikkkff\n"
     ]
    },
    {
     "name": "stdout",
     "output_type": "stream",
     "text": [
      " Not a Valid Email Address \n"
     ]
    }
   ],
   "source": [
    "#Q30. Check if a string is a valid email address.\n",
    "\n",
    "str1 = input(\"Add your Email here : \")\n",
    "\n",
    "if  str1.islower() :\n",
    "    if str1.find(\"@\") > -1 :  \n",
    "        if str1.find(\".com\") > -1 :\n",
    "            print(\"Valid Email Address \")\n",
    "        else :   \n",
    "            print(\" Not a Valid Email Address \") \n",
    "            \n",
    "            \n",
    "else : \n",
    "\n",
    "    print(\" Not a Valid Email Address \") \n",
    "\n",
    "#Add your Email here :  vikas.sharma@gmail.com\n",
    "#Valid Email Address \n",
    "\n",
    "#Add your Email here :  hfirhfirh@kikkkff\n",
    "# Not a Valid Email Address \n"
   ]
  },
  {
   "cell_type": "code",
   "execution_count": 104,
   "id": "49e2933e-e468-4206-bc90-eabf9904c899",
   "metadata": {},
   "outputs": [
    {
     "name": "stdin",
     "output_type": "stream",
     "text": [
      "Add your Email here :  vikas@gmail.com\n"
     ]
    },
    {
     "name": "stdout",
     "output_type": "stream",
     "text": [
      "vikas\n"
     ]
    }
   ],
   "source": [
    "#@31. Extract the username from an email address string.\n",
    "\n",
    "str1 = input(\"Add your Email here : \")\n",
    "\n",
    "if  str1.islower() :\n",
    "    str2 = str1[0:str1.index(\"@\"):1]\n",
    "\n",
    "print(str2)\n",
    "\n",
    "#Add your Email here :  vikas@gmail.com\n",
    "#vikas"
   ]
  },
  {
   "cell_type": "code",
   "execution_count": 106,
   "id": "b928d9e0-2f96-4591-a3bb-2a103f7b483b",
   "metadata": {},
   "outputs": [
    {
     "name": "stdin",
     "output_type": "stream",
     "text": [
      "Add your Email here :  vikas@gmail.com\n"
     ]
    },
    {
     "name": "stdout",
     "output_type": "stream",
     "text": [
      "@gmail.com\n"
     ]
    }
   ],
   "source": [
    "#Q32. Extract the domain name from an email address string.\n",
    "\n",
    "str1 = input(\"Add your Email here : \")\n",
    "\n",
    "if  str1.islower() :\n",
    "    str2 = str1[str1.index(\"@\"): :1]\n",
    "\n",
    "print(str2)\n",
    "#Add your Email here :  vikas@gmail.com\n",
    "#@gmail.com"
   ]
  },
  {
   "cell_type": "code",
   "execution_count": 108,
   "id": "77a8134e-f738-404b-825c-4b34e1c5b309",
   "metadata": {},
   "outputs": [
    {
     "name": "stdout",
     "output_type": "stream",
     "text": [
      "This  is  string  with  multiple  spaces.\n",
      "This is string with multiple spaces.\n"
     ]
    }
   ],
   "source": [
    "#@33. Replace multiple spaces in a string with a single space.\n",
    "\n",
    "str1 = \"This  is  string  with  multiple  spaces.\"\n",
    "\n",
    "str2 = str1.replace(\"  \", ' ')\n",
    "\n",
    "print(str1)\n",
    "print(str2)\n",
    "\n",
    "#This  is  string  with  multiple  spaces.\n",
    "#This is string with multiple spaces."
   ]
  },
  {
   "cell_type": "code",
   "execution_count": 144,
   "id": "58811073-a5d2-4391-9b87-3ce130f3153b",
   "metadata": {},
   "outputs": [
    {
     "name": "stdin",
     "output_type": "stream",
     "text": [
      "Please input your URL :  www.education.nic\n"
     ]
    },
    {
     "name": "stdout",
     "output_type": "stream",
     "text": [
      "valid URL. \n"
     ]
    }
   ],
   "source": [
    "#Q34. Check if a string is a valid URL.\n",
    "\n",
    "str1 = input(\"Please input your URL : \")\n",
    "str2 = str1[0:4:1]\n",
    "str3= str1[-1:-5:-1] \n",
    "str4 = str3[-1:-5:-1]\n",
    "if str1.islower() :\n",
    "    if str1[0:4:1] == 'www.' :\n",
    "        if str4 in ('.com' , '.org' , '.nic') :\n",
    "                print(\"valid URL. \")\n",
    "        else : \n",
    "            print(\"Invalid URL. \")\n",
    "    else :     \n",
    "        print(\"Invalid URL. \")\n",
    "else : \n",
    "    print(\"Invalid URL. \")\n",
    "    \n",
    "#Please input your URL :  www.education.nic\n",
    "#valid URL.     "
   ]
  },
  {
   "cell_type": "code",
   "execution_count": 145,
   "id": "3eae75e4-f068-4ef7-bdac-6819fcf92023",
   "metadata": {},
   "outputs": [
    {
     "name": "stdin",
     "output_type": "stream",
     "text": [
      "Please input your URL :  http:www.edu.com\n"
     ]
    },
    {
     "name": "stdout",
     "output_type": "stream",
     "text": [
      "http:\n"
     ]
    }
   ],
   "source": [
    "#Q35. Extract the protocol (http or https) from a URL string.\n",
    "\n",
    "str1 = input(\"Please input your URL : \")\n",
    "\n",
    "str2 = str1[0:5:1]\n",
    "\n",
    "print(str2)\n",
    "#Please input your URL :  http:www.edu.com\n",
    "#http:"
   ]
  },
  {
   "cell_type": "code",
   "execution_count": 199,
   "id": "fea36fa5-3af9-4eb7-b713-0b39dc5d2ece",
   "metadata": {},
   "outputs": [
    {
     "name": "stdin",
     "output_type": "stream",
     "text": [
      "input your string. This is a string.\n"
     ]
    },
    {
     "name": "stdout",
     "output_type": "stream",
     "text": [
      "charcter in the string ' A '  Frequency is  ' 1 '\n",
      "charcter in the string ' . '  Frequency is  ' 1 '\n",
      "charcter in the string ' N '  Frequency is  ' 1 '\n",
      "charcter in the string ' G '  Frequency is  ' 1 '\n",
      "charcter in the string ' T '  Frequency is  ' 1 '\n",
      "charcter in the string '   '  Frequency is  ' 3 '\n",
      "charcter in the string ' I '  Frequency is  ' 3 '\n",
      "charcter in the string ' T '  Frequency is  ' 1 '\n",
      "charcter in the string ' R '  Frequency is  ' 1 '\n",
      "charcter in the string ' S '  Frequency is  ' 3 '\n",
      "charcter in the string ' H '  Frequency is  ' 1 '\n"
     ]
    }
   ],
   "source": [
    "#Q36. Find the frequency of each character in a string.\n",
    "\n",
    "str1 = input(\"input your string.\")\n",
    "str2 = set(str1)\n",
    "\n",
    "for i in str2 :\n",
    "    print(\"charcter in the string '\" ,  i.upper() , \"'  Frequency is  '\"  ,  str1.count(i)  , \"'\")\n",
    "     \n",
    "#input your string. This is a string.\n",
    "#charcter in the string ' A '  Frequency is  ' 1 '\n",
    "#charcter in the string ' . '  Frequency is  ' 1 '\n",
    "#charcter in the string ' N '  Frequency is  ' 1 '\n",
    "#charcter in the string ' G '  Frequency is  ' 1 '\n",
    "#charcter in the string ' T '  Frequency is  ' 1 '\n",
    "#charcter in the string '   '  Frequency is  ' 3 '\n",
    "#charcter in the string ' I '  Frequency is  ' 3 '\n",
    "#charcter in the string ' T '  Frequency is  ' 1 '\n",
    "#charcter in the string ' R '  Frequency is  ' 1 '\n",
    "#charcter in the string ' S '  Frequency is  ' 3 '\n",
    "#charcter in the string ' H '  Frequency is  ' 1 '\n"
   ]
  },
  {
   "cell_type": "code",
   "execution_count": 211,
   "id": "96119135-45e6-4156-aca7-9b38dd125ccb",
   "metadata": {},
   "outputs": [
    {
     "name": "stdin",
     "output_type": "stream",
     "text": [
      "please enter your string  this is @@$ &**string.\n"
     ]
    },
    {
     "name": "stdout",
     "output_type": "stream",
     "text": [
      "this is  string\n"
     ]
    }
   ],
   "source": [
    "#Q37. Remove all punctuation from a string.\n",
    "\n",
    "str1 = input(\"please enter your string \" )\n",
    "punc = '''!()-[]{};:'\"\\,<>./?@#$%^&*_~'''\n",
    "\n",
    "for i in str1 :\n",
    "    if i in punc :\n",
    "        str1 = str1.replace(i , '')\n",
    "        \n",
    "print(str1)\n",
    "\n",
    "#please enter your string  this is @@$ &**string.\n",
    "#this is  string\n"
   ]
  },
  {
   "cell_type": "code",
   "execution_count": 227,
   "id": "7ec47bee-ab6c-4bf1-aaba-a91ee8ca887b",
   "metadata": {},
   "outputs": [
    {
     "name": "stdin",
     "output_type": "stream",
     "text": [
      "Enter your string 009r 89tt98\n"
     ]
    },
    {
     "name": "stdout",
     "output_type": "stream",
     "text": [
      "String has alpha character\n"
     ]
    }
   ],
   "source": [
    "#Q38. Check if a string contains only digits.\n",
    "\n",
    "str1 = input(\"Enter your string\")\n",
    "\n",
    "if str1.isnumeric():\n",
    "    print(\"String has only digit.\")\n",
    "else :\n",
    "    print(\"String has alpha character\")\n",
    "    \n",
    "#Enter your string 343437493\n",
    "#String has only digit.   \n",
    "\n",
    "#Enter your string 009r 89tt98\n",
    "#String has alpha character"
   ]
  },
  {
   "cell_type": "code",
   "execution_count": 241,
   "id": "d8585152-0b2e-457c-885f-616cb66f3ede",
   "metadata": {},
   "outputs": [
    {
     "name": "stdin",
     "output_type": "stream",
     "text": [
      "Enter your string this is a string\n"
     ]
    },
    {
     "name": "stdout",
     "output_type": "stream",
     "text": [
      "thisisastring\n",
      "String has only alphbets.\n"
     ]
    }
   ],
   "source": [
    "#Q39. Check if a string contains only alphabets.\n",
    "\n",
    "str1 = input(\"Enter your string\")\n",
    "str2 = str1.replace(' ', '')\n",
    "print(str2)\n",
    "if str2.isalpha() :\n",
    "    print(\"String has only alphbets.\")\n",
    "else :\n",
    "    print(\"String has numeric character too.\")\n",
    "    \n",
    "#Enter your string this is a string\n",
    "#thisisastring\n",
    "#String has only alphbets.    "
   ]
  },
  {
   "cell_type": "code",
   "execution_count": 243,
   "id": "6efcd3cf-7a51-40c1-81bf-0f5b1b326e39",
   "metadata": {},
   "outputs": [
    {
     "name": "stdout",
     "output_type": "stream",
     "text": [
      "['t', 'h', 'i', 's', ' ', 'i', 's', ' ', 'a', ' ', 's', 't', 'r', 'i', 'n', 'g', '.']\n"
     ]
    }
   ],
   "source": [
    "#Q40. Convert a string to a list of characters.\n",
    "\n",
    "str1 = \"this is a string.\"\n",
    "\n",
    "lst1 = list(str1)\n",
    "\n",
    "type(lst1)\n",
    "print(lst1)\n",
    "#['t', 'h', 'i', 's', ' ', 'i', 's', ' ', 'a', ' ', 's', 't', 'r', 'i', 'n', 'g', '.']"
   ]
  },
  {
   "cell_type": "code",
   "execution_count": 250,
   "id": "8622e0a1-e134-4f78-a87f-92d56e71285d",
   "metadata": {},
   "outputs": [
    {
     "name": "stdout",
     "output_type": "stream",
     "text": [
      "strings are anagrams.\n"
     ]
    }
   ],
   "source": [
    "#Q41. Check if two strings are anagrams.\n",
    "\n",
    "str1 = 'abcd'\n",
    "str2 = 'bcda'\n",
    "\n",
    "if sorted(str1) == sorted(str2) :\n",
    "    print(\"strings are anagrams.\")\n",
    "else :\n",
    "    print(\"Strings are not anagrams.\")\n",
    "#strings are anagrams."
   ]
  },
  {
   "cell_type": "code",
   "execution_count": 253,
   "id": "70412957-250a-4bb6-8fa3-e7d2c8733cee",
   "metadata": {},
   "outputs": [
    {
     "name": "stdout",
     "output_type": "stream",
     "text": [
      "[72, 101, 108, 108, 111, 32, 87, 111, 114, 100]\n",
      "[72, 101, 108, 108, 111, 32, 87, 111, 114, 100]\n"
     ]
    }
   ],
   "source": [
    "#Q42. Encode a string using a Caesar cipher.\n",
    "\n",
    "str1 = \"Hello Word\"\n",
    "\n",
    "str2 = []\n",
    "for i in str1 :\n",
    "    str2.append(ord(i))\n",
    "str3 = str(str2)    \n",
    "print(str2)\n",
    "print(str3)\n",
    "\n",
    "#[72, 101, 108, 108, 111, 32, 87, 111, 114, 100]\n",
    "#[72, 101, 108, 108, 111, 32, 87, 111, 114, 100]"
   ]
  },
  {
   "cell_type": "code",
   "execution_count": 259,
   "id": "52ec0b26-69a7-41c6-80cb-3c39c0817781",
   "metadata": {},
   "outputs": [
    {
     "name": "stdout",
     "output_type": "stream",
     "text": [
      "['H', 'e', 'l', 'l', 'o', ' ', 'W', 'o', 'r', 'd']\n"
     ]
    }
   ],
   "source": [
    "#Q43. Decode a Caesar cipher encoded string.\n",
    "str4 = []\n",
    "for i in str2 : \n",
    "    str4.append(chr(i))\n",
    "print(str4)\n",
    "\n",
    "#['H', 'e', 'l', 'l', 'o', ' ', 'W', 'o', 'r', 'd']"
   ]
  },
  {
   "cell_type": "code",
   "execution_count": 295,
   "id": "bfb3dfaa-4386-485b-9d35-f99c2ffe66c5",
   "metadata": {},
   "outputs": [
    {
     "name": "stdin",
     "output_type": "stream",
     "text": [
      "Please enter the string  This is my string.\n"
     ]
    },
    {
     "name": "stdout",
     "output_type": "stream",
     "text": [
      "most frequent word in string is ' i '  and count is ' 3 '\n"
     ]
    }
   ],
   "source": [
    "#Q44. Find the most frequent word in a string.\n",
    "\n",
    "str1 = input(\"Please enter the string \" )\n",
    "a = 0\n",
    "b = 0\n",
    "for i in str1 :\n",
    "    if str1.count(i) > a :\n",
    "        a = str1.count(i)\n",
    "        b = i\n",
    "\n",
    "print(\"most frequent word in string is '\" , b ,\"'\" , \" and count is '\" , a , \"'\")\n",
    "   \n",
    "#Please enter the string  This is my string.\n",
    "#most frequent word in string is ' i '  and count is ' 3 '    "
   ]
  },
  {
   "cell_type": "code",
   "execution_count": 297,
   "id": "fa3e0e1b-2e22-44b2-be8b-47c8778b4d5d",
   "metadata": {},
   "outputs": [
    {
     "name": "stdin",
     "output_type": "stream",
     "text": [
      "enter your string. this is my string.\n"
     ]
    },
    {
     "name": "stdout",
     "output_type": "stream",
     "text": [
      "['.', 'm', 'y', 'n', 'g', ' ', 'i', 't', 'r', 's', 'h']\n"
     ]
    }
   ],
   "source": [
    "#Q45. Find all unique words in a string.\n",
    "\n",
    "str1 = input(\"enter your string.\")\n",
    "\n",
    "str2 = list(set(str1))\n",
    "\n",
    "print(str2)\n",
    "#enter your string. this is my string.\n",
    "#['.', 'm', 'y', 'n', 'g', ' ', 'i', 't', 'r', 's', 'h']"
   ]
  },
  {
   "cell_type": "code",
   "execution_count": 298,
   "id": "571044da-be6f-4af6-8425-02715f421208",
   "metadata": {},
   "outputs": [
    {
     "name": "stdin",
     "output_type": "stream",
     "text": [
      "Please input the sentence :  This is a string to count the vowels in it.\n"
     ]
    },
    {
     "name": "stdout",
     "output_type": "stream",
     "text": [
      "Input String as :  This is a string to count the vowels in it.\n",
      "count of Vowels in the string :  12\n"
     ]
    }
   ],
   "source": [
    "#Q46. Count the number of syllables in a string.\n",
    "\n",
    "# Doing using Stirng datatype. \n",
    "# Ask the input from user using INPUT function.\n",
    "\n",
    "str3 = input(\"Please input the sentence : \")\n",
    "\n",
    "vowel = 'aeiou'\n",
    "\n",
    "# Checking for the count of vowels in the string.\n",
    "cnt3 = 0\n",
    "for x in vowel:\n",
    "   \n",
    "      \n",
    "    if str3.count(x) > 0 :\n",
    "        \n",
    "        cnt2 = str3.count(x)\n",
    "        cnt3 = cnt2  + cnt3\n",
    "\n",
    "print(\"Input String as : \" , str3) \n",
    "print(\"count of Vowels in the string : \" , cnt3)\n",
    "\n",
    "#Input String as :  This is a string to count the vowels in it.\n",
    "#count of Vowels in the string :  12"
   ]
  },
  {
   "cell_type": "code",
   "execution_count": 310,
   "id": "dfc63372-f66a-4bdc-8945-64ec0d6cda44",
   "metadata": {},
   "outputs": [
    {
     "name": "stdin",
     "output_type": "stream",
     "text": [
      "please enter your string  this is @@##$vnfdh hi*&\n"
     ]
    },
    {
     "name": "stdout",
     "output_type": "stream",
     "text": [
      "7\n"
     ]
    }
   ],
   "source": [
    "#Q47. Check if a string contains any special characters.\n",
    "\n",
    "str1 = input(\"please enter your string \" )\n",
    "punc = '''!()-[]{};:'\"\\,<>./?@#$%^&*_~'''\n",
    "\n",
    "str3 = 0\n",
    "for i in punc :\n",
    "        str2 = str1.count(i)\n",
    "        str3 = str2 + str3\n",
    "print(str3)\n",
    "\n",
    "#please enter your string  this is @@##$vnfdh hi*&\n",
    "#7"
   ]
  },
  {
   "cell_type": "code",
   "execution_count": 324,
   "id": "93723437-fb07-45a8-b23b-a46a077b8d91",
   "metadata": {},
   "outputs": [
    {
     "name": "stdin",
     "output_type": "stream",
     "text": [
      "Enter your string this is a string\n",
      "input number to remove the word from the string :  3\n"
     ]
    },
    {
     "name": "stdout",
     "output_type": "stream",
     "text": [
      "ths s a strng\n"
     ]
    }
   ],
   "source": [
    "#Q48. Remove the nth word from a string.\n",
    "\n",
    "str1 = input(\"Enter your string\")\n",
    "\n",
    "str2 = int(input(\"input number to remove the word from the string : \" ))\n",
    "\n",
    "str3 = str1[str2 - 1:str2:1]\n",
    "str4 = str1.replace(str3,'')\n",
    "print(str4)\n",
    "\n",
    "#Enter your string this is a string\n",
    "#input number to remove the word from the string :  3\n",
    "#ths s a strng"
   ]
  },
  {
   "cell_type": "code",
   "execution_count": 371,
   "id": "187b02f9-c9cf-4861-8817-1f40cba46912",
   "metadata": {},
   "outputs": [
    {
     "name": "stdin",
     "output_type": "stream",
     "text": [
      "enter your string. this is a string.\n",
      "add position to insert word 4\n",
      "add word dd\n"
     ]
    },
    {
     "name": "stdout",
     "output_type": "stream",
     "text": [
      "this ddis a string.\n"
     ]
    }
   ],
   "source": [
    "#Q49. Insert a word at the nth position in a string.\n",
    "\n",
    "str1 = input(\"enter your string.\")\n",
    "\n",
    "str2 = int(input(\"add position to insert word\"))\n",
    "str3 = input(\"add word\" )\n",
    "\n",
    "str4 = str1[0:str2+1:1] + str3 + str1[str2+1::1]\n",
    "\n",
    "print(str4)\n",
    "\n",
    "#enter your string. this is a string.\n",
    "#add position to insert word 4\n",
    "#add word dd\n",
    "#this ddis a string.\n"
   ]
  },
  {
   "cell_type": "code",
   "execution_count": 373,
   "id": "636373ff-4e20-483d-a812-3a1d88e5751e",
   "metadata": {},
   "outputs": [
    {
     "name": "stdout",
     "output_type": "stream",
     "text": [
      "[' This', ' is ', ' a ', ' string.']\n"
     ]
    }
   ],
   "source": [
    "#Q50. Convert a CSV string to a list of lists.\n",
    "\n",
    "str1 = \" This, is , a , string.\"\n",
    "\n",
    "str2 = str1.split(',')\n",
    "\n",
    "print(str2)\n",
    "\n",
    "#[' This', ' is ', ' a ', ' string.']"
   ]
  },
  {
   "cell_type": "code",
   "execution_count": 383,
   "id": "d7a6fcbb-ae61-4df0-9746-5f952a611f51",
   "metadata": {},
   "outputs": [
    {
     "name": "stdout",
     "output_type": "stream",
     "text": [
      "[1, 2, 3, 4, 5, 6, 7, 8, 9, 10]\n"
     ]
    }
   ],
   "source": [
    "# List Based Practice Problem :\n",
    "\n",
    "#Q1. Create a list with integers from 1 to 10.\n",
    "\n",
    "lst1 = []\n",
    "for i in range (1,11):\n",
    "    lst1.append(i)\n",
    "    \n",
    "print(lst1)\n",
    "#[1, 2, 3, 4, 5, 6, 7, 8, 9, 10]"
   ]
  },
  {
   "cell_type": "code",
   "execution_count": 384,
   "id": "901ec73e-9671-4d5a-a987-5ad08a5c356c",
   "metadata": {},
   "outputs": [
    {
     "name": "stdout",
     "output_type": "stream",
     "text": [
      "6\n"
     ]
    }
   ],
   "source": [
    "#Q2. Find the length of a list without using the `len()` function.\n",
    "\n",
    "lst1 = [1,2,3,4,'abc','xyz']\n",
    "\n",
    "cnt = 0\n",
    "for i in lst1 : \n",
    "    cnt = cnt + 1\n",
    "print(cnt)    \n",
    "#6    "
   ]
  },
  {
   "cell_type": "code",
   "execution_count": 388,
   "id": "8d0afda5-f174-4764-a925-f216017dbdb9",
   "metadata": {},
   "outputs": [
    {
     "name": "stdout",
     "output_type": "stream",
     "text": [
      "[1, 2, 3, 4, 'abc', 'xyz', 'pqr']\n"
     ]
    }
   ],
   "source": [
    "#Q3. Append an element to the end of a list.\n",
    "\n",
    "lst1 =  [1,2,3,4,'abc','xyz']\n",
    "\n",
    "lst1.append('pqr')\n",
    "\n",
    "print(lst1)\n",
    "#[1, 2, 3, 4, 'abc', 'xyz', 'pqr']"
   ]
  },
  {
   "cell_type": "code",
   "execution_count": 389,
   "id": "00675886-74f2-41e9-a3ae-c5b8d6a9f9c4",
   "metadata": {},
   "outputs": [
    {
     "name": "stdout",
     "output_type": "stream",
     "text": [
      "[1, 2, 10, 3, 4, 'abc', 'xyz']\n"
     ]
    }
   ],
   "source": [
    "#Q4. Insert an element at a specific index in a list.\n",
    "\n",
    "lst1 =[1,2,3,4,'abc','xyz']\n",
    "lst1.insert(2,10)\n",
    "\n",
    "print(lst1)\n",
    "#[1, 2, 10, 3, 4, 'abc', 'xyz']"
   ]
  },
  {
   "cell_type": "code",
   "execution_count": 392,
   "id": "31b22483-33ca-407f-9bef-c91a23818732",
   "metadata": {},
   "outputs": [
    {
     "name": "stdout",
     "output_type": "stream",
     "text": [
      "[1, 3, 4, 'abc', 'xyz']\n"
     ]
    }
   ],
   "source": [
    "#Q5. Remove an element from a list by its value.\n",
    "\n",
    "lst1 =[1,2,3,4,'abc','xyz']\n",
    "\n",
    "lst1.remove(2)\n",
    "\n",
    "print(lst1)\n",
    "#[1, 3, 4, 'abc', 'xyz']"
   ]
  },
  {
   "cell_type": "code",
   "execution_count": 391,
   "id": "afc50c13-aca1-4105-a06a-ed679b705b60",
   "metadata": {},
   "outputs": [
    {
     "name": "stdout",
     "output_type": "stream",
     "text": [
      "[1, 2, 4, 'abc', 'xyz']\n"
     ]
    }
   ],
   "source": [
    "#Q6. Remove an element from a list by its index.\n",
    "lst1 =[1,2,3,4,'abc','xyz']\n",
    "\n",
    "lst1.pop(2)\n",
    "\n",
    "print(lst1)\n",
    "#[1, 2, 4, 'abc', 'xyz']"
   ]
  },
  {
   "cell_type": "code",
   "execution_count": 409,
   "id": "b5edc90b-624a-46e6-ad44-8428adf79b2c",
   "metadata": {},
   "outputs": [
    {
     "name": "stdin",
     "output_type": "stream",
     "text": [
      "enter the element abc\n"
     ]
    },
    {
     "name": "stdout",
     "output_type": "stream",
     "text": [
      "Element found.\n"
     ]
    }
   ],
   "source": [
    "#Q7. Check if an element exists in a list.\n",
    "\n",
    "lst1 =[1,2,3,4,'abc','xyz']\n",
    "i =  input(\"enter the element\" )\n",
    "\n",
    "if i.isalpha() :\n",
    "    i = str(i)\n",
    "else :\n",
    "    i = int(i)\n",
    "    \n",
    "if i in lst1 :\n",
    "    print(\"Element found.\")\n",
    "else :\n",
    "    print(\"Element not found.\")\n",
    "    \n",
    "#enter the element 6\n",
    "#Element not found.\n",
    "\n",
    "#enter the element 3\n",
    "#Element found.\n",
    "\n",
    "#enter the element abc\n",
    "#Element found."
   ]
  },
  {
   "cell_type": "code",
   "execution_count": 415,
   "id": "2a1f6b52-d024-429f-b452-bc91ac6cd939",
   "metadata": {},
   "outputs": [
    {
     "name": "stdout",
     "output_type": "stream",
     "text": [
      "0\n"
     ]
    }
   ],
   "source": [
    "#Q8. Find the index of the first occurrence of an element in a list.\n",
    "\n",
    "lst1 =[1,2,3,4,'abc','xyz']\n",
    "\n",
    "print(lst1.index(lst1[0]))\n",
    "\n",
    "\n",
    "# 0"
   ]
  },
  {
   "cell_type": "code",
   "execution_count": 2,
   "id": "8024e776-2694-42ca-8ba7-e4338fa53a52",
   "metadata": {},
   "outputs": [
    {
     "name": "stdout",
     "output_type": "stream",
     "text": [
      " Element xyz  count in the string 1\n",
      " Element 1  count in the string 1\n",
      " Element 2  count in the string 3\n",
      " Element 3  count in the string 2\n",
      " Element 4  count in the string 1\n",
      " Element 5  count in the string 1\n",
      " Element 6  count in the string 1\n",
      " Element abc  count in the string 1\n"
     ]
    }
   ],
   "source": [
    "#Q9. Count the occurrences of an element in a list.\n",
    "\n",
    "lst1 =[1,2,3,4,2,2,3,5,6,'abc','xyz']\n",
    "\n",
    "lst2 = set(lst1)\n",
    "\n",
    "cnt = 0\n",
    "b = ''\n",
    "c = 0\n",
    "for i in lst2:\n",
    "        cnt = lst1.count(i)\n",
    "        print(\" Element\" , i , \" count in the string\" ,cnt)\n",
    " \n",
    "\n",
    "#Element xyz  count in the string 1\n",
    "#Element 1  count in the string 1\n",
    "#Element 2  count in the string 3\n",
    "#Element 3  count in the string 2\n",
    "#Element 4  count in the string 1\n",
    "#Element 5  count in the string 1\n",
    "#Element 6  count in the string 1\n",
    "#Element abc  count in the string 1               "
   ]
  },
  {
   "cell_type": "code",
   "execution_count": 6,
   "id": "39f66655-70ad-4411-ae06-fb34031638c1",
   "metadata": {},
   "outputs": [
    {
     "name": "stdout",
     "output_type": "stream",
     "text": [
      "['xyz', 'abc', 4, 3, 2, 1]\n",
      "None\n"
     ]
    }
   ],
   "source": [
    "#Q10. Reverse the order of elements in a list.\n",
    "\n",
    "lst1 = [1,2,3,4,'abc','xyz']\n",
    "\n",
    "lst1.reverse()\n",
    "\n",
    "print(lst1)\n",
    "\n",
    "#['xyz', 'abc', 4, 3, 2, 1]"
   ]
  },
  {
   "cell_type": "code",
   "execution_count": 20,
   "id": "82491ca0-dca0-4394-b9dd-c5b8b82a140e",
   "metadata": {},
   "outputs": [
    {
     "name": "stdout",
     "output_type": "stream",
     "text": [
      "[1, 2, 2, 2, 3, 3, 4, 6, 9]\n"
     ]
    }
   ],
   "source": [
    "#Q11. Sort a list in ascending order.\n",
    "\n",
    "lst1 = [1,2,3,2,2,3,6,9,4]\n",
    "\n",
    "lst1.sort()\n",
    "\n",
    "\n",
    "print(lst1)\n",
    "#[1, 2, 2, 2, 3, 3, 4, 6, 9]"
   ]
  },
  {
   "cell_type": "code",
   "execution_count": 21,
   "id": "0bb61a49-2d5a-4e47-aa49-50ccfd9fe07f",
   "metadata": {},
   "outputs": [
    {
     "name": "stdout",
     "output_type": "stream",
     "text": [
      "[9, 6, 4, 3, 3, 2, 2, 2, 1]\n"
     ]
    }
   ],
   "source": [
    "#Q12. Sort a list in descending order.\n",
    "\n",
    "lst1 = [1,2,3,2,2,3,6,9,4]\n",
    "\n",
    "lst1.sort(reverse=True)\n",
    "\n",
    "print(lst1)\n",
    "#[9, 6, 4, 3, 3, 2, 2, 2, 1]"
   ]
  },
  {
   "cell_type": "code",
   "execution_count": 30,
   "id": "fc455fed-fbfa-4b0f-8347-c86c68b79052",
   "metadata": {},
   "outputs": [
    {
     "name": "stdout",
     "output_type": "stream",
     "text": [
      "[2, 4, 6, 8, 10, 12, 14, 16, 18, 20]\n"
     ]
    }
   ],
   "source": [
    "#Q13. Create a list of even numbers from 1 to 20.\n",
    "\n",
    "lst4 = []\n",
    "for i in range( 2 , 21 , 2) :\n",
    "    lst4.append(i)\n",
    "    \n",
    "print(lst4)    \n",
    "\n",
    "#[2, 4, 6, 8, 10, 12, 14, 16, 18, 20]"
   ]
  },
  {
   "cell_type": "code",
   "execution_count": 29,
   "id": "a8096672-a153-477c-8128-46e817a4e729",
   "metadata": {},
   "outputs": [
    {
     "name": "stdout",
     "output_type": "stream",
     "text": [
      "[1, 3, 5, 7, 9, 11, 13, 15, 17, 19]\n"
     ]
    }
   ],
   "source": [
    "#Q14. Create a list of odd numbers from 1 to 20.\n",
    "\n",
    "lst5 = []\n",
    "for i in range( 1 , 20 , 2) :\n",
    "    lst5.append(i)\n",
    "    \n",
    "print(lst5)  \n",
    "#[1, 3, 5, 7, 9, 11, 13, 15, 17, 19]"
   ]
  },
  {
   "cell_type": "code",
   "execution_count": 32,
   "id": "0c847bed-9d45-49b1-afec-b2cf0359de6a",
   "metadata": {},
   "outputs": [
    {
     "name": "stdout",
     "output_type": "stream",
     "text": [
      "Sum of all element in a ltst 34\n"
     ]
    }
   ],
   "source": [
    "#Q15. Find the sum of all elements in a list.\n",
    "lst1 = [2,4,5,6,8,9]\n",
    "\n",
    "cnt = 0\n",
    "for i in lst1:\n",
    "    cnt = i + cnt\n",
    "print(\"Sum of all element in a ltst\" , cnt)    \n",
    "\n",
    "#Sum of all element in a ltst 34"
   ]
  },
  {
   "cell_type": "code",
   "execution_count": 36,
   "id": "1ea9ccbd-b5b3-4f8d-9947-bb7602b95786",
   "metadata": {},
   "outputs": [
    {
     "name": "stdout",
     "output_type": "stream",
     "text": [
      "maximum value in a list 15\n"
     ]
    }
   ],
   "source": [
    "#Q16. Find the maximum value in a list.\n",
    "\n",
    "lst1 = [2,4,5,6,8,15,8,3]\n",
    "\n",
    "cnt = 0\n",
    "for i in lst1:\n",
    "    if i > cnt :\n",
    "        cnt = i\n",
    "print(\"maximum value in a list\" , cnt)  \n",
    "\n",
    "#maximum value in a list 15"
   ]
  },
  {
   "cell_type": "code",
   "execution_count": 47,
   "id": "c7100df3-c3ec-4ade-b269-fa20e1828488",
   "metadata": {},
   "outputs": [
    {
     "name": "stdout",
     "output_type": "stream",
     "text": [
      "mimimun value in a list 3\n"
     ]
    }
   ],
   "source": [
    "#Q17. Find the minimum value in a list.\n",
    "\n",
    "lst1 = [4,5,6,8,15,8,3,19]\n",
    "\n",
    "cnt = lst1[0]\n",
    "for i in lst1:\n",
    "    if i <= cnt :\n",
    "        cnt = i\n",
    "print(\"mimimun value in a list\" , cnt) \n",
    "\n",
    "#mimimun value in a list 3"
   ]
  },
  {
   "cell_type": "code",
   "execution_count": 67,
   "id": "9d28105f-c869-4529-8399-ecea2762ec61",
   "metadata": {},
   "outputs": [
    {
     "name": "stdout",
     "output_type": "stream",
     "text": [
      "1\n",
      "4\n",
      "9\n",
      "16\n",
      "25\n",
      "36\n",
      "49\n",
      "64\n",
      "81\n",
      "100\n"
     ]
    }
   ],
   "source": [
    "#Q18. Create a list of squares of numbers from 1 to 10\n",
    "\n",
    "for i in range(1,11,1) :\n",
    "    \n",
    "    s1 = i*i\n",
    "    print(s1)\n",
    " \n",
    "'''\n",
    "1\n",
    "4\n",
    "9\n",
    "16\n",
    "25\n",
    "36\n",
    "49\n",
    "64\n",
    "81\n",
    "100\n",
    "'''\n"
   ]
  },
  {
   "cell_type": "code",
   "execution_count": 71,
   "id": "635d2769-9389-4fd7-a07e-ece04163082e",
   "metadata": {},
   "outputs": [
    {
     "name": "stdout",
     "output_type": "stream",
     "text": [
      "[3, 3, 3, 4, 4, 3, 3, 3, 4, 4, 3, 3, 3, 3, 4, 4, 3, 4, 3, 3, 3, 3, 3, 4, 3, 3, 3, 4, 4, 3]\n"
     ]
    }
   ],
   "source": [
    "#Q19. Create a list of random numbers.\n",
    "\n",
    "import random\n",
    "lst1 = []\n",
    "for i in range(30):\n",
    "    lst1.append(random.randint(3,4))\n",
    "                \n",
    "print(lst1)\n",
    "#[3, 3, 3, 4, 4, 3, 3, 3, 4, 4, 3, 3, 3, 3, 4, 4, 3, 4, 3, 3, 3, 3, 3, 4, 3, 3, 3, 4, 4, 3]     "
   ]
  },
  {
   "cell_type": "code",
   "execution_count": 73,
   "id": "5af5b3e6-b00b-49d8-ae7c-7085ccb8c0c4",
   "metadata": {},
   "outputs": [
    {
     "name": "stdout",
     "output_type": "stream",
     "text": [
      "Remove duplicates from a list [3, 4]\n"
     ]
    }
   ],
   "source": [
    "#Q20. Remove duplicates from a list.\n",
    " \n",
    "lst1 = [3, 3, 3, 4, 4, 3, 3, 3, 4, 4, 3, 3, 3, 3, 4, 4, 3, 4, 3, 3, 3, 3, 3, 4, 3, 3, 3, 4, 4, 3]\n",
    "lst2 = set(lst1)\n",
    "\n",
    "lst3 = list(lst2)\n",
    "\n",
    "print(\"Remove duplicates from a list\" , lst3)\n",
    "\n",
    "#Remove duplicates from a list [3, 4]"
   ]
  },
  {
   "cell_type": "code",
   "execution_count": 78,
   "id": "c8b06f21-e7c3-464d-8804-d76937629f65",
   "metadata": {},
   "outputs": [
    {
     "name": "stdout",
     "output_type": "stream",
     "text": [
      "[1, 4, 9]\n"
     ]
    }
   ],
   "source": [
    "#Q21. Find the common elements between two lists.\n",
    "\n",
    "lst1 = [1,3,5,4,6,9]\n",
    "lst2 = [1,2,4,7,9]\n",
    "\n",
    "#list(set(lst1).intersection(lst2))\n",
    "#[1, 4, 9]\n",
    "lst3 = []\n",
    "for i in lst1:\n",
    "    if i in lst2:\n",
    "        lst3.append(i)\n",
    "print(lst3)\n",
    "\n",
    "#[1, 4, 9]"
   ]
  },
  {
   "cell_type": "code",
   "execution_count": 86,
   "id": "390d736f-1e47-4a28-a9eb-6a67b1e2864c",
   "metadata": {},
   "outputs": [
    {
     "name": "stdout",
     "output_type": "stream",
     "text": [
      "[3, 5, 6, 2, 7]\n"
     ]
    }
   ],
   "source": [
    "#Q22. Find the difference between two lists.\n",
    "\n",
    "lst1 = [1,3,5,4,6,9]\n",
    "lst2 = [1,2,4,7,9]\n",
    "\n",
    "#list(set(lst1).intersection(lst2))\n",
    "#[1, 4, 9]\n",
    "lst3 = []\n",
    "for i in lst1:\n",
    "    if i not in lst2:\n",
    "        lst3.append(i)\n",
    "for i in lst2:\n",
    "    if i not in lst1:\n",
    "        lst3.append(i)\n",
    "        \n",
    "print(lst3)\n",
    "#[3, 5, 6, 2, 7]"
   ]
  },
  {
   "cell_type": "code",
   "execution_count": 2,
   "id": "5f305e5a-0994-4772-badb-879180a455ee",
   "metadata": {},
   "outputs": [
    {
     "name": "stdout",
     "output_type": "stream",
     "text": [
      "[1, 3, 5, 4, 6, 9, 1, 2, 4, 7, 9]\n"
     ]
    }
   ],
   "source": [
    "#Q23. Merge two lists.\n",
    "\n",
    "lst1 = [1,3,5,4,6,9]\n",
    "lst2 = [1,2,4,7,9]\n",
    "\n",
    "for i in lst2 :\n",
    "    lst1.append(i)\n",
    "\n",
    "print(lst1)\n",
    "#[1, 3, 5, 4, 6, 9, 1, 2, 4, 7, 9]"
   ]
  },
  {
   "cell_type": "code",
   "execution_count": 3,
   "id": "5e40021a-7273-4f3d-98c3-9f4bede6f368",
   "metadata": {},
   "outputs": [
    {
     "name": "stdout",
     "output_type": "stream",
     "text": [
      "2\n",
      "6\n",
      "10\n",
      "8\n",
      "12\n",
      "18\n"
     ]
    }
   ],
   "source": [
    "#Q24. Multiply all elements in a list by 2.\n",
    "\n",
    "lst1 = [1,3,5,4,6,9]\n",
    "\n",
    "for i in lst1:\n",
    "    mult= i*2\n",
    "    print(mult)\n",
    "#\n",
    "2\n",
    "6\n",
    "10\n",
    "8\n",
    "12\n",
    "18"
   ]
  },
  {
   "cell_type": "code",
   "execution_count": 3,
   "id": "77e16838-7236-4673-a18a-0a2495229242",
   "metadata": {},
   "outputs": [
    {
     "name": "stdout",
     "output_type": "stream",
     "text": [
      "[4, 6, 8, 22, 26, 98]\n"
     ]
    }
   ],
   "source": [
    "#Q25. Filter out all even numbers from a list.\n",
    "\n",
    "lst1 = [1,3,5,4,6,9, 8, 15, 22, 26,47,98,59]\n",
    "\n",
    "lst2 = []\n",
    "for i in lst1 :\n",
    "    if i%2  == 0 :\n",
    "        lst2.append(i)\n",
    "        \n",
    "print(lst2)\n",
    "# [4, 6, 8, 22, 26, 98]"
   ]
  },
  {
   "cell_type": "code",
   "execution_count": 4,
   "id": "e5ad9122-821e-4b10-9cb2-35f8b53272a0",
   "metadata": {},
   "outputs": [
    {
     "name": "stdout",
     "output_type": "stream",
     "text": [
      "[2, 3, 4, 5]\n"
     ]
    }
   ],
   "source": [
    "#Q26. Convert a list of strings to a list of integers.\n",
    "\n",
    "lst1 = ['2','3','4','5']\n",
    "\n",
    "lst2 = []\n",
    "for i in lst1:\n",
    "    lst2.append(int(i))\n",
    "print(lst2)    \n",
    "#[2, 3, 4, 5]"
   ]
  },
  {
   "cell_type": "code",
   "execution_count": 5,
   "id": "72feebc0-b3ad-4d0d-9ac0-d4e8b7856ea3",
   "metadata": {},
   "outputs": [
    {
     "name": "stdout",
     "output_type": "stream",
     "text": [
      "['2', '3', '-4', '5']\n"
     ]
    }
   ],
   "source": [
    "#Q27. Convert a list of integers to a list of strings.\n",
    "\n",
    "lst1 = [2, 3, -4, 5]\n",
    "\n",
    "lst2 = []\n",
    "for i in lst1:\n",
    "    lst2.append(str(i))\n",
    "print(lst2)  \n",
    "\n",
    "#['2', '3', '-4', '5']"
   ]
  },
  {
   "cell_type": "code",
   "execution_count": 8,
   "id": "7d603af9-c047-4e32-8625-4407ec8d9d3f",
   "metadata": {},
   "outputs": [
    {
     "name": "stdout",
     "output_type": "stream",
     "text": [
      "[1, 2, 3, 4, 5, 'sub', 'add', 'mult']\n"
     ]
    }
   ],
   "source": [
    "#Q28. Flatten a nested list.\n",
    "\n",
    "lst1 = [1,2,[3,4,5],['sub'],['add','mult']]\n",
    "\n",
    "lst2 = []\n",
    "for i in lst1:\n",
    "    if type(i) == list:\n",
    "        for j in i:\n",
    "            lst2.append(j)\n",
    "    else :\n",
    "        lst2.append(i)\n",
    "        \n",
    "print(lst2)     \n",
    "\n",
    "#[1, 2, 3, 4, 5, 'sub', 'add', 'mult']"
   ]
  },
  {
   "cell_type": "code",
   "execution_count": 15,
   "id": "9648c2f1-ecd0-4f4a-bd83-7fa8a53222b6",
   "metadata": {},
   "outputs": [
    {
     "name": "stdout",
     "output_type": "stream",
     "text": [
      "[0, 1, 1, 2, 3, 5, 8, 13, 21, 34]\n"
     ]
    }
   ],
   "source": [
    "#Q29. Create a list of the first 10 Fibonacci numbers.\n",
    "\n",
    "lst1 = [0,1]\n",
    "p = 0\n",
    "q = 1\n",
    "for i in range(2 , 10):\n",
    "    sum1 = p + q\n",
    "    lst1.append(sum1)\n",
    "    p = q\n",
    "    q = sum1\n",
    "    \n",
    "print(lst1)    \n",
    "#[0, 1, 1, 2, 3, 5, 8, 13, 21, 34]"
   ]
  },
  {
   "cell_type": "code",
   "execution_count": 17,
   "id": "0759e69c-dd21-4704-a43b-9d14eb07cede",
   "metadata": {},
   "outputs": [
    {
     "name": "stdout",
     "output_type": "stream",
     "text": [
      "list is not sorted\n"
     ]
    }
   ],
   "source": [
    "#Q30. Check if a list is sorted.\n",
    "\n",
    "lst1 = [1,3,4,6,22,33,15,76,89,99]\n",
    "\n",
    "cnt = 0\n",
    "lst2 = lst1[0] \n",
    "for i in lst1:\n",
    "    if i >= lst2 :\n",
    "        lst2 = i\n",
    "        cnt = cnt + 1\n",
    "        if cnt == len(lst1) :\n",
    "            print(\"list is sorted\")\n",
    "    else :\n",
    "        print(\"list is not sorted\")\n",
    "        break\n",
    "# input - lst1 = [1,3,4,6,22,33,95,76,89,99]        \n",
    "#list is not sorted  \n",
    "\n",
    "# input - lst1 = [1,3,4,6,22,33,15,76,89,99]\n",
    "#list is not sorted "
   ]
  },
  {
   "cell_type": "code",
   "execution_count": 5,
   "id": "521e7bc5-39d2-4eb5-aeb5-1ab21f434d7f",
   "metadata": {},
   "outputs": [
    {
     "name": "stdin",
     "output_type": "stream",
     "text": [
      "enter position of the rotate 3\n"
     ]
    },
    {
     "name": "stdout",
     "output_type": "stream",
     "text": [
      "Rotated a list to the left by `n` positions. [6, 22, 33, 15, 76, 89, 99, 1, 3, 4]\n"
     ]
    }
   ],
   "source": [
    "#Q31. Rotate a list to the left by `n` positions.\n",
    "\n",
    "lst1 = [1,3,4,6,22,33,15,76,89,99]\n",
    "\n",
    "pos = int(input(\"enter position of the rotate\" ))\n",
    "lst2  = lst1[pos::1]\n",
    "lst3 = lst1[0:pos:1]\n",
    "\n",
    "for i in lst3:\n",
    "    lst2.append(i)\n",
    "    \n",
    "print(\"Rotated a list to the left by `n` positions.\" , lst2)    \n",
    "    \n",
    "#input - lst1 = [1,3,4,6,22,33,15,76,89,99]\n",
    "#enter position of the rotate 3\n",
    "#Rotated a list to the left by `n` positions. [6, 22, 33, 15, 76, 89, 99, 1, 3, 4]"
   ]
  },
  {
   "cell_type": "code",
   "execution_count": 19,
   "id": "849215f3-acd0-4aed-b0a4-90e3de0bc579",
   "metadata": {},
   "outputs": [
    {
     "name": "stdin",
     "output_type": "stream",
     "text": [
      "enter position of the rotate 3\n"
     ]
    },
    {
     "name": "stdout",
     "output_type": "stream",
     "text": [
      "Rotated a list to the right by `n` positions. [1, 3, 4, 6, 22, 33, 15, 76, 89, 99]\n"
     ]
    }
   ],
   "source": [
    "#Q32. Rotate a list to the right by `n` positions.\n",
    "\n",
    "lst1 =  [6, 22, 33, 15, 76, 89, 99, 1, 3, 4]\n",
    "\n",
    "pos = int(input(\"enter position of the rotate\" ))\n",
    "lst2  = lst1[-1:-pos-1:-1]\n",
    "lst2.reverse()\n",
    "lst3 = lst1[-pos-1::-1]\n",
    "lst3.reverse()\n",
    "\n",
    "for i in lst3:\n",
    "    lst2.append(i)\n",
    "    \n",
    "print(\"Rotated a list to the right by `n` positions.\" , lst2)  \n",
    "\n",
    "#enter position of the rotate 3\n",
    "#Rotated a list to the right by `n` positions. [1, 3, 4, 6, 22, 33, 15, 76, 89, 99]"
   ]
  },
  {
   "cell_type": "code",
   "execution_count": 29,
   "id": "b05c94dd-a257-4bb0-950b-677be98c5d3a",
   "metadata": {},
   "outputs": [
    {
     "name": "stdout",
     "output_type": "stream",
     "text": [
      "2\n",
      "3\n",
      "5\n",
      "7\n",
      "11\n",
      "13\n",
      "17\n",
      "19\n",
      "23\n",
      "29\n",
      "31\n",
      "37\n",
      "41\n",
      "43\n",
      "47\n"
     ]
    }
   ],
   "source": [
    "#33. Create a list of prime numbers up to 50.\n",
    "cnt = 0\n",
    "for i in range (2,50+1):\n",
    "    for n in range(2,i):\n",
    "        if i%n == 0 :       \n",
    "            break\n",
    "    else :\n",
    "        print(i)\n",
    " '''\n",
    "2\n",
    "3\n",
    "5\n",
    "7\n",
    "11\n",
    "13\n",
    "17\n",
    "19\n",
    "23\n",
    "29\n",
    "31\n",
    "37\n",
    "41\n",
    "43\n",
    "47\n",
    "'''"
   ]
  },
  {
   "cell_type": "code",
   "execution_count": 36,
   "id": "2645294e-c7fd-4932-a08a-93d204382001",
   "metadata": {},
   "outputs": [
    {
     "name": "stdin",
     "output_type": "stream",
     "text": [
      "enter the number :  3\n"
     ]
    },
    {
     "name": "stdout",
     "output_type": "stream",
     "text": [
      "[1, 2, 4]\n",
      "[5, 8, 12]\n",
      "[15, 23, 56]\n",
      "[69, 99]\n"
     ]
    }
   ],
   "source": [
    "#Q34. Split a list into chunks of size `n`.\n",
    "\n",
    "list1 = [1,2,4,5,8,12,15,23,56,69,99]\n",
    "list2 = []\n",
    "num = int(input(\"enter the number : \"))\n",
    "\n",
    "for i in range(0,len(list1),num):\n",
    "    list2 = list1[i:num + i :1]\n",
    "    print(list2)\n",
    " \n",
    "# enter the number :  3\n",
    "#[1, 2, 4]\n",
    "#[5, 8, 12]\n",
    "#[15, 23, 56]\n",
    "#[69, 99]"
   ]
  },
  {
   "cell_type": "code",
   "execution_count": 51,
   "id": "3a4888ae-79a8-4f36-a95c-9a6e535cd68b",
   "metadata": {},
   "outputs": [
    {
     "name": "stdout",
     "output_type": "stream",
     "text": [
      "75\n"
     ]
    }
   ],
   "source": [
    "#Q35. Find the second largest number in a list.\n",
    "\n",
    "list1 = [1,2,4,5,8,12,75,23,56,69,99,22]\n",
    "list2 = []\n",
    "\n",
    "num2 = 0\n",
    "for i in list1:\n",
    "    if i > num2:\n",
    "        num2 = i\n",
    "        list2.append(num2)\n",
    "      \n",
    "               \n",
    "print(list2[-2]) \n",
    "\n",
    "#input - list1 = [1,2,4,5,8,12,75,23,56,69,99,22]\n",
    "#75"
   ]
  },
  {
   "cell_type": "code",
   "execution_count": 54,
   "id": "04f1949c-0f36-4bc5-882e-60fc39057c06",
   "metadata": {},
   "outputs": [
    {
     "name": "stdout",
     "output_type": "stream",
     "text": [
      "[1, 4, 16, 25, 64, 144, 5625, 529, 3136, 4761, 9801, 484]\n"
     ]
    }
   ],
   "source": [
    "#Q36. Replace every element in a list with its square.\n",
    "list1 = [1,2,4,5,8,12,75,23,56,69,99,22]\n",
    "list9= []\n",
    "for i in list1:\n",
    "    a = i*i\n",
    "    list9.append(a)\n",
    "    \n",
    "print(list9)\n",
    "#[1, 4, 16, 25, 64, 144, 5625, 529, 3136, 4761, 9801, 484]"
   ]
  },
  {
   "cell_type": "code",
   "execution_count": 59,
   "id": "83fe272b-f18e-427f-9361-c3fa45885847",
   "metadata": {},
   "outputs": [
    {
     "name": "stdout",
     "output_type": "stream",
     "text": [
      "{0: 1, 1: 2, 2: 4, 3: 5, 4: 8, 5: 12, 6: 75, 7: 23, 8: 56, 9: 69, 10: 99, 11: 22}\n"
     ]
    }
   ],
   "source": [
    "#Q37. Convert a list to a dictionary where list elements become keys and their indices become values.\n",
    "\n",
    "list1 = [1,2,4,5,8,12,75,23,56,69,99,22]\n",
    "dict1 = {}\n",
    "\n",
    "for i , name in enumerate(list1):\n",
    "    dict1[i] = name\n",
    "    \n",
    "print(dict1)    \n",
    "#{0: 1, 1: 2, 2: 4, 3: 5, 4: 8, 5: 12, 6: 75, 7: 23, 8: 56, 9: 69, 10: 99, 11: 22}\n",
    "\n",
    "# 2nd monthod.\n",
    "list1 = [1,2,4,5,8,12,75,23,56,69,99,22]\n",
    "dict2 = dict(enumerate(list1))\n",
    "\n",
    "print(dict2)"
   ]
  },
  {
   "cell_type": "code",
   "execution_count": 61,
   "id": "73b8355f-1e91-46a0-b2e7-cfe7d2b179bf",
   "metadata": {},
   "outputs": [
    {
     "name": "stdout",
     "output_type": "stream",
     "text": [
      "[2, 4, 22, 8, 69, 23, 56, 99, 12, 75, 1, 5]\n"
     ]
    }
   ],
   "source": [
    "#Q38. Shuffle the elements of a list randomly.\n",
    "\n",
    "import random\n",
    "list1 = [1,2,4,5,8,12,75,23,56,69,99,22]\n",
    "\n",
    "random.shuffle(list1)\n",
    "\n",
    "print(list1)\n",
    "#[2, 4, 22, 8, 69, 23, 56, 99, 12, 75, 1, 5]"
   ]
  },
  {
   "cell_type": "code",
   "execution_count": 78,
   "id": "bf1ea999-93c7-46a2-b2f9-8347d688b6e7",
   "metadata": {},
   "outputs": [
    {
     "name": "stdin",
     "output_type": "stream",
     "text": [
      "Please enter the number : 6\n"
     ]
    },
    {
     "name": "stdout",
     "output_type": "stream",
     "text": [
      "720\n"
     ]
    }
   ],
   "source": [
    "#Q39. Create a list of the first 10 factorial numbers.\n",
    "\n",
    "num1 = int(input(\"Please enter the number :\"))\n",
    "           \n",
    "num3 =1 \n",
    "for i in range(num1 , 1 , -1):\n",
    "    num2 = i * num3\n",
    "    num3 = num2 \n",
    "           \n",
    "           \n",
    "print(num3)\n",
    "                     \n",
    "#Please enter the number : 6\n",
    "#720           "
   ]
  },
  {
   "cell_type": "code",
   "execution_count": 88,
   "id": "d67f8320-6693-4d82-9ed2-673e05f1a2eb",
   "metadata": {},
   "outputs": [
    {
     "name": "stdout",
     "output_type": "stream",
     "text": [
      " Having at least one element in common\n"
     ]
    }
   ],
   "source": [
    "#Q40. Check if two lists have at least one element in common.\n",
    "\n",
    "lst1 = [1,3,5,4,6,9]\n",
    "lst2 = [1,2,4,7,9]\n",
    "\n",
    "lst3 = []\n",
    "for i in lst1:\n",
    "    if i in lst2:\n",
    "        lst3.append(i)\n",
    "        if len(lst3) > 0:\n",
    "            print(\" Having at least one element in common\")\n",
    "            break\n",
    "else : \n",
    "    \n",
    "    print(\"No common element\" )\n",
    "            \n",
    "\n",
    "\n",
    "# Having at least one element in common."
   ]
  },
  {
   "cell_type": "code",
   "execution_count": 90,
   "id": "3e3cbe4b-d387-4b6c-b230-c61b1e28e938",
   "metadata": {},
   "outputs": [
    {
     "name": "stdout",
     "output_type": "stream",
     "text": [
      "[]\n"
     ]
    }
   ],
   "source": [
    "#Q41. Remove all elements from a list.\n",
    "\n",
    "list1 = [1,2,3,4,6,7,9,10]\n",
    "\n",
    "list1.clear()\n",
    "\n",
    "print(list1)\n",
    "\n",
    "#[]"
   ]
  },
  {
   "cell_type": "code",
   "execution_count": 92,
   "id": "7a64f263-b769-48f1-ae0a-4124af67bb9f",
   "metadata": {},
   "outputs": [
    {
     "name": "stdout",
     "output_type": "stream",
     "text": [
      "[1, 2, 3, 4, 6, 7, 9, 10, 23, 44, 89]\n"
     ]
    }
   ],
   "source": [
    "#Q42. Replace negative numbers in a list with 0.\n",
    "\n",
    "list1 = [1,2,3,-4,6,-7,9,10, 23,-44,89]\n",
    "\n",
    "list2 = []\n",
    "for i in list1:\n",
    "    if i < 0 :\n",
    "        i = i * -1\n",
    "        list2.append(i)\n",
    "    else :\n",
    "        list2.append(i)\n",
    "        \n",
    "print(list2)  \n",
    "\n",
    "#[1, 2, 3, 4, 6, 7, 9, 10, 23, 44, 89]"
   ]
  },
  {
   "cell_type": "code",
   "execution_count": 95,
   "id": "6bbf3dbe-366f-4c94-a63c-ad86649fb841",
   "metadata": {},
   "outputs": [
    {
     "name": "stdout",
     "output_type": "stream",
     "text": [
      "['This', 'is', 'a', 'String']\n"
     ]
    }
   ],
   "source": [
    "#Q43. Convert a string into a list of words.\n",
    "\n",
    "str1 = \"This is a String\"\n",
    "\n",
    "str2 = str1.split()\n",
    "list1 = []\n",
    "for i in str2:\n",
    "    list1.append(i)\n",
    "\n",
    "print(list1)\n",
    "#['This', 'is', 'a', 'String']"
   ]
  },
  {
   "cell_type": "code",
   "execution_count": 111,
   "id": "d2ce4ee3-ddcb-44be-b71b-5d71f7bba04a",
   "metadata": {},
   "outputs": [
    {
     "name": "stdout",
     "output_type": "stream",
     "text": [
      " This is a String \n"
     ]
    }
   ],
   "source": [
    "#Q44. Convert a list of words into a string.\n",
    "\n",
    "lst1 = ['This', 'is', 'a', 'String']\n",
    "\n",
    "str1 = ' '\n",
    "\n",
    "for i in lst1:\n",
    "    str1 += i + ' '\n",
    "    \n",
    "print(str1)    \n",
    "#This is a String"
   ]
  },
  {
   "cell_type": "code",
   "execution_count": 113,
   "id": "6d4ca58c-96d4-4813-a355-6842ef0e0ddd",
   "metadata": {},
   "outputs": [
    {
     "name": "stdin",
     "output_type": "stream",
     "text": [
      "Please enter the numbers 4\n"
     ]
    },
    {
     "name": "stdout",
     "output_type": "stream",
     "text": [
      "1\n",
      "4\n",
      "9\n",
      "16\n"
     ]
    }
   ],
   "source": [
    "#Q45. Create a list of the first `n` powers of 2.\n",
    "\n",
    "num = int(input(\"Please enter the numbers\" ))\n",
    "\n",
    "for i in range(1,num+1):\n",
    "    num1= i**2\n",
    "    print(num1)\n",
    " \n",
    "#Please enter the numbers 4\n",
    "#1\n",
    "#4\n",
    "#9\n",
    "#16"
   ]
  },
  {
   "cell_type": "code",
   "execution_count": 120,
   "id": "3cbf2158-4f7c-49ca-9060-d5b7aebbabaf",
   "metadata": {},
   "outputs": [
    {
     "name": "stdout",
     "output_type": "stream",
     "text": [
      "18\n"
     ]
    }
   ],
   "source": [
    "#Q46. Find the longest string in a list of strings.\n",
    "\n",
    "list1 = ['ram', 'sham','manoj' , 'ab' , 'This is big string' , 'nhu']\n",
    "\n",
    "num1 = 0\n",
    "for i in list1:\n",
    "    if len(i) > num1 : \n",
    "       \n",
    "        num1 = len(i)\n",
    "        \n",
    "print(num1)\n",
    "#18"
   ]
  },
  {
   "cell_type": "code",
   "execution_count": 122,
   "id": "1cbfedb9-4ad3-4c9c-abfc-29a05256a8de",
   "metadata": {},
   "outputs": [
    {
     "name": "stdout",
     "output_type": "stream",
     "text": [
      "2\n"
     ]
    }
   ],
   "source": [
    "#Q47. Find the shortest string in a list of strings.\n",
    "\n",
    "list1 = ['ram', 'sham','manoj' , 'ab' , 'This is big string' , 'nhu']\n",
    "\n",
    "num1 = len(list1[0])\n",
    "for i in list1:\n",
    "    if len(i) < num1 : \n",
    "       \n",
    "        num1 = len(i)\n",
    "        \n",
    "print(num1)\n",
    "#2"
   ]
  },
  {
   "cell_type": "code",
   "execution_count": 124,
   "id": "544864e5-e322-4ef9-855e-7e2b7574680c",
   "metadata": {},
   "outputs": [
    {
     "name": "stdin",
     "output_type": "stream",
     "text": [
      "Please enter the number 4\n"
     ]
    },
    {
     "name": "stdout",
     "output_type": "stream",
     "text": [
      "[1, 3, 6, 10]\n"
     ]
    }
   ],
   "source": [
    "#Q48. Create a list of the first `n` triangular numbers.\n",
    "\n",
    "num1 = int(input(\"Please enter the number\"))\n",
    "\n",
    "tri_num1 = []\n",
    "tri_num = 0\n",
    "for i in range(1,num1+1):\n",
    "    tri_num += i\n",
    "    tri_num1.append(tri_num)\n",
    "    \n",
    "print(tri_num1)    \n",
    "\n",
    "#Please enter the number 4\n",
    "#[1, 3, 6, 10]"
   ]
  },
  {
   "cell_type": "code",
   "execution_count": 126,
   "id": "79e9e485-680b-45a9-a21f-a4a65c8d6c94",
   "metadata": {},
   "outputs": [
    {
     "name": "stdout",
     "output_type": "stream",
     "text": [
      "list contains another list as a subsequence\n"
     ]
    }
   ],
   "source": [
    "#Q49. Check if a list contains another list as a subsequence.\n",
    "\n",
    "list1 = [1,2,3,[1,5,6,7],[5,9]]\n",
    "\n",
    "for i in list1:\n",
    "    if type(i) == list:\n",
    "        print(\"list contains another list as a subsequence\")\n",
    "        break\n",
    "else :\n",
    "    print(\"list does not contain any subsequence list.\")\n",
    "#list contains another list as a subsequence        "
   ]
  },
  {
   "cell_type": "code",
   "execution_count": 130,
   "id": "b2106c25-c394-4f20-9e85-77cc689296cd",
   "metadata": {},
   "outputs": [
    {
     "name": "stdout",
     "output_type": "stream",
     "text": [
      "[9, 4, 5, 1]\n"
     ]
    }
   ],
   "source": [
    "#Q50. Swap two elements in a list by their indices.\n",
    "\n",
    "lst1 = [1,4,5,9]\n",
    "\n",
    "\n",
    "lst1[3] , lst1[0] = lst1[0] , lst1[3]\n",
    "\n",
    "print(lst1)\n",
    "#[9, 4, 5, 1]"
   ]
  },
  {
   "cell_type": "code",
   "execution_count": 2,
   "id": "990fe279-261c-4043-9ba1-8d0d57dd375d",
   "metadata": {},
   "outputs": [
    {
     "data": {
      "text/plain": [
       "tuple"
      ]
     },
     "execution_count": 2,
     "metadata": {},
     "output_type": "execute_result"
    }
   ],
   "source": [
    "#Tuple Based Practice Problem :\n",
    "\n",
    "#Q1. Create a tuple with integers from 1 to 5\n",
    "\n",
    "t1 = (1,2,3,4,5)\n",
    "\n",
    "type(t1)\n",
    " #tuple "
   ]
  },
  {
   "cell_type": "code",
   "execution_count": 3,
   "id": "9af83eba-9dc0-4fc5-b3e1-68a167f80d26",
   "metadata": {},
   "outputs": [
    {
     "name": "stdout",
     "output_type": "stream",
     "text": [
      "3\n"
     ]
    }
   ],
   "source": [
    "#Q2. Access the third element of a tuple.\n",
    "\n",
    "t1 = (1,2,3,4,5)\n",
    "\n",
    "t2 = t1[2]\n",
    "\n",
    "print(t2)\n",
    "#3"
   ]
  },
  {
   "cell_type": "code",
   "execution_count": 5,
   "id": "4a53d246-daab-4f3e-92c9-22af32458aa2",
   "metadata": {},
   "outputs": [
    {
     "name": "stdout",
     "output_type": "stream",
     "text": [
      "5\n"
     ]
    }
   ],
   "source": [
    "#Q3. Find the length of a tuple without using the `len()` function.\n",
    "\n",
    "t1 = (1,2,3,9,5)\n",
    "\n",
    "cnt =0\n",
    "for i in t1:\n",
    "    cnt = cnt + 1\n",
    "\n",
    "print(cnt)    \n",
    "#5"
   ]
  },
  {
   "cell_type": "code",
   "execution_count": 9,
   "id": "39bd3e17-aa06-47e6-ab41-b3ac315ea04f",
   "metadata": {},
   "outputs": [
    {
     "name": "stdout",
     "output_type": "stream",
     "text": [
      "element is ' 1 ' Count is 1\n",
      "element is ' 2 ' Count is 2\n",
      "element is ' 3 ' Count is 3\n",
      "element is ' 5 ' Count is 1\n",
      "element is ' 6 ' Count is 1\n",
      "element is ' 7 ' Count is 4\n",
      "element is ' 9 ' Count is 1\n"
     ]
    }
   ],
   "source": [
    "#Q4. Count the occurrences of an element in a tuple.\n",
    "\n",
    "t1 = (1,2,2,3,3,3,9,6,7,7,7,7,5)\n",
    "\n",
    "set1 = set(t1)\n",
    "\n",
    "for i in set1:\n",
    "    t1.count(i)\n",
    "    print(\"element is '\" ,  i  , \"' Count is\" ,  t1.count(i))\n",
    " \n",
    "'''\n",
    "element is ' 1 ' Count is 1\n",
    "element is ' 2 ' Count is 2\n",
    "element is ' 3 ' Count is 3\n",
    "element is ' 5 ' Count is 1\n",
    "element is ' 6 ' Count is 1\n",
    "element is ' 7 ' Count is 4\n",
    "element is ' 9 ' Count is 1\n",
    "'''"
   ]
  },
  {
   "cell_type": "code",
   "execution_count": 11,
   "id": "cc87f990-7027-4d15-a23c-146815e2281d",
   "metadata": {},
   "outputs": [
    {
     "name": "stdout",
     "output_type": "stream",
     "text": [
      "0\n"
     ]
    }
   ],
   "source": [
    "#Q5. Find the index of the first occurrence of an element in a tuple.\n",
    "\n",
    "t1 = (1,2,3,9,5)\n",
    "\n",
    "print(t1.index(1)) \n",
    "#0"
   ]
  },
  {
   "cell_type": "code",
   "execution_count": 22,
   "id": "d8268d04-f070-4d50-b2cc-2bcd21cce01c",
   "metadata": {},
   "outputs": [
    {
     "name": "stdin",
     "output_type": "stream",
     "text": [
      "Please add the element 2\n"
     ]
    },
    {
     "name": "stdout",
     "output_type": "stream",
     "text": [
      "element exists in a tuple.\n"
     ]
    }
   ],
   "source": [
    "#Q6. Check if an element exists in a tuple.\n",
    "\n",
    "t1 = (1,2,2,3,3,3,9,6,7,7,7,7,5)\n",
    "\n",
    "ele = int(input(\"Please add the element\" ))\n",
    "\n",
    "for i in t1:\n",
    "    if i == ele :\n",
    "        print(\"element exists in a tuple.\")\n",
    "        break\n",
    "    \n",
    "else :\n",
    "    print(\"element does not exists in a tuple\")\n",
    "        \n",
    "#Please add the element 2\n",
    "#element exists in a tuple.\n",
    "\n",
    "#Please add the element 4\n",
    "#element does not exists in a tuple"
   ]
  },
  {
   "cell_type": "code",
   "execution_count": 24,
   "id": "6020e5f3-007e-4968-bb75-6cf415ae3f7b",
   "metadata": {},
   "outputs": [
    {
     "name": "stdout",
     "output_type": "stream",
     "text": [
      "[1, 2, 3, 4, 5, 6, 7]\n"
     ]
    }
   ],
   "source": [
    "#Q7. Convert a tuple to a list.\n",
    "\n",
    "t1 = (1,2,3,4,5,6,7)\n",
    "\n",
    "l1 = list(t1)\n",
    "type(l1)\n",
    "\n",
    "print(l1)\n",
    "#[1, 2, 3, 4, 5, 6, 7]"
   ]
  },
  {
   "cell_type": "code",
   "execution_count": 25,
   "id": "d827ce9a-566e-4c06-8507-24167b86288d",
   "metadata": {},
   "outputs": [
    {
     "name": "stdout",
     "output_type": "stream",
     "text": [
      "(1, 2, 3, 4, 5, 6, 7)\n"
     ]
    }
   ],
   "source": [
    "#Q8. Convert a list to a tuple.\n",
    "\n",
    "l1 = [1, 2, 3, 4, 5, 6, 7]\n",
    "\n",
    "t1 = tuple(l1)\n",
    "\n",
    "print(t1)\n",
    "#(1, 2, 3, 4, 5, 6, 7)"
   ]
  },
  {
   "cell_type": "code",
   "execution_count": 28,
   "id": "bdf585e0-7eb5-4879-ac0c-d550491ca766",
   "metadata": {},
   "outputs": [
    {
     "name": "stdout",
     "output_type": "stream",
     "text": [
      "2 3 5 6 8\n"
     ]
    }
   ],
   "source": [
    "#Q9. Unpack the elements of a tuple into variables.\n",
    "\n",
    "t1 = (2,3,5,6,8)\n",
    "\n",
    "(two,three,five,six,eight) = t1\n",
    "print(two,three,five,six,eight)\n",
    "\n",
    "#2 3 5 6 8"
   ]
  },
  {
   "cell_type": "code",
   "execution_count": 30,
   "id": "b7a03d7d-a928-4dff-b67a-bed6473aff17",
   "metadata": {},
   "outputs": [
    {
     "name": "stdout",
     "output_type": "stream",
     "text": [
      "0 2 4 6 8 10 "
     ]
    }
   ],
   "source": [
    "#Q10. Create a tuple of even numbers from 1 to 10.\n",
    "\n",
    "t1 = ()\n",
    "for i in range(0,11):\n",
    "    if i%2 == 0 :\n",
    "        print(i, end= ' ')\n",
    " #0 2 4 6 8 10     "
   ]
  },
  {
   "cell_type": "code",
   "execution_count": 31,
   "id": "ea9615cb-8e24-4224-bb81-df6d2c45be54",
   "metadata": {},
   "outputs": [
    {
     "name": "stdout",
     "output_type": "stream",
     "text": [
      "1 3 5 7 9 "
     ]
    }
   ],
   "source": [
    "#Q11. Create a tuple of odd numbers from 1 to 10.\n",
    "\n",
    "for i in range(0,11):\n",
    "    if i%2 != 0 :\n",
    "        print(i, end= ' ') \n",
    "        \n",
    "#1 3 5 7 9         "
   ]
  },
  {
   "cell_type": "code",
   "execution_count": 32,
   "id": "6b161f20-ad0b-425e-8f47-b67bb3457fe6",
   "metadata": {},
   "outputs": [
    {
     "name": "stdout",
     "output_type": "stream",
     "text": [
      "(1, 2, 3, 4, 5, 6)\n"
     ]
    }
   ],
   "source": [
    "#Q12. Concatenate two tuples.\n",
    "\n",
    "t1 = (1,2,3)\n",
    "t2 =(4,5,6)\n",
    "\n",
    "t3 = t1 + t2\n",
    "print(t3)\n",
    "\n",
    "#(1, 2, 3, 4, 5, 6)"
   ]
  },
  {
   "cell_type": "code",
   "execution_count": 39,
   "id": "41c06a1b-f981-4960-84e3-ebff948ac386",
   "metadata": {},
   "outputs": [
    {
     "name": "stdout",
     "output_type": "stream",
     "text": [
      "(1, 2, 3, 1, 2, 3, 1, 2, 3)\n"
     ]
    }
   ],
   "source": [
    "#Q13. Repeat a tuple three times.\n",
    "\n",
    "t1 =(1,2,3)\n",
    "\n",
    "t2 =t1*3\n",
    "\n",
    "print(t2)\n",
    "\n",
    "#(1, 2, 3, 1, 2, 3, 1, 2, 3)"
   ]
  },
  {
   "cell_type": "code",
   "execution_count": 41,
   "id": "a2bfc658-7c59-43de-b168-3e4ae01cb029",
   "metadata": {},
   "outputs": [
    {
     "name": "stdout",
     "output_type": "stream",
     "text": [
      "()\n"
     ]
    }
   ],
   "source": [
    "#Q14. Check if a tuple is empty.\n",
    "\n",
    "t1 = (1,2)\n",
    "t3= ()\n",
    "print(t3)\n",
    "\n",
    "#()"
   ]
  },
  {
   "cell_type": "code",
   "execution_count": 43,
   "id": "030e8ba8-f113-48ee-8c7a-53b470cc198f",
   "metadata": {},
   "outputs": [
    {
     "name": "stdout",
     "output_type": "stream",
     "text": [
      "((1, 2), (3, 4))\n"
     ]
    }
   ],
   "source": [
    "#Q15. Create a nested tuple.\n",
    "\n",
    "t1 = (1,2)\n",
    "t2 = (3,4)\n",
    "\n",
    "t4 = ((t1,) + (t2,))\n",
    "\n",
    "print(t4)\n",
    "\n",
    "#((1, 2), (3, 4))"
   ]
  },
  {
   "cell_type": "code",
   "execution_count": 58,
   "id": "78d5d101-6a21-42c8-86af-49b91bd0b8ba",
   "metadata": {},
   "outputs": [
    {
     "name": "stdout",
     "output_type": "stream",
     "text": [
      "1\n",
      "3\n"
     ]
    }
   ],
   "source": [
    "#Q16. Access the first element of a nested tuple.\n",
    "\n",
    "t1 = ((1, 2), (3, 4))\n",
    "\n",
    "for i in t1:\n",
    "    print(i[0])\n",
    "        \n",
    "        \n",
    "#1\n",
    "#3"
   ]
  },
  {
   "cell_type": "code",
   "execution_count": 61,
   "id": "1f7a7314-62fe-4bc3-9396-8c3d42c0163f",
   "metadata": {},
   "outputs": [
    {
     "data": {
      "text/plain": [
       "tuple"
      ]
     },
     "execution_count": 61,
     "metadata": {},
     "output_type": "execute_result"
    }
   ],
   "source": [
    "#Q17. Create a tuple with a single element.\n",
    "\n",
    "t1 = (1,)\n",
    "type(t1)\n",
    "\n",
    "#tuple"
   ]
  },
  {
   "cell_type": "code",
   "execution_count": 68,
   "id": "9a491835-b698-4d04-b6e0-5711af77da6f",
   "metadata": {},
   "outputs": [
    {
     "name": "stdout",
     "output_type": "stream",
     "text": [
      "Matching Element  1\n",
      "Unmatched Element 2\n",
      "Unmatched Element 3\n",
      "Unmatched Element 4\n"
     ]
    }
   ],
   "source": [
    "#Q18. Compare two tuples.\n",
    "\n",
    "t1 = (1,2,3,4)\n",
    "t2 = (1,5,6)\n",
    "\n",
    "for i in t1:\n",
    "    if i in (t2):\n",
    "        print(\"Matching Element \" , i )\n",
    "    else :\n",
    "        print( \"Unmatched Element\" , i )\n",
    " \n",
    "#Matching Element  1\n",
    "#Unmatched Element 2\n",
    "#Unmatched Element 3\n",
    "#Unmatched Element 4       "
   ]
  },
  {
   "cell_type": "code",
   "execution_count": 70,
   "id": "b0cff6b6-56d8-49a7-9934-8000f3f483e9",
   "metadata": {},
   "outputs": [
    {
     "ename": "NameError",
     "evalue": "name 't1' is not defined",
     "output_type": "error",
     "traceback": [
      "\u001b[0;31m---------------------------------------------------------------------------\u001b[0m",
      "\u001b[0;31mNameError\u001b[0m                                 Traceback (most recent call last)",
      "Cell \u001b[0;32mIn[70], line 6\u001b[0m\n\u001b[1;32m      3\u001b[0m t1 \u001b[38;5;241m=\u001b[39m (\u001b[38;5;241m1\u001b[39m,\u001b[38;5;241m2\u001b[39m,\u001b[38;5;241m3\u001b[39m)\n\u001b[1;32m      5\u001b[0m \u001b[38;5;28;01mdel\u001b[39;00m t1\n\u001b[0;32m----> 6\u001b[0m \u001b[38;5;28mprint\u001b[39m(\u001b[43mt1\u001b[49m)\n",
      "\u001b[0;31mNameError\u001b[0m: name 't1' is not defined"
     ]
    }
   ],
   "source": [
    "#Q19. Delete a tuple.\n",
    "\n",
    "t1 = (1,2,3)\n",
    "\n",
    "del t1\n",
    "print(t1)\n",
    "#NameError: name 't1' is not defined"
   ]
  },
  {
   "cell_type": "code",
   "execution_count": 72,
   "id": "4c16831e-96cc-492c-a71e-d1bb3fa6efc6",
   "metadata": {},
   "outputs": [
    {
     "name": "stdout",
     "output_type": "stream",
     "text": [
      "(1, 2, 3)\n",
      "(5, 7)\n",
      "(9, 12, 21, 23)\n"
     ]
    }
   ],
   "source": [
    "#Q20. Slice a tuple.\n",
    "\n",
    "t1 = (1,2,3,4,5,7,8,9,12,21,23)\n",
    "\n",
    "print(t1[0:3:1])\n",
    "print(t1[4:6:1])\n",
    "print(t1[7::1])      \n",
    "\n",
    "#(1, 2, 3)\n",
    "#(5, 7)\n",
    "#(9, 12, 21, 23)"
   ]
  },
  {
   "cell_type": "code",
   "execution_count": 73,
   "id": "27eadb49-3fa1-4c0e-b11b-cdc258b0fc82",
   "metadata": {},
   "outputs": [
    {
     "name": "stdout",
     "output_type": "stream",
     "text": [
      "43\n"
     ]
    }
   ],
   "source": [
    "#Q21. Find the maximum value in a tuple.\n",
    "\n",
    "t1 = (1,2,3,5,7,9,10,15,36,43,23,12)\n",
    "\n",
    "num= 0\n",
    "for i in t1:\n",
    "    if i > num :\n",
    "        num=i\n",
    "print(num)    \n",
    "#43"
   ]
  },
  {
   "cell_type": "code",
   "execution_count": 74,
   "id": "8044ab67-cf4f-4f02-8200-875e96f9b5a4",
   "metadata": {},
   "outputs": [
    {
     "name": "stdout",
     "output_type": "stream",
     "text": [
      "1\n"
     ]
    }
   ],
   "source": [
    "#Q22. Find the minimum value in a tuple.\n",
    "\n",
    "t1 = (11,2,3,5,7,9,10,15,36,43,23,1,12)\n",
    "\n",
    "num= t1[0]\n",
    "for i in t1:\n",
    "    if i <= num :\n",
    "        num=i\n",
    "print(num)  \n",
    "#1"
   ]
  },
  {
   "cell_type": "code",
   "execution_count": 75,
   "id": "3eeec05a-d7e5-43f3-967a-1c294ce2ace5",
   "metadata": {},
   "outputs": [
    {
     "name": "stdout",
     "output_type": "stream",
     "text": [
      "('T', 'h', 'i', 's', ' ', 'i', 's', ' ', 'a', ' ', 's', 't', 'r', 'i', 'n', 'g')\n"
     ]
    }
   ],
   "source": [
    "#Q23. Convert a string to a tuple of characters.\n",
    "\n",
    "str1 = \"This is a string\"\n",
    "\n",
    "t1 = tuple(str1)\n",
    "\n",
    "print(t1)\n",
    "\n",
    "#('T', 'h', 'i', 's', ' ', 'i', 's', ' ', 'a', ' ', 's', 't', 'r', 'i', 'n', 'g')"
   ]
  },
  {
   "cell_type": "code",
   "execution_count": 81,
   "id": "c2e84dce-e37a-4e00-bf22-dc506f5cd127",
   "metadata": {},
   "outputs": [
    {
     "name": "stdout",
     "output_type": "stream",
     "text": [
      " this is a string \n"
     ]
    }
   ],
   "source": [
    "#Q24. Convert a tuple of characters to a string.\n",
    "\n",
    "t1 = ('this', 'is', 'a' , 'string')\n",
    "\n",
    "str1 = \" \"\n",
    "\n",
    "for i in t1:\n",
    "    str1 += i + \" \"\n",
    "\n",
    "print(str(str1))\n",
    "#this is a string "
   ]
  },
  {
   "cell_type": "code",
   "execution_count": 87,
   "id": "263705b0-b044-459a-9a53-be77169fb58c",
   "metadata": {},
   "outputs": [
    {
     "name": "stdout",
     "output_type": "stream",
     "text": [
      "(('T', 'h', 'i', 's', ' ', 'i', 's', ' ', 'a', ' ', 's', 't', 'r', 'i', 'n', 'g'), (1, 2, 3))\n",
      "('This is a string', [1, 2, 3])\n"
     ]
    }
   ],
   "source": [
    "#Q25. Create a tuple from multiple data types.\n",
    "\n",
    "str1 = \"This is a string\"\n",
    "lst1 = [1,2,3]\n",
    "\n",
    "t1 = ((tuple(str1),)  +  (tuple(lst1),))\n",
    "t2 = ((str1,)  +  (lst1,))\n",
    "print(t1)\n",
    "print(t2)\n",
    "#(('T', 'h', 'i', 's', ' ', 'i', 's', ' ', 'a', ' ', 's', 't', 'r', 'i', 'n', 'g'), (1, 2, 3))\n",
    "#('This is a string', [1, 2, 3])"
   ]
  },
  {
   "cell_type": "code",
   "execution_count": 90,
   "id": "81c7bae8-a959-45b4-9d6b-14fb11c1ab26",
   "metadata": {},
   "outputs": [
    {
     "name": "stdout",
     "output_type": "stream",
     "text": [
      "Identical tuples\n"
     ]
    }
   ],
   "source": [
    "#Q26. Check if two tuples are identical.\n",
    "\n",
    "t1 =(1,2,3)\n",
    "t2 =(1,2,3)\n",
    "\n",
    "if t1 == t2 :\n",
    "    print(\"Identical tuples\")\n",
    "else:\n",
    "    print(\"Not Identical tuples\")\n",
    "#Identical tuples    "
   ]
  },
  {
   "cell_type": "code",
   "execution_count": 91,
   "id": "6d4039f2-57a4-40eb-86ad-af574ca81a6b",
   "metadata": {},
   "outputs": [
    {
     "name": "stdout",
     "output_type": "stream",
     "text": [
      "[1, 2, 3, 12, 23, 23, 45, 45]\n"
     ]
    }
   ],
   "source": [
    "#Q27. Sort the elements of a tuple.\n",
    "\n",
    "t1 = (1,3,2,45,23,45,23,12)\n",
    "\n",
    "print(sorted(t1))\n",
    "#[1, 2, 3, 12, 23, 23, 45, 45]"
   ]
  },
  {
   "cell_type": "code",
   "execution_count": 94,
   "id": "43e6653d-4f91-4fdf-9fdb-c05834d28271",
   "metadata": {},
   "outputs": [
    {
     "name": "stdout",
     "output_type": "stream",
     "text": [
      "('1', '2', '4', '5', '6', '7')\n"
     ]
    }
   ],
   "source": [
    "#Q28. Convert a tuple of integers to a tuple of strings.\n",
    "\n",
    "t1 = (1,2,4,5,6,7)\n",
    "\n",
    "t2 = ()\n",
    "for i in t1:\n",
    "    t2 += tuple(str(i))\n",
    "   \n",
    "print(t2)\n",
    "#('1', '2', '4', '5', '6', '7')"
   ]
  },
  {
   "cell_type": "code",
   "execution_count": 105,
   "id": "7d3101db-5d7c-4b41-a527-30e97ae580f6",
   "metadata": {},
   "outputs": [
    {
     "name": "stdout",
     "output_type": "stream",
     "text": [
      "(1, 2, 4, 5, 6, 7)\n"
     ]
    }
   ],
   "source": [
    "#Q29. Convert a tuple of strings to a tuple of integers.\n",
    "\n",
    "t1 = ('1', '2', '4', '5', '6', '7')\n",
    "\n",
    "t2 = ()\n",
    "j=0\n",
    "for i in t1:\n",
    "    j = tuple(map(int, i))\n",
    "    t2 +=j\n",
    "   \n",
    "print(t2)\n",
    "#(1, 2, 4, 5, 6, 7)"
   ]
  },
  {
   "cell_type": "code",
   "execution_count": 106,
   "id": "d187603c-e39f-48ab-8eb0-0a98a45b0e67",
   "metadata": {},
   "outputs": [
    {
     "name": "stdout",
     "output_type": "stream",
     "text": [
      "(1, 2, 3, 3, 4, 5)\n"
     ]
    }
   ],
   "source": [
    "#Q30. Merge two tuples.\n",
    "\n",
    "t1 = (1,2,3)\n",
    "t2 =(3,4,5)\n",
    "\n",
    "t3 = t1 +t2\n",
    "\n",
    "print(t3)\n",
    "#(1, 2, 3, 3, 4, 5)"
   ]
  },
  {
   "cell_type": "code",
   "execution_count": 115,
   "id": "d7d5d541-4f6d-48d2-bbdc-529bbc7e48d5",
   "metadata": {},
   "outputs": [
    {
     "name": "stdout",
     "output_type": "stream",
     "text": [
      "(1, 2, 3, 1, 2, 1, 3, 4, 2, 3)\n"
     ]
    }
   ],
   "source": [
    "#Q31. Flatten a nested tuple.\n",
    "\n",
    "t1= ((1,2,3),1,2,(1,3,4), (2,3))\n",
    "\n",
    "t2 = ()\n",
    "for i in t1:\n",
    "    if type(i) == tuple:\n",
    "        for j in i : \n",
    "            t2 += tuple(map(int,str(j)))\n",
    "    else : \n",
    "        t2 += tuple(map(int, str(i)))\n",
    "print(t2)\n",
    "\n",
    "#(1, 2, 3, 1, 2, 1, 3, 4, 2, 3)\n",
    "            "
   ]
  },
  {
   "cell_type": "code",
   "execution_count": 149,
   "id": "e0be13f9-30ac-4bc9-be19-ed93738c19e0",
   "metadata": {},
   "outputs": [
    {
     "name": "stdout",
     "output_type": "stream",
     "text": [
      "(2, 3, 5, 7)\n"
     ]
    }
   ],
   "source": [
    "#Q32. Create a tuple of the first 5 prime numbers.\n",
    "\n",
    "\n",
    "t2 = ()\n",
    "cnt = 0\n",
    "for i in range (2,9):\n",
    "    for n in range(2,i):\n",
    "        if i%n == 0 :       \n",
    "            break\n",
    "    else :\n",
    "        t2 += tuple(map(int, str(i))) \n",
    "        \n",
    "print(t2)        \n",
    "#(2, 3, 5, 7)"
   ]
  },
  {
   "cell_type": "code",
   "execution_count": 157,
   "id": "158072dc-0519-4742-bc98-7958ae3599f1",
   "metadata": {},
   "outputs": [
    {
     "name": "stdout",
     "output_type": "stream",
     "text": [
      "tuple is palindrome  ('naman',)\n"
     ]
    }
   ],
   "source": [
    "#Q33. Check if a tuple is a palindrome.\n",
    "\n",
    "t1 = ('naman', )\n",
    "\n",
    "cnt = 0\n",
    "for i in range(0, round(len(t1)/2) , 1):\n",
    "    if t1[i] == t1[len(t1)-i-1] :\n",
    "        cnt = 1\n",
    "        cnt += cnt + 1\n",
    "if cnt == round(len(t1)/2) :\n",
    "    print(\"tuple is palindrome \" , t1)\n",
    "               \n",
    "else : print(\"tuple is not palindrome\" , t1)    \n",
    " \n",
    "#tuple is palindrome  ('naman',)    "
   ]
  },
  {
   "cell_type": "code",
   "execution_count": 160,
   "id": "700bd4fc-0fb9-45bd-9eb8-d47632094002",
   "metadata": {},
   "outputs": [
    {
     "name": "stdout",
     "output_type": "stream",
     "text": [
      "('1', '4', '9', '1', '6')\n"
     ]
    }
   ],
   "source": [
    "#Q34. Create a tuple of squares of numbers from 1 to 5.\n",
    "\n",
    "t1 = ()\n",
    "\n",
    "for i in range(1,5):\n",
    "    t1 += tuple(str(i**2))\n",
    "print(t1)  \n",
    "#('1', '4', '9', '1', '6')"
   ]
  },
  {
   "cell_type": "code",
   "execution_count": 163,
   "id": "81cdf8d4-5e2f-442a-b8ac-9ebe54d3ee48",
   "metadata": {},
   "outputs": [
    {
     "name": "stdout",
     "output_type": "stream",
     "text": [
      "2\n",
      "4\n",
      "6\n",
      "8\n",
      "10\n",
      "12\n",
      "24\n",
      "46\n"
     ]
    }
   ],
   "source": [
    "#Q35. Filter out all even numbers from a tuple.\n",
    "\n",
    "t1 = (9,1,2,3,4,5,6,8,10,12,24,23,35,43,46)\n",
    "\n",
    "for i in t1:\n",
    "    if i%2 == 0:\n",
    "        print(i)\n",
    "'''\n",
    "2\n",
    "4\n",
    "6\n",
    "8\n",
    "10\n",
    "12\n",
    "24\n",
    "46\n",
    "''''"
   ]
  },
  {
   "cell_type": "code",
   "execution_count": 168,
   "id": "4644a6ea-4173-4617-9758-6f66859a6e2b",
   "metadata": {},
   "outputs": [
    {
     "name": "stdout",
     "output_type": "stream",
     "text": [
      "(2, 4, 8, 10, 14, 24)\n"
     ]
    }
   ],
   "source": [
    "#Q36. Multiply all elements in a tuple by 2.\n",
    "\n",
    "t1 = (1,2,4,5,7,12)\n",
    "\n",
    "t2= ()\n",
    "list1= []\n",
    "for i in t1:\n",
    "    list1.append((i*2))\n",
    "    t2 = tuple(list1) \n",
    "\n",
    "\n",
    "print(t2)\n",
    "\n",
    "#(2, 4, 8, 10, 14, 24)"
   ]
  },
  {
   "cell_type": "code",
   "execution_count": 172,
   "id": "74a031ba-042b-47c0-a579-afac84e49b3e",
   "metadata": {},
   "outputs": [
    {
     "name": "stdout",
     "output_type": "stream",
     "text": [
      "(1, 2, 4, 5, 7, 12, 3, 5, 4, 3, 3, 4, 5, 3, 3, 5, 3, 5, 3, 3, 5, 4, 5, 4, 4, 3)\n"
     ]
    }
   ],
   "source": [
    "#Q37. Create a tuple of random numbers.\n",
    "\n",
    "import random\n",
    "for i in range(0,20):\n",
    "    t1 += tuple(map(int, str(random.randint(3,5))))\n",
    "\n",
    "print(t1)\n",
    "#(1, 2, 4, 5, 7, 12, 3, 5, 4, 3, 3, 4, 5, 3, 3, 5, 3, 5, 3, 3, 5, 4, 5, 4, 4, 3)"
   ]
  },
  {
   "cell_type": "code",
   "execution_count": 210,
   "id": "b4cb74ba-eb10-48f6-b169-67a34b11e0a5",
   "metadata": {},
   "outputs": [
    {
     "name": "stdout",
     "output_type": "stream",
     "text": [
      "[1, 3, 4, 6]\n",
      "tuple is sorted\n"
     ]
    }
   ],
   "source": [
    "#Q38. Check if a tuple is sorted.\n",
    "\n",
    "t1 = (1,3,4,6)\n",
    "\n",
    "lst1 = list(t1)\n",
    "print(lst1)\n",
    "num1 = lst1[0]\n",
    "cnt = 0\n",
    "for i in lst1:\n",
    "    if i >= num1 :\n",
    "        num1 = i\n",
    "        cnt = cnt + 1\n",
    "        if cnt == len(lst1) :\n",
    "            print(\"tuple is sorted\")\n",
    "            break\n",
    "else:\n",
    "    print(\"tuple is not sorted\")\n",
    " \n",
    "#[1, 3, 5, 4, 6]\n",
    "#tuple is not sorted \n",
    "\n",
    "#[1, 3, 4, 6]\n",
    "#tuple is sorted"
   ]
  },
  {
   "cell_type": "code",
   "execution_count": 215,
   "id": "4ad4369f-f9d9-47b7-9f64-457a4e6bc0d5",
   "metadata": {},
   "outputs": [
    {
     "name": "stdin",
     "output_type": "stream",
     "text": [
      "add the position  3\n"
     ]
    },
    {
     "name": "stdout",
     "output_type": "stream",
     "text": [
      "(4, 6, 7, 8, 1, 2, 3)\n"
     ]
    }
   ],
   "source": [
    "#Q39. Rotate a tuple to the left by `n` positions.\n",
    "\n",
    "t1 = (1,2,3,4,6,7,8)\n",
    "\n",
    "pos = int(input(\"add the position \"))\n",
    "\n",
    "t2 = t1[0:pos:]\n",
    "t3 =  t1[pos::]\n",
    "\n",
    "t4 = ( (t3) +  (t2))\n",
    "\n",
    "print(t4)\n",
    "#add the position  3\n",
    "#(4, 6, 7, 8, 1, 2, 3)"
   ]
  },
  {
   "cell_type": "code",
   "execution_count": 243,
   "id": "57994ea5-c62a-41fb-b593-eb638cb07c2f",
   "metadata": {},
   "outputs": [
    {
     "name": "stdin",
     "output_type": "stream",
     "text": [
      "add the position  3\n"
     ]
    },
    {
     "name": "stdout",
     "output_type": "stream",
     "text": [
      "(1, 2, 3, 4, 6, 7, 8)\n"
     ]
    }
   ],
   "source": [
    "#Q40. Rotate a tuple to the right by `n` positions.\n",
    "t1 = (4, 6, 7, 8, 1, 2, 3)\n",
    "\n",
    "pos = int(input(\"add the position \"))\n",
    "\n",
    "t2 = t1[-1:pos:-1]\n",
    "t3 =  t1[-pos-1::-1]\n",
    "\n",
    "t5 = list(t2)\n",
    "t6 = list(t3)\n",
    "list.reverse(t5)  \n",
    "list.reverse(t6)\n",
    "\n",
    "t7 = t5 + t6\n",
    "\n",
    "t8 = tuple(t7)\n",
    "print(t8)\n",
    "#add the position  3\n",
    "#(1, 2, 3, 4, 6, 7, 8)"
   ]
  },
  {
   "cell_type": "code",
   "execution_count": 244,
   "id": "76c73a97-2a91-41f1-886f-187369c010b6",
   "metadata": {},
   "outputs": [
    {
     "name": "stdout",
     "output_type": "stream",
     "text": [
      "(0, 1, 1, 2, 3, 5)\n"
     ]
    }
   ],
   "source": [
    "#Q41. Create a tuple of the first 5 Fibonacci numbers\n",
    "\n",
    "t1= ()\n",
    "\n",
    "f = 0\n",
    "p = 1\n",
    "lst1 = [0,1]\n",
    "for i in range(1,5):\n",
    "    fib = f + p\n",
    "    f= p\n",
    "    p=i\n",
    "    lst1.append(fib)\n",
    "t1 = tuple(lst1)\n",
    "\n",
    "print(t1)\n",
    "#(0, 1, 1, 2, 3, 5)"
   ]
  },
  {
   "cell_type": "code",
   "execution_count": 250,
   "id": "b4f8424a-da8e-4f45-930b-c9aa143d28a1",
   "metadata": {},
   "outputs": [
    {
     "name": "stdin",
     "output_type": "stream",
     "text": [
      "Please enter your input 12345this is string\n"
     ]
    },
    {
     "name": "stdout",
     "output_type": "stream",
     "text": [
      "12345this is string\n",
      "('1', '2', '3', '4', '5', 't', 'h', 'i', 's', ' ', 'i', 's', ' ', 's', 't', 'r', 'i', 'n', 'g')\n"
     ]
    }
   ],
   "source": [
    "#Q42. Create a tuple from user input.\n",
    "\n",
    "u_input = input(\"Please enter your input\")\n",
    "\n",
    "print(u_input)\n",
    "del t10\n",
    "lst1.clear()\n",
    "lst1 = []\n",
    "t10 = ()\n",
    "for i in u_input:\n",
    "    lst1.append(i)\n",
    "t10 = tuple(lst1)\n",
    "\n",
    "print(t10)\n",
    "\n",
    "#Please enter your input 12345this is string\n",
    "#12345this is string\n",
    "#('1', '2', '3', '4', '5', 't', 'h', 'i', 's', ' ', 'i', 's', ' ', 's', 't', 'r', 'i', 'n', 'g')"
   ]
  },
  {
   "cell_type": "code",
   "execution_count": 259,
   "id": "e7282822-ba14-4b90-8b40-1417695823f7",
   "metadata": {},
   "outputs": [
    {
     "name": "stdout",
     "output_type": "stream",
     "text": [
      "(3, 2, 1, 4)\n"
     ]
    }
   ],
   "source": [
    "#Q43. Swap two elements in a tuple.\n",
    "\n",
    "t1 = (1,2,3,4)\n",
    "t2 =()\n",
    "lst2 = list(t1)\n",
    "\n",
    "lst2[0] , lst2[2] = lst2[2] , lst2[0]\n",
    "\n",
    "t2 = tuple(lst2)\n",
    "\n",
    "print(t2)\n",
    "#(3, 2, 1, 4)"
   ]
  },
  {
   "cell_type": "code",
   "execution_count": 265,
   "id": "bfe9432a-cbfe-4655-9d04-b0f8a57c9676",
   "metadata": {},
   "outputs": [
    {
     "name": "stdout",
     "output_type": "stream",
     "text": [
      "(45, 3, 2, 1)\n"
     ]
    }
   ],
   "source": [
    "#Q44. Reverse the elements of a tuple.\n",
    "\n",
    "t1 = (1,2,3,45)\n",
    "t2 = ()\n",
    "lst1 = list(t1)\n",
    "lst1.reverse()\n",
    "t2 = tuple(lst1)\n",
    "print(t2)\n",
    "#(45, 3, 2, 1)"
   ]
  },
  {
   "cell_type": "code",
   "execution_count": 270,
   "id": "95ec45e2-5b19-4ca3-9bba-708973f36a0c",
   "metadata": {},
   "outputs": [
    {
     "name": "stdin",
     "output_type": "stream",
     "text": [
      "please enter the position 5\n"
     ]
    },
    {
     "name": "stdout",
     "output_type": "stream",
     "text": [
      "(0, 1, 4, 9, 16, 25)\n"
     ]
    }
   ],
   "source": [
    "#Q45. Create a tuple of the first `n` powers of 2.\n",
    "\n",
    "num = int(input(\"please enter the position\"))\n",
    "\n",
    "lst1 = []\n",
    "t1 = ()\n",
    "for i in range (0, num+1):\n",
    "    lst1.append(i**2)\n",
    "\n",
    "t1 = tuple(lst1)\n",
    "\n",
    "print(t1)\n",
    "#please enter the position 5\n",
    "#(0, 1, 4, 9, 16, 25)   "
   ]
  },
  {
   "cell_type": "code",
   "execution_count": 37,
   "id": "ffe53df7-cd67-4e69-90ec-97c46fc10e5d",
   "metadata": {},
   "outputs": [
    {
     "name": "stdout",
     "output_type": "stream",
     "text": [
      "8\n"
     ]
    }
   ],
   "source": [
    "#Q46. Find the longest string in a tuple of strings.\n",
    "\n",
    "t1 = ((1,2,3),(1,2,3,4,5,8,9,10),(345,23), (4,5,6,7))\n",
    "lst9 = list(t1)\n",
    "\n",
    "cnt = 0\n",
    "for i in lst9:\n",
    "    if len(i) > cnt:\n",
    "        cnt =len(i)\n",
    "        \n",
    "print(cnt)\n",
    "#8"
   ]
  },
  {
   "cell_type": "code",
   "execution_count": 38,
   "id": "9ea6febe-8225-40f8-87a3-0499182ca5e2",
   "metadata": {},
   "outputs": [
    {
     "name": "stdout",
     "output_type": "stream",
     "text": [
      "2\n"
     ]
    }
   ],
   "source": [
    "#Q47. Find the shortest string in a tuple of strings.\n",
    "\n",
    "t1 = ((1,2,3),(1,2,3,4,5,8,9,10),(345,23), (4,5,6,7))\n",
    "lst9 = list(t1)\n",
    "\n",
    "cnt = len(lst9[0])\n",
    "for i in lst9:\n",
    "    if len(i) <= cnt:\n",
    "        cnt =len(i)\n",
    "        \n",
    "print(cnt)\n",
    "#2"
   ]
  },
  {
   "cell_type": "code",
   "execution_count": 39,
   "id": "458b56ed-01d0-44de-804b-6a96f2812200",
   "metadata": {},
   "outputs": [
    {
     "name": "stdin",
     "output_type": "stream",
     "text": [
      "Please enter the number 5\n"
     ]
    },
    {
     "name": "stdout",
     "output_type": "stream",
     "text": [
      "(1, 3, 6, 10, 15)\n"
     ]
    }
   ],
   "source": [
    "#Q48. Create a tuple of the first `n` triangular numbers.\n",
    "\n",
    "num1 = int(input(\"Please enter the number\"))\n",
    "\n",
    "tri_num1 = []\n",
    "tri_num = 0\n",
    "for i in range(1,num1+1):\n",
    "    tri_num += i\n",
    "    tri_num1.append(tri_num)\n",
    "    \n",
    "t1 = tuple(tri_num1)    \n",
    "    \n",
    "print(t1) \n",
    "#(1, 3, 6, 10, 15)"
   ]
  },
  {
   "cell_type": "code",
   "execution_count": 55,
   "id": "e0707abe-def5-476e-ad6c-9040351ea27e",
   "metadata": {},
   "outputs": [
    {
     "name": "stdout",
     "output_type": "stream",
     "text": [
      "Tuple contains another tuple as a subsequence.\n"
     ]
    }
   ],
   "source": [
    "#Q49. Check if a tuple contains another tuple as a subsequence.\n",
    "\n",
    "t1 = ((1,2,3) , (1,2) , (1,5,6))\n",
    "\n",
    "for i in t1:\n",
    "    if type(i) == tuple:\n",
    "        print(\"Tuple contains another tuple as a subsequence.\")\n",
    "        break\n",
    "else:\n",
    "    print(\"No subsequent tuple found\")\n",
    "#Tuple contains another tuple as a subsequence."
   ]
  },
  {
   "cell_type": "code",
   "execution_count": 62,
   "id": "4fd67d77-61c7-486b-9fcd-df2519da8e71",
   "metadata": {},
   "outputs": [
    {
     "name": "stdin",
     "output_type": "stream",
     "text": [
      "please enter the number 4\n"
     ]
    },
    {
     "name": "stdout",
     "output_type": "stream",
     "text": [
      "[1, 1, 1, 0]\n"
     ]
    }
   ],
   "source": [
    "#Q50. Create a tuple of alternating 1s and 0s of length `n`.\n",
    "\n",
    "n = int(input(\"please enter the number\"))\n",
    "lst1 = []\n",
    "while len(lst1) < n:\n",
    "        lst1 += [1] * 3\n",
    "        lst1 += [0 ]* 4\n",
    "        if len(lst1) > n:\n",
    "            lst1 = lst1[:n]\n",
    "            print(lst1)\n",
    "#please enter the number 4\n",
    "#[1, 1, 1, 0]"
   ]
  },
  {
   "cell_type": "code",
   "execution_count": 78,
   "id": "221c2cb7-6781-4739-94a8-c9f443408c88",
   "metadata": {},
   "outputs": [
    {
     "name": "stdout",
     "output_type": "stream",
     "text": [
      "{1, 2, 3, 4, 5}\n"
     ]
    }
   ],
   "source": [
    "#Set Based Practice Problem :\n",
    "\n",
    "#Q1. Create a set with integers from 1 to 5.\n",
    "\n",
    "set1 = set()\n",
    "type(set1)\n",
    "\n",
    "for i in range (1,6):\n",
    "    set1.add(i)\n",
    "    \n",
    "print(set1)    \n",
    "\n",
    "#. {1, 2, 3, 4, 5}"
   ]
  },
  {
   "cell_type": "code",
   "execution_count": 84,
   "id": "917ae289-6fb7-4e3a-ad6c-d0d35f4fa67c",
   "metadata": {},
   "outputs": [
    {
     "name": "stdout",
     "output_type": "stream",
     "text": [
      "{'set', 'is', 'a', 'This'}\n"
     ]
    }
   ],
   "source": [
    "#Q2. Add an element to a set.\n",
    "\n",
    "set1 = set()\n",
    "str1 =  [\"This\",  \"is\",  \"a\",  \"set\"]\n",
    "\n",
    "\n",
    "for i in str1:\n",
    "\n",
    "    set1.add(i)\n",
    "    \n",
    "print(set1)  \n",
    "#{'set', 'is', 'a', 'This'}"
   ]
  },
  {
   "cell_type": "code",
   "execution_count": 85,
   "id": "a6d53a59-7324-48f8-85d7-3c9f078e4b65",
   "metadata": {},
   "outputs": [
    {
     "name": "stdout",
     "output_type": "stream",
     "text": [
      "{3, 4, 5, 6}\n"
     ]
    }
   ],
   "source": [
    "#Q3. Remove an element from a set.\n",
    "\n",
    "set1 ={1,3,4,5,6}\n",
    "\n",
    "set1.pop()\n",
    "\n",
    "print(set1)\n",
    "#{3, 4, 5, 6}"
   ]
  },
  {
   "cell_type": "code",
   "execution_count": 92,
   "id": "50e740df-8838-4ada-8f67-3c3c5a206fa5",
   "metadata": {},
   "outputs": [
    {
     "name": "stdin",
     "output_type": "stream",
     "text": [
      "please enter element 4\n"
     ]
    },
    {
     "name": "stdout",
     "output_type": "stream",
     "text": [
      "element not found\n"
     ]
    }
   ],
   "source": [
    "#Q4. Check if an element exists in a set.\n",
    "\n",
    "set1 = {1,2,3,40,5}\n",
    "\n",
    "ele = int(input(\"please enter element\"))\n",
    "\n",
    "if ele in set1:\n",
    "    print(\"element found\")\n",
    "else :\n",
    "    print(\"element not found\")\n",
    "\n",
    "#please enter element 3\n",
    "#element found\n",
    "\n",
    "#please enter element 4\n",
    "#element not found"
   ]
  },
  {
   "cell_type": "code",
   "execution_count": 93,
   "id": "c92bcd2a-733a-4cee-a2d5-55b74137cf88",
   "metadata": {},
   "outputs": [
    {
     "name": "stdout",
     "output_type": "stream",
     "text": [
      "7\n"
     ]
    }
   ],
   "source": [
    "#Q5. Find the length of a set without using the `len()` function.\n",
    "\n",
    "set1 = {1,2,3,5,6,7,8}\n",
    "\n",
    "n= 0\n",
    "for  i in set1:\n",
    "    n=n+1\n",
    "print(n)    \n",
    "#7"
   ]
  },
  {
   "cell_type": "code",
   "execution_count": 94,
   "id": "83e477e1-0694-4b85-98ca-eaf4159f0379",
   "metadata": {},
   "outputs": [
    {
     "name": "stdout",
     "output_type": "stream",
     "text": [
      "set()\n"
     ]
    }
   ],
   "source": [
    "#Q6. Clear all elements from a set.\n",
    "\n",
    "set1 ={1,2,3,4}\n",
    "\n",
    "set1.clear()\n",
    "\n",
    "print(set1)\n",
    "#set()"
   ]
  },
  {
   "cell_type": "code",
   "execution_count": 95,
   "id": "663c4d2a-7530-42e5-9dad-b671a8ff524d",
   "metadata": {},
   "outputs": [
    {
     "name": "stdout",
     "output_type": "stream",
     "text": [
      "{2, 4, 6, 8, 10}\n"
     ]
    }
   ],
   "source": [
    "#Q7. Create a set of even numbers from 1 to 10.\n",
    "\n",
    "set1 = set()\n",
    "\n",
    "for i in range (1 , 11):\n",
    "    if i%2 == 0:\n",
    "        set1.add(i)\n",
    "print(set1)        \n",
    " #{2, 4, 6, 8, 10}   "
   ]
  },
  {
   "cell_type": "code",
   "execution_count": 96,
   "id": "b020ea72-68cd-4a1d-a0f1-48049d821572",
   "metadata": {},
   "outputs": [
    {
     "name": "stdout",
     "output_type": "stream",
     "text": [
      "{1, 3, 5, 7, 9}\n"
     ]
    }
   ],
   "source": [
    "#Q8. Create a set of odd numbers from 1 to 10.\n",
    "set1 = set()\n",
    "\n",
    "for i in range (1 , 11):\n",
    "    if i%2 != 0:\n",
    "        set1.add(i)\n",
    "print(set1)  \n",
    "#{1, 3, 5, 7, 9}"
   ]
  },
  {
   "cell_type": "code",
   "execution_count": 100,
   "id": "d5d706d6-34c9-46d3-8aac-bcffc7fcc353",
   "metadata": {},
   "outputs": [
    {
     "name": "stdout",
     "output_type": "stream",
     "text": [
      "{1, 2, 3, 4, 5}\n"
     ]
    }
   ],
   "source": [
    "#Q9. Find the union of two sets.\n",
    "\n",
    "set1 = {1,2,3}\n",
    "set2 = {3,4,5}\n",
    "\n",
    "set3 = set1.union(set2)\n",
    "print(set3)\n",
    "#{1, 2, 3, 4, 5}"
   ]
  },
  {
   "cell_type": "code",
   "execution_count": 101,
   "id": "575e15fc-882c-4fbe-aeb4-32a074cdf0c7",
   "metadata": {},
   "outputs": [
    {
     "name": "stdout",
     "output_type": "stream",
     "text": [
      "{3}\n"
     ]
    }
   ],
   "source": [
    "#Q10. Find the intersection of two sets.\n",
    "set1 = {1,2,3}\n",
    "set2 = {3,4,5}\n",
    "\n",
    "set3 = set1.intersection(set2)\n",
    "print(set3)\n",
    "#{3}"
   ]
  },
  {
   "cell_type": "code",
   "execution_count": 106,
   "id": "94f62d81-80df-48ee-a646-8715cf89ea38",
   "metadata": {},
   "outputs": [
    {
     "name": "stdout",
     "output_type": "stream",
     "text": [
      "{1, 2, 4, 5}\n"
     ]
    }
   ],
   "source": [
    "#Q11. Find the difference between two sets.\n",
    "set1 = {1,2,3}\n",
    "set2 = {3,4,5}\n",
    "\n",
    "set3 = set1.difference(set2)\n",
    "set4 = set2.difference(set1)\n",
    "print(set3.union(set4))\n",
    "#{1, 2, 4, 5}"
   ]
  },
  {
   "cell_type": "code",
   "execution_count": 108,
   "id": "0d1c0bdd-9031-47c9-81bb-b8942111334c",
   "metadata": {},
   "outputs": [
    {
     "name": "stdout",
     "output_type": "stream",
     "text": [
      "subset found\n"
     ]
    }
   ],
   "source": [
    "#Q12. Check if a set is a subset of another set.\n",
    "set1 = {1,2,3}\n",
    "set2 = {1,2}\n",
    "\n",
    "if set2.issubset(set1):\n",
    "    print(\"subset found\")\n",
    "else :\n",
    "    print(\"not found\")\n",
    "#subset found"
   ]
  },
  {
   "cell_type": "code",
   "execution_count": 109,
   "id": "4be2a45d-3726-495e-bdc7-e5a1b5debe0a",
   "metadata": {},
   "outputs": [
    {
     "name": "stdout",
     "output_type": "stream",
     "text": [
      "superset fond\n"
     ]
    }
   ],
   "source": [
    "#Q13. Check if a set is a superset of another set.\n",
    "\n",
    "set1 = {1,2,3}\n",
    "set2 = {1,2}\n",
    "\n",
    "if set1.issuperset(set2) :\n",
    "    print(\"superset fond\")\n",
    "else: \n",
    "    print(\"not found\")\n",
    "#superset fond    "
   ]
  },
  {
   "cell_type": "code",
   "execution_count": 110,
   "id": "d3fe6b6e-68c7-4b78-87b6-b81b1b5ced21",
   "metadata": {},
   "outputs": [
    {
     "name": "stdout",
     "output_type": "stream",
     "text": [
      "{1, 2, 3, 4, 5}\n"
     ]
    }
   ],
   "source": [
    "#Q14. Create a set from a list.\n",
    "\n",
    "lst1 = [1,2,3,4,5]\n",
    "\n",
    "set1 = set(lst1)\n",
    "\n",
    "print(set1)\n",
    "#{1, 2, 3, 4, 5}"
   ]
  },
  {
   "cell_type": "code",
   "execution_count": 111,
   "id": "3c4b225a-f41b-4b3f-89be-819438f66be0",
   "metadata": {},
   "outputs": [
    {
     "name": "stdout",
     "output_type": "stream",
     "text": [
      "[1, 2, 3, 4, 5]\n"
     ]
    }
   ],
   "source": [
    "#Q15. Convert a set to a list.\n",
    "\n",
    "set1 = {1, 2, 3, 4, 5}\n",
    "\n",
    "lst2 = list(set1)\n",
    "\n",
    "print(lst2)\n",
    "#[1, 2, 3, 4, 5]"
   ]
  },
  {
   "cell_type": "code",
   "execution_count": 119,
   "id": "c39481c8-5275-47c1-9f80-6a29be327bc1",
   "metadata": {},
   "outputs": [
    {
     "name": "stdout",
     "output_type": "stream",
     "text": [
      "1\n"
     ]
    }
   ],
   "source": [
    "#Q16. Remove a random element from a set.\n",
    "\n",
    "import random\n",
    "set1 = {1,2,3,5,6,7}\n",
    "\n",
    "random = set1.pop()\n",
    "\n",
    "print(random)\n",
    "#1"
   ]
  },
  {
   "cell_type": "code",
   "execution_count": 120,
   "id": "207611bd-80ff-43c4-9afa-ba46e1ac2564",
   "metadata": {},
   "outputs": [
    {
     "name": "stdout",
     "output_type": "stream",
     "text": [
      "1\n"
     ]
    }
   ],
   "source": [
    "#Q17. Pop an element from a set.\n",
    "\n",
    "set1 = {1,2,3,5,6,7}\n",
    "\n",
    "random = set1.pop()\n",
    "\n",
    "print(random)\n",
    "#1"
   ]
  },
  {
   "cell_type": "code",
   "execution_count": 124,
   "id": "aa8747da-28eb-4d02-b831-b4a86f6d47b3",
   "metadata": {},
   "outputs": [
    {
     "name": "stdout",
     "output_type": "stream",
     "text": [
      "no element common fond\n"
     ]
    }
   ],
   "source": [
    "#Q18. Check if two sets have no elements in common.\n",
    "\n",
    "set1 = {1,2,3}\n",
    "set2 = {4,5}\n",
    "\n",
    "if set1.isdisjoint(set2):\n",
    "    print(\"no element common fond\")\n",
    "else: \n",
    "    print(\"element common found\")\n",
    "#no element common fond"
   ]
  },
  {
   "cell_type": "code",
   "execution_count": 127,
   "id": "29fca34c-0221-4dd8-8b24-950f4d9036f8",
   "metadata": {},
   "outputs": [
    {
     "name": "stdout",
     "output_type": "stream",
     "text": [
      "{1, 2, 3, 'b', 'a'}\n",
      "{1, 2, 3, 'b', 'a'}\n"
     ]
    }
   ],
   "source": [
    "#Q19. Find the symmetric difference between two sets.\n",
    "set1 = {1,2,3}\n",
    "set2 = {'a','b'}\n",
    "\n",
    "set3 = set1.symmetric_difference(set2)\n",
    "set4 = set2.symmetric_difference(set1)\n",
    "print(set3)\n",
    "print(set4)\n",
    "#{1, 2, 3, 'b', 'a'}\n",
    "#{1, 2, 3, 'b', 'a'}"
   ]
  },
  {
   "cell_type": "code",
   "execution_count": 133,
   "id": "c60c8f0b-1c07-4a15-84f6-13ffe9211ae7",
   "metadata": {},
   "outputs": [
    {
     "name": "stdout",
     "output_type": "stream",
     "text": [
      "{1, 2, 3, 4, 'b', 'a'}\n"
     ]
    }
   ],
   "source": [
    "#Q20. Update a set with elements from another set.\n",
    "set1 = {1,2,3}\n",
    "set2 = {1,2,4,'a','b'}\n",
    "\n",
    "set1.update(set2)\n",
    "print(set1)\n",
    "#{1, 2, 3, 4, 'b', 'a'}"
   ]
  },
  {
   "cell_type": "code",
   "execution_count": 136,
   "id": "7aa99793-5575-4a58-9a93-9daa600c5e8c",
   "metadata": {},
   "outputs": [
    {
     "name": "stdout",
     "output_type": "stream",
     "text": [
      "{9, 3, 5, 7}\n"
     ]
    }
   ],
   "source": [
    "#Q21. Create a set of the first 5 prime numbers.\n",
    "\n",
    "set1 = set()\n",
    "\n",
    "for i in range(2,10):\n",
    "    for j in range(2,i):\n",
    "        if i%j == 0:\n",
    "            break\n",
    "        else :\n",
    "            set1.add(i)\n",
    "            \n",
    "print(set1)  \n",
    "#{9, 3, 5, 7}"
   ]
  },
  {
   "cell_type": "code",
   "execution_count": 138,
   "id": "8bbc6eaa-8484-479d-b5e3-0c95aa9a48fc",
   "metadata": {},
   "outputs": [
    {
     "name": "stdout",
     "output_type": "stream",
     "text": [
      "identical\n"
     ]
    }
   ],
   "source": [
    "#Q22. Check if two sets are identical.\n",
    "set1 = {1,2,}\n",
    "set2 = {1,2}\n",
    "\n",
    "if set1 == set2 :\n",
    "    print(\"identical\")\n",
    "else:\n",
    "    print(\"not identical\")\n",
    "#identical    "
   ]
  },
  {
   "cell_type": "code",
   "execution_count": 140,
   "id": "bd910c58-d7e9-446f-a5a5-2e65ba29ee45",
   "metadata": {},
   "outputs": [
    {
     "name": "stdout",
     "output_type": "stream",
     "text": [
      "frozenset({'banana', 'orange', 'apple'})\n"
     ]
    }
   ],
   "source": [
    "#Q23. Create a frozen set.\n",
    "\n",
    "fruits = frozenset([\"apple\", \"banana\", \"orange\"])\n",
    "print(fruits)\n",
    "#frozenset({'banana', 'orange', 'apple'})"
   ]
  },
  {
   "cell_type": "code",
   "execution_count": 142,
   "id": "f7afb8be-030a-4bce-9671-acf152b51882",
   "metadata": {},
   "outputs": [
    {
     "name": "stdout",
     "output_type": "stream",
     "text": [
      "set is disjoint with another set\n"
     ]
    }
   ],
   "source": [
    "#Q24. Check if a set is disjoint with another set.\n",
    "set1 = {1,2,5}\n",
    "set2 = {3,4}\n",
    "\n",
    "if set1.intersection(set2) :\n",
    "    print(\"set is joint\")\n",
    "else :\n",
    "    print(\"set is disjoint with another set\")\n",
    "#set is disjoint with another set    "
   ]
  },
  {
   "cell_type": "code",
   "execution_count": 144,
   "id": "45aba707-3c83-47cf-ba22-dffbfde9b4af",
   "metadata": {},
   "outputs": [
    {
     "name": "stdout",
     "output_type": "stream",
     "text": [
      "{1, 4, 9, 16, 25}\n"
     ]
    }
   ],
   "source": [
    "#Q25. Create a set of squares of numbers from 1 to 5.\n",
    "\n",
    "set1 = set()\n",
    "for i in range(1,6):\n",
    "    set1.add(i*i)\n",
    "print(set1)\n",
    "#{1, 4, 9, 16, 25}"
   ]
  },
  {
   "cell_type": "code",
   "execution_count": 149,
   "id": "56fb8127-dafd-4b93-80e9-d3330ef9e908",
   "metadata": {},
   "outputs": [
    {
     "name": "stdout",
     "output_type": "stream",
     "text": [
      "{2, 4, 8, 12, 16}\n"
     ]
    }
   ],
   "source": [
    "#Q26. Filter out all even numbers from a set.\n",
    "\n",
    "set1 = {1,2,3,4,5,8,9,12,13,15,16}\n",
    "\n",
    "set2 = set()\n",
    "for i in set1:\n",
    "    if i%2 == 0 :\n",
    "        set2.add(i)\n",
    "print(set2)        \n",
    "#{2, 4, 8, 12, 16}"
   ]
  },
  {
   "cell_type": "code",
   "execution_count": 150,
   "id": "6915f2c5-b76b-488d-af89-e56529b34f22",
   "metadata": {},
   "outputs": [
    {
     "name": "stdout",
     "output_type": "stream",
     "text": [
      "{32, 2, 4, 6, 8, 10, 16, 18, 24, 26, 30}\n"
     ]
    }
   ],
   "source": [
    "#Q27. Multiply all elements in a set by 2.\n",
    "set1 = {1,2,3,4,5,8,9,12,13,15,16}\n",
    "\n",
    "set2 = set()\n",
    "for i in set1:\n",
    "    set2.add(i*2)\n",
    "print(set2)  \n",
    "#{32, 2, 4, 6, 8, 10, 16, 18, 24, 26, 30}"
   ]
  },
  {
   "cell_type": "code",
   "execution_count": 153,
   "id": "9bb48ffe-4760-4481-88c2-7afa49df126e",
   "metadata": {},
   "outputs": [
    {
     "name": "stdout",
     "output_type": "stream",
     "text": [
      "{3, 4, 5, 6, 7, 8, 9}\n"
     ]
    }
   ],
   "source": [
    "#Q28. Create a set of random numbers.\n",
    "\n",
    "import random\n",
    "set1 = set()\n",
    "\n",
    "for i in range(1,50):\n",
    "    r1 = random.randint(3,9)\n",
    "    set1.add(r1)\n",
    "    \n",
    "print(set1)    \n",
    "#{3, 4, 5, 6, 7, 8, 9}    "
   ]
  },
  {
   "cell_type": "code",
   "execution_count": 162,
   "id": "093ce2d1-d189-4f1f-89a6-66c2b7c02763",
   "metadata": {},
   "outputs": [
    {
     "name": "stdout",
     "output_type": "stream",
     "text": [
      "set is empty\n"
     ]
    }
   ],
   "source": [
    "#Q29. Check if a set is empty.\n",
    "\n",
    "set1 = set()\n",
    "\n",
    "if set1 == set():\n",
    "    print(\"set is empty\")\n",
    "else : (\"not empty\")  \n",
    "#set is empty"
   ]
  },
  {
   "cell_type": "code",
   "execution_count": 164,
   "id": "b9bcfe95-091e-44ab-ba06-62fa6195217a",
   "metadata": {},
   "outputs": [
    {
     "name": "stdout",
     "output_type": "stream",
     "text": [
      "{frozenset({3, 4, 5}), frozenset({1, 2})}\n"
     ]
    }
   ],
   "source": [
    "#Q30. Create a nested set (hint: use frozenset).\n",
    "\n",
    "set1 = set()\n",
    "\n",
    "set1.add(frozenset((1,2)))\n",
    "set1.add(frozenset((3,4,5)))\n",
    "\n",
    "print(set1)\n",
    "#{frozenset({3, 4, 5}), frozenset({1, 2})}"
   ]
  },
  {
   "cell_type": "code",
   "execution_count": 167,
   "id": "0020c5cc-6a91-4020-8add-11fda47613fa",
   "metadata": {},
   "outputs": [
    {
     "name": "stdout",
     "output_type": "stream",
     "text": [
      "{1, 2, 3, 6, 7}\n"
     ]
    }
   ],
   "source": [
    "#Q31. Remove an element from a set using the discard method.\n",
    "\n",
    "set1 = {1,2,3,5,6,7}\n",
    "\n",
    "set1.discard(5)\n",
    "\n",
    "print(set1)\n",
    "#{1, 2, 3, 6, 7}"
   ]
  },
  {
   "cell_type": "code",
   "execution_count": 174,
   "id": "e3e3acd6-76a5-47d8-bccf-b98ee1e9b189",
   "metadata": {},
   "outputs": [
    {
     "name": "stdout",
     "output_type": "stream",
     "text": [
      "{1, 4, 5}\n"
     ]
    }
   ],
   "source": [
    "#Q32. Compare two sets.\n",
    "\n",
    "set1 = {1,2,3,5}\n",
    "set2 ={2,3,4}\n",
    "\n",
    "set3 = set1.difference(set2)\n",
    "set4 = set2.difference(set1)\n",
    "print(set3.union(set4))\n",
    "\n",
    "#{1, 4, 5}"
   ]
  },
  {
   "cell_type": "code",
   "execution_count": 177,
   "id": "db4f9ad7-3c54-4a28-a77b-83769b235cd2",
   "metadata": {},
   "outputs": [
    {
     "name": "stdout",
     "output_type": "stream",
     "text": [
      "{'is', 'a', 'This', 'string'}\n"
     ]
    }
   ],
   "source": [
    "#Q33. Create a set from a string.\n",
    "\n",
    "str1 = \"This is a string\"\n",
    "\n",
    "set1 = set()\n",
    "str2= str1.split()\n",
    "for i in str2:\n",
    "    set1.add(i)\n",
    "print(set1)    \n",
    "#{'is', 'a', 'This', 'string'}    "
   ]
  },
  {
   "cell_type": "code",
   "execution_count": 178,
   "id": "00fdbbd2-dbf0-410e-8eb3-821573497c12",
   "metadata": {},
   "outputs": [
    {
     "name": "stdout",
     "output_type": "stream",
     "text": [
      "{1, 2, 3}\n"
     ]
    }
   ],
   "source": [
    "#Q34. Convert a set of strings to a set of integers.\n",
    "\n",
    "set1 ={'1','2','3'}\n",
    "set2 =set()\n",
    "for i in set1:\n",
    "    set2.add(int(i))\n",
    "print(set2)  \n",
    "#{1, 2, 3}"
   ]
  },
  {
   "cell_type": "code",
   "execution_count": 179,
   "id": "2b8904d5-4bba-468d-b2ae-d8ff0e42a460",
   "metadata": {},
   "outputs": [
    {
     "name": "stdout",
     "output_type": "stream",
     "text": [
      "{'3', '1', '2'}\n"
     ]
    }
   ],
   "source": [
    "#Q35. Convert a set of integers to a set of strings.\n",
    "set1 ={1, 2, 3}\n",
    "set2 =set()\n",
    "for i in set1:\n",
    "    set2.add(str(i))\n",
    "print(set2)  \n",
    "#{'3', '1', '2'}"
   ]
  },
  {
   "cell_type": "code",
   "execution_count": 180,
   "id": "0092006b-c330-4c93-9694-65a62c9a24f2",
   "metadata": {},
   "outputs": [
    {
     "name": "stdout",
     "output_type": "stream",
     "text": [
      "{1, 2, 3}\n"
     ]
    }
   ],
   "source": [
    "#Q36. Create a set from a tuple.\n",
    "t1 =(1, 2, 3)\n",
    "set2 =set()\n",
    "for i in t1:\n",
    "    set2.add(i)\n",
    "print(set2)  \n",
    "#{1, 2, 3}"
   ]
  },
  {
   "cell_type": "code",
   "execution_count": 181,
   "id": "105f7460-58f1-418a-a484-9aec2da36189",
   "metadata": {},
   "outputs": [
    {
     "name": "stdout",
     "output_type": "stream",
     "text": [
      "(1, 2, 3)\n"
     ]
    }
   ],
   "source": [
    "#Q37. Convert a set to a tuple.\n",
    "set1 ={1, 2, 3}\n",
    "lst1 = []\n",
    "\n",
    "for i in set1:\n",
    "    lst1.append(i)\n",
    "t1 = tuple(lst1)\n",
    "\n",
    "print(t1)\n",
    " #(1, 2, 3)   "
   ]
  },
  {
   "cell_type": "code",
   "execution_count": 183,
   "id": "921bb9b3-1a2a-46c7-bfc2-c0f7882cacd6",
   "metadata": {},
   "outputs": [
    {
     "name": "stdout",
     "output_type": "stream",
     "text": [
      "78\n"
     ]
    }
   ],
   "source": [
    "#Q38. Find the maximum value in a set.\n",
    "\n",
    "set1 = {1,2,3,5,78,34,23,43}\n",
    "\n",
    "n = 0\n",
    "for i in set1:\n",
    "    if i > n:\n",
    "        n=i\n",
    "print(n)        \n",
    " #78       "
   ]
  },
  {
   "cell_type": "code",
   "execution_count": 188,
   "id": "64f3e8a9-3604-4c9b-8568-8d63e37dba57",
   "metadata": {},
   "outputs": [
    {
     "name": "stdout",
     "output_type": "stream",
     "text": [
      "2\n"
     ]
    }
   ],
   "source": [
    "#Q39. Find the minimum value in a set.\n",
    "set1 = {9,2,3,5,78,34,23,43}\n",
    "\n",
    "n=set1.pop()\n",
    "for i in set1:\n",
    "    if i <= n:\n",
    "        n=i\n",
    "print(n)  \n",
    "#2"
   ]
  },
  {
   "cell_type": "code",
   "execution_count": 189,
   "id": "d770cec2-ebd2-438d-84a8-62b1334889ef",
   "metadata": {},
   "outputs": [
    {
     "name": "stdin",
     "output_type": "stream",
     "text": [
      "please enter your input 12345\n"
     ]
    },
    {
     "name": "stdout",
     "output_type": "stream",
     "text": [
      "{'1', '3', '5', '4', '2'}\n"
     ]
    }
   ],
   "source": [
    "#Q40. Create a set from user input.\n",
    "\n",
    "str1 = input(\"please enter your input\")\n",
    "\n",
    "set1 = set()\n",
    "for i in str1:\n",
    "    set1.add(i)\n",
    "print(set1)\n",
    "#please enter your input 12345\n",
    "#{'1', '3', '5', '4', '2'}"
   ]
  },
  {
   "cell_type": "code",
   "execution_count": 193,
   "id": "f0631fb4-e1e3-4916-9380-cfedcf560332",
   "metadata": {},
   "outputs": [
    {
     "name": "stdout",
     "output_type": "stream",
     "text": [
      "No intersection found\n"
     ]
    }
   ],
   "source": [
    "#Q41. Check if the intersection of two sets is empty.\n",
    "\n",
    "set1 ={1,2,3}\n",
    "set2 ={4,5}\n",
    "\n",
    "if set1.intersection(set2) == set():\n",
    "    print(\"No intersection found\")\n",
    "else:\n",
    "    print(\"intersection found\")\n",
    "\n",
    "#No intersection found    "
   ]
  },
  {
   "cell_type": "code",
   "execution_count": 201,
   "id": "bd6c1f07-ef86-4151-ac5d-a1a0bb8ae134",
   "metadata": {},
   "outputs": [
    {
     "name": "stdout",
     "output_type": "stream",
     "text": [
      "{0, 1, 2, 3, 5, 7, 9, 11, 13, 15}\n"
     ]
    }
   ],
   "source": [
    "#Q42. Create a set of the first 5 Fibonacci numbers.\n",
    "\n",
    "\n",
    "\n",
    "set1 = {0,1,1}\n",
    "f =0 \n",
    "p =1\n",
    "for i in range(1,10):\n",
    "    fib = f + p\n",
    "    set1.add(fib)\n",
    "    f = p\n",
    "    p = i\n",
    "    \n",
    "print(set1)   \n",
    "#{0, 1, 2, 3, 5, 7, 9, 11, 13, 15}"
   ]
  },
  {
   "cell_type": "code",
   "execution_count": 202,
   "id": "f9f36ad7-3984-420b-a2d7-d1260df211c4",
   "metadata": {},
   "outputs": [
    {
     "name": "stdout",
     "output_type": "stream",
     "text": [
      "{1, 2, 3, 4, 5, 6}\n"
     ]
    }
   ],
   "source": [
    "#Q43. Remove duplicates from a list using sets.\n",
    "\n",
    "lst1 = [1,1,2,3,3,3,4,5,5,6,6]\n",
    "\n",
    "set1 = set(lst1)\n",
    "\n",
    "print(set1)\n",
    "#{1, 2, 3, 4, 5, 6}"
   ]
  },
  {
   "cell_type": "code",
   "execution_count": 205,
   "id": "7f0897c2-028e-474a-a8de-f76cf96fb456",
   "metadata": {},
   "outputs": [
    {
     "name": "stdout",
     "output_type": "stream",
     "text": [
      "same set\n"
     ]
    }
   ],
   "source": [
    "#Q44. Check if two sets have the same elements, regardless of their count.\n",
    "\n",
    "set1 = {1,2,3,3}\n",
    "set2 ={1,2,3,2,2}\n",
    "\n",
    "if set1 == set2 :\n",
    "    print(\"same set\")\n",
    "else :\n",
    "    print(\"not a same set\")\n",
    " #same set   "
   ]
  },
  {
   "cell_type": "code",
   "execution_count": 207,
   "id": "a8d33889-a0d0-4aaf-a78e-0a353c6264eb",
   "metadata": {},
   "outputs": [
    {
     "name": "stdin",
     "output_type": "stream",
     "text": [
      "please enter the n 10\n"
     ]
    },
    {
     "name": "stdout",
     "output_type": "stream",
     "text": [
      "{64, 1, 4, 36, 9, 16, 49, 81, 25}\n"
     ]
    }
   ],
   "source": [
    "#Q45. Create a set of the first `n` powers of 2.\n",
    "\n",
    "set1 = set()\n",
    "\n",
    "n = int(input(\"please enter the n\"))\n",
    "for i in range (1,n):\n",
    "    set1.add(i**2)\n",
    "print(set1) \n",
    "#please enter the n 10\n",
    "#{64, 1, 4, 36, 9, 16, 49, 81, 25}"
   ]
  },
  {
   "cell_type": "code",
   "execution_count": 210,
   "id": "6b823fbc-a8b6-4031-b908-52d6075bb672",
   "metadata": {},
   "outputs": [
    {
     "name": "stdout",
     "output_type": "stream",
     "text": [
      "{1, 2}\n"
     ]
    }
   ],
   "source": [
    "#Q46. Find the common elements between a set and a list.\n",
    "\n",
    "set1 = {1,2,3,4,5}\n",
    "lst1 = [1,2,6,7]\n",
    "\n",
    "set2 =set(lst1)\n",
    "\n",
    "set3 = set1.intersection(set2)\n",
    "\n",
    "print(set3)\n",
    "#{1, 2}"
   ]
  },
  {
   "cell_type": "code",
   "execution_count": 211,
   "id": "c831875c-486b-44f4-a391-b01833a6cd87",
   "metadata": {},
   "outputs": [
    {
     "name": "stdin",
     "output_type": "stream",
     "text": [
      "please enter the n 5\n"
     ]
    },
    {
     "name": "stdout",
     "output_type": "stream",
     "text": [
      "{1, 10, 3, 6}\n"
     ]
    }
   ],
   "source": [
    "#Q47. Create a set of the first `n` triangular numbers\n",
    "\n",
    "set1 = set()\n",
    "n1 =0\n",
    "n = int(input(\"please enter the n\"))\n",
    "for i in range (1,n):\n",
    "    n1 += i\n",
    "    set1.add(n1)\n",
    "print(set1)  \n",
    "\n",
    "#please enter the n 5\n",
    "#{1, 10, 3, 6}"
   ]
  },
  {
   "cell_type": "code",
   "execution_count": 213,
   "id": "ce98d0f0-a558-4786-b441-7f2fef544e04",
   "metadata": {},
   "outputs": [
    {
     "name": "stdout",
     "output_type": "stream",
     "text": [
      "subset found\n"
     ]
    }
   ],
   "source": [
    "#Q48. Check if a set contains another set as a subset.\n",
    "\n",
    "set1 = {1,2,3,4,5}\n",
    "set2 ={1,3}\n",
    "\n",
    "if  set2.issubset(set1):\n",
    "    \n",
    "    print(\"subset found\")\n",
    "else:\n",
    "    print(\"not found\")\n",
    "#subset found    "
   ]
  },
  {
   "cell_type": "code",
   "execution_count": 226,
   "id": "e9e46394-aa8e-4f3d-b472-5f6b602ab481",
   "metadata": {},
   "outputs": [
    {
     "name": "stdout",
     "output_type": "stream",
     "text": [
      "{frozenset({1}), frozenset({0})}\n"
     ]
    }
   ],
   "source": [
    "#Q49. Create a set of alternating 1s and 0s of length `n`.\n",
    "\n",
    "set1 = set()\n",
    "s1 = []\n",
    "s2 = []\n",
    "for i in range(1,14):\n",
    "    s1 += [0] * 3 \n",
    "    s3 =set(s1)\n",
    "    set1.add(frozenset((s3)))\n",
    "    s2 += [1] * 4\n",
    "    s4 =set(s2)\n",
    "    set1.add(frozenset((s4)))\n",
    "    \n",
    "print(set1) \n",
    "#{frozenset({1}), frozenset({0})}"
   ]
  },
  {
   "cell_type": "code",
   "execution_count": 227,
   "id": "f4154b7c-5d98-4dcc-8970-880074b3289d",
   "metadata": {},
   "outputs": [
    {
     "name": "stdout",
     "output_type": "stream",
     "text": [
      "{1, 2, 3, 4, 'b', 'c', 'a'}\n"
     ]
    }
   ],
   "source": [
    "#Q50. Merge multiple sets into one.\n",
    "\n",
    "set1 ={1,2,3}\n",
    "set2= {1,3,4}\n",
    "set3 = {'a','b','c'}\n",
    "\n",
    "set4 = set1.union(set2.union(set3))\n",
    "\n",
    "print(set4)\n",
    "#{1, 2, 3, 4, 'b', 'c', 'a'}"
   ]
  },
  {
   "cell_type": "code",
   "execution_count": null,
   "id": "dfa6523e-8a20-4474-922f-4fdbc7495b24",
   "metadata": {},
   "outputs": [],
   "source": []
  }
 ],
 "metadata": {
  "kernelspec": {
   "display_name": "Python 3 (ipykernel)",
   "language": "python",
   "name": "python3"
  },
  "language_info": {
   "codemirror_mode": {
    "name": "ipython",
    "version": 3
   },
   "file_extension": ".py",
   "mimetype": "text/x-python",
   "name": "python",
   "nbconvert_exporter": "python",
   "pygments_lexer": "ipython3",
   "version": "3.10.8"
  }
 },
 "nbformat": 4,
 "nbformat_minor": 5
}
